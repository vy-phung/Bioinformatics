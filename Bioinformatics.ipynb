{
  "cells": [
    {
      "cell_type": "markdown",
      "metadata": {
        "id": "view-in-github",
        "colab_type": "text"
      },
      "source": [
        "<a href=\"https://colab.research.google.com/github/vy-phung/Bioinformatics/blob/master/Bioinformatics.ipynb\" target=\"_parent\"><img src=\"https://colab.research.google.com/assets/colab-badge.svg\" alt=\"Open In Colab\"/></a>"
      ]
    },
    {
      "cell_type": "markdown",
      "metadata": {
        "id": "g8Hs42uxDI-6"
      },
      "source": [
        "**<h1>Bioinformatics I: Finding hidden message </h1>**\n",
        "\n"
      ]
    },
    {
      "cell_type": "markdown",
      "metadata": {
        "id": "85oiOH8uWLpf"
      },
      "source": [
        "## Frequent pattern\n"
      ]
    },
    {
      "cell_type": "code",
      "execution_count": null,
      "metadata": {
        "id": "pkWBDUDBUBcA"
      },
      "outputs": [],
      "source": [
        "def pattern_count(text,k):\n",
        "  fre = {}\n",
        "  com_pat = []\n",
        "  for i in range(0,len(text)-k+1):\n",
        "    if text[i:k+i] not in fre:\n",
        "       fre[text[i:k+i]] = 0\n",
        "    fre[text[i:k+i]] += 1\n",
        "  for key in fre:\n",
        "    if fre[key]==max(list(fre.values())):\n",
        "       com_pat.append(key)\n",
        "  print(com_pat)    "
      ]
    },
    {
      "cell_type": "code",
      "execution_count": null,
      "metadata": {
        "colab": {
          "base_uri": "https://localhost:8080/"
        },
        "id": "NGSqEsHOUGjS",
        "outputId": "12543ec4-927d-4e36-c790-dad6763e4db2"
      },
      "outputs": [
        {
          "name": "stdout",
          "output_type": "stream",
          "text": [
            "['CCT']\n"
          ]
        }
      ],
      "source": [
        "pattern_count(\"CGCCTAAATAGCCTCGCGGAGCCTTATGTCATACTCGTCCT\", 3)"
      ]
    },
    {
      "cell_type": "code",
      "execution_count": null,
      "metadata": {
        "id": "aU2GwwG5UjXh"
      },
      "outputs": [],
      "source": [
        "text = \"atcaatgatcaacgtaagcttctaagcatgatcaaggtgctcacacagtttatccacaacctgagtggatgacatcaagataggtcgttgtatctccttcctctcgtactctcatgaccacggaaagatgatcaagagaggatgatttcttggccatatcgcaatgaatacttgtgacttgtgcttccaattgacatcttcagcgccatattgcgctggccaaggtgacggagcgggattacgaaagcatgatcatggctgttgttctgtttatcttgttttgactgagacttgttaggatagacggtttttcatcactgactagccaaagccttactctgcctgacatcgaccgtaaattgataatgaatttacatgcttccgcgacgatttacctcttgatcatcgatccgattgaagatcttcaattgttaattctcttgcctcgactcatagccatgatgagctcttgatcatgtttccttaaccctctattttttacggaagaatgatcaagctgctgctcttgatcatcgtttc\""
      ]
    },
    {
      "cell_type": "code",
      "execution_count": null,
      "metadata": {
        "colab": {
          "base_uri": "https://localhost:8080/"
        },
        "id": "-C3-joAsV3s0",
        "outputId": "776e60bd-2899-422c-f271-0e8fb0d00290"
      },
      "outputs": [
        {
          "name": "stdout",
          "output_type": "stream",
          "text": [
            "['atgatcaag', 'ctcttgatc', 'tcttgatca', 'cttgatcat']\n"
          ]
        }
      ],
      "source": [
        "pattern_count(text,9)"
      ]
    },
    {
      "cell_type": "markdown",
      "metadata": {
        "id": "mDdbjmlbWPqN"
      },
      "source": [
        "## Reverse"
      ]
    },
    {
      "cell_type": "code",
      "execution_count": null,
      "metadata": {
        "id": "YUm6B8aQV8Ke"
      },
      "outputs": [],
      "source": [
        "def reverse(text):\n",
        "  rev = []\n",
        "  for i in text:\n",
        "    if i == \"A\":\n",
        "      rev.append(\"T\")\n",
        "    elif i == \"T\":\n",
        "      rev.append(\"A\")\n",
        "    elif i == \"C\":\n",
        "      rev.append(\"G\")\n",
        "    elif i == \"G\":\n",
        "      rev.append(\"C\")\n",
        "  r = ''.join(rev)\n",
        "  reverse = []\n",
        "  for i in range(0,len(r)):\n",
        "    l = len(r)-i-1\n",
        "    reverse.append(r[len(r)-i-1])\n",
        "  print(\"\".join(reverse))          "
      ]
    },
    {
      "cell_type": "code",
      "execution_count": null,
      "metadata": {
        "colab": {
          "base_uri": "https://localhost:8080/"
        },
        "id": "FKCdUcEGXNQA",
        "outputId": "8f921fbe-5936-4178-ef3c-05d1b62f7447"
      },
      "outputs": [
        {
          "name": "stdout",
          "output_type": "stream",
          "text": [
            "AGCTAGC\n"
          ]
        }
      ],
      "source": [
        "reverse(\"GCTAGCT\")"
      ]
    },
    {
      "cell_type": "markdown",
      "metadata": {
        "id": "LlJz2ePVgv1p"
      },
      "source": [
        "## Pattern Matching"
      ]
    },
    {
      "cell_type": "code",
      "execution_count": null,
      "metadata": {
        "id": "TwrowuDvY0EU"
      },
      "outputs": [],
      "source": [
        "def pattern_match(text,pattern):\n",
        "  k = len(pattern)\n",
        "  pos = []\n",
        "  for i in range(0,len(text)-k+1):\n",
        "    if text[i:k+i] == pattern:\n",
        "      pos.append(i)\n",
        "  print(pos)   "
      ]
    },
    {
      "cell_type": "code",
      "execution_count": null,
      "metadata": {
        "colab": {
          "base_uri": "https://localhost:8080/"
        },
        "id": "I_xmfZMshZIs",
        "outputId": "84b0515c-5605-46a9-de77-99ac640b1f1e"
      },
      "outputs": [
        {
          "name": "stdout",
          "output_type": "stream",
          "text": [
            "[7, 15, 17]\n"
          ]
        }
      ],
      "source": [
        "pattern_match(\"ATGACTTCGCTGTTACGCGC\",\"CGC\")"
      ]
    },
    {
      "cell_type": "code",
      "execution_count": null,
      "metadata": {
        "colab": {
          "base_uri": "https://localhost:8080/"
        },
        "id": "Kcq4iwxGHKah",
        "outputId": "b07d61f3-a34a-42c1-8e00-e04d161dc392"
      },
      "outputs": [
        {
          "name": "stdout",
          "output_type": "stream",
          "text": [
            "[6, 22, 38, 43]\n"
          ]
        }
      ],
      "source": [
        "text = \"CGGACTCGACAGATGTGAAGAACGACAATGTGAAGACTCGACACGACAGAGTGAAGAGAAGAGGAAACATTGTAA\"\n",
        "pattern_match(text,\"CGACA\")"
      ]
    },
    {
      "cell_type": "code",
      "execution_count": null,
      "metadata": {
        "colab": {
          "base_uri": "https://localhost:8080/"
        },
        "id": "Hiti2fToHWAX",
        "outputId": "c9bbc5ea-ca44-4929-8604-bce90c643e95"
      },
      "outputs": [
        {
          "name": "stdout",
          "output_type": "stream",
          "text": [
            "[16, 31, 52, 57]\n"
          ]
        }
      ],
      "source": [
        "pattern_match(text,\"GAAGA\")"
      ]
    },
    {
      "cell_type": "code",
      "execution_count": null,
      "metadata": {
        "colab": {
          "base_uri": "https://localhost:8080/"
        },
        "id": "ax32UZg_ltuh",
        "outputId": "e0befdaa-4530-4317-dbc7-1072ed2caa89"
      },
      "outputs": [
        {
          "name": "stdout",
          "output_type": "stream",
          "text": [
            "[0, 26, 28, 30, 41]\n"
          ]
        }
      ],
      "source": [
        "# CGCGATACGTTACATACATGATAGACCGCGCGCGATCATATCGCGATTATC, CGCG\n",
        "pattern_match(\"CGCGATACGTTACATACATGATAGACCGCGCGCGATCATATCGCGATTATC\",\"CGCG\")"
      ]
    },
    {
      "cell_type": "code",
      "execution_count": null,
      "metadata": {
        "colab": {
          "base_uri": "https://localhost:8080/"
        },
        "id": "y1d9MbJDhf9j",
        "outputId": "88b5607a-ccc2-44f2-975a-e8eeefa29502"
      },
      "outputs": [
        {
          "name": "stdout",
          "output_type": "stream",
          "text": [
            "[116556, 149355, 151913, 152013, 152394, 186189, 194276, 200076, 224527, 307692, 479770, 610980, 653338, 679985, 768828, 878903, 985368]\n"
          ]
        }
      ],
      "source": [
        "file = \"/content/Vibrio_cholerae.txt\"\n",
        "with open(file) as f:\n",
        "  text = f.read()  \n",
        "pattern_match(text,\"ATGATCAAG\")  "
      ]
    },
    {
      "cell_type": "code",
      "execution_count": null,
      "metadata": {
        "colab": {
          "base_uri": "https://localhost:8080/"
        },
        "id": "FOLYleXijQWQ",
        "outputId": "eaf3e478-63f2-4eaa-8928-0a51f4c41417"
      },
      "outputs": [
        {
          "name": "stdout",
          "output_type": "stream",
          "text": [
            "[60039, 98409, 129189, 152283, 152354, 152411, 163207, 197028, 200160, 357976, 376771, 392723, 532935, 600085, 622755, 1065555]\n"
          ]
        }
      ],
      "source": [
        "# The motif of DnaA boxes: atgatcaag (Ori Finder with unmatch sites = 0)\n",
        "# CTTGATCAT is a reverse of ATGATCAAG \n",
        "pattern_match(text,\"CTTGATCAT\")"
      ]
    },
    {
      "cell_type": "markdown",
      "metadata": {
        "id": "ZAtvtMG-khiL"
      },
      "source": [
        "## Finding Ori\n",
        "We will cheat a little and consult with <a href = \"http://tubic.tju.edu.cn/Ori-Finder/\">Ori-Finder</a>, a software tool for finding replication origins in DNA sequences. This software chooses CCTACCACC (along with its reverse complement GGTGGTAGG) as a working hypothesis for the DnaA box in Thermotoga petrophila"
      ]
    },
    {
      "cell_type": "markdown",
      "metadata": {
        "id": "8Qjyt6QxAEA5"
      },
      "source": [
        "FindClumps(Text, k, L, t) <br>\n",
        "    Patterns ← an array of strings of length 0 <br>\n",
        "    n ← |Text| <br>\n",
        "    for every integer i between 0 and n − L <br>\n",
        "        Window ← Text(i, L) <br>\n",
        "        freqMap ← FrequencyTable(Window, k) <br>\n",
        "        for every key s in freqMap <br>\n",
        "            if freqMap[s] ≥ t <br>\n",
        "                append s to Patterns <br>\n",
        "    remove duplicates from Patterns <br>\n",
        "    return Patterns <br>"
      ]
    },
    {
      "cell_type": "code",
      "execution_count": null,
      "metadata": {
        "colab": {
          "base_uri": "https://localhost:8080/"
        },
        "id": "vx9UVMbojHWx",
        "outputId": "e4ff9dc8-d375-4a54-de69-ac655919c5a1"
      },
      "outputs": [
        {
          "data": {
            "text/plain": [
              "50"
            ]
          },
          "execution_count": 2,
          "metadata": {},
          "output_type": "execute_result"
        }
      ],
      "source": [
        "text = \"gatcagcataagggtccCTGCAATGCATGACAAGCCTGCAGTtgttttac\"\n",
        "len(text)"
      ]
    },
    {
      "cell_type": "code",
      "execution_count": null,
      "metadata": {
        "colab": {
          "base_uri": "https://localhost:8080/"
        },
        "id": "ImBVkHlq_Ug1",
        "outputId": "04825a1d-10ef-4175-9cf6-e451b4eeecb1"
      },
      "outputs": [
        {
          "name": "stdout",
          "output_type": "stream",
          "text": [
            "['CGACA', 'GAAGA']\n"
          ]
        }
      ],
      "source": [
        "def find_clumps(text,k,L,t):\n",
        "  window = {}\n",
        "  com_pat = []\n",
        "  for i in range(0,len(text)-L+1):\n",
        "    win = text[i:L+i]\n",
        "    window[win] = {}  \n",
        "    for o in range(0,L-k+1):\n",
        "      if win[o:o+k] not in window[win]:\n",
        "        window[win][win[o:o+k]] = 0\n",
        "      window[win][win[o:o+k]] +=1  \n",
        "    for key in window[win]:\n",
        "      if window[win][key]==t:\n",
        "       com_pat.append(key)   \n",
        "  print(list(set(com_pat)))\n",
        "\n",
        "# run\n",
        "text = \"CGGACTCGACAGATGTGAAGAACGACAATGTGAAGACTCGACACGACAGAGTGAAGAGAAGAGGAAACATTGTAA\"\n",
        "find_clumps(text,5,50,4)"
      ]
    },
    {
      "cell_type": "code",
      "execution_count": null,
      "metadata": {
        "id": "fHkvjjLJX1FP"
      },
      "outputs": [],
      "source": [
        "file = \"/content/E_coli.txt\"\n",
        "with open(file) as f:\n",
        "  text = f.read()\n",
        "find_clumps(text,9,500,3)  "
      ]
    },
    {
      "cell_type": "markdown",
      "metadata": {
        "id": "78np_M-Z5wia"
      },
      "source": [
        "## Skew GC"
      ]
    },
    {
      "cell_type": "code",
      "execution_count": null,
      "metadata": {
        "colab": {
          "base_uri": "https://localhost:8080/"
        },
        "id": "SAJptdDEYzNc",
        "outputId": "b993c385-14f8-4d02-e2dd-e766ce8be315"
      },
      "outputs": [
        {
          "name": "stdout",
          "output_type": "stream",
          "text": [
            "pos: [14]\n"
          ]
        }
      ],
      "source": [
        "def skew(genome):\n",
        "  skew = [0]\n",
        "  pos = []\n",
        "  for i in range(0,len(genome)):\n",
        "    if genome[i] == \"C\":\n",
        "      skew.append(skew[i]-1)\n",
        "    elif genome[i] == \"G\":\n",
        "      skew.append(skew[i]+1)\n",
        "    else:\n",
        "      skew.append(skew[i])\n",
        "  for o in range(0,len(skew)):\n",
        "    if skew[o] == min(skew):\n",
        "      pos.append(o)\n",
        "  print(\"pos:\",pos)  \n",
        "  #print(\"skew:\",skew)   \n",
        "skew(\"CATTCCAGTACTTCGATGATGGCGTGAAGA\")         "
      ]
    },
    {
      "cell_type": "code",
      "execution_count": null,
      "metadata": {
        "id": "YDvChB0PA-3T"
      },
      "outputs": [],
      "source": [
        "# 2min \n",
        "file = \"/content/dataset_7_10.txt\"\n",
        "with open(file) as f:\n",
        "  text = f.read()\n",
        "skew(text)  "
      ]
    },
    {
      "cell_type": "code",
      "execution_count": null,
      "metadata": {
        "id": "RVA9UprmDOpj"
      },
      "outputs": [],
      "source": [
        "def hamming_dis(genome1,genome2):\n",
        "  mis = 0\n",
        "  for i,j in zip(genome1, genome2):\n",
        "    if i!=j:\n",
        "      mis +=1\n",
        "  print(mis) \n",
        "\n",
        "#genome1 = \"GACAGCTAGAGCCGTAGGACATATTCGCTCTGACCGTCGAGAATTATTACGACTGGCTGGTAGGCTTGTGTTGAGTAGCGGCATCACCTTACACGTCAACATTAATACGCCCCCAACGGTCGCTTACGTTACCTGGTGTACCTTAAGTTCTCTGATCCTTACAAGAGTTACGATGCCGCGCTCGCTCGTACAACCGAGATACATCAACCGTGGGAAGGATACGAACAATAAGGTCATTGGTTACTCACTCGCTGTCTCTGACAAGACAGTTTCATTCCAGGTTCCCATCCTTATCCTCTGAGACGGCACCCATGATCCTGGCTATATATTAATGGCAGATCACCAAAAAGGTATCGCTACCCATTGAGTGATATCGGTGACCGCGTATGAGACAGCGCTATAACGGAGTGGTGGTGCCGGCCTACGGGGTAGATAAGAAGGAATTAATGGTTAAGACCAGCAGGCCCACAATCAAAAAGAGCTGCGTCCTTTGGGACGGCATGACAAGCTGACACATAGGGACCACGTTTATGATCTCACGTGTCGCTGCGAACAAGCGGCCCTGTCCAATCGGTGAAGCATTTCCTTGTTGTAAATAATCGAAAGGGTATGAGCGTGCCGTATAAAGTGCGGCCGCGAAATCTGCCCCATCACTATATGACAAAGAGGGCGAATCAGGGAAACATCTTCTTAACATAAACATTGCATGACTAGAGCGATCACTCAGCTAACAAGGAGAGTTGGATATATGCGGTTCTCGACCCCATAGCTTGCTACGACCTCCACATGACACACGATTCCGAGTATCCTCATCCACCCTGAACCGACTCAGCACCGTAATCACAGGAGTTTGTATAGGCGCCCACGCATAACGCATGAACCGGCAACTATCGTATCGCACGCAAGTTAGGCCGCTTATGCCACTCATTGGGTTTATGTTCAATCGCATGCCTTGGACACCTTGGATTGCGCTCATCGATCAAGTCGCTTCTTCCGACCTACGCGTGTAGCAGGTATGCTTGCATACTTCCCGAAACGAT\"\n",
        "#genome2 = \"GTCCCTATACAGTAGCGGCGAAAACTCAGTCACCAATCCGGTTGCAGACGTCTAGTTGAAGCGTACCCAATCGCCGAATTTCCCTCCTTCGTCCGCCTATTCCCCGCATTACGAGACCTGGGCAGTCTTGCAGGGCGTCTCAGTGAAACCCCGCGGCGGAACGATTTTTGCCCTGACAGGATTATCTAGACGCACGCCACCATCCTAGGCGGACTGGGCGACCATCGCTCGACCGCCTGTTTCGAGGCGGCACAGTTAGCGATTACAGGAAGCGTCCGGAAGTGTTCCGATGGAGCCTTTCCTGGCTACCTCCATTGGGGGTATTATTTCGTACTAAGATCTTCGGTCCTCGCTTGTCTGCTGATTGTACGTAGTGCAATATCCGTGTATCCAATAGTGGGGATGTGGGTGAGTAAGCAAGGCGTATCCACATACTACTCCTAGGATACTTATATGCCCTAGTGCCGCCAACAGCCGGCTGCACGTGAATATCCAGTACATGGCATCATCCCTCAATGGAGACGAATATTTAGACCCGAGTCGCTTTTATGACCAAGCGCCGTCTGAAAATCGTATAAGTGCATAGCGCCCAAGCCGAACATTAAGCTTGATAAGGCAAGAGGCGTCACGATCACGCTACGCCTGATTGTGGTGATACAAACCATGCGTGTTACGCAATACGTTACTCAGTGGCTTAGACTTGTTAGCACACATGTTTCAGCTTTAAGCTCCCTGAAAATGCTCCAGAACACGCGCAAGAGATCTAGTGACTACGCCCAATCGCAAGCTACCAGCCTGCTCATGTCAATCAGAGTACCCGCTGCATGGATACCCCTTGACCCGTCCCTAGGCAGAGCACTAATGTAGGCGACATTCTTCCTCTTTTCACGGCCCTAAAACTTGAGACAACGCGACCGCCGTGTAAGTAGGTCCAGAACGAGGGGGATACGACATCCCAAGTCCGCCGCGCATCGAGAGATCGAGCGCAGCTACGATATGCCGAGTCATCATTAAACGATTGAAGCGATTGACTCCCTTCG\"\n",
        "\n",
        "#hamming_dis(genome1,genome2)"
      ]
    },
    {
      "cell_type": "code",
      "execution_count": null,
      "metadata": {
        "colab": {
          "base_uri": "https://localhost:8080/"
        },
        "id": "-g4FijDDrnlQ",
        "outputId": "627953ea-4c39-49b2-d7b8-2de955af69db"
      },
      "outputs": [
        {
          "name": "stdout",
          "output_type": "stream",
          "text": [
            "23\n"
          ]
        }
      ],
      "source": [
        "genome1 = \"CAGAAAGGAAGGTCCCCATACACCGACGCACCAGTTTA\"\n",
        "genome2 = \"CACGCCGTATGCATAAACGAGCCGCACGAACCAGAGAG\"\n",
        "hamming_dis(genome1,genome2)"
      ]
    },
    {
      "cell_type": "code",
      "execution_count": null,
      "metadata": {
        "id": "WbbvhqKGNouZ"
      },
      "outputs": [],
      "source": [
        "def hamming_dis(genome,pattern,d):\n",
        "  dis = {}\n",
        "  pos = [] \n",
        "  for o in range(0,len(genome)-len(pattern)+1):\n",
        "    dis[o] = 0\n",
        "    for i,j in zip(genome[o:len(pattern)+o],pattern):\n",
        "      if i!=j:\n",
        "       dis[o] +=1\n",
        "  for key in dis:\n",
        "    if dis[key] <= d:\n",
        "      pos.append(str(key))\n",
        "  return len(pos)      "
      ]
    },
    {
      "cell_type": "code",
      "execution_count": null,
      "metadata": {
        "colab": {
          "base_uri": "https://localhost:8080/"
        },
        "id": "kGyu5CDplVPk",
        "outputId": "7ce8d1ec-21f5-4fcd-8559-aac614a4fdc7"
      },
      "outputs": [
        {
          "name": "stdout",
          "output_type": "stream",
          "text": [
            "count occurence: 41\n"
          ]
        }
      ],
      "source": [
        "p = \"CAAACA\"\n",
        "d = 3\n",
        "file = \"/content/dataset_9_6.txt\"\n",
        "with open(file) as f:\n",
        "  text = f.read()\n",
        "hamming_dis(text,p,d)  "
      ]
    },
    {
      "cell_type": "code",
      "execution_count": null,
      "metadata": {
        "colab": {
          "base_uri": "https://localhost:8080/"
        },
        "id": "zi3srdJ_sBya",
        "outputId": "e3baf871-b71a-4ef5-c7e5-ea446cff880f"
      },
      "outputs": [
        {
          "data": {
            "text/plain": [
              "8"
            ]
          },
          "execution_count": 21,
          "metadata": {},
          "output_type": "execute_result"
        }
      ],
      "source": [
        "# Count1(CGTGACAGTGTATGGGCATCTTT, TGT)\n",
        "hamming_dis(\"CGTGACAGTGTATGGGCATCTTT\",\"TGT\",1) "
      ]
    },
    {
      "cell_type": "markdown",
      "metadata": {
        "id": "HZP-jqD4u1Od"
      },
      "source": [
        "FrequentWordsWithMismatches(Text, k, d) <br>\n",
        "    Patterns ← an array of strings of length 0 <br>\n",
        "    freqMap ← empty map <br>\n",
        "    n ← |Text| <br>\n",
        "    for i ← 0 to n - k <br>\n",
        "        Pattern ← Text(i, k) <br>\n",
        "        neighborhood ← Neighbors(Pattern, d) <br>\n",
        "        for j ← 0 to |neighborhood| - 1 <br>\n",
        "            neighbor ← neighborhood[j] <br>\n",
        "            if freqMap[neighbor] doesn't exist <br>\n",
        "                freqMap[neighbor] ← 1 <br>\n",
        "            else <br>\n",
        "                freqMap[neighbor] ← freqMap[neighbor] + 1 <br>\n",
        "    m ← MaxMap(freqMap) <br>\n",
        "    for every key Pattern in freqMap <br>\n",
        "        if freqMap[Pattern] = m <br>\n",
        "            append Pattern to Patterns <br>\n",
        "    return Patterns"
      ]
    },
    {
      "cell_type": "code",
      "execution_count": null,
      "metadata": {
        "id": "MXXBcLL9OU0u"
      },
      "outputs": [],
      "source": [
        "def wordwithmis(text,k,d):\n",
        "  fre = {}\n",
        "  mis = []\n",
        "  dis = {}\n",
        "  pos = []\n",
        "  for o in range(0,len(text)-k+1):\n",
        "    pattern = text[o:k+o]\n",
        "    for x in range(0,len(text)-k+1):\n",
        "      dis[text[x:x+k]] = 0\n",
        "      for i,j in zip(text[x:k+x],pattern):\n",
        "        if i!=j:\n",
        "          dis[text[x:x+k]] +=1\n",
        "    for key in dis:\n",
        "      if dis[key] <= d:\n",
        "        pos.append(key)    \n",
        "    #print(dis)\n",
        "  print(list(set(pos)))"
      ]
    },
    {
      "cell_type": "code",
      "execution_count": null,
      "metadata": {
        "colab": {
          "base_uri": "https://localhost:8080/"
        },
        "id": "7FEHEC3zwKWm",
        "outputId": "6af64d73-415f-43be-af1a-f76afd35a5f5"
      },
      "outputs": [
        {
          "name": "stdout",
          "output_type": "stream",
          "text": [
            "['TGTC', 'GCAT', 'TTGC', 'GAGC', 'CATG', 'GTCG', 'CGCA', 'TGCA', 'ATGA', 'CGTT', 'AGAG', 'ATGC', 'GATG', 'TCGC', 'AGCT', 'GTTG', 'ATGT', 'TGAT', 'ACGT', 'GAGA', 'TGAG']\n"
          ]
        }
      ],
      "source": [
        "wordwithmis(\"ACGTTGCATGTCGCATGATGCATGAGAGCT\",4,1)"
      ]
    },
    {
      "cell_type": "code",
      "execution_count": null,
      "metadata": {
        "colab": {
          "base_uri": "https://localhost:8080/"
        },
        "id": "6z4kDvts3YYD",
        "outputId": "3e3cebc2-caaa-42b4-f1b7-361b838f73ae"
      },
      "outputs": [
        {
          "name": "stdout",
          "output_type": "stream",
          "text": [
            "0 5 12 19\n",
            "count occurence: 4\n"
          ]
        }
      ],
      "source": [
        "# ACAT = ACGT (mis=1)\n",
        "hamming_dis(\"ACGTTGCATGTCGCATGATGCATGAGAGCT\",\"ACAT\",1)"
      ]
    },
    {
      "cell_type": "code",
      "execution_count": null,
      "metadata": {
        "colab": {
          "base_uri": "https://localhost:8080/"
        },
        "id": "kEcYIVjmz-t2",
        "outputId": "14b8dadc-7adb-4d81-d05a-fb2f13fa39d9"
      },
      "outputs": [
        {
          "name": "stdout",
          "output_type": "stream",
          "text": [
            "0 7 14 17 21\n",
            "count occurence: 5\n"
          ]
        }
      ],
      "source": [
        "hamming_dis(\"ACGTTGCATGTCGCATGATGCATGAGAGCT\",\"ATGT\",1)"
      ]
    },
    {
      "cell_type": "code",
      "execution_count": null,
      "metadata": {
        "id": "tgw62aJ6GXls"
      },
      "outputs": [],
      "source": [
        "# mismatch = 1\n",
        "def pattern(text,d):\n",
        "  t = list(text)\n",
        "  nu = [\"A\",\"T\",\"C\",\"G\"]\n",
        "  p = []\n",
        "  for j in range(0,len(t)):\n",
        "    for i in range(0,len(nu)):\n",
        "      t[j:j+d] = nu[i]\n",
        "      p.append(\"\".join(t))\n",
        "    t = list(text)\n",
        "  print(list(set(p)))  "
      ]
    },
    {
      "cell_type": "code",
      "execution_count": null,
      "metadata": {
        "id": "6CTaTzRCLRY1"
      },
      "outputs": [],
      "source": [
        "x = \"ACGT\"\n",
        "\n",
        "def neighbors(pattern, d):\n",
        "    assert(d <= len(pattern))\n",
        "\n",
        "    if d == 0:\n",
        "        return [pattern]\n",
        "\n",
        "    r2 = neighbors(pattern[1:], d-1)\n",
        "    r = [c + r3 for r3 in r2 for c in x if c != pattern[0]]\n",
        "\n",
        "    if (d < len(pattern)):\n",
        "        r2 = neighbors(pattern[1:], d)\n",
        "        r += [pattern[0] + r3 for r3 in r2]\n",
        "    r = list(set(r))\n",
        "    return r\n",
        "#print (neighbors(\"CAA\",2))"
      ]
    },
    {
      "cell_type": "code",
      "execution_count": null,
      "metadata": {
        "colab": {
          "base_uri": "https://localhost:8080/"
        },
        "id": "Hx2fPLO-M8OT",
        "outputId": "5a1ce576-3905-4221-df56-5e16b4b57ac9"
      },
      "outputs": [
        {
          "data": {
            "text/plain": [
              "['GG', 'GT', 'CA', 'TA', 'AA', 'GC']"
            ]
          },
          "execution_count": 52,
          "metadata": {},
          "output_type": "execute_result"
        }
      ],
      "source": [
        "neighbors(\"GA\",1)"
      ]
    },
    {
      "cell_type": "markdown",
      "metadata": {
        "id": "Bdqix_FK23f9"
      },
      "source": [
        "## Brute Force Motif"
      ]
    },
    {
      "cell_type": "code",
      "execution_count": null,
      "metadata": {
        "id": "pENBqqpyTIDn"
      },
      "outputs": [],
      "source": [
        "def hamming_dis(genome,pattern,d):\n",
        "  dis = {} \n",
        "  for o in range(0,len(genome)-len(pattern)+1):\n",
        "    dis[o] = 0\n",
        "    for i,j in zip(genome[o:len(pattern)+o],pattern):\n",
        "      if i!=j:\n",
        "       dis[o] +=1\n",
        "  return dis"
      ]
    },
    {
      "cell_type": "code",
      "execution_count": null,
      "metadata": {
        "colab": {
          "base_uri": "https://localhost:8080/"
        },
        "id": "Auu9jqsrQDrl",
        "outputId": "042136e9-6e1c-431d-98d8-9b06d3ed8122"
      },
      "outputs": [
        {
          "data": {
            "text/plain": [
              "{0: 1, 1: 2}"
            ]
          },
          "execution_count": 29,
          "metadata": {},
          "output_type": "execute_result"
        }
      ],
      "source": [
        "hamming_dis(\"CAG\",\"GA\",1)"
      ]
    },
    {
      "cell_type": "code",
      "execution_count": null,
      "metadata": {
        "id": "CwHPey3K7RSt"
      },
      "outputs": [],
      "source": [
        "def motifenumeration(genes,k,d):\n",
        "  k_mer = []\n",
        "  pats = []\n",
        "  pat = []\n",
        "  patterns = []\n",
        "  for i in range(0,len(genes[0])-k+1): \n",
        "    pat.append(neighbors(genes[0][i:i+k],d)) # get only the pattern of first string   \n",
        "  for pattern in pat:\n",
        "    for j in pattern:\n",
        "      for gene in genes:  \n",
        "        dis = hamming_dis(gene,j,d)\n",
        "        print(dis)\n",
        "        for key in dis:\n",
        "          if dis[key] <= d:\n",
        "            k_mer.append(j)\n",
        "  print(k_mer)       \n",
        "  print(pats)      \n",
        "  #print(patterns)           "
      ]
    },
    {
      "cell_type": "code",
      "execution_count": null,
      "metadata": {
        "id": "EZ27gp1ZMdvH"
      },
      "outputs": [],
      "source": [
        "DNA = [\"CAA\",\"TGA\",\"CAG\"]\n",
        "motifenumeration(DNA,2,1)"
      ]
    },
    {
      "cell_type": "code",
      "execution_count": null,
      "metadata": {
        "colab": {
          "base_uri": "https://localhost:8080/"
        },
        "id": "7aNcQBOziTFk",
        "outputId": "b1c08854-3102-435b-97d5-542ff7ae7e0a"
      },
      "outputs": [
        {
          "name": "stdout",
          "output_type": "stream",
          "text": [
            "{'GGA': 4, 'TTC': 5, 'TCG': 2, 'ATG': 4, 'GAC': 3, 'TGC': 3, 'CGG': 2, 'GGG': 4, 'AGT': 4, 'TGT': 5, 'ATC': 3, 'TAT': 3, 'ATT': 6, 'TTG': 4, 'CGC': 3, 'TAG': 3, 'GCC': 2, 'GTT': 6, 'TTA': 4, 'GTC': 4, 'TGG': 4, 'CTT': 5, 'GGT': 2, 'TGA': 3, 'GTG': 2, 'TTT': 7, 'ATA': 7, 'AAT': 6, 'AGC': 3, 'TCT': 3, 'AGG': 2, 'ACT': 4, 'CTG': 3}\n",
            "['GGA', 'TTC', 'TCG', 'ATG', 'GAC', 'TGC', 'CGG', 'GGG', 'AGT', 'TGT', 'ATC', 'TAT', 'ATT', 'TTG', 'CGC', 'TAG', 'GCC', 'GTT', 'TTA', 'GTC', 'TGG', 'CTT', 'GGT', 'TGA', 'GTG', 'TTT', 'ATA', 'AAT', 'AGC', 'TCT', 'AGG', 'ACT', 'CTG']\n",
            "['GGA', 'TTC', 'ATG', 'GGG', 'AGT', 'TGT', 'ATT', 'TTG', 'GTT', 'TTA', 'GTC', 'TGG', 'CTT', 'TTT', 'ATA', 'AAT', 'ACT']\n"
          ]
        }
      ],
      "source": [
        "DNA = [\"ATTTGGC\", \"TGCCTTA\", \"CGGTATC\", \"GAAAATT\"]\n",
        "motifenumeration(DNA,3,1)"
      ]
    },
    {
      "cell_type": "code",
      "execution_count": null,
      "metadata": {
        "id": "TGdJz4gGuD3p"
      },
      "outputs": [],
      "source": [
        "def hamming_dis(gene,pattern):\n",
        "  dis = {}\n",
        "  count = 0\n",
        "  for i in range(0, len(gene)-len(pattern)+1):\n",
        "    pat = gene[i:i+len(pattern)]\n",
        "    dis[pat] = 0\n",
        "    for pat1,pat2 in zip(pattern,pat):\n",
        "      if pat1!=pat2:\n",
        "        count +=1\n",
        "        dis[pat] +=1\n",
        "  return dis      "
      ]
    },
    {
      "cell_type": "code",
      "execution_count": null,
      "metadata": {
        "colab": {
          "base_uri": "https://localhost:8080/"
        },
        "id": "tTWtoYMIvKlT",
        "outputId": "a081514b-d8c2-4a16-bdf9-e49e7ab25353"
      },
      "outputs": [
        {
          "data": {
            "text/plain": [
              "{'CA': 0}"
            ]
          },
          "execution_count": 8,
          "metadata": {},
          "output_type": "execute_result"
        }
      ],
      "source": [
        "hamming_dis(\"CA\",\"CA\")\n",
        "#hamming_dis(\"CAA\",\"AA\")"
      ]
    },
    {
      "cell_type": "code",
      "execution_count": null,
      "metadata": {
        "id": "NIIo0oyateif"
      },
      "outputs": [],
      "source": [
        "# median string\n",
        "DNA = [\"CAA\",\"ATG\"]\n",
        "#k = 2 => CA\n",
        "def medianstring(DNA,k):\n",
        "  d = {}\n",
        "  pat = []\n",
        "  for gene in DNA:\n",
        "    for i in range(0,len(gene)-k+1):\n",
        "      pattern = gene[i:i+k]\n",
        "      d[pattern] = 0\n",
        "      for string in DNA:\n",
        "        dis = hamming_dis(string,pattern)\n",
        "        d[pattern] += min(list(dis.values()))\n",
        "  for key in d:\n",
        "    if d[key] == min(d.values()):\n",
        "      pat.append(key)\n",
        "  print(pat)    "
      ]
    },
    {
      "cell_type": "code",
      "execution_count": null,
      "metadata": {
        "colab": {
          "base_uri": "https://localhost:8080/"
        },
        "id": "YHWg9Sxo4U4w",
        "outputId": "1fc685c6-0017-412a-ba6d-9e9a230a5f89"
      },
      "outputs": [
        {
          "name": "stdout",
          "output_type": "stream",
          "text": [
            "['GAC']\n"
          ]
        }
      ],
      "source": [
        "DNA = [\"AAATTGACGCAT\", \"GACGACCACGTT\", \"CGTCAGCGCCTG\", \"GCTGAGCACCGG\", \"AGTTCGGGACAG\"]\n",
        "medianstring(DNA,3)"
      ]
    },
    {
      "cell_type": "code",
      "execution_count": null,
      "metadata": {
        "id": "FZ6mvtPp5UYy"
      },
      "outputs": [],
      "source": [
        "# Profile probable\n",
        "def most_prob(DNA,k,profile):\n",
        "  patterns = {}\n",
        "  pats = []\n",
        "  for i in range(0,len(DNA)-k+1):\n",
        "    pattern = DNA[i:i+k]\n",
        "    patterns[pattern] = 1\n",
        "    for x in range(0,len(pattern)):\n",
        "      if pattern[x] == \"A\":\n",
        "        patterns[pattern] *= profile[0][x]\n",
        "      elif pattern[x] == \"C\":\n",
        "        patterns[pattern] *= profile[1][x]\n",
        "      elif pattern[x] == \"G\":\n",
        "        patterns[pattern] *= profile[2][x]\n",
        "      elif pattern[x] == \"T\":\n",
        "        patterns[pattern] *= profile[3][x]\n",
        "  for key in patterns:\n",
        "    if patterns[key] == max(patterns.values()):\n",
        "      pats.append(key)   \n",
        "  if len(pats) > 1:\n",
        "    pats_1 = []\n",
        "    pats_1.append(pats[0])\n",
        "    return pats_1\n",
        "  else:\n",
        "    return pats              "
      ]
    },
    {
      "cell_type": "code",
      "execution_count": null,
      "metadata": {
        "colab": {
          "base_uri": "https://localhost:8080/"
        },
        "id": "TLkHSp3_-CrK",
        "outputId": "818a7743-45ad-4da4-933a-7ad68c8f79a2"
      },
      "outputs": [
        {
          "data": {
            "text/plain": [
              "['CCGAG']"
            ]
          },
          "execution_count": 9,
          "metadata": {},
          "output_type": "execute_result"
        }
      ],
      "source": [
        "profile = [[0.2, 0.2, 0.3, 0.2, 0.3], #A\n",
        "           [0.4, 0.3, 0.1, 0.5, 0.1], #C\n",
        "           [0.3, 0.3, 0.5, 0.2, 0.4],  #G\n",
        "           [0.1, 0.2, 0.1, 0.1, 0.2]]  #T\n",
        "DNA = \"ACCTGTTTATTGCCTAAGTTCCGAACAAACCCAATATAGCCCGAGGGCCT\"\n",
        "most_prob(DNA,5,profile)           "
      ]
    },
    {
      "cell_type": "markdown",
      "metadata": {
        "id": "aCsazKv6FaDw"
      },
      "source": [
        "## Greedy motif"
      ]
    },
    {
      "cell_type": "code",
      "execution_count": null,
      "metadata": {
        "colab": {
          "base_uri": "https://localhost:8080/"
        },
        "id": "h55EsqzCziRg",
        "outputId": "36e37fad-1131-401c-bf83-319db585ccd0"
      },
      "outputs": [
        {
          "data": {
            "text/plain": [
              "[1, 0]"
            ]
          },
          "execution_count": 3,
          "metadata": {},
          "output_type": "execute_result"
        }
      ],
      "source": [
        "# hamming dis\n",
        "def hamming_dis(gene,pattern):\n",
        "  dis = []\n",
        "  for i in range(0, len(gene)-len(pattern)+1):\n",
        "    pat = gene[i:i+len(pattern)]\n",
        "    count = 0\n",
        "    for pat1,pat2 in zip(pattern,pat):\n",
        "      if pat1!=pat2:\n",
        "        count +=1\n",
        "    dis.append(count)     \n",
        "  return dis \n",
        "hamming_dis(\"CAA\",\"AA\")  "
      ]
    },
    {
      "cell_type": "code",
      "execution_count": null,
      "metadata": {
        "colab": {
          "base_uri": "https://localhost:8080/"
        },
        "id": "I_r74CuwyNde",
        "outputId": "b8fcada9-512c-4271-8997-fe1472ba7170"
      },
      "outputs": [
        {
          "data": {
            "text/plain": [
              "2"
            ]
          },
          "execution_count": 4,
          "metadata": {},
          "output_type": "execute_result"
        }
      ],
      "source": [
        "# create score\n",
        "def score(motifs):\n",
        "  score = 0\n",
        "  for i in range(0,len(motifs[0])):\n",
        "    col = \"\".join(motifs[j][i] for j in range(0,len(motifs)))\n",
        "    dis = []\n",
        "    for nu in \"ACGT\":\n",
        "      nuc = nu*len(motifs)\n",
        "      for d in hamming_dis(col,nuc):\n",
        "        dis.append(d)\n",
        "    score += min(dis)    \n",
        "  return score    \n",
        "motifs = ['CA','AT']\n",
        "score(motifs)      "
      ]
    },
    {
      "cell_type": "code",
      "execution_count": null,
      "metadata": {
        "colab": {
          "base_uri": "https://localhost:8080/"
        },
        "id": "7pwoL29W8G-p",
        "outputId": "c6b05686-1a1e-4de8-af1e-275cc6063bc4"
      },
      "outputs": [
        {
          "data": {
            "text/plain": [
              "[[0.2], [0.2], [0.4], [0.2]]"
            ]
          },
          "execution_count": 5,
          "metadata": {},
          "output_type": "execute_result"
        }
      ],
      "source": [
        "# create profile\n",
        "import numpy as np\n",
        "def profile(motifs):\n",
        "  profile = np.ones((4,len(motifs[0]))).tolist()\n",
        "  for pattern in motifs:\n",
        "    for pos in range(0,len(pattern)):\n",
        "      if pattern[pos] == \"A\":\n",
        "        profile[0][pos] += 1\n",
        "      elif pattern[pos] == \"C\":\n",
        "        profile[1][pos] += 1\n",
        "      elif pattern[pos] == \"G\":\n",
        "        profile[2][pos] += 1\n",
        "      elif pattern[pos] == \"T\":\n",
        "        profile[3][pos] += 1 \n",
        "  for i in range(0,len(profile)):\n",
        "    for j in range(0,len(motifs[0])):\n",
        "      total = len(profile) + len(motifs)\n",
        "      profile[i][j] = profile[i][j]/total      \n",
        "  return profile \n",
        "motifs = ['G']       \n",
        "cur_pro_g = profile(motifs)\n",
        "cur_pro_g"
      ]
    },
    {
      "cell_type": "code",
      "execution_count": null,
      "metadata": {
        "colab": {
          "base_uri": "https://localhost:8080/"
        },
        "id": "FrExEw78bn6V",
        "outputId": "409e7511-dcfd-4d61-f735-e3ea0fb5bbb8"
      },
      "outputs": [
        {
          "data": {
            "text/plain": [
              "[\"['AA', 'AT']\"]"
            ]
          },
          "execution_count": 54,
          "metadata": {},
          "output_type": "execute_result"
        }
      ],
      "source": [
        "# greedy motif \n",
        "def greedy(DNA,k,t):\n",
        "  patterns = []\n",
        "  sco = {}\n",
        "  motifs = []\n",
        "  for i in range(0,len(DNA[0])-k+1):\n",
        "    pattern = DNA[0][i:i+k]\n",
        "    patterns.append(pattern)\n",
        "  for pat in patterns:\n",
        "    mots = []\n",
        "    mots.append(pat)\n",
        "    # create profile\n",
        "    cur_pro = profile(mots)  \n",
        "    # most_prob\n",
        "    for j in range(1,t):\n",
        "      for mot in most_prob(DNA[j],k,cur_pro):\n",
        "        mots.append(mot)\n",
        "      cur_pro = profile(mots)    \n",
        "      # score  \n",
        "    sco[str(mots)] = score(mots)\n",
        "    mots = []\n",
        "  for key in sco:\n",
        "    if sco[key] == min(sco.values()):\n",
        "      motifs.append(key)\n",
        "  return motifs\n",
        "dna = [\"CAA\",\"ATG\"]\n",
        "greedy(dna,2,2)          "
      ]
    },
    {
      "cell_type": "code",
      "execution_count": null,
      "metadata": {
        "colab": {
          "base_uri": "https://localhost:8080/"
        },
        "id": "qUyOxiGyqP0R",
        "outputId": "178181c1-5d27-4702-ae68-1f15d9f82d16"
      },
      "outputs": [
        {
          "data": {
            "text/plain": [
              "[\"['TTC', 'ATC', 'TTC', 'ATC', 'TTC']\",\n",
              " \"['TCA', 'TCA', 'TCG', 'TCA', 'TCG']\",\n",
              " \"['CAG', 'CAG', 'CAA', 'CAA', 'CAA']\"]"
            ]
          },
          "execution_count": 55,
          "metadata": {},
          "output_type": "execute_result"
        }
      ],
      "source": [
        "dna = [\"GGCGTTCAGGCA\", \"AAGAATCAGTCA\", \"CAAGGAGTTCGC\", \"CACGTCAATCAC\", \"CAATAATATTCG\"]\n",
        "greedy(dna,3,5)"
      ]
    },
    {
      "cell_type": "markdown",
      "metadata": {
        "id": "nFyFaFasNbtF"
      },
      "source": [
        "## RandomizedMotifSearch"
      ]
    },
    {
      "cell_type": "markdown",
      "metadata": {
        "id": "tfe2adyrzExR"
      },
      "source": [
        "#### Try n times and find out the minimum score "
      ]
    },
    {
      "cell_type": "code",
      "execution_count": null,
      "metadata": {
        "colab": {
          "base_uri": "https://localhost:8080/"
        },
        "id": "ypo-_UiM03h8",
        "outputId": "73eddad2-354f-462f-854b-f2d5ef7044dc"
      },
      "outputs": [
        {
          "data": {
            "text/plain": [
              "[\"['A', 'A']\", 0]"
            ]
          },
          "execution_count": 6,
          "metadata": {},
          "output_type": "execute_result"
        }
      ],
      "source": [
        "import random  \n",
        "def random_motif(DNA,k,t,n,r):# n: the number of times running; r: number of times do random choice   \n",
        "  motifs = []\n",
        "  new_motifs = []\n",
        "  best_motifs=[]\n",
        "  i = 0\n",
        "  j = 0\n",
        "  attempt = {}\n",
        "  for string in DNA:\n",
        "    pattern = [string[i:i+k] for i in range (0,len(string)-k+1)]\n",
        "    motifs.append(pattern)\n",
        "  while j < r:\n",
        "    j +=1  \n",
        "    for motif in motifs: # choose random motif\n",
        "      new_motifs.append(random.choice(motif))  \n",
        "    while i < n:  \n",
        "      cur_pro = profile(new_motifs) # create profile\n",
        "      for string in DNA:\n",
        "        for mot in most_prob(string,k,cur_pro):\n",
        "          best_motifs.append(mot)       \n",
        "      if score(best_motifs) < score(new_motifs):  \n",
        "        new_motifs = best_motifs\n",
        "        i +=1  \n",
        "      else:\n",
        "        break \n",
        "      best_motifs = []  \n",
        "    attempt[str(new_motifs)] = score(new_motifs)      \n",
        "    new_motifs = []\n",
        "    best_motifs = []\n",
        "  for key in attempt:\n",
        "    if attempt[key] == min(attempt.values()):\n",
        "      return [key,attempt[key]]\n",
        "dna = [\"CAA\",\"ATG\"]  \n",
        "random_motif(dna,1,2,3,3)  "
      ]
    },
    {
      "cell_type": "code",
      "execution_count": null,
      "metadata": {
        "colab": {
          "base_uri": "https://localhost:8080/"
        },
        "id": "8X6DYy56SOpZ",
        "outputId": "5fdf0247-f9af-47e6-f09b-aa2f8a503994"
      },
      "outputs": [
        {
          "data": {
            "text/plain": [
              "[\"['GGGTGTTC', 'ATGTGTAA', 'AAGTATAC', 'AGGTGCAC', 'AGCTCCAC']\", 10]"
            ]
          },
          "execution_count": 8,
          "metadata": {},
          "output_type": "execute_result"
        }
      ],
      "source": [
        "# TCTCGGGG CCAAGGTG TACAGGCG TTCAGGTG TCCACGTG\n",
        "dna = [\"CGCCCCTCTCGGGGGTGTTCAGTAAACGGCCA\", \"GGGCGAGGTATGTGTAAGTGCCAAGGTGCCAG\", \"TAGTACCGAGACCGAAAGAAGTATACAGGCGT\", \"TAGATCAAGTTTCAGGTGCACGTCGGTGAACC\", \"AATCCACCAGCTCCACGTGCAATGTTGGCCTA\"]\n",
        "random_motif(dna,8,5,10,1000)"
      ]
    },
    {
      "cell_type": "markdown",
      "metadata": {
        "id": "V6NDJ8qHEttQ"
      },
      "source": [
        "## Gibbs Sampling"
      ]
    },
    {
      "cell_type": "code",
      "execution_count": null,
      "metadata": {
        "id": "xD9EzE6IPEJ-"
      },
      "outputs": [],
      "source": [
        "def gibbs(DNA,k,t,n):\n",
        "  motifs = []\n",
        "  j = 0\n",
        "  sco = {}\n",
        "  for string in DNA: \n",
        "    pattern = [string[i:i+k] for i in range (0,len(string)-k+1)]\n",
        "    motifs.append(pattern)  \n",
        "  while j < n:\n",
        "    j += 1\n",
        "    d = 0\n",
        "    new_motifs = []\n",
        "    best_motifs = list(str(0)*t)   \n",
        "    position = [-1]\n",
        "    for motif in motifs:\n",
        "      new_motifs.append(random.choice(motif))\n",
        "    while d < t: \n",
        "      d += 1\n",
        "      re_motifs = []\n",
        "      die = []\n",
        "      for i in range(0,t):\n",
        "        if i not in position:\n",
        "          die.append(i)    \n",
        "      pos = random.choice(die)\n",
        "      position.append(pos)\n",
        "      for m in new_motifs:\n",
        "        if new_motifs[pos] != m:\n",
        "          re_motifs.append(m) # create remove motifs     \n",
        "      cur_pro = profile(re_motifs) # create profile\n",
        "      for mot in most_prob(DNA[pos],k,cur_pro):\n",
        "        best_motifs[pos] = mot     \n",
        "    sco[str(best_motifs)] = score(best_motifs)\n",
        "  for key in sco:\n",
        "    if sco[key] == min(sco.values()):\n",
        "      return [key,sco[key]]\n",
        "#dna = [\"CAA\",\"ATG\"]    \n",
        "#gibbs(dna,2,2,100)"
      ]
    },
    {
      "cell_type": "code",
      "execution_count": null,
      "metadata": {
        "colab": {
          "base_uri": "https://localhost:8080/"
        },
        "id": "kjCaGYMU2mcE",
        "outputId": "263e461b-9f15-47b5-b8f4-9c1d21ba09c0"
      },
      "outputs": [
        {
          "data": {
            "text/plain": [
              "[\"['TCTCGGGG', 'CCAAGGTG', 'TACAGGCG', 'TTCAGGTG', 'TCCACGTG']\", 9]"
            ]
          },
          "execution_count": 126,
          "metadata": {},
          "output_type": "execute_result"
        }
      ],
      "source": [
        "# TCTCGGGG CCAAGGTG TACAGGCG TTCAGGTG TCCACGTG\n",
        "dna = [\"CGCCCCTCTCGGGGGTGTTCAGTAACCGGCCA\", \"GGGCGAGGTATGTGTAAGTGCCAAGGTGCCAG\", \"TAGTACCGAGACCGAAAGAAGTATACAGGCGT\", \"TAGATCAAGTTTCAGGTGCACGTCGGTGAACC\", \"AATCCACCAGCTCCACGTGCAATGTTGGCCTA\"]\n",
        "gibbs(dna, 8, 5, 1000)"
      ]
    },
    {
      "cell_type": "markdown",
      "metadata": {
        "id": "oBPFcjAdD-c_"
      },
      "source": [
        "**<h1>Bioinformatics II: Genome sequencing </h1>**"
      ]
    },
    {
      "cell_type": "code",
      "execution_count": null,
      "metadata": {
        "colab": {
          "base_uri": "https://localhost:8080/"
        },
        "id": "abl3guI0EIdS",
        "outputId": "1ee29ee5-8d81-4de0-c348-b0efdf30b0e6"
      },
      "outputs": [
        {
          "data": {
            "text/plain": [
              "['CAATG']"
            ]
          },
          "execution_count": 58,
          "metadata": {},
          "output_type": "execute_result"
        }
      ],
      "source": [
        "# Genome Path\n",
        "def path(reads):\n",
        "  read = []\n",
        "  for i in range(0,len(reads)-1):\n",
        "    if reads[i][1:] == reads[i+1][:-1]:\n",
        "      frag = reads[i] + reads[i+1][-1]\n",
        "      read.append(frag)      \n",
        "  if len(read) > 1:    \n",
        "    read = path(read)\n",
        "  return read \n",
        "reads = [\"CA\",\"AA\",\"AT\",\"TG\"]\n",
        "path(reads)             "
      ]
    },
    {
      "cell_type": "code",
      "execution_count": null,
      "metadata": {
        "colab": {
          "base_uri": "https://localhost:8080/"
        },
        "id": "nvAIlgUboS_k",
        "outputId": "167c611c-5f89-407d-baf1-803f8c4764f0"
      },
      "outputs": [
        {
          "data": {
            "text/plain": [
              "['ACCGAAGCT']"
            ]
          },
          "execution_count": 36,
          "metadata": {},
          "output_type": "execute_result"
        }
      ],
      "source": [
        "# ACCGAAGCT\n",
        "reads = [\"ACCGA\",\"CCGAA\",\"CGAAG\",\"GAAGC\",\"AAGCT\"]\n",
        "path(reads)"
      ]
    },
    {
      "cell_type": "code",
      "execution_count": null,
      "metadata": {
        "id": "ZJ3QPbznzrLG"
      },
      "outputs": [],
      "source": [
        "def overlap_graph(patterns):\n",
        "  n = len(patterns)\n",
        "  adj_matrix = np.zeros((n,n)).tolist()\n",
        "  graph = {}\n",
        "  for i in range(0,n): # row : suf\n",
        "    nodes = []\n",
        "    for j in range(0,n): # col : pre\n",
        "      if patterns[i][1:] == patterns[j][:-1]:\n",
        "        adj_matrix[i][j] = 1\n",
        "        nodes.append(patterns[j])\n",
        "    graph[patterns[i]] = nodes     \n",
        "  return graph "
      ]
    },
    {
      "cell_type": "code",
      "execution_count": null,
      "metadata": {
        "colab": {
          "base_uri": "https://localhost:8080/"
        },
        "id": "CiXWrtSG5xWb",
        "outputId": "956c911d-478f-49c8-fd60-eb100ba7cdec"
      },
      "outputs": [
        {
          "data": {
            "text/plain": [
              "{'AGGCA': ['GGCAT', 'GGCAC'],\n",
              " 'ATGCG': [],\n",
              " 'CATGC': ['ATGCG'],\n",
              " 'GCATG': ['CATGC'],\n",
              " 'GGCAC': [],\n",
              " 'GGCAT': ['GCATG']}"
            ]
          },
          "execution_count": 67,
          "metadata": {},
          "output_type": "execute_result"
        }
      ],
      "source": [
        "# CATGC -> ATGCG; GCATG -> CATGC; GGCAT -> GCATG; AGGCA -> GGCAC,GGCAT\n",
        "patterns = [\"ATGCG\",\n",
        "\"GCATG\",\n",
        "\"CATGC\",\n",
        "\"AGGCA\",\n",
        "\"GGCAT\",\n",
        "\"GGCAC\"]\n",
        "overlap_graph(patterns)"
      ]
    },
    {
      "cell_type": "code",
      "execution_count": null,
      "metadata": {
        "colab": {
          "base_uri": "https://localhost:8080/"
        },
        "id": "DbI0PCrZ6UgO",
        "outputId": "8557d374-4db7-4ea1-be6e-883b62022e94"
      },
      "outputs": [
        {
          "name": "stdout",
          "output_type": "stream",
          "text": [
            "['CA', 'AA', 'AT', 'TA', 'AA', 'AT', 'TG']\n"
          ]
        },
        {
          "data": {
            "text/plain": [
              "{\"['AA', 'AT']\": 2,\n",
              " \"['AT', 'TA']\": 1,\n",
              " \"['AT', 'TG']\": 1,\n",
              " \"['CA', 'AA']\": 1,\n",
              " \"['TA', 'AA']\": 1}"
            ]
          },
          "execution_count": 16,
          "metadata": {},
          "output_type": "execute_result"
        }
      ],
      "source": [
        "def debruijn(text,k):\n",
        "  patterns = []\n",
        "  graph = {}\n",
        "  for i in range(0,len(text)-(k-1)+1):\n",
        "    patterns.append(text[i:i+k-1])\n",
        "  print(patterns)  \n",
        "  n = len(patterns)    \n",
        "  matrix = np.zeros((n,n)).tolist()\n",
        "  for i in range(0,n):\n",
        "    for j in range(i+1,n):\n",
        "      if str([patterns[i],patterns[j]]) not in graph:\n",
        "        graph[str([patterns[i],patterns[j]])] = 1\n",
        "      else:  \n",
        "        graph[str([patterns[i],patterns[j]])] += 1\n",
        "      if patterns[i][1:] == patterns[j][:-1]:\n",
        "        matrix[i][j] += 1\n",
        "        break \n",
        "  return graph  \n",
        "debruijn(\"CAATAATG\",3)\n",
        "# CAATAATG,3   "
      ]
    },
    {
      "cell_type": "code",
      "execution_count": null,
      "metadata": {
        "colab": {
          "base_uri": "https://localhost:8080/"
        },
        "id": "bBZNESU9PSrc",
        "outputId": "0958efdb-11d3-4fda-f75c-cc64b945f326"
      },
      "outputs": [
        {
          "data": {
            "text/plain": [
              "{\"['AAG', 'AGA']\": 2,\n",
              " \"['AGA', 'GAT']\": 1,\n",
              " \"['ATT', 'TTC']\": 1,\n",
              " \"['CTA', 'TAA']\": 1,\n",
              " \"['CTC', 'TCT']\": 1,\n",
              " \"['GAT', 'ATT']\": 1,\n",
              " \"['TAA', 'AAG']\": 1,\n",
              " \"['TCT', 'CTA']\": 1,\n",
              " \"['TCT', 'CTC']\": 1,\n",
              " \"['TTC', 'TCT']\": 1}"
            ]
          },
          "execution_count": 94,
          "metadata": {},
          "output_type": "execute_result"
        }
      ],
      "source": [
        "# Sample Output:\n",
        "'''AAG -> AGA,AGA\n",
        "AGA -> GAT\n",
        "ATT -> TTC\n",
        "CTA -> TAA\n",
        "CTC -> TCT\n",
        "GAT -> ATT\n",
        "TAA -> AAG\n",
        "TCT -> CTA,CTC\n",
        "TTC -> TCT'''\n",
        "debruijn(\"AAGATTCTCTAAGA\",4)"
      ]
    },
    {
      "cell_type": "code",
      "execution_count": null,
      "metadata": {
        "id": "KA0DEsodPZKL"
      },
      "outputs": [],
      "source": [
        "import numpy as np\n",
        "def debruijn_com(strings):\n",
        "  patterns = []\n",
        "  graph = {}\n",
        "  for string in strings:\n",
        "    pattern = {}\n",
        "    pattern[string[0:len(string)-1]] = string[1:len(string)]\n",
        "    patterns.append(pattern)\n",
        "  print(patterns)\n",
        "  for i in patterns:\n",
        "    if str(i) not in graph:\n",
        "      graph[str(i)] = 1\n",
        "    else:\n",
        "      graph[str(i)] +=1\n",
        "  return graph      "
      ]
    },
    {
      "cell_type": "code",
      "execution_count": null,
      "metadata": {
        "colab": {
          "base_uri": "https://localhost:8080/"
        },
        "id": "ttPZQdfMrCk-",
        "outputId": "f220d7bb-d425-4817-daa4-0a0e52da1b7a"
      },
      "outputs": [
        {
          "name": "stdout",
          "output_type": "stream",
          "text": [
            "[{'AA': 'AT'}, {'CA': 'AA'}, {'AT': 'TG'}, {'AA': 'AT'}, {'TA': 'AA'}, {'AT': 'TA'}]\n"
          ]
        },
        {
          "data": {
            "text/plain": [
              "{\"{'AA': 'AT'}\": 2,\n",
              " \"{'AT': 'TA'}\": 1,\n",
              " \"{'AT': 'TG'}\": 1,\n",
              " \"{'CA': 'AA'}\": 1,\n",
              " \"{'TA': 'AA'}\": 1}"
            ]
          },
          "execution_count": 13,
          "metadata": {},
          "output_type": "execute_result"
        }
      ],
      "source": [
        "#d = [\"CAA\",\"AAT\",\"ATA\",\"TAA\",\"AAT\",\"ATG\"]\n",
        "d = [\"AAT\",\"CAA\",\"ATG\",\"AAT\",\"TAA\",\"ATA\"]\n",
        "debruijn_com(d) "
      ]
    },
    {
      "cell_type": "code",
      "execution_count": null,
      "metadata": {
        "colab": {
          "base_uri": "https://localhost:8080/"
        },
        "id": "1FHPW_kyreAb",
        "outputId": "ba95f655-35bc-4b45-aab7-f642a08db357"
      },
      "outputs": [
        {
          "name": "stdout",
          "output_type": "stream",
          "text": [
            "[{'CTT': 'TTA'}, {'ACC': 'CCA'}, {'TAC': 'ACC'}, {'GGC': 'GCT'}, {'GCT': 'CTT'}, {'TTA': 'TAC'}]\n"
          ]
        },
        {
          "data": {
            "text/plain": [
              "{\"{'ACC': 'CCA'}\": 1,\n",
              " \"{'CTT': 'TTA'}\": 1,\n",
              " \"{'GCT': 'CTT'}\": 1,\n",
              " \"{'GGC': 'GCT'}\": 1,\n",
              " \"{'TAC': 'ACC'}\": 1,\n",
              " \"{'TTA': 'TAC'}\": 1}"
            ]
          },
          "execution_count": 15,
          "metadata": {},
          "output_type": "execute_result"
        }
      ],
      "source": [
        "D = [\"CTTA\",\"ACCA\",\"TACC\",\"GGCT\",\"GCTT\",\"TTAC\"]\n",
        "debruijn_com(D)"
      ]
    },
    {
      "cell_type": "markdown",
      "metadata": {
        "id": "TKMB9GxBLQsO"
      },
      "source": [
        "### Eulerian cycle and path "
      ]
    },
    {
      "cell_type": "code",
      "execution_count": null,
      "metadata": {
        "colab": {
          "base_uri": "https://localhost:8080/"
        },
        "id": "0dhgCJ0hZ9ve",
        "outputId": "f62ba66a-dffe-4546-b8ad-73d732a89fa9"
      },
      "outputs": [
        {
          "name": "stdout",
          "output_type": "stream",
          "text": [
            "[{'0': ['3']}, {'1': ['0']}, {'2': ['1', '6']}, {'3': ['2']}, {'4': ['2']}, {'5': ['4']}, {'6': ['5', '8']}, {'7': ['9']}, {'8': ['7']}, {'9': ['6']}]\n"
          ]
        }
      ],
      "source": [
        "file = \"/content/eul_cycle_test.txt\"\n",
        "with open(file) as f:\n",
        "  text = f.read()\n",
        "t = text.split(\"\\n\")\n",
        "graph = []\n",
        "for i in t:\n",
        "  edges = {}\n",
        "  edge = i.split(\" -> \")\n",
        "  edges[edge[0]] = edge[1]\n",
        "  if len(edge[1]) > 1:\n",
        "    e = edge[1].split(\",\")\n",
        "  else:\n",
        "    e = list(edge[1]) \n",
        "  edges[edge[0]] = e  \n",
        "  graph.append(edges)\n",
        "print(graph)   "
      ]
    },
    {
      "cell_type": "code",
      "execution_count": null,
      "metadata": {
        "id": "Xg2XrtdXu5t2"
      },
      "outputs": [],
      "source": [
        "graph = {'CTT': ['TTA'], 'ACC': ['CCA'], 'TAC': ['ACC'], 'GGC': ['GCT'], 'GCT': ['CTT'], 'TTA': ['TAC']}"
      ]
    },
    {
      "cell_type": "code",
      "execution_count": null,
      "metadata": {
        "id": "taeJ2ce4ig0I"
      },
      "outputs": [],
      "source": [
        "graph = {'3': ['2'], '0': ['3'], '4': ['2'], '5': ['4'], '6': ['5'],'2': ['1', '6']}"
      ]
    },
    {
      "cell_type": "code",
      "execution_count": null,
      "metadata": {
        "colab": {
          "base_uri": "https://localhost:8080/"
        },
        "id": "nuKs6KFheYZo",
        "outputId": "58a0b336-96ec-4a3e-dedc-cc07080a38d7"
      },
      "outputs": [
        {
          "data": {
            "text/plain": [
              "[{'0': '3'},\n",
              " {'3': '2'},\n",
              " {'2': '6'},\n",
              " {'6': '5'},\n",
              " {'5': '4'},\n",
              " {'4': '2'},\n",
              " {'2': '1'}]"
            ]
          },
          "execution_count": 57,
          "metadata": {},
          "output_type": "execute_result"
        }
      ],
      "source": [
        "import numpy as np\n",
        "def eul_path(graph):\n",
        "  indegree = []\n",
        "  outdegree = [] \n",
        "  for i in list(graph.keys()): # create row\n",
        "    indegree.append(i)\n",
        "    for j in graph[i]:\n",
        "      outdegree.append(j)\n",
        "  indegree = list(set(indegree)) \n",
        "  outdegree = list(set(outdegree))     \n",
        "  indegree.sort() \n",
        "  outdegree.sort()       \n",
        "  matrix = np.zeros((len(indegree)+1,len(outdegree)+1),dtype='object').tolist() # create matrix\n",
        "  for i,row in zip(range(1,len(indegree)+1),indegree): # create row\n",
        "    matrix[i][0] = row\n",
        "  for i,col in zip(range(1,len(outdegree)+1),outdegree): # create col\n",
        "    matrix[0][i] = col  \n",
        "  for r in range(1,len(indegree)+1):\n",
        "    for c in range(1,len(outdegree)+1): \n",
        "      if matrix[0][c] in graph[matrix[r][0]]:\n",
        "        matrix[r][c] +=1\n",
        "  # create eul_path \n",
        "  total_edge,edge = 0,0\n",
        "  start_node,end_node = '0', '0' \n",
        "  for i in indegree:\n",
        "    if i not in outdegree:\n",
        "      start_node = i\n",
        "  for j in outdegree:\n",
        "    if j not in indegree:\n",
        "      end_node = j       \n",
        "  pos = []\n",
        "  path = []\n",
        "  for value in list(graph.values()):\n",
        "    total_edge += len(value) \n",
        "  while edge < total_edge: # create cycle\n",
        "    for row in range(1,len(indegree)+1):\n",
        "      e ={}\n",
        "      for col in range(1,len(outdegree)+1):\n",
        "        if matrix[row][0] == start_node and matrix[row][col] == 1 and matrix[0][col] != end_node and {matrix[row][0]: matrix[0][col]} not in path:\n",
        "          e[start_node] = matrix[0][col]\n",
        "          edge += 1\n",
        "          start_node = matrix[0][col]   \n",
        "        elif matrix[0][col] == end_node and edge == total_edge-1:\n",
        "          e[start_node] = end_node\n",
        "          edge +=1\n",
        "          break  \n",
        "      if e != {}: path.append(e)     \n",
        "  return path\n",
        "eul_path(graph)"
      ]
    },
    {
      "cell_type": "code",
      "execution_count": null,
      "metadata": {
        "colab": {
          "base_uri": "https://localhost:8080/"
        },
        "id": "cLLd6qYUQNyl",
        "outputId": "327b18c3-64b8-468b-a20a-673cc59829ce"
      },
      "outputs": [
        {
          "name": "stdout",
          "output_type": "stream",
          "text": [
            "[-1, 4, 7]\n"
          ]
        },
        {
          "data": {
            "text/plain": [
              "[{7: 9},\n",
              " {9: 6},\n",
              " {6: 5},\n",
              " {5: 4},\n",
              " {4: 2},\n",
              " {2: 1},\n",
              " {1: 0},\n",
              " {0: 3},\n",
              " {3: 2},\n",
              " {2: 6},\n",
              " {6: 8},\n",
              " {8: 7}]"
            ]
          },
          "execution_count": 1,
          "metadata": {},
          "output_type": "execute_result"
        }
      ],
      "source": [
        "import random\n",
        "import numpy as np\n",
        "def eul_cycle(graph):\n",
        "  matrix = np.zeros((len(graph),len(graph))).tolist()\n",
        "  # create matrix \n",
        "  for key in graph:\n",
        "    for j in range(0,len(graph)):\n",
        "      if str(j) in graph[key]: \n",
        "        matrix[key][j] += 1\n",
        "  cycle = []\n",
        "  total_edge = 0\n",
        "  edge=0\n",
        "  node = None\n",
        "  start_node = [-1]\n",
        "  vertex = []\n",
        "  for value in list(graph.values()):\n",
        "    total_edge += len(value)\n",
        "  while edge < total_edge: # create cycle\n",
        "    e = {}\n",
        "    for i in list(graph.keys()):\n",
        "      if i not in start_node:\n",
        "        vertex.append(i)   \n",
        "    if node is None:\n",
        "      node = random.choice(vertex) \n",
        "      start_node.append(node)\n",
        "    for j in range(0,len(graph)):\n",
        "      if {node: j} in cycle and len(graph[node]) < 2:\n",
        "        node = random.choice(vertex) \n",
        "        start_node.append(node)\n",
        "        cycle = [] \n",
        "        edge = 0 \n",
        "      elif matrix[node][j] == 1 and {node: j} not in cycle:\n",
        "        e[node] = j\n",
        "        edge += 1\n",
        "        node = j\n",
        "        break\n",
        "    cycle.append(e)\n",
        "  print(start_node)    \n",
        "  return cycle\n",
        "graph = {0: ['3'], 1: ['0'], 2: ['1', '6'], 3: ['2'], 4: ['2'], 5: ['4'], 6: ['5', '8'], 7: ['9'], 8: ['7'], 9: ['6']}\n",
        "eul_cycle(graph)\n",
        "# Sample Output: 6->8->7->9->6->5->4->2->1->0->3->2->6"
      ]
    },
    {
      "cell_type": "markdown",
      "metadata": {
        "id": "pddfLpo824h_"
      },
      "source": [
        "### Assembly\n",
        "#### Tasks:\n",
        "1. break down string into read-pairs\n",
        "2. reconstruct read-pairs into a string\n",
        "3. maximal non-branching path (generate contigs)"
      ]
    },
    {
      "cell_type": "markdown",
      "metadata": {
        "id": "JO7etGBrSSaj"
      },
      "source": [
        "##### Task 1"
      ]
    },
    {
      "cell_type": "code",
      "execution_count": null,
      "metadata": {
        "colab": {
          "base_uri": "https://localhost:8080/"
        },
        "id": "Fj4DR0pjt1or",
        "outputId": "9728a059-0943-4567-db74-db0402860145"
      },
      "outputs": [
        {
          "data": {
            "text/plain": [
              "[{'AAT': 'CCA'},\n",
              " {'ATG': 'CAT'},\n",
              " {'ATG': 'GAT'},\n",
              " {'CAT': 'GGA'},\n",
              " {'CCA': 'GGG'},\n",
              " {'GCC': 'TGG'},\n",
              " {'GGA': 'GTT'},\n",
              " {'GGG': 'TGT'},\n",
              " {'TAA': 'GCC'},\n",
              " {'TGC': 'ATG'},\n",
              " {'TGG': 'ATG'}]"
            ]
          },
          "execution_count": 50,
          "metadata": {},
          "output_type": "execute_result"
        }
      ],
      "source": [
        "# construct read-pair\n",
        "def read_pair(string,k,d):\n",
        "  pairs = []\n",
        "  for i in range(0,len(string)-(2*k+d)+1):\n",
        "    pair = {}\n",
        "    pair[string[i:i+k]] = string[i+k+d:i+2*k+d]\n",
        "    pairs.append(pair)\n",
        "  return pairs\n",
        "def sort_pair(reads):\n",
        "  for key in reads:\n",
        "    return key\n",
        "pairs = sorted(read_pair('TAATGCCATGGGATGTT',3,1),key = sort_pair) \n",
        "pairs"
      ]
    },
    {
      "cell_type": "markdown",
      "metadata": {
        "id": "_9TKns9iSWAo"
      },
      "source": [
        "##### Task 2"
      ]
    },
    {
      "cell_type": "code",
      "execution_count": null,
      "metadata": {
        "colab": {
          "base_uri": "https://localhost:8080/"
        },
        "id": "-XgbxwdAXFWp",
        "outputId": "e77657db-82f2-453e-e3de-210c0e0a7602"
      },
      "outputs": [
        {
          "data": {
            "text/plain": [
              "{'CGT   ATG': ['GTG   TGT'],\n",
              " 'GAG   TTG': ['AGA   TGA'],\n",
              " 'GGT   GAG': ['GTC   AGA'],\n",
              " 'GTC   AGA': ['TCG   GAT'],\n",
              " 'GTG   GTG': ['TGG   TGA'],\n",
              " 'GTG   TGT': ['TGA   GTT'],\n",
              " 'TCG   GAT': ['CGT   ATG'],\n",
              " 'TGA   GTT': ['GAG   TTG'],\n",
              " 'TGG   TGA': ['GGT   GAG']}"
            ]
          },
          "execution_count": 58,
          "metadata": {},
          "output_type": "execute_result"
        }
      ],
      "source": [
        "def graph_pair(pairs,k,d):\n",
        "  graph = {}\n",
        "  for pair in pairs:\n",
        "    suf = []\n",
        "    for key in pair:\n",
        "      # create prefix\n",
        "      prefix = key[:(k-1)] + \" \" * (d+1) + pair[key][:(k-1)]\n",
        "      # create suffix\n",
        "      suffix = key[-(k-1):] + \" \"*(d+1) + pair[key][-(k-1):]\n",
        "    if str(prefix) not in graph:\n",
        "      suf.append(str(suffix))\n",
        "      graph[str(prefix)] = suf\n",
        "    elif str(prefix) in graph:\n",
        "      graph[str(prefix)].append(str(suffix))\n",
        "  return graph  \n",
        "pairs = [{'GAGA': 'TTGA'}, {'TCGT': 'GATG'}, {'CGTG': 'ATGT'}, {'TGGT': 'TGAG'}, {'GTGA': 'TGTT'}, {'GTGG': 'GTGA'}, {'TGAG': 'GTTG'}, {'GGTC': 'GAGA'}, {'GTCG': 'AGAT'}]\n",
        "graph_pair = graph_pair(pairs,4,2)  \n",
        "graph_pair"
      ]
    },
    {
      "cell_type": "code",
      "execution_count": null,
      "metadata": {
        "colab": {
          "base_uri": "https://localhost:8080/"
        },
        "id": "qcm_igNQXmVr",
        "outputId": "a7f5ecbf-9e4d-4762-cacb-8dad6b79609b"
      },
      "outputs": [
        {
          "data": {
            "text/plain": [
              "[{'GTG   GTG': 'TGG   TGA'},\n",
              " {'TGG   TGA': 'GGT   GAG'},\n",
              " {'GGT   GAG': 'GTC   AGA'},\n",
              " {'GTC   AGA': 'TCG   GAT'},\n",
              " {'TCG   GAT': 'CGT   ATG'},\n",
              " {'CGT   ATG': 'GTG   TGT'},\n",
              " {'GTG   TGT': 'TGA   GTT'},\n",
              " {'TGA   GTT': 'GAG   TTG'},\n",
              " {'GAG   TTG': 'AGA   TGA'}]"
            ]
          },
          "execution_count": 82,
          "metadata": {},
          "output_type": "execute_result"
        }
      ],
      "source": [
        "path_pair = eul_path(graph_pair)\n",
        "path_pair"
      ]
    },
    {
      "cell_type": "code",
      "execution_count": null,
      "metadata": {
        "id": "qszXGLysYHcW"
      },
      "outputs": [],
      "source": [
        "# Genome Path\n",
        "def path(reads):\n",
        "  read = []\n",
        "  for i in range(0,len(reads)-1):\n",
        "    if reads[i][1:] == reads[i+1][:-1]:\n",
        "      frag = reads[i] + reads[i+1][-1]\n",
        "      read.append(frag)      \n",
        "  if len(read) > 1:    \n",
        "    read = path(read)\n",
        "  return read   \n",
        "# reconstruct string from eul path\n",
        "def reconstruct(path_pair,k,d):\n",
        "  node = []\n",
        "  for i in range(0,len(path_pair)):\n",
        "    for key in path_pair[i]:\n",
        "      node.append(key)\n",
        "  for key in path_pair[-1]:  \n",
        "    node.append(path_pair[-1][key])\n",
        "  reads1 = []\n",
        "  reads2 = []\n",
        "  for nu in node:\n",
        "    reads1.append(nu[:(k-1)])\n",
        "    reads2.append(nu[-(k-1):])\n",
        "  read1 = path(reads1)\n",
        "  read2 = path(reads2)\n",
        "  for r1,r2 in zip(read1,read2):\n",
        "    if r1[(k+d+1)-1:] == r2[:-((k+d+1)-1)]:\n",
        "      string = r1 + r2[-((k+d+1)-1):]\n",
        "  return string    "
      ]
    },
    {
      "cell_type": "code",
      "execution_count": null,
      "metadata": {
        "colab": {
          "base_uri": "https://localhost:8080/",
          "height": 35
        },
        "id": "8ytTAEJoTG15",
        "outputId": "cec73e04-58a1-4466-8386-882262f80756"
      },
      "outputs": [
        {
          "data": {
            "application/vnd.google.colaboratory.intrinsic+json": {
              "type": "string"
            },
            "text/plain": [
              "'GTGGTCGTGAGATGTTGA'"
            ]
          },
          "execution_count": 87,
          "metadata": {},
          "output_type": "execute_result"
        }
      ],
      "source": [
        "reconstruct(path_pair,4,2) #output: GTGGTCGTGAGATGTTGA"
      ]
    },
    {
      "cell_type": "markdown",
      "metadata": {
        "id": "x10jZp0xS_b4"
      },
      "source": [
        "##### Task 3"
      ]
    },
    {
      "cell_type": "code",
      "execution_count": null,
      "metadata": {
        "id": "jD18xH9mTAjR"
      },
      "outputs": [],
      "source": [
        "def non_branch(pairs)"
      ]
    },
    {
      "cell_type": "markdown",
      "metadata": {
        "id": "wFNF4sMpdJFy"
      },
      "source": [
        "### Antibiotics\n",
        "#### Tasks:\n",
        "1. Translate RNA to amino acid <br>\n",
        "We say that a DNA string Pattern encodes an amino acid string Peptide if the RNA string transcribed from either Pattern or its reverse complement Pattern translates into Peptide. For example, the DNA string GAAACT is transcribed into GAAACU and translated into ET. The reverse complement of this DNA string, AGTTTC, is transcribed into AGUUUC and translated into SF. Thus, GAAACT encodes both ET and SF.\n",
        "2. Cyclospectrum (mass spectrometer)\n",
        "3. Cyclopeptide sequencing problem \n",
        "4. Leader board peptide sequencing\n",
        "5. Spectral convolution"
      ]
    },
    {
      "cell_type": "markdown",
      "metadata": {
        "id": "gTu9tG82ZUaC"
      },
      "source": [
        "#### Task 1"
      ]
    },
    {
      "cell_type": "code",
      "execution_count": null,
      "metadata": {
        "id": "Rdb3jxKDqqlF"
      },
      "outputs": [],
      "source": [
        "# genetic code table\n",
        "genetic_code = {'AAA':'K','AAC':'N','AAG':'K','AAU':'N','ACA':'T','ACC':'T','ACG':'T','ACU':'T','AGA':'R','AGC':'S','AGG':'R','AGU':'S','AUA':'I','AUC':'I','AUG':'M','AUU':'I',\n",
        " 'CAA':'Q','CAC':'H','CAG':'Q','CAU':'H','CCA':'P','CCC':'P','CCG':'P','CCU':'P','CGA':'R','CGC':'R','CGG':'R','CGU':'R','CUA':'L','CUC':'L','CUG':'L','CUU':'L',\n",
        " 'GAA':'E','GAC':'D','GAG':'E','GAU':'D','GCA':'A','GCC':'A','GCG':'A','GCU':'A','GGA':'G','GGC':'G','GGG':'G','GGU':'G','GUA':'V','GUC':'V','GUG':'V','GUU':'V',\n",
        " 'UAA':'*','UAC':'Y','UAG':'*','UAU':'Y','UCA':'S','UCC':'S','UCG':'S','UCU':'S','UGA':'*','UGC':'C','UGG':'W','UGU':'C','UUA':'L','UUC':'F','UUG':'L','UUU':'F'}"
      ]
    },
    {
      "cell_type": "code",
      "execution_count": null,
      "metadata": {
        "colab": {
          "base_uri": "https://localhost:8080/",
          "height": 35
        },
        "id": "8phYxX8UdMf8",
        "outputId": "9bef955b-5f7b-46d5-8c02-367fe30a8285"
      },
      "outputs": [
        {
          "data": {
            "application/vnd.google.colaboratory.intrinsic+json": {
              "type": "string"
            },
            "text/plain": [
              "'MAMAPRTEINSTRING*'"
            ]
          },
          "execution_count": 22,
          "metadata": {},
          "output_type": "execute_result"
        }
      ],
      "source": [
        "# Translation\n",
        "def translate(RNA):\n",
        "  peptide = []\n",
        "  for i in range(0,len(RNA),3):\n",
        "    if '*' not in peptide:\n",
        "      codon = RNA[i:i+3]\n",
        "      if codon in list(genetic_code.keys()):\n",
        "        peptide.append(genetic_code[codon])\n",
        "    elif '*' in peptide:\n",
        "      break \n",
        "  amino_acid = \"\".join(peptide)\n",
        "  return amino_acid    \n",
        "RNA = 'AUGGCCAUGGCGCCCAGAACUGAGAUCAAUAGUACCCGUAUUAACGGGUGA AAA' \n",
        "translate(RNA)  #output: MAMAPRTEINSTRING  "
      ]
    },
    {
      "cell_type": "code",
      "execution_count": null,
      "metadata": {
        "id": "vUTfSnuRKKba"
      },
      "outputs": [],
      "source": [
        "file = \"/content/dataset_96_4.txt\"\n",
        "with open(file) as f:\n",
        "  text = f.read()"
      ]
    },
    {
      "cell_type": "code",
      "execution_count": null,
      "metadata": {
        "colab": {
          "base_uri": "https://localhost:8080/",
          "height": 105
        },
        "id": "qoeiIbNmKTlg",
        "outputId": "aa9509bf-aac0-45f9-b4e3-6869fc523888"
      },
      "outputs": [
        {
          "data": {
            "application/vnd.google.colaboratory.intrinsic+json": {
              "type": "string"
            },
            "text/plain": [
              "'MAATYSSHASISNSSVRLSPPTSSTPSSHLYLNSSHRRELLFIIDSHGGEIKKTRFLMHPLPVLQVSGIIPGDLEISPLEADSHRFLEPCQACQMARLCKRTGCPLACSRQDLHLTWRRHPQRPMREKGRSMGTLQQVPFSETRNESVLRQDLILSRADHALQNIGLYGRPTVCHGGYTTSKEIEPPDRTWIVTCMVVFNYFAGWVYSVLWTPLGMSRFARSIAINETTQDINYDLFGYSQLHPRANGRRSSSATRPSPRTGAKDARIVCNVGSDSSVFRWFSMGELIRPLGLRAFQSNPDVSNGNNRINAATGRLLDQVVSARLGRSGLGTRPSLGYPVRCRTLDCIPRYFSSGQTVILVHGRATPSFSIWIGLYRLYQWRSRIKSDWDRNNVQIYELGANLPLQTRTSLARDMSSVGMRPSSGKFGHNCKESSPFTFLDVHTRIRFSGSRGSSIYRVHSKTILSLFLPLANSWRDAFELDQAHKVTFRHLSPASNGCIVLLNTRSSMKPLTICATVRIVLPDVGVGLRVALGGHPTKKHDRRRCVLLIVVGSPIRKTCDFGNRARILNTLWYLTSDLMSFNYTHSQRPVIESDNNTGSEPFNTRKTWLPVINAGRPQVDTSVILRASRTPAGLLSYESAANDDKVIRHWYGRCEEKFQYGSLFDLKCPFSVSRLRPRWSGLAANVSRHLRRQPFAIPFGSTEISICRDWGGSPAEILAKEMRDFTVGSVNLCRYRAGVTCPSGLRHLRHATCAKKLMWGCLTNLLLGTIRSMLNTRLAGLRNTRHNTPHKWSGRTAPTANEMRVVCRTIRANAGQVSNPYSLPFSCSISHLLCINRRVHTIGEIDGLKASGLRSTQERWTSVREGRFWVVTGSFHLSYHHRDVRWQLRPLPDKVREIRVRQRSFLPISFPCECVVNCGLLMIQSGRTNPATALLGLGLASSQALHDRQAPCGEVHLNLQKQQDRQNTCRVPYRDWMTAVLNLTKTEPPVMGPCLTGGFQMKDPGPKFTMSEYMPMFNYPCREPGLPLIFLDVIFLGRTCLPYGGHVDRPFGCIFAVARRGGRYLLIPSRLVRPWLTGAPRANYLSLKTSGDTWSISGHFMISQDNAQTAWPLRRGKHTARPGPILHNLHVLLAPAFDLRDLISDAQECTGSRRYLYSHPIGTCFTEVDANFILYRVHNDNLGIFYTNADHFLSQKLSYIEGGQAAKHTNLPIRDPTFTGESLQGSLVISQGPYALKAISTKDAAARLRALAEIPAILSAIRQGIAPWHQQTRHKKPYRRHHELGVYRPRVYVCRYKFFPISRGFGGLAHEVMPLRCWEQLANISSAVGKRQCVDPNLEGTNCGTINIVSGLYSLTCSLVIHRTLTATQEITPVPGAWLHRSPAHGLCGTRYRARYLLHAVISFIPPIEEYRGFNLHVEGNCSLVHGFPSHATDDCSSVVRPDARIRNTLQNPGAVSTMRIGRFTRWGQLIHRWYLTRNGVRKLSDTPCCRGQTFVQCAFSLTEFIAGAYSASPMCPRIKACDAKFISRSSLGTTQCKERRCPRQVRSSSPGTKRKTPQRPVTIAPWTFSKLSHWVLGCSQKGYHPRITSAWRPLVRLPNCTILQRCSLLGITPVIGPTKAYSASKRAYPVNLGCSFQLCLKVQPWPIHLRPPVLRNNNIKSLCLRYKCPLLARRISHVTIISPSCKSTVRLSLDLYFNRAGVGPKEWPVPTWFQRSSSRLGYMRWPLTSGRGDTGDRLPITSVTHTPDTGLSEDPPRNSVTISEPANLYAELSLPESRPLIYLSLLEGKSSSVANDTVPCRGGPSPRSACFNILAGPNLSVLRGNGTSGCTANMYLVCSLTDFVAPGHRRAQRTNQDTSPKPPTGGIRARSVAWPALEASRRYRSLLVLRGVRYGGFIAHVVSVSLLTTYTNKLVKVLPQVPPCTVSCHISPPFTDRESFINRYREGWLGAGVEGGKGPPSHQSVIIRPRLPWANAAADARNLPISFPLNLMGITRPTVTSAHTKQFQKLLKSRKSQITLYMGLIPSSRDVSLGYSPKQMIYTRAFIRGSLRGSYSPSLPQVSIGLFTHYDHLRPPYLLIKGSYKKKKVILCDARPLKCNALRGPHIFGGCFFHVPRCRRPDGSPVKRSYGLQCVGETFMFLDLLSDNDKLSTFTPSDVYHIQAASRGTYREANFARSVPCDTDAIIQHSYQLRAARTPGLVYLGYRGIVSVSKLKSRLCVEYSWIFPPETAGTVIGDEIVRSCSLIPLARQYSSHRLRSRYVGRPFTRETSHSTFQSVPQDRERHLRLHPSQKCCVRLSGTGLPVSRRTPSRPHDDLGELPRRAGGTLSRALRCRPLRRRSEYLGHGVPRAPMIRYAYGLSHMVPLRSMDSFFVYFCGSPYVRYSVMDLAPSYRWSRISNGASSNSTRLKRPERGKSRYASSRRFAYPLRAFNLPFTVLSAEFDCLPALLSRLSFSTMRQHTAYLLIPSTVGAFSIVQKVSWPMLLVCTLAIYMTPTSWARSPPCKYIRTVRPVPQTTVESQQWADFWSLIYRNLTSMTTGCIHSHIETAQSVGTWASHVTTLSLSRTTVRAFVNSSHARLVTTEHWSRLSSVSYSLACDGSRITNPMSTFETLLSYWPWANLLCCDSLGSAYRNPGSDQIALEMNCRTQQLPQWCDFSYTTYRGRYSRLPKSLPLIVSGAAPYVTWLSLSGPDSYRACDPINIMLYLKITAQCRLDGANVISCKPNPPGDSHRAAMREQPPIFTSFYSVLPMNHCVLSLLASTLCRLVASILMVFYLCSHPPGPTHPCGHDRCSAHFLALTVGKVNKYDRRSGSRQRLYPNQVGLVSSNGPRNKRGYGPASFKMLCLVTTHEVYCRPFGGLAGLPDLVGEGAIVSIIAVLVVSPCTMGLQLWPNEPEVRIATAFIYLHCSRQTRNRRRPFRCRNIGWEPAIGRRTPNSRARLVNQSLQHATSSYWYAPVRHALAGRIKALSIVSGRGWRIYGAPAIAGELSSTVPGEVGSYHTTITQNFCHNVCSRNQRGCARSERRSMGGSHLWMLDMASLVRRGKFRVIGTPPAEVRAVYHHCSDKHLRSAPYDFATTANGLDTAPSQSIGHFSCDRNQRFRGLDKSFRGPKVESLSRSWLDGGPYGPEWGCKKTPNLRIHGIQPGNSETVCHSRIVVDRVNEMVEDSVQPTVLEHICLKGGNPRCVRAPRRLTSSFWVSIACLGLLLLGYQVKERLIGLG*'"
            ]
          },
          "execution_count": 23,
          "metadata": {},
          "output_type": "execute_result"
        }
      ],
      "source": [
        "translate(text)"
      ]
    },
    {
      "cell_type": "code",
      "execution_count": null,
      "metadata": {
        "id": "WmNaljQyBogs"
      },
      "outputs": [],
      "source": [
        "def reverse(text):\n",
        "  rev = []\n",
        "  for i in text:\n",
        "    if i == \"A\":\n",
        "      rev.append(\"T\")\n",
        "    elif i == \"T\":\n",
        "      rev.append(\"A\")\n",
        "    elif i == \"C\":\n",
        "      rev.append(\"G\")\n",
        "    elif i == \"G\":\n",
        "      rev.append(\"C\")\n",
        "  r = ''.join(rev)\n",
        "  reverse = []\n",
        "  for i in range(0,len(r)):\n",
        "    l = len(r)-i-1\n",
        "    reverse.append(r[len(r)-i-1])\n",
        "  return \"\".join(reverse)"
      ]
    },
    {
      "cell_type": "code",
      "execution_count": null,
      "metadata": {
        "id": "TQ__aFfosPrB"
      },
      "outputs": [],
      "source": [
        "# transcribe to RNA\n",
        "def transcribe(DNA,already_nu,change_nu):\n",
        "  dna = list(DNA)\n",
        "  for i in range(0,len(dna)):\n",
        "    if dna[i] == already_nu:\n",
        "      dna[i] = change_nu\n",
        "  return ''.join(dna)"
      ]
    },
    {
      "cell_type": "code",
      "execution_count": null,
      "metadata": {
        "colab": {
          "base_uri": "https://localhost:8080/",
          "height": 35
        },
        "id": "lSq2CoZHz0MU",
        "outputId": "408f6251-a09a-464d-e982-0446e5e955c6"
      },
      "outputs": [
        {
          "data": {
            "application/vnd.google.colaboratory.intrinsic+json": {
              "type": "string"
            },
            "text/plain": [
              "'ATGGCC ATGGCC GGCCAT'"
            ]
          },
          "execution_count": 36,
          "metadata": {},
          "output_type": "execute_result"
        }
      ],
      "source": [
        "def find_substring(DNA,amino_acid):\n",
        "  DNA_re = reverse(DNA) # create reverse complement\n",
        "  # trabscribe to RNA\n",
        "  RNA = transcribe(DNA,'T','U')\n",
        "  RNA_re = transcribe(DNA_re,'T','U')\n",
        "  # list of RNA strings \n",
        "  rna = [RNA,RNA[1:],RNA[2:]]\n",
        "  rna_re = [RNA_re,RNA_re[1:],RNA_re[2:]]\n",
        "  sub_strings = []\n",
        "  for string in (rna + rna_re):\n",
        "    for i in range(0,len(translate(string))):\n",
        "      if translate(string)[i:i+len(amino_acid)] == amino_acid:\n",
        "        if string in rna:\n",
        "          sub_strings.append(transcribe(string[(i*3):(i*3)+(3*len(amino_acid))],'U','T'))\n",
        "        elif string in rna_re:\n",
        "          sub_strings.append(reverse(transcribe(string[(i*3):(i*3)+(3*len(amino_acid))],'U','T')))\n",
        "  return ' '.join(sub_strings)      \n",
        "\n",
        "find_substring('ATGGCCATGGCCCCCAGAACTGAGATCAATAGTACCCGTATTAACGGGTGA','MA')  #[ATGGCC,GGCCAT,ATGGCC]"
      ]
    },
    {
      "cell_type": "markdown",
      "metadata": {
        "id": "ZBdOpZH7ZPvj"
      },
      "source": [
        "#### Task 2"
      ]
    },
    {
      "cell_type": "code",
      "execution_count": null,
      "metadata": {
        "id": "n6J1EhVPX_OL"
      },
      "outputs": [],
      "source": [
        "# mass table\n",
        "mass = {'G':57,'A':71,'S':87,'P':97,'V':99,'T':101,'C':103,'I':113,'L':113,'N':114,'D':115,'K':128,'Q':128,'E':129,'M':131,'H':137,'F':147,'R':156,'Y':163,'W':186}"
      ]
    },
    {
      "cell_type": "code",
      "execution_count": null,
      "metadata": {
        "colab": {
          "base_uri": "https://localhost:8080/"
        },
        "id": "I8fKqewZKb_6",
        "outputId": "ee8f2fbd-6286-4b57-f5d7-48d0e8c44f52"
      },
      "outputs": [
        {
          "name": "stdout",
          "output_type": "stream",
          "text": [
            "['N', 'Q', 'E', 'L', 'NQ', 'QE', 'EL', 'LN', 'NQE', 'QEL', 'ELN', 'LNQ', 'NQEL']\n"
          ]
        },
        {
          "data": {
            "text/plain": [
              "['0',\n",
              " '113',\n",
              " '114',\n",
              " '128',\n",
              " '129',\n",
              " '227',\n",
              " '242',\n",
              " '242',\n",
              " '257',\n",
              " '355',\n",
              " '356',\n",
              " '370',\n",
              " '371',\n",
              " '484']"
            ]
          },
          "execution_count": 12,
          "metadata": {},
          "output_type": "execute_result"
        }
      ],
      "source": [
        "# cyclospectrum\n",
        "def cyclospectrum(peptides):\n",
        "  spec_mass = []\n",
        "  sub = []\n",
        "  # create sub_peptide\n",
        "  for i in range(0,len(peptides)-1):\n",
        "    peptide = peptides + peptides[:i]\n",
        "    for j in range(0,len(peptide)-i):\n",
        "      sub.append(peptide[j:j+(i+1)])\n",
        "  sub.append(peptides)  \n",
        "  print(sub) \n",
        "  # calculate mass\n",
        "  for peps in sub:\n",
        "    weight = 0\n",
        "    for pep in peps: \n",
        "      weight += mass[str(pep)]\n",
        "    spec_mass.append(weight) \n",
        "  spec_mass.append(0)  \n",
        "  spec_mass.sort()   \n",
        "  return list(map(str,spec_mass))   \n",
        "cyclospectrum('NQEL')"
      ]
    },
    {
      "cell_type": "code",
      "execution_count": null,
      "metadata": {
        "colab": {
          "base_uri": "https://localhost:8080/"
        },
        "id": "pQPnxBLDH5fu",
        "outputId": "a6c7f34c-fe4c-440f-ce81-fe1c5ea61aed"
      },
      "outputs": [
        {
          "data": {
            "text/plain": [
              "1509361350"
            ]
          },
          "execution_count": 15,
          "metadata": {},
          "output_type": "execute_result"
        }
      ],
      "source": [
        "def num_cyclo(n):\n",
        "  count = ((n-1)*n)\n",
        "  return count\n",
        "num_cyclo(38851)  "
      ]
    },
    {
      "cell_type": "code",
      "execution_count": null,
      "metadata": {
        "colab": {
          "base_uri": "https://localhost:8080/"
        },
        "id": "saxUMSRbF1Rg",
        "outputId": "1a5b9386-3d03-4b68-ef83-c7f6f61b3550"
      },
      "outputs": [
        {
          "data": {
            "text/plain": [
              "11"
            ]
          },
          "execution_count": 8,
          "metadata": {},
          "output_type": "execute_result"
        }
      ],
      "source": [
        "# number of linear peptides given length n\n",
        "def num_linear(n):\n",
        "  count = 1 # start at ['']\n",
        "  for k in range(1,n+1):\n",
        "    count += (n-k+1)\n",
        "  return count\n",
        "num_linear(4)    "
      ]
    },
    {
      "cell_type": "code",
      "execution_count": null,
      "metadata": {
        "colab": {
          "base_uri": "https://localhost:8080/"
        },
        "id": "Em8uvBk90G3v",
        "outputId": "969a7ff1-9870-41fc-f72b-42710c651c39"
      },
      "outputs": [
        {
          "data": {
            "text/plain": [
              "['0', '113', '114', '128', '129', '242', '242', '257', '370', '371', '484']"
            ]
          },
          "execution_count": 6,
          "metadata": {},
          "output_type": "execute_result"
        }
      ],
      "source": [
        "# linear spectrum\n",
        "def linear_spec(amino):\n",
        "  spec_mass = []\n",
        "  sub = []\n",
        "  for k in range(1,len(amino)+1):\n",
        "    for i in range(0,len(amino)-k+1):\n",
        "      sub.append(amino[i:i+k]) \n",
        "  # calculate mass\n",
        "  for peps in sub:\n",
        "    weight = 0\n",
        "    for pep in peps: \n",
        "      weight += mass[str(pep)]\n",
        "    spec_mass.append(weight) \n",
        "  spec_mass.append(0)\n",
        "\n",
        "  spec_mass.sort()    \n",
        "  return list(map(str,spec_mass)) \n",
        "\n",
        "linear_spec('NQEL')"
      ]
    },
    {
      "cell_type": "markdown",
      "metadata": {
        "id": "Sz_smZCJYWrn"
      },
      "source": [
        " **CyclopeptideSequencing(Spectrum)** <br>\n",
        "    CandidatePeptides ← a set containing only the empty peptide FinalPeptides ← empty list of strings <br>\n",
        "    while CandidatePeptides is nonempty <br>\n",
        "        CandidatePeptides ← Expand(CandidatePeptides)<br>\n",
        "        for each peptide Peptide in CandidatePeptides<br>\n",
        "            if Mass(Peptide) = ParentMass(Spectrum)<br>\n",
        "                if Cyclospectrum(Peptide) = Spectrum and Peptide is not in FinalPeptides<br>\n",
        "                    append Peptide to FinalPeptides<br>\n",
        "                remove Peptide from CandidatePeptides<br>\n",
        "            else if Peptide is not consistent with Spectrum<br>\n",
        "                remove Peptide from CandidatePeptides<br>\n",
        "    return FinalPeptides"
      ]
    },
    {
      "cell_type": "code",
      "execution_count": null,
      "metadata": {
        "colab": {
          "base_uri": "https://localhost:8080/",
          "height": 53
        },
        "id": "CyjRu4sGaUNS",
        "outputId": "eb335ab9-5715-4f80-89bc-b191018e7c53"
      },
      "outputs": [
        {
          "name": "stdout",
          "output_type": "stream",
          "text": [
            "[[113], [128], [186]]\n"
          ]
        },
        {
          "data": {
            "application/vnd.google.colaboratory.intrinsic+json": {
              "type": "string"
            },
            "text/plain": [
              "'113-128-186 113-186-128 128-113-186 128-186-113 186-113-128 186-128-113'"
            ]
          },
          "execution_count": 10,
          "metadata": {},
          "output_type": "execute_result"
        }
      ],
      "source": [
        "# branch and bounch algorithm\n",
        "def cyclopeptide_sequencing(spectrum):\n",
        "  spec_mass = list(mass.values())\n",
        "  one_pep = []\n",
        "  final_pep = []\n",
        "  candidatepeptide = []\n",
        "  output = []\n",
        "  for i in spectrum.split(' '):\n",
        "    if int(i) in spec_mass and [int(i)] not in one_pep: one_pep.append([int(i)]) \n",
        "  for pep in one_pep: candidatepeptide.append(pep)\n",
        "  while len(candidatepeptide) != 0:\n",
        "    for j in range(0,len(one_pep)): \n",
        "      if [candidatepeptide[0][-1]] != one_pep[j] and str(sum(candidatepeptide[0])+sum(one_pep[j])) == spectrum.split(' ')[-1] and (candidatepeptide[0]+one_pep[j]) not in final_pep:\n",
        "        final_pep.append((candidatepeptide[0]+one_pep[j]))\n",
        "      elif [candidatepeptide[0][-1]] != one_pep[j] and str(sum(candidatepeptide[0])+sum(one_pep[j])) in spectrum.split(' '): \n",
        "        candidatepeptide.append(candidatepeptide[0] + one_pep[j]) \n",
        "    candidatepeptide.remove(candidatepeptide[0]) \n",
        "  for pep in final_pep:\n",
        "    output.append('-'.join(list(map(str,pep))))\n",
        "  print(one_pep)  \n",
        "  return ' '.join(output)\n",
        "spectrum = '0 113 128 186 241 299 314 427' # output: 186-128-113 186-113-128 128-186-113 128-113-186 113-186-128 113-128-186\n",
        "cyclopeptide_sequencing(spectrum) "
      ]
    },
    {
      "cell_type": "code",
      "execution_count": null,
      "metadata": {
        "id": "ssi_TLf5cve1"
      },
      "outputs": [],
      "source": [
        "test = '0 97 97 99 101 103 196 198 198 200 202 295 297 299 299 301 394 396 398 400 400 497'"
      ]
    },
    {
      "cell_type": "code",
      "execution_count": null,
      "metadata": {
        "colab": {
          "base_uri": "https://localhost:8080/",
          "height": 105
        },
        "id": "TXIbS1C2cxFq",
        "outputId": "e6041feb-fd0e-4a81-fcea-7366cd2f11b7"
      },
      "outputs": [
        {
          "name": "stdout",
          "output_type": "stream",
          "text": [
            "[[97], [99], [101], [103]]\n"
          ]
        },
        {
          "data": {
            "application/vnd.google.colaboratory.intrinsic+json": {
              "type": "string"
            },
            "text/plain": [
              "'97-99-101-97-103 97-99-101-99-101 97-99-101-103-97 97-99-103-97-101 97-99-103-101-97 97-101-97-99-103 97-101-97-103-99 97-101-99-97-103 97-101-99-101-99 97-101-99-103-97 97-101-103-97-99 97-101-103-99-97 97-103-97-99-101 97-103-97-101-99 97-103-97-103-97 97-103-99-97-101 97-103-99-101-97 97-103-101-97-99 97-103-101-99-97 99-97-99-103-99 99-97-101-97-103 99-97-101-99-101 99-97-101-103-97 99-97-103-97-101 99-97-103-101-97 99-101-97-99-101 99-101-97-101-99 99-101-97-103-97 99-101-99-97-101 99-101-99-101-97 99-103-97-101-97 99-103-99-97-99 101-97-99-97-103 101-97-99-101-99 101-97-99-103-97 101-97-101-97-101 101-97-103-97-99 101-97-103-99-97 101-99-97-99-101 101-99-97-101-99 101-99-97-103-97 101-99-101-97-99 101-99-101-99-97 103-97-99-97-101 103-97-99-101-97 103-97-101-97-99 103-97-101-99-97 103-99-97-101-97'"
            ]
          },
          "execution_count": 72,
          "metadata": {},
          "output_type": "execute_result"
        }
      ],
      "source": [
        "cyclopeptide_sequencing(test)"
      ]
    },
    {
      "cell_type": "markdown",
      "metadata": {
        "id": "91GsPQlpbfxR"
      },
      "source": [
        "#### Task 3"
      ]
    },
    {
      "cell_type": "code",
      "execution_count": null,
      "metadata": {
        "colab": {
          "base_uri": "https://localhost:8080/"
        },
        "id": "WsL1D209MNvn",
        "outputId": "273424f5-2a08-47c0-e9ca-fd627e0774bf"
      },
      "outputs": [
        {
          "name": "stdout",
          "output_type": "stream",
          "text": [
            "{'0': 1, '113': 1, '114': 1, '128': 1, '129': 1, '227': 1, '242': 2, '257': 1, '355': 1, '356': 1, '370': 1, '371': 1, '484': 1}\n",
            "{'0': 1, '99': 1, '113': 1, '114': 1, '128': 1, '227': 1, '257': 1, '299': 1, '355': 1, '356': 1, '370': 1, '371': 1, '484': 1}\n",
            "3 2\n",
            "14 13\n"
          ]
        },
        {
          "data": {
            "text/plain": [
              "11.0"
            ]
          },
          "execution_count": 42,
          "metadata": {},
          "output_type": "execute_result"
        }
      ],
      "source": [
        "def cyclo_score_problem(amino,experiment):\n",
        "  theory = cyclospectrum(amino)\n",
        "  exp = experiment.split(' ')\n",
        "  theo_ele, exp_ele = {}, {} \n",
        "  for t in theory: # count theory's elements\n",
        "    if t not in theo_ele: theo_ele[t] = 1\n",
        "    else: theo_ele[t] +=1 \n",
        "  for e in exp: # count experiment's elements\n",
        "    if e not in exp_ele: exp_ele[e] = 1\n",
        "    else: exp_ele[e] +=1\n",
        "  T,E = 0,0\n",
        "  for key in theo_ele: # cal unique theory's element\n",
        "    if key not in list(exp_ele.keys()): T += theo_ele[key]\n",
        "    elif key in list(exp_ele.keys()) and theo_ele[key] > exp_ele[key]:  T += (theo_ele[key] - exp_ele[key])\n",
        "  for key in exp_ele: # cal unique theory's element\n",
        "    if key not in list(theo_ele.keys()): E += exp_ele[key]\n",
        "    elif key in list(theo_ele.keys()) and exp_ele[key] > theo_ele[key]:  E += (exp_ele[key] - theo_ele[key])\n",
        "  score = (len(theory) + len(exp) - (E+T))/2\n",
        "  print(theo_ele)\n",
        "  print(exp_ele)\n",
        "  print(T,E)\n",
        "  print(len(theory),len(exp))\n",
        "  return score    \n",
        "experiment = '0 99 113 114 128 227 257 299 355 356 370 371 484'  \n",
        "cyclo_score_problem('NQEL',experiment)"
      ]
    },
    {
      "cell_type": "code",
      "execution_count": null,
      "metadata": {
        "id": "IjTYTUPP2l-J"
      },
      "outputs": [],
      "source": [
        "exp = '0 71 113 129 147 200 218 260 313 331 347 389 460'\n",
        "theo = []"
      ]
    },
    {
      "cell_type": "code",
      "execution_count": null,
      "metadata": {
        "colab": {
          "base_uri": "https://localhost:8080/",
          "height": 53
        },
        "id": "UXAfEJFJ0o4G",
        "outputId": "8c7bb618-0718-4912-d8ac-e99b82dcc887"
      },
      "outputs": [
        {
          "name": "stdout",
          "output_type": "stream",
          "text": [
            "[[71], [113], [129], [147]]\n"
          ]
        },
        {
          "data": {
            "application/vnd.google.colaboratory.intrinsic+json": {
              "type": "string"
            },
            "text/plain": [
              "'71-129-113-147 71-129-147-113 71-147-113-129 71-147-129-113 113-147-71-129 113-147-129-71 129-71-113-147 129-71-147-113 147-71-113-129 147-71-129-113 147-113-71-129 147-113-129-71'"
            ]
          },
          "execution_count": 11,
          "metadata": {},
          "output_type": "execute_result"
        }
      ],
      "source": [
        "spec = '0 71 113 129 147 200 218 260 313 331 347 389 460'\n",
        "cyclopeptide_sequencing(spec)"
      ]
    },
    {
      "cell_type": "code",
      "execution_count": null,
      "metadata": {
        "id": "8iHRRvAYc6IF"
      },
      "outputs": [],
      "source": [
        "file = \"/content/dataset_102_3.txt\"\n",
        "with open(file) as f:\n",
        "  text = f.read() "
      ]
    },
    {
      "cell_type": "code",
      "execution_count": null,
      "metadata": {
        "id": "mqTtLN6bM1H6"
      },
      "outputs": [],
      "source": [
        "t = '0 57 87 97 97 97 97 99 99 103 103 103 113 113 113 114 114 114 115 115 115 128 128 129 129 129 131 137 147 147 147 147 147 156 163 163 170 186 186 186 186 196 200 200 206 210 210 211 217 218 226 229 232 234 242 243 245 246 256 260 260 260 262 262 267 276 276 278 285 291 293 294 297 299 299 300 301 303 303 309 310 313 315 332 332 333 335 340 356 363 365 366 370 372 373 373 374 377 382 389 390 396 397 397 400 400 406 407 409 413 415 416 419 423 425 432 440 446 446 447 450 453 462 466 477 479 480 485 487 495 496 497 499 501 502 503 506 510 514 518 519 520 526 533 534 537 540 543 544 545 552 552 553 553 560 563 575 575 579 580 582 587 593 594 594 602 605 609 610 611 617 630 632 632 632 633 634 639 643 643 646 648 657 664 667 668 673 676 676 677 681 681 684 689 700 700 706 706 708 709 714 716 724 729 730 731 732 733 738 745 749 757 761 763 771 779 780 781 786 786 786 790 790 793 795 796 799 803 805 809 813 813 818 820 827 828 829 836 842 843 847 847 853 862 867 872 875 877 878 879 884 885 886 895 896 899 906 908 910 910 912 915 918 926 927 931 932 933 933 933 940 941 942 946 967 972 976 976 976 976 982 994 994 999 999 999 1000 1005 1009 1009 1011 1013 1013 1014 1024 1028 1029 1033 1041 1041 1043 1045 1046 1055 1058 1062 1070 1073 1080 1089 1089 1091 1093 1096 1096 1096 1101 1104 1113 1114 1123 1123 1127 1127 1127 1128 1129 1133 1138 1142 1142 1144 1146 1146 1146 1157 1158 1158 1170 1172 1180 1185 1186 1187 1199 1199 1204 1209 1209 1210 1211 1220 1222 1226 1232 1236 1239 1241 1242 1242 1243 1243 1248 1251 1254 1258 1261 1261 1269 1271 1273 1273 1275 1285 1286 1293 1296 1302 1305 1309 1313 1314 1314 1319 1323 1324 1332 1334 1338 1346 1346 1356 1358 1365 1367 1368 1373 1373 1373 1376 1376 1379 1382 1383 1387 1390 1395 1395 1406 1406 1411 1413 1414 1418 1422 1424 1427 1428 1428 1431 1433 1447 1449 1452 1459 1461 1461 1467 1470 1471 1473 1479 1486 1490 1493 1495 1502 1502 1510 1510 1511 1515 1519 1519 1520 1520 1520 1524 1527 1542 1542 1542 1542 1551 1552 1558 1559 1562 1565 1574 1576 1576 1578 1586 1593 1596 1599 1605 1608 1608 1610 1614 1616 1619 1622 1623 1624 1633 1633 1633 1639 1639 1645 1648 1653 1656 1657 1657 1658 1662 1673 1676 1680 1688 1688 1689 1690 1705 1706 1708 1709 1719 1721 1721 1723 1725 1725 1730 1732 1737 1738 1739 1745 1753 1755 1759 1760 1761 1762 1768 1772 1776 1776 1780 1785 1787 1791 1794 1800 1802 1803 1804 1804 1805 1818 1819 1819 1820 1822 1823 1833 1836 1842 1854 1856 1856 1858 1866 1867 1868 1874 1875 1879 1882 1884 1886 1890 1890 1894 1907 1909 1915 1916 1917 1917 1918 1919 1925 1932 1932 1936 1939 1947 1948 1951 1951 1955 1955 1966 1967 1970 1971 1980 1985 1985 1987 1989 1991 1993 1995 1997 1999 2005 2005 2008 2014 2019 2021 2022 2022 2029 2029 2052 2054 2054 2054 2062 2064 2065 2079 2079 2082 2082 2090 2090 2095 2095 2095 2098 2099 2100 2100 2103 2104 2104 2109 2111 2118 2118 2122 2127 2132 2132 2136 2136 2142 2151 2152 2157 2176 2176 2179 2185 2185 2187 2191 2194 2196 2196 2201 2203 2203 2208 2210 2215 2218 2226 2227 2233 2235 2240 2240 2240 2242 2247 2247 2251 2251 2251 2255 2256 2260 2265 2279 2279 2281 2282 2290 2290 2299 2299 2300 2300 2305 2310 2313 2314 2316 2324 2332 2337 2338 2343 2355 2355 2357 2357 2357 2362 2362 2364 2364 2369 2369 2382 2382 2387 2387 2389 2389 2394 2394 2394 2396 2396 2408 2413 2414 2419 2427 2435 2437 2438 2441 2446 2451 2451 2452 2452 2461 2461 2469 2470 2472 2472 2486 2491 2495 2496 2500 2500 2500 2504 2504 2509 2511 2511 2511 2516 2518 2524 2525 2533 2536 2541 2543 2548 2548 2550 2555 2555 2557 2560 2564 2566 2566 2572 2575 2575 2594 2599 2600 2609 2615 2615 2619 2619 2624 2629 2633 2633 2640 2642 2647 2647 2648 2651 2651 2652 2653 2656 2656 2656 2661 2661 2669 2669 2672 2672 2686 2687 2689 2697 2697 2697 2699 2722 2722 2729 2729 2730 2732 2737 2743 2746 2746 2752 2754 2756 2758 2760 2762 2764 2766 2766 2771 2780 2781 2784 2785 2796 2796 2800 2800 2803 2804 2812 2815 2819 2819 2826 2832 2833 2834 2834 2835 2836 2842 2844 2857 2861 2861 2865 2867 2869 2872 2876 2877 2883 2884 2885 2893 2895 2895 2897 2909 2915 2918 2928 2929 2931 2932 2932 2933 2946 2947 2947 2948 2949 2951 2957 2960 2964 2966 2971 2975 2975 2979 2983 2989 2990 2991 2992 2996 2998 3006 3012 3013 3014 3019 3021 3026 3026 3028 3030 3030 3032 3042 3043 3045 3046 3061 3062 3063 3063 3071 3075 3078 3089 3093 3094 3094 3095 3098 3103 3106 3112 3112 3118 3118 3118 3127 3128 3129 3132 3135 3137 3141 3143 3143 3146 3152 3155 3158 3165 3173 3175 3175 3177 3186 3189 3192 3193 3199 3200 3209 3209 3209 3209 3224 3227 3231 3231 3231 3232 3232 3236 3240 3241 3241 3249 3249 3256 3258 3261 3265 3272 3278 3280 3281 3284 3290 3290 3292 3299 3302 3304 3318 3320 3323 3323 3324 3327 3329 3333 3337 3338 3340 3345 3345 3356 3356 3361 3364 3368 3369 3372 3375 3375 3378 3378 3378 3383 3384 3386 3393 3395 3405 3405 3413 3417 3419 3427 3428 3432 3437 3437 3438 3442 3446 3449 3455 3458 3465 3466 3476 3478 3478 3480 3482 3490 3490 3493 3497 3500 3503 3508 3508 3509 3509 3510 3512 3515 3519 3525 3529 3531 3540 3541 3542 3542 3547 3552 3552 3564 3565 3566 3571 3579 3581 3593 3593 3594 3605 3605 3605 3607 3609 3609 3613 3618 3622 3623 3624 3624 3624 3628 3628 3637 3638 3647 3650 3655 3655 3655 3658 3660 3662 3662 3671 3678 3681 3689 3693 3696 3705 3706 3708 3710 3710 3718 3722 3723 3727 3737 3738 3738 3740 3742 3742 3746 3751 3752 3752 3752 3757 3757 3769 3775 3775 3775 3775 3779 3784 3805 3809 3810 3811 3818 3818 3818 3819 3820 3824 3825 3833 3836 3839 3841 3841 3843 3845 3852 3855 3856 3865 3866 3867 3872 3873 3874 3876 3879 3884 3889 3898 3904 3904 3908 3909 3915 3922 3923 3924 3931 3933 3938 3938 3942 3946 3948 3952 3955 3956 3958 3961 3961 3965 3965 3965 3970 3971 3972 3980 3988 3990 3994 4002 4006 4013 4018 4019 4020 4021 4022 4027 4035 4037 4042 4043 4045 4045 4051 4051 4062 4067 4070 4070 4074 4075 4075 4078 4083 4084 4087 4094 4103 4105 4108 4108 4112 4117 4118 4119 4119 4119 4121 4134 4140 4141 4142 4146 4149 4157 4157 4158 4164 4169 4171 4172 4176 4176 4188 4191 4198 4198 4199 4199 4206 4207 4208 4211 4214 4217 4218 4225 4231 4232 4233 4237 4241 4245 4248 4249 4250 4252 4254 4255 4256 4264 4266 4271 4272 4274 4285 4289 4298 4301 4304 4305 4305 4311 4319 4326 4328 4332 4335 4336 4338 4342 4344 4345 4351 4351 4354 4354 4355 4361 4362 4369 4374 4377 4378 4378 4379 4381 4385 4386 4388 4395 4411 4416 4418 4419 4419 4436 4438 4441 4442 4448 4448 4450 4451 4452 4452 4454 4457 4458 4460 4466 4473 4475 4475 4484 4489 4489 4491 4491 4491 4495 4505 4506 4508 4509 4517 4519 4522 4525 4533 4534 4540 4541 4541 4545 4551 4551 4555 4565 4565 4565 4565 4581 4588 4588 4595 4604 4604 4604 4604 4604 4614 4620 4622 4622 4622 4623 4623 4636 4636 4636 4637 4637 4637 4638 4638 4638 4648 4648 4648 4652 4652 4654 4654 4654 4654 4664 4694 4751'"
      ]
    },
    {
      "cell_type": "code",
      "execution_count": null,
      "metadata": {
        "colab": {
          "base_uri": "https://localhost:8080/"
        },
        "id": "vOU6XPobcPBn",
        "outputId": "7dc1aeeb-cfc2-4736-f88f-992596cb036e"
      },
      "outputs": [
        {
          "name": "stdout",
          "output_type": "stream",
          "text": [
            "{'0': 1, '57': 1, '87': 1, '97': 3, '99': 2, '101': 1, '103': 3, '113': 4, '114': 1, '115': 4, '128': 4, '129': 2, '131': 2, '137': 1, '147': 6, '156': 1, '170': 1, '186': 2, '196': 1, '200': 2, '202': 1, '206': 1, '210': 2, '214': 2, '218': 1, '225': 1, '232': 1, '234': 2, '242': 1, '243': 2, '245': 1, '246': 3, '256': 2, '260': 3, '262': 3, '267': 1, '275': 1, '276': 1, '285': 1, '293': 1, '294': 1, '301': 2, '303': 2, '309': 1, '313': 1, '315': 2, '327': 1, '335': 1, '349': 3, '356': 1, '357': 1, '359': 1, '361': 1, '362': 1, '363': 1, '365': 1, '366': 1, '370': 1, '371': 1, '372': 2, '373': 1, '374': 2, '377': 1, '382': 1, '384': 1, '389': 1, '390': 2, '393': 1, '400': 1, '409': 1, '414': 1, '416': 2, '432': 2, '440': 1, '450': 1, '453': 1, '456': 1, '460': 1, '462': 2, '464': 1, '466': 1, '471': 1, '474': 1, '477': 1, '480': 1, '485': 1, '490': 1, '495': 1, '496': 2, '497': 1, '498': 1, '499': 1, '501': 1, '502': 1, '505': 1, '506': 1, '509': 1, '518': 2, '519': 1, '521': 1, '529': 1, '531': 1, '535': 1, '537': 1, '545': 1, '552': 2, '559': 1, '561': 1, '563': 3, '565': 1, '575': 1, '580': 1, '582': 1, '587': 1, '603': 2, '605': 1, '608': 2, '609': 1, '610': 1, '611': 2, '613': 1, '618': 1, '628': 1, '629': 1, '630': 1, '632': 2, '633': 1, '634': 2, '646': 1, '650': 1, '652': 1, '662': 1, '665': 2, '667': 1, '676': 4, '677': 1, '681': 1, '684': 1, '690': 1, '692': 1, '702': 1, '706': 1, '708': 1, '710': 1, '726': 1, '729': 1, '731': 3, '733': 2, '736': 1, '738': 1, '739': 1, '741': 1, '744': 1, '745': 1, '749': 1, '755': 1, '758': 1, '760': 1, '761': 1, '764': 1, '765': 1, '789': 2, '790': 1, '791': 1, '797': 1, '798': 1, '799': 1, '805': 2, '809': 1, '812': 2, '823': 3, '828': 2, '834': 1, '836': 1, '842': 1, '844': 1, '846': 3, '853': 1, '854': 1, '861': 1, '864': 1, '866': 1, '867': 2, '868': 1, '873': 1, '875': 1, '876': 1, '886': 1, '891': 1, '896': 1, '901': 1, '902': 1, '911': 2, '912': 1, '918': 1, '922': 1, '927': 1, '931': 1, '933': 2, '937': 2, '938': 1, '941': 1, '943': 1, '952': 1, '959': 3, '964': 1, '965': 1, '970': 1, '976': 1, '978': 1, '979': 1, '982': 2, '984': 1, '991': 1, '993': 1, '995': 1, '999': 1, '1003': 1, '1006': 1, '1011': 1, '1014': 2, '1016': 1, '1020': 1, '1024': 1, '1034': 1, '1036': 1, '1040': 1, '1042': 1, '1046': 2, '1048': 1, '1056': 1, '1058': 2, '1061': 1, '1065': 1, '1066': 1, '1068': 1, '1069': 1, '1074': 1, '1079': 1, '1087': 1, '1099': 1, '1100': 1, '1106': 1, '1108': 1, '1109': 2, '1110': 1, '1113': 1, '1116': 1, '1121': 1, '1123': 1, '1126': 1, '1127': 2, '1129': 1, '1135': 1, '1138': 1, '1139': 1, '1143': 1, '1155': 1, '1161': 2, '1163': 2, '1164': 1, '1168': 1, '1171': 2, '1173': 1, '1174': 1, '1176': 1, '1183': 1, '1193': 1, '1195': 1, '1197': 1, '1202': 1, '1205': 1, '1213': 1, '1216': 1, '1221': 1, '1224': 2, '1226': 1, '1228': 2, '1236': 1, '1238': 2, '1240': 1, '1242': 2, '1255': 1, '1258': 1, '1260': 2, '1263': 1, '1267': 1, '1268': 1, '1274': 1, '1278': 1, '1285': 1, '1289': 1, '1292': 1, '1294': 1, '1296': 1, '1300': 1, '1308': 1, '1311': 2, '1318': 1, '1320': 1, '1321': 1, '1323': 1, '1327': 1, '1331': 1, '1341': 4, '1342': 1, '1343': 1, '1349': 2, '1355': 1, '1357': 1, '1360': 1, '1363': 1, '1364': 1, '1369': 1, '1371': 1, '1373': 2, '1375': 1, '1392': 1, '1395': 1, '1405': 1, '1406': 1, '1407': 1, '1408': 1, '1410': 1, '1415': 1, '1420': 1, '1428': 1, '1431': 1, '1433': 1, '1436': 2, '1438': 1, '1439': 2, '1441': 1, '1444': 1, '1455': 1, '1456': 2, '1464': 1, '1472': 1, '1474': 3, '1476': 1, '1477': 1, '1478': 2, '1484': 1, '1488': 2, '1489': 1, '1492': 1, '1498': 1, '1504': 1, '1509': 1, '1518': 1, '1520': 2, '1530': 1, '1534': 1, '1535': 1, '1536': 1, '1541': 2, '1543': 2, '1545': 1, '1551': 1, '1552': 1, '1567': 2, '1575': 1, '1577': 1, '1578': 1, '1583': 1, '1587': 4, '1591': 1, '1592': 1, '1593': 1, '1603': 1, '1605': 1, '1606': 1, '1611': 1, '1617': 2, '1621': 2, '1625': 1, '1633': 2, '1635': 2, '1640': 1, '1651': 1, '1654': 1, '1658': 1, '1662': 1, '1664': 1, '1670': 1, '1672': 1, '1673': 1, '1674': 1, '1675': 1, '1682': 2, '1690': 3, '1692': 1, '1695': 1, '1698': 1, '1701': 1, '1708': 1, '1719': 1, '1720': 2, '1721': 1, '1730': 1, '1732': 1, '1734': 4, '1736': 1, '1737': 1, '1738': 1, '1740': 1, '1748': 1, '1750': 1, '1764': 1, '1769': 1, '1773': 1, '1776': 1, '1777': 1, '1785': 1, '1787': 1, '1789': 1, '1792': 1, '1797': 1, '1801': 2, '1803': 1, '1805': 2, '1807': 1, '1810': 1, '1823': 1, '1829': 2, '1831': 1, '1833': 1, '1837': 1, '1839': 1, '1845': 2, '1847': 1, '1848': 2, '1849': 1, '1850': 1, '1853': 1, '1860': 1, '1863': 1, '1865': 1, '1866': 1, '1868': 1, '1872': 1, '1876': 1, '1881': 2, '1892': 2, '1900': 2, '1907': 2, '1929': 1, '1932': 1, '1934': 1, '1936': 2, '1942': 1, '1944': 3, '1950': 1, '1952': 3, '1954': 1, '1957': 2, '1962': 1, '1969': 1, '1973': 2, '1975': 1, '1976': 1, '1977': 1, '1979': 1, '1981': 1, '1993': 1, '1994': 1, '1995': 1, '1996': 2, '2007': 2, '2010': 1, '2031': 1, '2036': 1, '2037': 1, '2039': 2, '2041': 1, '2044': 1, '2047': 3, '2049': 1, '2054': 1, '2065': 1, '2067': 1, '2070': 1, '2072': 3, '2082': 2, '2083': 2, '2085': 1, '2086': 1, '2091': 2, '2093': 1, '2104': 1, '2106': 1, '2108': 1, '2109': 1, '2110': 1, '2120': 1, '2123': 2, '2124': 1, '2130': 1, '2139': 1, '2146': 1, '2150': 1, '2154': 3, '2166': 1, '2169': 3, '2175': 1, '2178': 1, '2185': 2, '2186': 1, '2191': 1, '2194': 1, '2195': 1, '2196': 2, '2197': 1, '2200': 1, '2210': 1, '2217': 1, '2219': 1, '2220': 1, '2222': 2, '2227': 1, '2232': 1, '2233': 1, '2237': 1, '2238': 2, '2239': 1, '2242': 1, '2245': 1, '2251': 1, '2253': 1, '2269': 1, '2272': 1, '2279': 1, '2282': 3, '2293': 1, '2297': 2, '2301': 2, '2306': 2, '2309': 1, '2310': 1, '2316': 2, '2323': 2, '2325': 2, '2332': 2, '2338': 1, '2339': 1, '2342': 2, '2347': 2, '2351': 2, '2355': 1, '2366': 3, '2369': 1, '2376': 1, '2379': 1, '2395': 1, '2397': 1, '2403': 1, '2406': 1, '2409': 1, '2410': 2, '2411': 1, '2415': 1, '2416': 1, '2421': 1, '2426': 2, '2428': 1, '2429': 1, '2431': 1, '2438': 1, '2448': 1, '2451': 1, '2452': 2, '2453': 1, '2454': 1, '2457': 1, '2462': 1, '2463': 2, '2470': 1, '2473': 1, '2479': 3, '2482': 1, '2494': 3, '2498': 1, '2502': 1, '2509': 1, '2518': 1, '2524': 1, '2525': 2, '2528': 1, '2538': 1, '2539': 1, '2540': 1, '2542': 1, '2544': 1, '2555': 1, '2557': 2, '2562': 1, '2563': 1, '2565': 2, '2566': 2, '2576': 3, '2578': 1, '2581': 1, '2583': 1, '2594': 1, '2599': 1, '2601': 3, '2604': 1, '2607': 1, '2609': 2, '2611': 1, '2612': 1, '2617': 1, '2638': 1, '2641': 2, '2652': 2, '2653': 1, '2654': 1, '2655': 1, '2667': 1, '2669': 1, '2671': 1, '2672': 1, '2673': 1, '2675': 2, '2679': 1, '2686': 1, '2691': 2, '2694': 1, '2696': 3, '2698': 1, '2704': 3, '2706': 1, '2712': 2, '2714': 1, '2716': 1, '2719': 1, '2741': 2, '2748': 2, '2756': 2, '2767': 2, '2772': 1, '2776': 1, '2780': 1, '2782': 1, '2783': 1, '2785': 1, '2788': 1, '2795': 1, '2798': 1, '2799': 1, '2800': 2, '2801': 1, '2803': 2, '2809': 1, '2811': 1, '2815': 1, '2817': 1, '2819': 2, '2825': 1, '2838': 1, '2841': 1, '2843': 2, '2845': 1, '2847': 2, '2851': 1, '2856': 1, '2859': 1, '2861': 1, '2863': 1, '2871': 1, '2872': 1, '2875': 1, '2879': 1, '2884': 1, '2898': 1, '2900': 1, '2908': 1, '2910': 1, '2911': 1, '2912': 1, '2914': 4, '2916': 1, '2918': 1, '2927': 1, '2928': 2, '2929': 1, '2940': 1, '2947': 1, '2950': 1, '2953': 1, '2956': 1, '2958': 3, '2966': 2, '2973': 1, '2974': 1, '2975': 1, '2976': 1, '2978': 1, '2984': 1, '2986': 1, '2990': 1, '2994': 1, '2997': 1, '3008': 1, '3013': 2, '3015': 2, '3023': 1, '3027': 2, '3031': 2, '3037': 1, '3042': 1, '3043': 1, '3045': 1, '3055': 1, '3056': 1, '3057': 1, '3061': 4, '3065': 1, '3070': 1, '3071': 1, '3073': 1, '3081': 2, '3096': 1, '3097': 1, '3103': 1, '3105': 2, '3107': 2, '3112': 1, '3113': 1, '3114': 1, '3118': 1, '3128': 2, '3130': 1, '3139': 1, '3144': 1, '3150': 1, '3156': 1, '3159': 1, '3160': 2, '3164': 1, '3170': 2, '3171': 1, '3172': 1, '3174': 3, '3176': 1, '3184': 1, '3192': 2, '3193': 1, '3204': 1, '3207': 1, '3209': 2, '3210': 1, '3212': 2, '3215': 1, '3217': 1, '3220': 1, '3228': 1, '3233': 1, '3238': 1, '3240': 1, '3241': 1, '3242': 1, '3243': 1, '3253': 1, '3256': 1, '3273': 1, '3275': 2, '3277': 1, '3279': 1, '3284': 1, '3285': 1, '3288': 1, '3291': 1, '3293': 1, '3299': 2, '3305': 1, '3306': 1, '3307': 4, '3317': 1, '3321': 1, '3325': 1, '3327': 1, '3328': 1, '3330': 1, '3337': 2, '3340': 1, '3348': 1, '3352': 1, '3354': 1, '3356': 1, '3359': 1, '3363': 1, '3370': 1, '3374': 1, '3380': 1, '3381': 1, '3385': 1, '3388': 2, '3390': 1, '3393': 1, '3406': 2, '3408': 1, '3410': 2, '3412': 1, '3420': 2, '3422': 1, '3424': 2, '3427': 1, '3432': 1, '3435': 1, '3443': 1, '3446': 1, '3451': 1, '3453': 1, '3455': 1, '3465': 1, '3472': 1, '3474': 1, '3475': 1, '3477': 2, '3480': 1, '3484': 1, '3485': 2, '3487': 2, '3493': 1, '3505': 1, '3509': 1, '3510': 1, '3513': 1, '3519': 1, '3521': 2, '3522': 1, '3525': 1, '3527': 1, '3532': 1, '3535': 1, '3538': 1, '3539': 2, '3540': 1, '3542': 1, '3548': 1, '3549': 1, '3561': 1, '3569': 1, '3574': 1, '3579': 1, '3580': 1, '3582': 1, '3583': 1, '3587': 1, '3590': 2, '3592': 1, '3600': 1, '3602': 2, '3606': 1, '3608': 1, '3612': 1, '3614': 1, '3624': 1, '3628': 1, '3632': 1, '3634': 2, '3637': 1, '3642': 1, '3645': 1, '3649': 1, '3653': 1, '3655': 1, '3657': 1, '3664': 1, '3666': 2, '3669': 1, '3670': 1, '3672': 1, '3678': 1, '3683': 1, '3684': 1, '3689': 3, '3696': 1, '3705': 1, '3707': 1, '3710': 1, '3711': 2, '3715': 2, '3717': 1, '3721': 1, '3726': 1, '3730': 1, '3736': 1, '3737': 2, '3746': 1, '3747': 1, '3752': 1, '3757': 1, '3762': 1, '3772': 1, '3773': 1, '3775': 1, '3780': 1, '3781': 2, '3782': 1, '3784': 1, '3787': 1, '3794': 1, '3795': 1, '3802': 3, '3804': 1, '3806': 1, '3812': 1, '3814': 1, '3820': 2, '3825': 3, '3836': 2, '3839': 1, '3843': 2, '3849': 1, '3850': 1, '3851': 1, '3857': 1, '3858': 1, '3859': 2, '3883': 1, '3884': 1, '3887': 1, '3888': 1, '3890': 1, '3893': 1, '3899': 1, '3903': 1, '3904': 1, '3907': 1, '3909': 1, '3910': 1, '3912': 1, '3915': 2, '3917': 3, '3919': 1, '3922': 1, '3938': 1, '3940': 1, '3942': 1, '3946': 1, '3956': 1, '3958': 1, '3964': 1, '3967': 1, '3971': 1, '3972': 4, '3981': 1, '3983': 2, '3986': 1, '3996': 1, '3998': 1, '4002': 1, '4014': 2, '4015': 1, '4016': 2, '4018': 1, '4019': 1, '4020': 1, '4030': 1, '4035': 1, '4037': 2, '4038': 1, '4039': 1, '4040': 2, '4043': 1, '4045': 2, '4061': 1, '4066': 1, '4068': 1, '4073': 1, '4083': 1, '4085': 3, '4087': 1, '4089': 1, '4096': 2, '4103': 1, '4111': 1, '4113': 1, '4117': 1, '4119': 1, '4127': 1, '4129': 1, '4130': 2, '4139': 1, '4142': 1, '4143': 1, '4146': 1, '4147': 1, '4149': 1, '4150': 1, '4151': 1, '4152': 2, '4153': 1, '4158': 1, '4163': 1, '4168': 1, '4171': 1, '4174': 1, '4177': 1, '4182': 1, '4184': 1, '4186': 2, '4188': 1, '4192': 1, '4195': 1, '4198': 1, '4208': 1, '4216': 2, '4232': 2, '4234': 1, '4239': 1, '4248': 1, '4255': 1, '4258': 2, '4259': 1, '4264': 1, '4266': 1, '4271': 1, '4274': 2, '4275': 1, '4276': 2, '4277': 1, '4278': 1, '4282': 1, '4283': 1, '4285': 1, '4286': 1, '4287': 1, '4289': 1, '4291': 1, '4292': 1, '4299': 3, '4313': 1, '4321': 1, '4333': 2, '4335': 1, '4339': 1, '4345': 2, '4347': 2, '4354': 1, '4355': 1, '4363': 1, '4372': 1, '4373': 1, '4381': 1, '4386': 3, '4388': 3, '4392': 2, '4402': 3, '4403': 1, '4405': 2, '4406': 1, '4414': 2, '4416': 1, '4423': 1, '4430': 1, '4434': 2, '4438': 2, '4442': 1, '4446': 1, '4448': 2, '4452': 1, '4462': 2, '4478': 1, '4492': 1, '4501': 6, '4511': 1, '4517': 2, '4519': 2, '4520': 4, '4533': 4, '4534': 1, '4535': 4, '4545': 3, '4547': 1, '4549': 2, '4551': 3, '4561': 1, '4591': 1, '4648': 1}\n",
            "{'0': 1, '57': 1, '87': 1, '97': 4, '99': 2, '103': 3, '113': 3, '114': 3, '115': 3, '128': 2, '129': 3, '131': 1, '137': 1, '147': 5, '156': 1, '163': 2, '170': 1, '186': 4, '196': 1, '200': 2, '206': 1, '210': 2, '211': 1, '217': 1, '218': 1, '226': 1, '229': 1, '232': 1, '234': 1, '242': 1, '243': 1, '245': 1, '246': 1, '256': 1, '260': 3, '262': 2, '267': 1, '276': 2, '278': 1, '285': 1, '291': 1, '293': 1, '294': 1, '297': 1, '299': 2, '300': 1, '301': 1, '303': 2, '309': 1, '310': 1, '313': 1, '315': 1, '332': 2, '333': 1, '335': 1, '340': 1, '356': 1, '363': 1, '365': 1, '366': 1, '370': 1, '372': 1, '373': 2, '374': 1, '377': 1, '382': 1, '389': 1, '390': 1, '396': 1, '397': 2, '400': 2, '406': 1, '407': 1, '409': 1, '413': 1, '415': 1, '416': 1, '419': 1, '423': 1, '425': 1, '432': 1, '440': 1, '446': 2, '447': 1, '450': 1, '453': 1, '462': 1, '466': 1, '477': 1, '479': 1, '480': 1, '485': 1, '487': 1, '495': 1, '496': 1, '497': 1, '499': 1, '501': 1, '502': 1, '503': 1, '506': 1, '510': 1, '514': 1, '518': 1, '519': 1, '520': 1, '526': 1, '533': 1, '534': 1, '537': 1, '540': 1, '543': 1, '544': 1, '545': 1, '552': 2, '553': 2, '560': 1, '563': 1, '575': 2, '579': 1, '580': 1, '582': 1, '587': 1, '593': 1, '594': 2, '602': 1, '605': 1, '609': 1, '610': 1, '611': 1, '617': 1, '630': 1, '632': 3, '633': 1, '634': 1, '639': 1, '643': 2, '646': 1, '648': 1, '657': 1, '664': 1, '667': 1, '668': 1, '673': 1, '676': 2, '677': 1, '681': 2, '684': 1, '689': 1, '700': 2, '706': 2, '708': 1, '709': 1, '714': 1, '716': 1, '724': 1, '729': 1, '730': 1, '731': 1, '732': 1, '733': 1, '738': 1, '745': 1, '749': 1, '757': 1, '761': 1, '763': 1, '771': 1, '779': 1, '780': 1, '781': 1, '786': 3, '790': 2, '793': 1, '795': 1, '796': 1, '799': 1, '803': 1, '805': 1, '809': 1, '813': 2, '818': 1, '820': 1, '827': 1, '828': 1, '829': 1, '836': 1, '842': 1, '843': 1, '847': 2, '853': 1, '862': 1, '867': 1, '872': 1, '875': 1, '877': 1, '878': 1, '879': 1, '884': 1, '885': 1, '886': 1, '895': 1, '896': 1, '899': 1, '906': 1, '908': 1, '910': 2, '912': 1, '915': 1, '918': 1, '926': 1, '927': 1, '931': 1, '932': 1, '933': 3, '940': 1, '941': 1, '942': 1, '946': 1, '967': 1, '972': 1, '976': 4, '982': 1, '994': 2, '999': 3, '1000': 1, '1005': 1, '1009': 2, '1011': 1, '1013': 2, '1014': 1, '1024': 1, '1028': 1, '1029': 1, '1033': 1, '1041': 2, '1043': 1, '1045': 1, '1046': 1, '1055': 1, '1058': 1, '1062': 1, '1070': 1, '1073': 1, '1080': 1, '1089': 2, '1091': 1, '1093': 1, '1096': 3, '1101': 1, '1104': 1, '1113': 1, '1114': 1, '1123': 2, '1127': 3, '1128': 1, '1129': 1, '1133': 1, '1138': 1, '1142': 2, '1144': 1, '1146': 3, '1157': 1, '1158': 2, '1170': 1, '1172': 1, '1180': 1, '1185': 1, '1186': 1, '1187': 1, '1199': 2, '1204': 1, '1209': 2, '1210': 1, '1211': 1, '1220': 1, '1222': 1, '1226': 1, '1232': 1, '1236': 1, '1239': 1, '1241': 1, '1242': 2, '1243': 2, '1248': 1, '1251': 1, '1254': 1, '1258': 1, '1261': 2, '1269': 1, '1271': 1, '1273': 2, '1275': 1, '1285': 1, '1286': 1, '1293': 1, '1296': 1, '1302': 1, '1305': 1, '1309': 1, '1313': 1, '1314': 2, '1319': 1, '1323': 1, '1324': 1, '1332': 1, '1334': 1, '1338': 1, '1346': 2, '1356': 1, '1358': 1, '1365': 1, '1367': 1, '1368': 1, '1373': 3, '1376': 2, '1379': 1, '1382': 1, '1383': 1, '1387': 1, '1390': 1, '1395': 2, '1406': 2, '1411': 1, '1413': 1, '1414': 1, '1418': 1, '1422': 1, '1424': 1, '1427': 1, '1428': 2, '1431': 1, '1433': 1, '1447': 1, '1449': 1, '1452': 1, '1459': 1, '1461': 2, '1467': 1, '1470': 1, '1471': 1, '1473': 1, '1479': 1, '1486': 1, '1490': 1, '1493': 1, '1495': 1, '1502': 2, '1510': 2, '1511': 1, '1515': 1, '1519': 2, '1520': 3, '1524': 1, '1527': 1, '1542': 4, '1551': 1, '1552': 1, '1558': 1, '1559': 1, '1562': 1, '1565': 1, '1574': 1, '1576': 2, '1578': 1, '1586': 1, '1593': 1, '1596': 1, '1599': 1, '1605': 1, '1608': 2, '1610': 1, '1614': 1, '1616': 1, '1619': 1, '1622': 1, '1623': 1, '1624': 1, '1633': 3, '1639': 2, '1645': 1, '1648': 1, '1653': 1, '1656': 1, '1657': 2, '1658': 1, '1662': 1, '1673': 1, '1676': 1, '1680': 1, '1688': 2, '1689': 1, '1690': 1, '1705': 1, '1706': 1, '1708': 1, '1709': 1, '1719': 1, '1721': 2, '1723': 1, '1725': 2, '1730': 1, '1732': 1, '1737': 1, '1738': 1, '1739': 1, '1745': 1, '1753': 1, '1755': 1, '1759': 1, '1760': 1, '1761': 1, '1762': 1, '1768': 1, '1772': 1, '1776': 2, '1780': 1, '1785': 1, '1787': 1, '1791': 1, '1794': 1, '1800': 1, '1802': 1, '1803': 1, '1804': 2, '1805': 1, '1818': 1, '1819': 2, '1820': 1, '1822': 1, '1823': 1, '1833': 1, '1836': 1, '1842': 1, '1854': 1, '1856': 2, '1858': 1, '1866': 1, '1867': 1, '1868': 1, '1874': 1, '1875': 1, '1879': 1, '1882': 1, '1884': 1, '1886': 1, '1890': 2, '1894': 1, '1907': 1, '1909': 1, '1915': 1, '1916': 1, '1917': 2, '1918': 1, '1919': 1, '1925': 1, '1932': 2, '1936': 1, '1939': 1, '1947': 1, '1948': 1, '1951': 2, '1955': 2, '1966': 1, '1967': 1, '1970': 1, '1971': 1, '1980': 1, '1985': 2, '1987': 1, '1989': 1, '1991': 1, '1993': 1, '1995': 1, '1997': 1, '1999': 1, '2005': 2, '2008': 1, '2014': 1, '2019': 1, '2021': 1, '2022': 2, '2029': 2, '2052': 1, '2054': 3, '2062': 1, '2064': 1, '2065': 1, '2079': 2, '2082': 2, '2090': 2, '2095': 3, '2098': 1, '2099': 1, '2100': 2, '2103': 1, '2104': 2, '2109': 1, '2111': 1, '2118': 2, '2122': 1, '2127': 1, '2132': 2, '2136': 2, '2142': 1, '2151': 1, '2152': 1, '2157': 1, '2176': 2, '2179': 1, '2185': 2, '2187': 1, '2191': 1, '2194': 1, '2196': 2, '2201': 1, '2203': 2, '2208': 1, '2210': 1, '2215': 1, '2218': 1, '2226': 1, '2227': 1, '2233': 1, '2235': 1, '2240': 3, '2242': 1, '2247': 2, '2251': 3, '2255': 1, '2256': 1, '2260': 1, '2265': 1, '2279': 2, '2281': 1, '2282': 1, '2290': 2, '2299': 2, '2300': 2, '2305': 1, '2310': 1, '2313': 1, '2314': 1, '2316': 1, '2324': 1, '2332': 1, '2337': 1, '2338': 1, '2343': 1, '2355': 2, '2357': 3, '2362': 2, '2364': 2, '2369': 2, '2382': 2, '2387': 2, '2389': 2, '2394': 3, '2396': 2, '2408': 1, '2413': 1, '2414': 1, '2419': 1, '2427': 1, '2435': 1, '2437': 1, '2438': 1, '2441': 1, '2446': 1, '2451': 2, '2452': 2, '2461': 2, '2469': 1, '2470': 1, '2472': 2, '2486': 1, '2491': 1, '2495': 1, '2496': 1, '2500': 3, '2504': 2, '2509': 1, '2511': 3, '2516': 1, '2518': 1, '2524': 1, '2525': 1, '2533': 1, '2536': 1, '2541': 1, '2543': 1, '2548': 2, '2550': 1, '2555': 2, '2557': 1, '2560': 1, '2564': 1, '2566': 2, '2572': 1, '2575': 2, '2594': 1, '2599': 1, '2600': 1, '2609': 1, '2615': 2, '2619': 2, '2624': 1, '2629': 1, '2633': 2, '2640': 1, '2642': 1, '2647': 2, '2648': 1, '2651': 2, '2652': 1, '2653': 1, '2656': 3, '2661': 2, '2669': 2, '2672': 2, '2686': 1, '2687': 1, '2689': 1, '2697': 3, '2699': 1, '2722': 2, '2729': 2, '2730': 1, '2732': 1, '2737': 1, '2743': 1, '2746': 2, '2752': 1, '2754': 1, '2756': 1, '2758': 1, '2760': 1, '2762': 1, '2764': 1, '2766': 2, '2771': 1, '2780': 1, '2781': 1, '2784': 1, '2785': 1, '2796': 2, '2800': 2, '2803': 1, '2804': 1, '2812': 1, '2815': 1, '2819': 2, '2826': 1, '2832': 1, '2833': 1, '2834': 2, '2835': 1, '2836': 1, '2842': 1, '2844': 1, '2857': 1, '2861': 2, '2865': 1, '2867': 1, '2869': 1, '2872': 1, '2876': 1, '2877': 1, '2883': 1, '2884': 1, '2885': 1, '2893': 1, '2895': 2, '2897': 1, '2909': 1, '2915': 1, '2918': 1, '2928': 1, '2929': 1, '2931': 1, '2932': 2, '2933': 1, '2946': 1, '2947': 2, '2948': 1, '2949': 1, '2951': 1, '2957': 1, '2960': 1, '2964': 1, '2966': 1, '2971': 1, '2975': 2, '2979': 1, '2983': 1, '2989': 1, '2990': 1, '2991': 1, '2992': 1, '2996': 1, '2998': 1, '3006': 1, '3012': 1, '3013': 1, '3014': 1, '3019': 1, '3021': 1, '3026': 2, '3028': 1, '3030': 2, '3032': 1, '3042': 1, '3043': 1, '3045': 1, '3046': 1, '3061': 1, '3062': 1, '3063': 2, '3071': 1, '3075': 1, '3078': 1, '3089': 1, '3093': 1, '3094': 2, '3095': 1, '3098': 1, '3103': 1, '3106': 1, '3112': 2, '3118': 3, '3127': 1, '3128': 1, '3129': 1, '3132': 1, '3135': 1, '3137': 1, '3141': 1, '3143': 2, '3146': 1, '3152': 1, '3155': 1, '3158': 1, '3165': 1, '3173': 1, '3175': 2, '3177': 1, '3186': 1, '3189': 1, '3192': 1, '3193': 1, '3199': 1, '3200': 1, '3209': 4, '3224': 1, '3227': 1, '3231': 3, '3232': 2, '3236': 1, '3240': 1, '3241': 2, '3249': 2, '3256': 1, '3258': 1, '3261': 1, '3265': 1, '3272': 1, '3278': 1, '3280': 1, '3281': 1, '3284': 1, '3290': 2, '3292': 1, '3299': 1, '3302': 1, '3304': 1, '3318': 1, '3320': 1, '3323': 2, '3324': 1, '3327': 1, '3329': 1, '3333': 1, '3337': 1, '3338': 1, '3340': 1, '3345': 2, '3356': 2, '3361': 1, '3364': 1, '3368': 1, '3369': 1, '3372': 1, '3375': 2, '3378': 3, '3383': 1, '3384': 1, '3386': 1, '3393': 1, '3395': 1, '3405': 2, '3413': 1, '3417': 1, '3419': 1, '3427': 1, '3428': 1, '3432': 1, '3437': 2, '3438': 1, '3442': 1, '3446': 1, '3449': 1, '3455': 1, '3458': 1, '3465': 1, '3466': 1, '3476': 1, '3478': 2, '3480': 1, '3482': 1, '3490': 2, '3493': 1, '3497': 1, '3500': 1, '3503': 1, '3508': 2, '3509': 2, '3510': 1, '3512': 1, '3515': 1, '3519': 1, '3525': 1, '3529': 1, '3531': 1, '3540': 1, '3541': 1, '3542': 2, '3547': 1, '3552': 2, '3564': 1, '3565': 1, '3566': 1, '3571': 1, '3579': 1, '3581': 1, '3593': 2, '3594': 1, '3605': 3, '3607': 1, '3609': 2, '3613': 1, '3618': 1, '3622': 1, '3623': 1, '3624': 3, '3628': 2, '3637': 1, '3638': 1, '3647': 1, '3650': 1, '3655': 3, '3658': 1, '3660': 1, '3662': 2, '3671': 1, '3678': 1, '3681': 1, '3689': 1, '3693': 1, '3696': 1, '3705': 1, '3706': 1, '3708': 1, '3710': 2, '3718': 1, '3722': 1, '3723': 1, '3727': 1, '3737': 1, '3738': 2, '3740': 1, '3742': 2, '3746': 1, '3751': 1, '3752': 3, '3757': 2, '3769': 1, '3775': 4, '3779': 1, '3784': 1, '3805': 1, '3809': 1, '3810': 1, '3811': 1, '3818': 3, '3819': 1, '3820': 1, '3824': 1, '3825': 1, '3833': 1, '3836': 1, '3839': 1, '3841': 2, '3843': 1, '3845': 1, '3852': 1, '3855': 1, '3856': 1, '3865': 1, '3866': 1, '3867': 1, '3872': 1, '3873': 1, '3874': 1, '3876': 1, '3879': 1, '3884': 1, '3889': 1, '3898': 1, '3904': 2, '3908': 1, '3909': 1, '3915': 1, '3922': 1, '3923': 1, '3924': 1, '3931': 1, '3933': 1, '3938': 2, '3942': 1, '3946': 1, '3948': 1, '3952': 1, '3955': 1, '3956': 1, '3958': 1, '3961': 2, '3965': 3, '3970': 1, '3971': 1, '3972': 1, '3980': 1, '3988': 1, '3990': 1, '3994': 1, '4002': 1, '4006': 1, '4013': 1, '4018': 1, '4019': 1, '4020': 1, '4021': 1, '4022': 1, '4027': 1, '4035': 1, '4037': 1, '4042': 1, '4043': 1, '4045': 2, '4051': 2, '4062': 1, '4067': 1, '4070': 2, '4074': 1, '4075': 2, '4078': 1, '4083': 1, '4084': 1, '4087': 1, '4094': 1, '4103': 1, '4105': 1, '4108': 2, '4112': 1, '4117': 1, '4118': 1, '4119': 3, '4121': 1, '4134': 1, '4140': 1, '4141': 1, '4142': 1, '4146': 1, '4149': 1, '4157': 2, '4158': 1, '4164': 1, '4169': 1, '4171': 1, '4172': 1, '4176': 2, '4188': 1, '4191': 1, '4198': 2, '4199': 2, '4206': 1, '4207': 1, '4208': 1, '4211': 1, '4214': 1, '4217': 1, '4218': 1, '4225': 1, '4231': 1, '4232': 1, '4233': 1, '4237': 1, '4241': 1, '4245': 1, '4248': 1, '4249': 1, '4250': 1, '4252': 1, '4254': 1, '4255': 1, '4256': 1, '4264': 1, '4266': 1, '4271': 1, '4272': 1, '4274': 1, '4285': 1, '4289': 1, '4298': 1, '4301': 1, '4304': 1, '4305': 2, '4311': 1, '4319': 1, '4326': 1, '4328': 1, '4332': 1, '4335': 1, '4336': 1, '4338': 1, '4342': 1, '4344': 1, '4345': 1, '4351': 2, '4354': 2, '4355': 1, '4361': 1, '4362': 1, '4369': 1, '4374': 1, '4377': 1, '4378': 2, '4379': 1, '4381': 1, '4385': 1, '4386': 1, '4388': 1, '4395': 1, '4411': 1, '4416': 1, '4418': 1, '4419': 2, '4436': 1, '4438': 1, '4441': 1, '4442': 1, '4448': 2, '4450': 1, '4451': 1, '4452': 2, '4454': 1, '4457': 1, '4458': 1, '4460': 1, '4466': 1, '4473': 1, '4475': 2, '4484': 1, '4489': 2, '4491': 3, '4495': 1, '4505': 1, '4506': 1, '4508': 1, '4509': 1, '4517': 1, '4519': 1, '4522': 1, '4525': 1, '4533': 1, '4534': 1, '4540': 1, '4541': 2, '4545': 1, '4551': 2, '4555': 1, '4565': 4, '4581': 1, '4588': 2, '4595': 1, '4604': 5, '4614': 1, '4620': 1, '4622': 3, '4623': 2, '4636': 3, '4637': 3, '4638': 3, '4648': 3, '4652': 2, '4654': 4, '4664': 1, '4694': 1, '4751': 1}\n",
            "1008 1008\n",
            "1408 1408\n"
          ]
        },
        {
          "data": {
            "text/plain": [
              "400.0"
            ]
          },
          "execution_count": 46,
          "metadata": {},
          "output_type": "execute_result"
        }
      ],
      "source": [
        "cyclo_score_problem('LTLSDFFRHPKFVFIPCCEMNKQKDFDCMDWVPIGWEF',t)"
      ]
    },
    {
      "cell_type": "markdown",
      "metadata": {
        "id": "HP9w_5xf3lgl"
      },
      "source": [
        "**LeaderboardCyclopeptideSequencing(Spectrum, N)** <br>\n",
        "    Leaderboard ← set containing only the empty peptide <br>\n",
        "    LeaderPeptide ← empty peptide <br>\n",
        "    while Leaderboard is non-empty <br>\n",
        "        Leaderboard ← Expand(Leaderboard)<br>\n",
        "        for each Peptide in Leaderboard<br>\n",
        "            if Mass(Peptide) = ParentMass(Spectrum)<br>\n",
        "                if Score(Peptide, Spectrum) > Score(LeaderPeptide, Spectrum)<br>\n",
        "                    LeaderPeptide ← Peptide<br>\n",
        "            else if Mass(Peptide) > ParentMass(Spectrum)<br>\n",
        "                remove Peptide from Leaderboard<br>\n",
        "        Leaderboard ← Trim(Leaderboard, Spectrum, N)<br>\n",
        "    output LeaderPeptide"
      ]
    },
    {
      "cell_type": "code",
      "execution_count": null,
      "metadata": {
        "colab": {
          "base_uri": "https://localhost:8080/"
        },
        "id": "nb503p_qIFTS",
        "outputId": "43f4d1e6-67d9-466d-d00f-1061795d907c"
      },
      "outputs": [
        {
          "data": {
            "text/plain": [
              "8.0"
            ]
          },
          "execution_count": 7,
          "metadata": {},
          "output_type": "execute_result"
        }
      ],
      "source": [
        "def linear_score_problem(amino,experiment):\n",
        "  theory = linear_spec(amino)\n",
        "  exp = experiment.split(' ')\n",
        "  theo_ele, exp_ele = {}, {} \n",
        "  for t in theory: # count theory's elements\n",
        "    if t not in theo_ele: theo_ele[t] = 1\n",
        "    else: theo_ele[t] +=1 \n",
        "  for e in exp: # count experiment's elements\n",
        "    if e not in exp_ele: exp_ele[e] = 1\n",
        "    else: exp_ele[e] +=1\n",
        "  T,E = 0,0\n",
        "  for key in theo_ele: # cal unique theory's element\n",
        "    if key not in list(exp_ele.keys()): T += theo_ele[key]\n",
        "    elif key in list(exp_ele.keys()) and theo_ele[key] > exp_ele[key]:  T += (theo_ele[key] - exp_ele[key]) \n",
        "  for key in exp_ele: # cal unique theory's element\n",
        "    if key not in list(theo_ele.keys()): E += exp_ele[key]\n",
        "    elif key in list(theo_ele.keys()) and exp_ele[key] > theo_ele[key]:  E += (exp_ele[key] - theo_ele[key]) \n",
        "  score = (len(theory) + len(exp) - (E+T))/2\n",
        "  return score    \n",
        "experiment = '0 99 113 114 128 227 257 299 355 356 370 371 484'  \n",
        "linear_score_problem('NQEL',experiment)"
      ]
    },
    {
      "cell_type": "code",
      "execution_count": null,
      "metadata": {
        "id": "rhwyYbKqLwU_"
      },
      "outputs": [],
      "source": [
        "e = '0 57 57 57 71 71 87 97 97 99 99 99 101 101 103 103 103 103 103 113 113 113 113 113 114 114 114 114 128 128 128 128 128 128 128 128 128 129 129 129 131 131 137 137 154 154 156 156 156 156 163 185 185 186 188 198 199 200 200 202 206 210 211 214 214 216 216 217 227 227 228 229 231 231 232 236 242 242 244 251 255 256 257 259 260 265 265 265 266 267 268 270 270 270 284 284 285 291 301 303 313 313 314 315 316 316 317 319 325 326 326 329 339 341 341 342 343 344 345 348 355 357 358 360 364 364 365 368 368 369 373 373 382 383 384 386 388 393 394 398 398 398 398 399 406 412 413 416 429 432 442 443 445 445 451 453 454 455 457 467 469 469 469 470 470 471 472 473 474 478 479 479 481 481 482 487 495 496 496 497 497 501 501 512 512 513 514 519 526 526 538 542 542 545 545 552 554 560 569 573 573 581 582 582 583 583 583 585 585 586 592 592 598 599 599 600 600 602 609 609 609 609 610 610 625 625 626 627 629 635 640 641 643 648 648 656 656 666 666 667 673 680 680 682 685 689 695 697 697 697 698 699 701 701 710 710 712 713 714 723 727 728 728 729 730 737 737 737 738 739 740 746 748 751 754 754 756 763 769 771 776 780 784 784 792 794 794 797 798 798 800 810 810 811 812 813 825 827 829 834 838 838 841 841 843 843 843 849 851 853 855 857 857 865 865 867 868 876 879 879 883 885 895 900 900 908 911 911 912 913 914 925 928 928 936 938 939 940 941 942 942 946 946 947 948 950 952 954 957 966 966 971 982 982 993 994 996 998 998 1007 1007 1008 1011 1011 1013 1016 1029 1039 1041 1041 1041 1042 1042 1045 1049 1054 1055 1056 1060 1061 1064 1064 1065 1068 1069 1070 1071 1074 1078 1079 1079 1094 1095 1099 1104 1108 1110 1110 1111 1114 1122 1125 1127 1135 1136 1142 1142 1144 1144 1152 1154 1162 1163 1167 1168 1170 1170 1173 1174 1179 1182 1182 1183 1185 1192 1192 1198 1207 1208 1211 1217 1225 1227 1227 1230 1233 1236 1238 1239 1240 1241 1243 1247 1249 1249 1255 1257 1263 1265 1265 1266 1270 1276 1277 1281 1296 1298 1299 1307 1307 1310 1310 1310 1311 1322 1330 1336 1337 1339 1339 1343 1346 1348 1354 1355 1358 1358 1360 1362 1363 1364 1369 1370 1377 1380 1383 1390 1393 1393 1394 1394 1395 1398 1399 1405 1410 1412 1419 1426 1433 1435 1438 1438 1440 1442 1447 1450 1458 1461 1467 1468 1471 1476 1477 1477 1483 1486 1490 1491 1492 1492 1494 1495 1497 1498 1508 1511 1513 1523 1525 1529 1532 1533 1534 1538 1540 1541 1546 1547 1549 1554 1561 1568 1571 1575 1575 1581 1584 1589 1590 1591 1594 1595 1603 1605 1608 1611 1614 1622 1623 1624 1625 1632 1633 1639 1643 1646 1648 1651 1654 1660 1662 1663 1667 1668 1670 1674 1678 1684 1696 1703 1705 1708 1708 1712 1717 1719 1719 1720 1722 1726 1734 1736 1745 1745 1746 1746 1752 1752 1753 1759 1761 1762 1767 1768 1770 1771 1776 1781 1783 1791 1791 1799 1806 1807 1809 1822 1825 1832 1833 1836 1839 1839 1848 1848 1850 1858 1859 1859 1868 1870 1873 1873 1874 1875 1880 1880 1881 1882 1884 1884 1890 1890 1902 1907 1919 1920 1928 1935 1936 1937 1940 1945 1946 1947 1950 1952 1973 1976 1978 1979 1982 1983 1986 1987 1987 1987 1989 1993 1995 2003 2004 2007 2008 2011 2015 2031 2036 2036 2046 2048 2049 2053 2059 2065 2068 2074 2075 2082 2086 2087 2090 2090 2092 2096 2101 2102 2106 2106 2106 2114 2117 2117 2120 2133 2135 2139 2144 2149 2150 2150 2164 2174 2174 2177 2181 2185 2188 2189 2193 2196 2203 2204 2207 2215 2215 2217 2221 2223 2231 2234 2238 2242 2243 2246 2246 2248 2248 2250 2253 2278 2278 2288 2291 2302 2304 2305 2305 2309 2317 2318 2326 2330 2335 2335 2337 2341 2344 2344 2345 2347 2351 2352 2352 2359 2371 2371 2377 2381 2401 2406 2417 2418 2419 2431 2432 2433 2434 2438 2440 2442 2444 2447 2454 2458 2460 2463 2465 2465 2466 2473 2474 2480 2488 2489 2490 2499 2530 2532 2537 2543 2545 2546 2547 2556 2557 2560 2562 2562 2568 2569 2570 2575 2576 2579 2587 2591 2596 2601 2602 2617 2617 2619 2644 2648 2656 2658 2659 2660 2668 2671 2673 2674 2674 2675 2676 2682 2684 2688 2699 2704 2712 2715 2716 2725 2730 2733 2743 2745 2757 2762 2776 2779 2781 2784 2786 2787 2787 2788 2802 2802 2805 2816 2816 2828 2830 2830 2833 2836 2838 2840 2841 2856 2871 2878 2886 2887 2890 2890 2900 2915 2918 2931 2933 2933 2935 2939 2941 2943 2944 2944 2944 2944 2961 2969 2984 2985 2989 3001 3002 3015 3015 3018 3027 3032 3042 3044 3044 3046 3047 3056 3058 3072 3072 3072 3088 3098 3100 3113 3115 3117 3129 3131 3143 3143 3145 3146 3155 3155 3157 3157 3161 3169 3185 3200 3214 3216 3216 3226 3228 3244 3244 3244 3254 3257 3258 3258 3260 3283 3283 3285 3286 3297 3299 3317 3329 3342 3344 3345 3347 3353 3357 3371 3373 3382 3386 3397 3411 3413 3413 3413 3414 3416 3442 3445 3458 3472 3475 3476 3481 3481 3485 3486 3499 3516 3525 3527 3542 3543 3544 3553 3569 3584 3587 3589 3598 3600 3600 3604 3609 3612 3615 3630 3671 3681 3681 3683 3690 3697 3698 3699 3712 3717 3728 3728 3729 3740 3741 3752 3786 3798 3799 3809 3812 3818 3825 3827 3843 3854 3856 3866 3869 3880 3884 3885 3915 3926 3926 3955 3955 3955 3956 3972 3982 3994 3998 4012 4014 4022 4054 4054 4057 4069 4083 4085 4085 4101 4111 4126 4150 4151 4172 4182 4185 4186 4186 4198 4200 4210 4225 4229 4271 4279 4299 4299 4313 4314 4324 4328 4328 4337 4338 4400 4408 4427 4427 4427 4442 4452 4465 4465 4469 4526 4528 4536 4555 4555 4564 4583 4593 4598 4654 4656 4663 4686 4692 4711 4712 4785 4791 4791 4812 4815 4825 4914 4919 4922 4926 4928 5027 5029 5050 5051 5128 5164 5179 5265 5292 5393'"
      ]
    },
    {
      "cell_type": "code",
      "execution_count": null,
      "metadata": {
        "colab": {
          "base_uri": "https://localhost:8080/"
        },
        "id": "1s39aXrCIyj5",
        "outputId": "e4c7a72e-769c-4cee-ee26-419c242d1997"
      },
      "outputs": [
        {
          "data": {
            "text/plain": [
              "343.0"
            ]
          },
          "execution_count": 51,
          "metadata": {},
          "output_type": "execute_result"
        }
      ],
      "source": [
        "linear_score_problem('TLEMQVVGAWERFAKRNCNGNKMGQYCCIQIECCHKCLTKQRNMVHK',e)"
      ]
    },
    {
      "cell_type": "code",
      "execution_count": null,
      "metadata": {
        "colab": {
          "base_uri": "https://localhost:8080/",
          "height": 35
        },
        "id": "37GWr6mIgQAZ",
        "outputId": "89443aa1-d349-4b82-c95a-db560bc6b8fe"
      },
      "outputs": [
        {
          "data": {
            "application/vnd.google.colaboratory.intrinsic+json": {
              "type": "string"
            },
            "text/plain": [
              "'LAST ALST'"
            ]
          },
          "execution_count": 40,
          "metadata": {},
          "output_type": "execute_result"
        }
      ],
      "source": [
        "def trim_leaderboard_linear(leaderboard,spectrum,n): #n: top n tier\n",
        "  board = leaderboard.split(' ')\n",
        "  score = {} \n",
        "  for pep in board:\n",
        "    score[pep] = linear_score_problem(pep,spectrum)\n",
        "  top = list(set(list(score.values()))) \n",
        "  top.sort(reverse=True) \n",
        "  top_score = {}\n",
        "  for i in range(0,n):\n",
        "    for key in score: \n",
        "      if score[key] == top[i]:\n",
        "        top_score[key] = top[i]    \n",
        "  return ' '.join(list(top_score.keys()))\n",
        "     \n",
        "spectrum = '0 71 87 101 113 158 184 188 259 271 372'\n",
        "leaderboard = 'LAST ALST TLLT TQAS'\n",
        "trim_leaderboard_linear(leaderboard,spectrum,2) # output: 113-147-71-129"
      ]
    },
    {
      "cell_type": "markdown",
      "metadata": {
        "id": "Edj69T9nnOt6"
      },
      "source": [
        "#### Leaderboard cyclopeptide sequencing"
      ]
    },
    {
      "cell_type": "code",
      "execution_count": null,
      "metadata": {
        "id": "yzwZAlu508c9"
      },
      "outputs": [],
      "source": [
        "spec = '0 71 113 129 147 200 218 260 313 331 347 389 460'\n",
        "leaderboard = '71-129-113-147 71-129-147-113 71-147-113-129 71-147-129-113 113-147-71-129 113-147-129-71 129-71-113-147 129-71-147-113 147-71-113-129 147-71-129-113 147-113-71-129 147-113-129-71'"
      ]
    },
    {
      "cell_type": "code",
      "execution_count": null,
      "metadata": {
        "colab": {
          "base_uri": "https://localhost:8080/",
          "height": 35
        },
        "id": "gTahrcOyosgW",
        "outputId": "5e9664d6-ce35-45a7-faec-ae2dfdb02737"
      },
      "outputs": [
        {
          "data": {
            "application/vnd.google.colaboratory.intrinsic+json": {
              "type": "string"
            },
            "text/plain": [
              "'71-129-113-147-71-129-113'"
            ]
          },
          "execution_count": 14,
          "metadata": {},
          "output_type": "execute_result"
        }
      ],
      "source": [
        "p = '71-129-113-147'# 71-129-113-147-71: k=2 p[:1]; 71-129-113-147-71-129: k=3 p[:2];  \n",
        "p1 = p.split('-')\n",
        "p2 = []\n",
        "for i in range(0,len(p1)-1):\n",
        "  p2.append(p + '-'+ p1[i])\n",
        "p2\n",
        "p + '-'+ '-'.join(p1[:3])"
      ]
    },
    {
      "cell_type": "code",
      "execution_count": null,
      "metadata": {
        "id": "IcDbNhXhnUZ7"
      },
      "outputs": [],
      "source": [
        "def cyclo_spec(leaderboard):\n",
        "  for peps in leaderboard.split(' '):\n",
        "    peptides = peps.split('-')\n",
        "    sub = []\n",
        "    for i in range(0,len(peptides)-1):\n",
        "      if i == 0:  amino = p\n",
        "      else: amino = p + '-' + '-'.join(peptides[:i])\n",
        "      for j in range(0,len(amino.split('-'))):\n",
        "        sub.append(amino[])"
      ]
    },
    {
      "cell_type": "code",
      "execution_count": null,
      "metadata": {
        "id": "vmg3fMs0n189"
      },
      "outputs": [],
      "source": [
        "# cyclospectrum\n",
        "def cyclospectrum(peptides):\n",
        "  spec_mass = []\n",
        "  sub = []\n",
        "  # create sub_peptide\n",
        "  for i in range(0,len(peptides)-1):\n",
        "    peptide = peptides + peptides[:i]\n",
        "    for j in range(0,len(peptide)-i):\n",
        "      sub.append(peptide[j:j+(i+1)])\n",
        "  sub.append(peptides)  \n",
        "  print(sub) \n",
        "  # calculate mass\n",
        "  for peps in sub:\n",
        "    weight = 0\n",
        "    for pep in peps: \n",
        "      weight += mass[str(pep)]\n",
        "    spec_mass.append(weight) \n",
        "  spec_mass.append(0)  \n",
        "  spec_mass.sort()   \n",
        "  return list(map(str,spec_mass))   \n",
        "cyclospectrum('NQEL')"
      ]
    },
    {
      "cell_type": "code",
      "execution_count": null,
      "metadata": {
        "colab": {
          "base_uri": "https://localhost:8080/",
          "height": 53
        },
        "id": "sd-rkkbLw_AQ",
        "outputId": "35a1983d-f5d4-449f-b517-aa3b61eddfa7"
      },
      "outputs": [
        {
          "data": {
            "application/vnd.google.colaboratory.intrinsic+json": {
              "type": "string"
            },
            "text/plain": [
              "'WMDFLKCRQFKYWLKDINSHAVNGAWVYEVQSQHCYPESW PSCLVCKIKGGTFYLFVDYIVGIFPDWSFGEPWLREGLPC FMFMCYIIPLRDPMTVSKIHGWTCTNTEDWDEHYPEARTC DIVMGDWSGQYTSLGMMHFWQQWMALNMDIPIPYTYETFE TVQIPSLALRLCWNKEKQKSNITTSNMEEMWNFFFQSKNP YRSDTYDNHFNQLGLESSWSQDVDQLGWYQCRVYHKDDEV VVMTKGPIEQEFIRPLHMMNTMGLCACSRGLPYVIPEPIG VIRKAMHPWARVCSAVWEMQFNYGNQGGEVCMAVYNSYFS DDCSLFQRIYWHALIEPTCDQMQSYLGWTRVFHCAHMHFW'"
            ]
          },
          "execution_count": 41,
          "metadata": {},
          "output_type": "execute_result"
        }
      ],
      "source": [
        "leaderboard = 'QKLNWAYHMKGMWIEWEGSIHDNPQGKPRHTLMGYWVRNI LGNPKCYQHWQTKCVQLIWPLVRFCVLVGSADDGSHWRET FMFMCYIIPLRDPMTVSKIHGWTCTNTEDWDEHYPEARTC YRSDTYDNHFNQLGLESSWSQDVDQLGWYQCRVYHKDDEV PFGTDHFIMRNSIVDGCTFIPGYGWGFFGFVKIPPAVIDV YWHGCWYNPLIEYLSNDTDFMFLDGFCSLCAYDTKFRMTL ENTWYSVFVVPMYGWSYKDQYVCEGSMPCIPNEGQPCYWM FGDFPDDEVYKPMKHKYPYYHVFAAPQPVCICSMHGTPMM DIVMGDWSGQYTSLGMMHFWQQWMALNMDIPIPYTYETFE WMDFLKCRQFKYWLKDINSHAVNGAWVYEVQSQHCYPESW PSCLVCKIKGGTFYLFVDYIVGIFPDWSFGEPWLREGLPC KMDWDWRVGQELLWHTGVLLNQNKKWLDQHFWALGFVQIN VVMTKGPIEQEFIRPLHMMNTMGLCACSRGLPYVIPEPIG LMHHLADMDFKCLSTFTEWRNYLTWRFLICFPLNLRMAAA VIRKAMHPWARVCSAVWEMQFNYGNQGGEVCMAVYNSYFS DDCSLFQRIYWHALIEPTCDQMQSYLGWTRVFHCAHMHFW KAQAAKDLVWGRQPIFELPMLFVLLCMTDWYPPIRPCVCK TVQIPSLALRLCWNKEKQKSNITTSNMEEMWNFFFQSKNP AVCQHLMNLGLDPCHVEQSRHQRFHGHAHIWWCRLKWEAA WHTHAVKWYYLENYVHYVLTPTWVFTMHITYYTKEYVQVE'\n",
        "spectrum = '0 57 87 87 87 87 87 97 97 97 101 101 103 113 113 113 113 113 113 114 114 128 128 128 128 128 129 129 129 131 131 131 147 147 147 147 156 163 163 163 163 184 184 186 188 188 200 210 211 215 216 217 218 220 226 226 228 229 230 231 242 242 244 244 250 256 259 260 260 260 260 261 271 276 276 284 285 287 291 310 310 313 315 315 316 317 317 318 324 326 333 339 343 345 345 347 349 357 358 370 372 372 373 374 375 378 383 387 389 389 391 392 402 407 412 413 414 415 416 423 426 430 432 438 439 445 448 462 470 470 471 471 471 473 473 479 481 490 496 496 499 500 501 501 502 503 503 503 504 512 519 527 535 536 538 539 541 544 552 559 560 576 577 584 584 589 595 598 599 600 600 601 601 604 604 604 608 609 614 614 618 625 626 631 632 632 636 644 646 647 649 659 659 665 666 674 688 691 701 701 713 715 717 722 722 723 723 727 729 729 731 731 732 732 732 736 739 745 746 747 753 755 758 760 761 761 767 772 778 788 788 809 814 815 819 822 830 835 842 843 844 845 850 851 852 854 854 857 860 860 862 864 865 874 874 875 876 885 885 886 886 892 895 901 909 910 922 932 935 937 941 943 944 951 961 971 971 972 973 975 977 977 982 983 983 989 989 990 992 998 998 1006 1014 1022 1023 1037 1038 1038 1038 1039 1042 1048 1048 1070 1071 1072 1074 1074 1079 1085 1085 1085 1091 1095 1103 1103 1103 1104 1105 1114 1118 1125 1135 1136 1139 1139 1140 1145 1145 1150 1152 1161 1161 1167 1167 1170 1188 1192 1200 1200 1201 1202 1202 1205 1216 1219 1226 1231 1232 1232 1232 1242 1248 1248 1250 1253 1254 1254 1258 1258 1263 1267 1268 1270 1280 1289 1292 1298 1299 1313 1315 1316 1331 1333 1335 1335 1345 1345 1347 1347 1355 1355 1355 1357 1360 1363 1366 1367 1376 1381 1382 1385 1389 1398 1403 1405 1413 1420 1427 1444 1448 1452 1454 1460 1460 1461 1462 1463 1463 1468 1474 1476 1476 1478 1479 1480 1484 1485 1486 1495 1510 1510 1517 1518 1528 1541 1541 1548 1550 1566 1566 1573 1575 1575 1576 1577 1582 1591 1591 1593 1597 1604 1607 1607 1608 1615 1615 1615 1623 1623 1638 1641 1642 1642 1645 1662 1663 1669 1672 1678 1680 1704 1704 1705 1713 1720 1721 1728 1729 1729 1732 1735 1736 1738 1739 1744 1751 1754 1754 1759 1765 1770 1770 1771 1786 1792 1801 1806 1808 1826 1826 1832 1846 1849 1851 1851 1852 1858 1862 1863 1867 1867 1875 1876 1883 1884 1893 1893 1898 1899 1901 1915 1933 1936 1939 1948 1949 1955 1955 1960 1977 1979 1980 1980 1980 1989 1989 1990 1999 2011 2012 2014 2014 2014 2031 2046 2056 2062 2062 2067 2068 2074 2077 2077 2080 2086 2086 2093 2107 2111 2112 2118 2127 2127 2142 2142 2143 2145 2159 2164 2175 2175 2177 2180 2199 2199 2208 2209 2215 2219 2221 2224 2225 2240 2240 2240 2242 2243 2270 2270 2273 2276 2295 2304 2305 2306 2322 2324 2327 2327 2328 2330 2337 2338 2346 2353 2355 2363 2370 2371 2372 2384 2392 2398 2403 2405 2440 2450 2451 2451 2452 2458 2458 2459 2459 2460 2483 2485 2485 2487 2490 2492 2499 2502 2512 2537 2539 2547 2552 2555 2564 2586 2587 2589 2590 2598 2598 2613 2614 2615 2615 2615 2621 2630 2639 2651 2676 2678 2700 2702 2702 2711 2711 2715 2715 2716 2718 2718 2727 2736 2743 2743 2746 2775 2798 2802 2803 2807 2823 2824 2828 2829 2830 2840 2844 2846 2865 2865 2874 2874 2899 2904 2911 2915 2922 2931 2931 2932 2941 2953 2954 2960 2986 2993 3002 3002 3012 3018 3028 3028 3040 3051 3051 3054 3060 3063 3085 3094 3099 3116 3117 3125 3130 3141 3141 3147 3156 3181 3191 3198 3212 3213 3214 3214 3219 3228 3230 3238 3244 3257 3278 3310 3314 3325 3325 3327 3342 3343 3344 3347 3347 3361 3361 3401 3412 3434 3440 3441 3443 3456 3473 3474 3475 3489 3524 3530 3530 3543 3553 3562 3587 3590 3597 3604 3637 3640 3652 3659 3661 3677 3700 3725 3750 3753 3760 3765 3787 3790 3806 3817 3840 3863 3866 3878 3888 3937 3945 3946 3950 3953 3969 3979 3991 4066 4074 4078 4082 4092 4093 4100 4179 4179 4195 4213 4221 4256 4266 4308 4326 4369 4384 4395 4439 4482 4497 4526 4595 4610 4682 4723 4810'\n",
        "trim_leaderboard_linear(leaderboard,spectrum,6)"
      ]
    },
    {
      "cell_type": "markdown",
      "metadata": {
        "id": "MU443WgRA9fZ"
      },
      "source": [
        "#### Spectral convolution"
      ]
    },
    {
      "cell_type": "code",
      "execution_count": null,
      "metadata": {
        "colab": {
          "base_uri": "https://localhost:8080/"
        },
        "id": "bRVTpmo48adE",
        "outputId": "230ac1ae-6e29-437e-c90b-189649b7e2b2"
      },
      "outputs": [
        {
          "name": "stdout",
          "output_type": "stream",
          "text": [
            "{'137': 2, '186': 2, '49': 1, '323': 1}\n"
          ]
        },
        {
          "data": {
            "text/plain": [
              "['137', '137']"
            ]
          },
          "execution_count": 7,
          "metadata": {},
          "output_type": "execute_result"
        }
      ],
      "source": [
        "import numpy as np\n",
        "def spec_con(spec,m): #m: top frequency\n",
        "  spectrum = spec.split(' ')\n",
        "  fre = {} # count frequency \n",
        "  top = []\n",
        "  matrix = np.zeros((len(spectrum)+1,len(spectrum)+1),dtype='object').tolist()\n",
        "  for i,row in zip(range(1,len(spectrum)+1),spectrum): # create row\n",
        "    matrix[i][0] = row\n",
        "  for i,col in zip(range(1,len(spectrum)+1),spectrum): # create col\n",
        "    matrix[0][i] = col  \n",
        "  for r in range(1,len(spectrum)+1):\n",
        "    for c in range(1,len(spectrum)+1): \n",
        "      if matrix[r][0] == matrix[0][c]:\n",
        "        break\n",
        "      else:\n",
        "        matrix[r][c] += (int(matrix[r][0]) - int(matrix[0][c]))\n",
        "        if str(matrix[r][c]) not in fre:\n",
        "          fre[str(matrix[r][c])] = 1\n",
        "        else: fre[str(matrix[r][c])] +=1 \n",
        "  sorted_ele = list(fre.values())\n",
        "  sorted_ele.sort(reverse=True) # highest to lowest\n",
        "  for i in range(0,m):\n",
        "    top.append(list(fre.keys())[list(fre.values()).index(sorted_ele[i])])\n",
        "  print(fre)    \n",
        "  return top   \n",
        "spec = '0 137 186 323'\n",
        "spec_con(spec,2)  #output: 137 137 186 186 323 49"
      ]
    },
    {
      "cell_type": "code",
      "execution_count": null,
      "metadata": {
        "id": "byMG0iAWFmWi"
      },
      "outputs": [],
      "source": [
        "s = '57 57 71 99 129 137 170 186 194 208 228 265 285 299 307 323 356 364 394 422 493'\n",
        "spec_con(s)"
      ]
    },
    {
      "cell_type": "markdown",
      "metadata": {
        "id": "ojsAib0xKR9x"
      },
      "source": [
        "**<h1>Bioinformatics III: Comparing genes, proteins, genome </h1>**"
      ]
    },
    {
      "cell_type": "markdown",
      "metadata": {
        "id": "2W1geczqKlQC"
      },
      "source": [
        "#### Tasks:\n",
        "1. Change money by dynamic programming\n",
        "2. manhattan tourist\n",
        "3. Longest common sequences\n",
        "4. Backtrack"
      ]
    },
    {
      "cell_type": "code",
      "execution_count": null,
      "metadata": {
        "colab": {
          "base_uri": "https://localhost:8080/"
        },
        "id": "2Ge9jqIXwYxC",
        "outputId": "5a145f8e-3894-4d55-ceb9-a35727c64686"
      },
      "outputs": [
        {
          "name": "stdout",
          "output_type": "stream",
          "text": [
            "[0, 1, 1, 2, 3]\n"
          ]
        },
        {
          "data": {
            "text/plain": [
              "3"
            ]
          },
          "execution_count": 19,
          "metadata": {},
          "output_type": "execute_result"
        }
      ],
      "source": [
        "# Dynamic Programming\n",
        "def fibonacciVal(n):\n",
        "  memo = [None] * (n+1)\n",
        "  memo[0], memo[1] = 0, 1\n",
        "  for i in range(2, n+1):\n",
        "    memo[i] = memo[i-1] + memo[i-2]\n",
        "  print(memo)  \n",
        "  return memo[n]\n",
        "fibonacciVal(4)  "
      ]
    },
    {
      "cell_type": "markdown",
      "metadata": {
        "id": "obaBQnSbRWHT"
      },
      "source": [
        "DPChange(money, Coins) <br>\n",
        "    MinNumCoins(0) ← 0<br>\n",
        "    for m ← 1 to money<br>\n",
        "        MinNumCoins(m) ← ∞<br>\n",
        "            for i ← 0 to |Coins| - 1 <br>\n",
        "                if m ≥ coini <br>\n",
        "                    if MinNumCoins(m - coini) + 1 < MinNumCoins(m) <br>\n",
        "                        MinNumCoins(m) ← MinNumCoins(m - coini) + 1 <br>\n",
        "    output MinNumCoins(money)"
      ]
    },
    {
      "cell_type": "code",
      "execution_count": null,
      "metadata": {
        "colab": {
          "base_uri": "https://localhost:8080/"
        },
        "id": "QDcXea9rtl3K",
        "outputId": "2f690031-45dc-44a0-e228-585be4567e5d"
      },
      "outputs": [
        {
          "data": {
            "text/plain": [
              "3"
            ]
          },
          "execution_count": 9,
          "metadata": {},
          "output_type": "execute_result"
        }
      ],
      "source": [
        "# minimum coin\n",
        "def DP_change(money,coin): #m: increasing order of money; c: list of coins\n",
        "  min_coin = [None] * (money+1)\n",
        "  min_coin[0] = 0\n",
        "  coins = list(map(int,coin.split(' ')))\n",
        "  for m in range(1,money+1):\n",
        "    min_coin[m] = float('inf')\n",
        "    for j in range(0,len(coins)):\n",
        "      if m >= coins[j]:\n",
        "        if min_coin[m-coins[j]] + 1 < min_coin[m]:\n",
        "          min_coin[m] = min_coin[m-coins[j]] + 1\n",
        "  return min_coin[m]        \n",
        "c = '5 4 1'   \n",
        "m = 12\n",
        "DP_change(m,c) "
      ]
    },
    {
      "cell_type": "markdown",
      "metadata": {
        "id": "xkPsLhNoZBk9"
      },
      "source": [
        "ManhattanTourist(n, m, Down, Right) <br>\n",
        "    s0, 0 ← 0 <br>\n",
        "    for i ← 1 to n <br>\n",
        "        si, 0 ← si-1, 0 + downi-1, 0 <br>\n",
        "    for j ← 1 to m <br>\n",
        "        s0, j ← s0, j−1 + right0, j-1 <br>\n",
        "    for i ← 1 to n <br>\n",
        "        for j ← 1 to m <br>\n",
        "            si, j ← max{si - 1, j + downi-1, j, si, j - 1 + righti, j-1} <br>\n",
        "    return sn, m"
      ]
    },
    {
      "cell_type": "code",
      "execution_count": null,
      "metadata": {
        "id": "C3H_iW-uWCr8"
      },
      "outputs": [],
      "source": [
        "import numpy as np\n",
        "def manhattan_tourist(n,m,down,right):#n: row; m:column\n",
        "  matrix = np.zeros((n+1,m+1)).tolist()\n",
        "  matrix[0][0] = 0\n",
        "  for i in range(1,n+1):\n",
        "    matrix[i][0] = matrix[i-1][0] + down[i-1][0]\n",
        "  for j in range(1,m+1):\n",
        "    matrix[0][j] = matrix[0][j-1] + right[0][j-1]\n",
        "  for i in range(1,n+1):\n",
        "    for j in range(1,m+1):\n",
        "      matrix[i][j] = max((matrix[i-1][j]+down[i-1][j]),(matrix[i][j-1]+right[i][j-1]))  \n",
        "  return matrix[n][m]     "
      ]
    },
    {
      "cell_type": "code",
      "execution_count": null,
      "metadata": {
        "colab": {
          "base_uri": "https://localhost:8080/"
        },
        "id": "cK_QWOmPnKiT",
        "outputId": "c479bb30-1c2a-407d-bc13-6fa6247081ee"
      },
      "outputs": [
        {
          "data": {
            "text/plain": [
              "[[4, 2, 1, 1, 4, 3, 2],\n",
              " [2, 3, 0, 3, 3, 3, 0],\n",
              " [4, 4, 3, 2, 2, 4, 2],\n",
              " [1, 4, 2, 3, 2, 3, 0],\n",
              " [1, 4, 1, 1, 2, 4, 3],\n",
              " [4, 2, 1, 1, 1, 1, 0],\n",
              " [3, 4, 3, 3, 1, 0, 1],\n",
              " [1, 3, 1, 2, 0, 1, 0],\n",
              " [4, 1, 1, 1, 3, 1, 3],\n",
              " [2, 3, 3, 3, 1, 4, 0],\n",
              " [3, 4, 1, 1, 2, 4, 3],\n",
              " [0, 3, 4, 2, 0, 1, 2]]"
            ]
          },
          "execution_count": 57,
          "metadata": {},
          "output_type": "execute_result"
        }
      ],
      "source": [
        "def convert_to_matrix(text):  \n",
        "  t = text.split('\\n')\n",
        "  output = []\n",
        "  for i in t:  \n",
        "    sub = list(map(int,i.split(' ')))\n",
        "    output.append(sub)\n",
        "  return output\n",
        "\n",
        "convert_to_matrix(d)"
      ]
    },
    {
      "cell_type": "code",
      "execution_count": null,
      "metadata": {
        "colab": {
          "base_uri": "https://localhost:8080/"
        },
        "id": "zJVm--5XjxQV",
        "outputId": "0e6eb719-7ac9-4779-f101-ab9f9af8a1fa"
      },
      "outputs": [
        {
          "data": {
            "text/plain": [
              "58"
            ]
          },
          "execution_count": 56,
          "metadata": {},
          "output_type": "execute_result"
        }
      ],
      "source": [
        "d = '''4 2 1 1 4 3 2\n",
        "2 3 0 3 3 3 0\n",
        "4 4 3 2 2 4 2\n",
        "1 4 2 3 2 3 0\n",
        "1 4 1 1 2 4 3\n",
        "4 2 1 1 1 1 0\n",
        "3 4 3 3 1 0 1\n",
        "1 3 1 2 0 1 0\n",
        "4 1 1 1 3 1 3\n",
        "2 3 3 3 1 4 0\n",
        "3 4 1 1 2 4 3\n",
        "0 3 4 2 0 1 2'''\n",
        "r = '''3 4 2 0 4 1\n",
        "2 4 3 2 4 2\n",
        "0 4 1 1 3 1\n",
        "2 3 2 1 1 4\n",
        "3 0 3 1 1 4\n",
        "3 1 1 4 4 2\n",
        "1 1 2 4 3 1\n",
        "3 2 4 1 0 3\n",
        "0 3 4 0 2 3\n",
        "1 4 4 3 4 2\n",
        "1 1 4 1 1 3\n",
        "3 2 3 1 4 1\n",
        "3 2 2 3 0 1'''\n",
        "down = convert_to_matrix(d)\n",
        "right = convert_to_matrix(r)\n",
        "manhattan_tourist(12,6,down,right)  "
      ]
    },
    {
      "cell_type": "markdown",
      "metadata": {
        "id": "TvVK5hlT7UI-"
      },
      "source": [
        "LCSBackTrack(v, w) <br>\n",
        "    for i ← 0 to |v| <br>\n",
        "        si, 0 ← 0 <br>\n",
        "    for j ← 0 to |w| <br>\n",
        "        s0, j ← 0<br>\n",
        "    for i ← 1 to |v| <br>\n",
        "        for j ← 1 to |w|<br>\n",
        "            match ← 0<br>\n",
        "            if vi-1 = wj-1 <br>\n",
        "                match ← 1 <br>\n",
        "            si, j ← max{si-1, j , si,j-1 , si-1, j-1 + match } <br>\n",
        "            if si,j = si-1,j <br>\n",
        "                Backtracki, j ← \"↓\" <br>\n",
        "            else if si, j = si, j-1 <br>\n",
        "                Backtracki, j ← \"→\" <br>\n",
        "            else if si, j = si-1, j-1 + match <br>\n",
        "                Backtracki, j ← \"↘\" <br>\n",
        "    return Backtrack"
      ]
    },
    {
      "cell_type": "code",
      "execution_count": null,
      "metadata": {
        "colab": {
          "base_uri": "https://localhost:8080/"
        },
        "id": "QIP1IaJLhTd8",
        "outputId": "ec15a9fc-4f47-4550-b8db-d8dbac551135"
      },
      "outputs": [
        {
          "name": "stdout",
          "output_type": "stream",
          "text": [
            "[[0.0, 0.0, 0.0, 0.0, 0.0, 0.0, 0.0, 0.0, 0.0, 0.0], [0.0, 1.0, 1.0, 1.0, 1.0, 1.0, 1.0, 1.0, 1.0, 1.0], [0.0, 1.0, 1.0, 2.0, 2.0, 2.0, 2.0, 2.0, 2.0, 2.0], [0.0, 1.0, 2.0, 2.0, 3.0, 3.0, 3.0, 3.0, 3.0, 3.0], [0.0, 1.0, 2.0, 2.0, 3.0, 3.0, 3.0, 3.0, 3.0, 3.0], [0.0, 1.0, 2.0, 2.0, 3.0, 4.0, 4.0, 4.0, 4.0, 4.0], [0.0, 1.0, 2.0, 2.0, 3.0, 4.0, 4.0, 5.0, 5.0, 5.0], [0.0, 1.0, 2.0, 2.0, 3.0, 4.0, 5.0, 5.0, 6.0, 6.0], [0.0, 1.0, 2.0, 2.0, 3.0, 4.0, 5.0, 5.0, 6.0, 6.0]]\n"
          ]
        },
        {
          "data": {
            "text/plain": [
              "[[0, 0, 0, 0, 0, 0, 0, 0, 0, 0],\n",
              " [0, '↘', '→', '→', '→', '→', '→', '→', '→', '→'],\n",
              " [0, '↓', '↓', '↘', '→', '→', '→', '→', '→', '→'],\n",
              " [0, '↓', '↘', '↓', '↘', '→', '→', '→', '→', '→'],\n",
              " [0, '↓', '↓', '↓', '↓', '↓', '↓', '↓', '↓', '↓'],\n",
              " [0, '↓', '↓', '↓', '↓', '↘', '→', '→', '→', '→'],\n",
              " [0, '↓', '↓', '↓', '↓', '↓', '↓', '↘', '→', '→'],\n",
              " [0, '↓', '↓', '↓', '↓', '↓', '↘', '↓', '↘', '→'],\n",
              " [0, '↓', '↓', '↓', '↓', '↓', '↓', '↓', '↓', '↓']]"
            ]
          },
          "execution_count": 8,
          "metadata": {},
          "output_type": "execute_result"
        }
      ],
      "source": [
        "import numpy as np\n",
        "def LCS_backtrack(s1,s2):\n",
        "  matrix = np.zeros((len(s1)+1,len(s2)+1)).tolist()\n",
        "  backtrack = np.zeros((len(s1)+1,len(s2)+1),dtype='object').tolist()\n",
        "  for i in range(1,len(s1)+1):\n",
        "    for j in range(1,len(s2)+1):\n",
        "      match = 0   \n",
        "      if s1[i-1] == s2[j-1]:\n",
        "        match =1\n",
        "      matrix[i][j] = max(matrix[i-1][j],matrix[i][j-1],matrix[i-1][j-1]+match)\n",
        "      if matrix[i][j] == matrix[i-1][j]:  backtrack[i][j] = '↓'\n",
        "      elif matrix[i][j] == matrix[i][j-1]:  backtrack[i][j] = '→'\n",
        "      elif matrix[i][j] == matrix[i-1][j-1]+match:  backtrack[i][j] = '↘' \n",
        "  print(matrix)     \n",
        "  return backtrack     \n",
        "\n",
        "s1 = 'AACCTTGG'\n",
        "s2 = 'ACACTGTGA'\n",
        "LCS_backtrack(s1,s2) # output: AACTGG  "
      ]
    },
    {
      "cell_type": "markdown",
      "metadata": {
        "id": "wOqqEagLx757"
      },
      "source": [
        "OutputLCS(backtrack, v, i, j) <br>\n",
        "    if i = 0 or j = 0 <br>\n",
        "        return \"\"<br>\n",
        "    if backtracki, j = \"↓\" <br>\n",
        "        return OutputLCS(backtrack, v, i - 1, j) <br>\n",
        "    else if backtracki, j = \"→\" <br>\n",
        "        return OutputLCS(backtrack, v, i, j - 1)<br>\n",
        "    else<br>\n",
        "        return OutputLCS(backtrack, v, i - 1, j - 1) + vi"
      ]
    },
    {
      "cell_type": "code",
      "execution_count": null,
      "metadata": {
        "id": "f3Lv0eCD3z4a"
      },
      "outputs": [],
      "source": [
        "def outputLCS(backtrack,s1,i,j):\n",
        "  if i==0 and j==0: return ''\n",
        "  if backtrack[i][j] == '↓':\n",
        "    return outputLCS(backtrack,s1,i-1,j)\n",
        "  elif backtrack[i][j] == '→':\n",
        "    return outputLCS(backtrack,s1,i,j-1)\n",
        "  else:\n",
        "    return outputLCS(backtrack,s1,i-1,j-1) + s1[i-1]     \n",
        "  "
      ]
    },
    {
      "cell_type": "code",
      "execution_count": null,
      "metadata": {
        "colab": {
          "base_uri": "https://localhost:8080/",
          "height": 35
        },
        "id": "FO1L0gvQ5G7d",
        "outputId": "33f37cfd-5de3-4cce-e55e-f3866fd29fa8"
      },
      "outputs": [
        {
          "data": {
            "application/vnd.google.colaboratory.intrinsic+json": {
              "type": "string"
            },
            "text/plain": [
              "'AACTTG'"
            ]
          },
          "execution_count": 49,
          "metadata": {},
          "output_type": "execute_result"
        }
      ],
      "source": [
        "s1 = 'AACCTTGG'\n",
        "s2 = 'ACACTGTGA'\n",
        "backtrack = LCS_backtrack(s1,s2)\n",
        "i = len(s1) # row\n",
        "j = len(s2) # col  \n",
        "outputLCS(backtrack,s1,i,j) #output: AACTGG"
      ]
    },
    {
      "cell_type": "code",
      "execution_count": null,
      "metadata": {
        "colab": {
          "base_uri": "https://localhost:8080/"
        },
        "id": "DMRBx43QPhCi",
        "outputId": "24e169ba-5434-4fab-af12-21dedf7f3c14"
      },
      "outputs": [
        {
          "name": "stdout",
          "output_type": "stream",
          "text": [
            "[[0.0, 0.0, 0.0, 0.0, 0.0, 0.0, 0.0, 0.0], [0.0, 1.0, 1.0, 1.0, 1.0, 1.0, 1.0, 1.0], [0.0, 1.0, 2.0, 2.0, 2.0, 2.0, 2.0, 2.0], [0.0, 1.0, 2.0, 2.0, 3.0, 3.0, 3.0, 3.0], [0.0, 1.0, 2.0, 2.0, 3.0, 4.0, 4.0, 4.0], [0.0, 1.0, 2.0, 2.0, 3.0, 4.0, 4.0, 4.0], [0.0, 1.0, 2.0, 2.0, 3.0, 4.0, 4.0, 4.0], [0.0, 1.0, 2.0, 2.0, 3.0, 4.0, 4.0, 4.0], [0.0, 1.0, 2.0, 2.0, 3.0, 4.0, 4.0, 4.0]]\n"
          ]
        },
        {
          "data": {
            "text/plain": [
              "[[0, 0, 0, 0, 0, 0, 0, 0],\n",
              " [0, '↘', '→', '→', '→', '→', '→', '→'],\n",
              " [0, '↓', '↘', '→', '→', '→', '→', '→'],\n",
              " [0, '↓', '↓', '↓', '↘', '→', '→', '→'],\n",
              " [0, '↓', '↓', '↓', '↓', '↘', '→', '→'],\n",
              " [0, '↓', '↓', '↓', '↓', '↓', '↓', '↓'],\n",
              " [0, '↓', '↓', '↓', '↓', '↓', '↓', '↓'],\n",
              " [0, '↓', '↓', '↓', '↓', '↓', '↓', '↓'],\n",
              " [0, '↓', '↓', '↓', '↓', '↓', '↓', '↓']]"
            ]
          },
          "execution_count": 12,
          "metadata": {},
          "output_type": "execute_result"
        }
      ],
      "source": [
        "s1 = 'ATGTTATA'\n",
        "s2 = 'ATCGTCC'\n",
        "backtrack = LCS_backtrack(s1,s2)\n",
        "backtrack"
      ]
    },
    {
      "cell_type": "code",
      "source": [
        ""
      ],
      "metadata": {
        "id": "xgZmV4mBbh2W"
      },
      "execution_count": null,
      "outputs": []
    },
    {
      "cell_type": "code",
      "execution_count": null,
      "metadata": {
        "id": "eX0AkRr8UcYV"
      },
      "outputs": [],
      "source": [
        "import sys\n",
        "sys.setrecursionlimit(1500)"
      ]
    },
    {
      "cell_type": "code",
      "execution_count": null,
      "metadata": {
        "colab": {
          "base_uri": "https://localhost:8080/",
          "height": 70
        },
        "id": "ON_yQQuiToBL",
        "outputId": "d60b17ef-fbc8-4163-aac8-3dbeb18813a9"
      },
      "outputs": [
        {
          "data": {
            "application/vnd.google.colaboratory.intrinsic+json": {
              "type": "string"
            },
            "text/plain": [
              "'CCAGGCACAGCTTGGCGCCGACGAAGACCTATCATGCATATACCCCAATAGACATACCTCAGCGTCAGAGGCGGTAACCTTCTCTCCGGGCATTTTTCTACTTCTCCAATGCTGTTGCGATAGGATCTGGCTCAGAGTATTACTGAGATTTGTTTTCCGATAGTCTTGGATAGTCTAATCGGCTGTGCGTCCGTTTAGGCGACTACGGGGGGTAGGACATGTATGTCTTTTCTTCAAAGAAATCCACCGGTCCTTGCTTGTAATCTCCGGAGAGGGTAGTTACCCGCCATAGTCTTTTGCTCTAGATCTTCCTCTCGCCATCTATACGAAAAAGCTAACACCGAGCAACCCGTATCAGCAATCCTTCAATGGTGTGGCGACTTGCTGTTCCCGGGTTACTGCCCGCACAATCTATAAATGTCTTGGGTCATATGTATCGTTTCACAGAGATAGGGAAATTCAAAAGAGATTGCTCTCGCCCTTCCTCGCACGGCACCCCTAGTAAAGTAAGATACGTCGATGATGGTGTGCCTAAAGCGTCAG'"
            ]
          },
          "execution_count": 53,
          "metadata": {},
          "output_type": "execute_result"
        }
      ],
      "source": [
        "s1 = 'CTACCAAAGTTTTGACGTCAACGAGGTGGGGCTTTGAGCTCAAGGTAATTTCTTTTTTACAGAATCGGAAGATCCCTATCAATTGTCATATAACCCCCCCCAATAAGCTACTACTACGACTCAGACCAGTCCAGAAGGGGCGGCCTAATTCCTCTCTGACTCCGGGGCATTTCTTCTATCCGTGTCTACGCAAGTAAGCAGGTAGTTGCATGAGTGAGGAGTACGTAGGCTCAAGAGTATGTAGGTCTGTAGACTTTGTTCACCTTCCTCAGATAGAATCGTTGGGATAGTCTAATCGGCTCGTCGTCCTCCCACGTCTTAGCGTTCAATGAGTGGCGGAGCTAAGTCGAGAGGGCGCATGGAGGAGCATGCATATGTACATAGTTTGACACGTTCAAAGAAATCGACCACGCGGTCCTTAGACTGTGTAATAACTCCGAGAGAGGGATAGTTACCCGCCATAGGTCGTTAATTGCTCCCGTTTAGATATCTTCCATCGTAGCGCCATTCCATATAGACCGAAAGACACGATCTATAACAACTCGAGTCAATCCCGGTTATTACAAGCCAATCCTCGTTCAATGGTGTGTGCGAGGCAATTAGTCCTGTTTGGCCCCGAGGTTACTGCCCCCCGCACAGAATATCGCATGTATGTTCACATATGTCGATTTTGTGGTTCATTGATGTAGAGTCGTTTCATCAAGGAGTTTAAATATAGGGATAATTGCAATACAGAGATTGCTCTCAGCCCTTCTTCTGCGCACGGCACCTCCTAGTAAAGTAAGATATCGTCAGATGGACTGGTTTGCTGTTCCTAAAGCCCGTATCTCACAAAAACCGCGGC'\n",
        "s2 = 'CCAGGCACAGCTTGCGCGCCGCACGAAGACCTATCACCTGACCGCAGGGTGAGCTCACCATACCAACGGTAGAACAATTACCTTGCAGCGTGAAATCAGAGGTCCGTGATTAACCATGATCATCTCCGGCACCTAAAGAACATAATTAATTATCATACATTTCTCCAATGCTGTTGCGAATACCCAGGTATCTCGGCCGTACCCAGCATGCTATTAACCTGAGGGATAATTCCGGTGTTTACCGGATTAGTCATTGGCACCTAGATCTAAGCATCGGCTGTGCGGGTCCGTTTAGGCCGAACTACGGGGGGTAGGCCACATGTATGTTCCTTTTTTCTTGCAAGGCGATGAGATATCCACCTGGTCAAAATACTTTGGCTTGTCACCGCAGATCGTGTAGCCTGGACAGCATGGGTCTGAGAAATGTAGGCTTCAACGTCTTTTTCACTTATGTCCTTCCTTGCATCTAAGGAGGTCTTCCCTCTCGACCACTGCTAGTCACGAAAAAAAAGCCCTACCACCCACCGCGAAGCAACCCGCTACATCGAGCAGAATACACATTCAACCCCCCCTAGACAGTAGTGGCCGCCTACTTCCGGCTGGATTCACTCGGGTCATGTACAATGCGTGGACCGGCTAACAATCTAATAAGATGTCTTGCCGGTCACGTATGCCTTTTATCGTTTACCACAGCAGACTCAGGGGCACACACTTATCAAAAGGAGCACTTGTTTCGATACTTCCTCGCCCGTATCAAACCTCGTACATAATCGGAGCTTATGCCCAACCATTAGGTAGAAAAGCGAAATAACGATAACGGAGCCTCGACTGCATGGGTGTGCACATTAGTATAGCGTCAGT'\n",
        "backtrack = LCS_backtrack(s1,s2)\n",
        "i = len(s1) # row\n",
        "j = len(s2) # col  \n",
        "outputLCS(backtrack,s1,i,j)"
      ]
    },
    {
      "cell_type": "markdown",
      "metadata": {
        "id": "WP8yJD_qZFDZ"
      },
      "source": [
        "#### Tasks:\n",
        "1. Global alignment\n",
        "2. Local alignment\n",
        "3. Edit distance\n",
        "4. Fitting alignment"
      ]
    },
    {
      "cell_type": "markdown",
      "metadata": {
        "id": "3v5M8poouHDW"
      },
      "source": [
        "##### Task 1"
      ]
    },
    {
      "cell_type": "code",
      "execution_count": null,
      "metadata": {
        "colab": {
          "base_uri": "https://localhost:8080/"
        },
        "id": "T2B6GcHtRnVj",
        "outputId": "89142c7e-b9a1-411b-dce4-6f5697465a41"
      },
      "outputs": [
        {
          "output_type": "stream",
          "name": "stdout",
          "text": [
            "score: -1.0\n"
          ]
        },
        {
          "output_type": "execute_result",
          "data": {
            "text/plain": [
              "[[0, 0, 0, 0],\n",
              " [0, '↘r', '→', '→'],\n",
              " [0, '↓', '↘r', '→'],\n",
              " [0, '↓', '↓', '↘p'],\n",
              " [0, '↓', '↘r', '↘p']]"
            ]
          },
          "metadata": {},
          "execution_count": 1
        }
      ],
      "source": [
        "import numpy as np\n",
        "def global_backtrack(s1,s2,score):\n",
        "  matrix = np.zeros((len(s1)+1,len(s2)+1)).tolist()\n",
        "  score_matrix = list(map(int,score.split(' ')))\n",
        "  backtrack = np.zeros((len(s1)+1,len(s2)+1),dtype='object').tolist()\n",
        "  for i in range(1,len(s1)+1):  matrix[i][0] = matrix[i-1][0]-5 \n",
        "  for j in range(1,len(s2)+1):  matrix[0][j] = matrix[0][j-1]-5  \n",
        "  for i in range(1,len(s1)+1):\n",
        "    for j in range(1,len(s2)+1):\n",
        "      match= 0,0   \n",
        "      if s1[i-1] == s2[j-1]:\n",
        "        match =score_matrix[0] \n",
        "      elif s1[i-1] != s2[j-1]:  match = -score_matrix[1] \n",
        "      matrix[i][j] = max(matrix[i-1][j]-score_matrix[2],matrix[i][j-1]-score_matrix[2],matrix[i-1][j-1]+match)\n",
        "      if matrix[i][j] == matrix[i-1][j-1]+match and s1[i-1] == s2[j-1]:  backtrack[i][j] = '↘r'\n",
        "      elif matrix[i][j] == matrix[i-1][j-1]+match and s1[i-1] != s2[j-1]:  backtrack[i][j] = '↘p' \n",
        "      elif matrix[i][j] == matrix[i-1][j]-score_matrix[2]:  backtrack[i][j] = '↓'\n",
        "      elif matrix[i][j] == matrix[i][j-1]-score_matrix[2]:  backtrack[i][j] = '→'\n",
        "  print('score:',matrix[i][j])     \n",
        "  return backtrack      \n",
        "\n",
        "s1 = 'GAGA'\n",
        "s2 = 'GAT'\n",
        "score = '1 1 2'\n",
        "global_backtrack(s1,s2,score)"
      ]
    },
    {
      "cell_type": "code",
      "execution_count": null,
      "metadata": {
        "id": "7MdoH5v1b2Oj"
      },
      "outputs": [],
      "source": [
        "def outputLCS_global(backtrack,s1,s2,align1,align2,i,j):\n",
        "  if i==0 and j==0: return align1,align2\n",
        "  if backtrack[i][j] == '↓': #del\n",
        "    align1 = s1[i-1] + align1\n",
        "    align2 = '-' + align2\n",
        "    return outputLCS_global(backtrack,s1,s2,align1,align2,i-1,j)\n",
        "  elif backtrack[i][j] == '→': #insert\n",
        "    align1 = '-' + align1\n",
        "    align2 = s2[j-1] + align2\n",
        "    return outputLCS_global(backtrack,s1,s2,align1,align2,i,j-1)\n",
        "  else:\n",
        "    align1 = s1[i-1] + align1\n",
        "    align2 = s2[j-1] + align2\n",
        "    return outputLCS_global(backtrack,s1,s2,align1,align2,i-1,j-1)  "
      ]
    },
    {
      "cell_type": "code",
      "execution_count": null,
      "metadata": {
        "colab": {
          "base_uri": "https://localhost:8080/"
        },
        "id": "t_vOfXlUZcrV",
        "outputId": "e4378ac9-61bb-4cb0-98c0-4b40970f1b1f"
      },
      "outputs": [
        {
          "output_type": "stream",
          "name": "stdout",
          "text": [
            "score: -3.0\n"
          ]
        },
        {
          "output_type": "execute_result",
          "data": {
            "text/plain": [
              "('TGCATACT', 'ATCCGA-T')"
            ]
          },
          "metadata": {},
          "execution_count": 41
        }
      ],
      "source": [
        "score_matrix = '1 1 2' #: match, mis, indel\n",
        "s1 = 'TGCATACT'\n",
        "s2 = 'ATCCGAT'\n",
        "align1 = ''\n",
        "align2 = ''\n",
        "backtrack = global_backtrack(s1,s2,score)\n",
        "outputLCS_global(backtrack,s1,s2,align1,align2,len(s1),len(s2))\n",
        "#backtrack"
      ]
    },
    {
      "cell_type": "code",
      "execution_count": null,
      "metadata": {
        "colab": {
          "base_uri": "https://localhost:8080/"
        },
        "id": "vilLwhPOfuSf",
        "outputId": "5b58f067-3ec9-4aca-d788-df9e9f90bd32"
      },
      "outputs": [
        {
          "name": "stdout",
          "output_type": "stream",
          "text": [
            "score: -134.0\n"
          ]
        },
        {
          "data": {
            "text/plain": [
              "('GCGTAAGGGAATTCCTGCCAGCGCCAAATCGTGATATGGATACGCCGCCCATGTGCGCACCTGTTGTACCCGGGCGTAAAAAGGGCGAGTGTAGCTTCACCTAGCCGGACTGGAGCGAGGCCTTAATTCACATAATCGTACGTATCATTAATAGCCCACTCGGTTTCCCTAATTTTGTCGGAGCTGAACGCAGGTAAGATTTTCTTCCTATATACGTCCTGTAGGGACGGCCTGACGTCTCGTAGAATCTTACGATACCCCTGTTTGCTGGGTTAGACGACTGCGGCCCCATGTTCTAGACGGTCCTCAGTACTGACCAACCTAGATCAACGTCATAAGCCGCCAAACACGCATGGTG-T-GTTTCGATCAATCTGTCCATACTTACCGCCGATGCTCGTGGGGTCGGAAACGCGCGCACACGCACGGTGCCGATTACCCTTAGGCTTGATGCACACCCCCTTCTGCGCTTGCGTTTTTTCGAGATCTGCACAGATTTGTGTTATCTTGGCTAGTACGGCACTCCAAGACCATTAAGGTATTTATGACGGGATTTC-TACGGTCTCCTTGCAGTGGGGGACTTTCATAACTCCATCAAAGCTCCGTCGGTTCACGTGGTCCGTCTTA-CCAAGC-CTCTTGA----AGAT-G-CGGCCTCAGTTACGGTCGGCCTCCTGTCAGTTGAGGCAAAGTGTC-GCTTCGCCGTTACCGGAAGTATCTCT-AACTGTCGAGGA--CCCTAGTTCCTGATCTTGGTGAATGAGCATATCACATGCGCTTTGTCCG-CTACAGG-T-ATTCGCC-G--AGGCCCCAGATA-TATTTTGGTTAACCGAGTCGCGCTCGAGATAGTAA-----GATA-T-GAA-A-CGACT---CATGGCATGACAGGCCCAAAGAT---T-AAAC-G-GA-----GCTGTTTGTCC-AA--T--GCCC',\n",
              " 'GCGTAAGGGTATTGCTGCCAAAAGGATA-CGCCGCCCATGTGAG-TGTTCGTCTCGTGGCGTAAAACGTGCGAGTGTCGCTTCGG-GACTGGAGCGT-TCAGATAAAG-TTCGTACGTTGCGTTACTAACTCGGTTGTGACCCAGTGTCAGGAAGGCCATAAGATT-CCT-ATATACCCGTCACT-CCTGTAGGGACGGCAATCTGAC-GTCT-CGT-ATCAACAGCCTGTTTGA--TCGGTTAGACGACAGCG-GCCCCATG-TTG-T-TTTGCGTCGAACG-GTCCTCA-GTACT-GAC-AACCT-AG-ATCAACCATCCT-G--CAAAGCCCT-GGCAGCCAAACACGCATGGTGATCATTTCGATCAATCTGTCC--ACCTATGATCG-TGGGGTCGGCGTACACGCCTTGATACGTTAGGTAGTACCGATTACCCTTAGGCTT-ATGCACACCCCCTACTGCGCTTGCGCTTTTTCGAGATCTGCACAGATTTGTTTTATCTTGGCTAGTACGGCACTCCAGGGCCATTAAGG--TTTATGACAGCAGTCCTTGCAGTGGGCTTCATAACTCCATCATTTTTGAAGTGCT-ATAGATCCGTAGGTTAACGTGATCCGGCTTACCCAGGCAGAAGCGACCTCAGTTGGACTCCCCCAGCTACGGTCTGCCTCCTGTCAGCTGAAGCAAAGTGTCTACTTAGCCGTTAACGGAAGTATCTCTCCACTGTCGAGGATTTCCTAGTTCCTGATCTGTAAATGGGAGCATGTCACATGCGCCTTATCGGTGTAAAGGTTCGGGCCCCAGATATATTTTGGTTAGAACCTCCGAGTATAAGAAGGCCCTCGAGATAGTAAGGTCTGAAACTGGAACAGCGAGTGAACATGGCATGACAGGCCCAAAGATAGATCAAACGGTGATCTTTGCTGTTTGTCCAAAGCTAAGCCC')"
            ]
          },
          "execution_count": 53,
          "metadata": {},
          "output_type": "execute_result"
        }
      ],
      "source": [
        "score = '1 1 5' #: match, mis, indel\n",
        "s1 = 'GCGTAAGGGAATTCCTGCCAGCGCCAAATCGTGATATGGATACGCCGCCCATGTGCGCACCTGTTGTACCCGGGCGTAAAAAGGGCGAGTGTAGCTTCACCTAGCCGGACTGGAGCGAGGCCTTAATTCACATAATCGTACGTATCATTAATAGCCCACTCGGTTTCCCTAATTTTGTCGGAGCTGAACGCAGGTAAGATTTTCTTCCTATATACGTCCTGTAGGGACGGCCTGACGTCTCGTAGAATCTTACGATACCCCTGTTTGCTGGGTTAGACGACTGCGGCCCCATGTTCTAGACGGTCCTCAGTACTGACCAACCTAGATCAACGTCATAAGCCGCCAAACACGCATGGTGTGTTTCGATCAATCTGTCCATACTTACCGCCGATGCTCGTGGGGTCGGAAACGCGCGCACACGCACGGTGCCGATTACCCTTAGGCTTGATGCACACCCCCTTCTGCGCTTGCGTTTTTTCGAGATCTGCACAGATTTGTGTTATCTTGGCTAGTACGGCACTCCAAGACCATTAAGGTATTTATGACGGGATTTCTACGGTCTCCTTGCAGTGGGGGACTTTCATAACTCCATCAAAGCTCCGTCGGTTCACGTGGTCCGTCTTACCAAGCCTCTTGAAGATGCGGCCTCAGTTACGGTCGGCCTCCTGTCAGTTGAGGCAAAGTGTCGCTTCGCCGTTACCGGAAGTATCTCTAACTGTCGAGGACCCTAGTTCCTGATCTTGGTGAATGAGCATATCACATGCGCTTTGTCCGCTACAGGTATTCGCCGAGGCCCCAGATATATTTTGGTTAACCGAGTCGCGCTCGAGATAGTAAGATATGAAACGACTCATGGCATGACAGGCCCAAAGATTAAACGGAGCTGTTTGTCCAATGCCC'\n",
        "s2 = 'GCGTAAGGGTATTGCTGCCAAAAGGATACGCCGCCCATGTGAGTGTTCGTCTCGTGGCGTAAAACGTGCGAGTGTCGCTTCGGGACTGGAGCGTTCAGATAAAGTTCGTACGTTGCGTTACTAACTCGGTTGTGACCCAGTGTCAGGAAGGCCATAAGATTCCTATATACCCGTCACTCCTGTAGGGACGGCAATCTGACGTCTCGTATCAACAGCCTGTTTGATCGGTTAGACGACAGCGGCCCCATGTTGTTTTGCGTCGAACGGTCCTCAGTACTGACAACCTAGATCAACCATCCTGCAAAGCCCTGGCAGCCAAACACGCATGGTGATCATTTCGATCAATCTGTCCACCTATGATCGTGGGGTCGGCGTACACGCCTTGATACGTTAGGTAGTACCGATTACCCTTAGGCTTATGCACACCCCCTACTGCGCTTGCGCTTTTTCGAGATCTGCACAGATTTGTTTTATCTTGGCTAGTACGGCACTCCAGGGCCATTAAGGTTTATGACAGCAGTCCTTGCAGTGGGCTTCATAACTCCATCATTTTTGAAGTGCTATAGATCCGTAGGTTAACGTGATCCGGCTTACCCAGGCAGAAGCGACCTCAGTTGGACTCCCCCAGCTACGGTCTGCCTCCTGTCAGCTGAAGCAAAGTGTCTACTTAGCCGTTAACGGAAGTATCTCTCCACTGTCGAGGATTTCCTAGTTCCTGATCTGTAAATGGGAGCATGTCACATGCGCCTTATCGGTGTAAAGGTTCGGGCCCCAGATATATTTTGGTTAGAACCTCCGAGTATAAGAAGGCCCTCGAGATAGTAAGGTCTGAAACTGGAACAGCGAGTGAACATGGCATGACAGGCCCAAAGATAGATCAAACGGTGATCTTTGCTGTTTGTCCAAAGCTAAGCCC'\n",
        "align1 = ''\n",
        "align2 = ''\n",
        "backtrack = global_backtrack(s1,s2,score)\n",
        "outputLCS_global(backtrack,s1,s2,align1,align2,len(s1),len(s2))"
      ]
    },
    {
      "cell_type": "markdown",
      "metadata": {
        "id": "FaL_u0fiuLzr"
      },
      "source": [
        "##### Task 2"
      ]
    },
    {
      "cell_type": "code",
      "execution_count": null,
      "metadata": {
        "id": "5e3K3qhsu9JW"
      },
      "outputs": [],
      "source": [
        "def convert_to_matrix(text):  \n",
        "  t = text.split('\\n')\n",
        "  output = []\n",
        "  for i in t:\n",
        "    sub = []  \n",
        "    s = i.split(' ')\n",
        "    for j in s: \n",
        "      if j != '':\n",
        "        sub.append(j)\n",
        "    output.append(sub)\n",
        "  return output\n"
      ]
    },
    {
      "cell_type": "code",
      "execution_count": null,
      "metadata": {
        "id": "_6aIc5xnuinT"
      },
      "outputs": [],
      "source": [
        "score_p =   '''0  A  C  D  E  F  G  H  I  K  L  M  N  P  Q  R  S  T  V  W  Y\n",
        "A  2 -2  0  0 -3  1 -1 -1 -1 -2 -1  0  1  0 -2  1  1  0 -6 -3\n",
        "C -2 12 -5 -5 -4 -3 -3 -2 -5 -6 -5 -4 -3 -5 -4  0 -2 -2 -8  0\n",
        "D  0 -5  4  3 -6  1  1 -2  0 -4 -3  2 -1  2 -1  0  0 -2 -7 -4\n",
        "E  0 -5  3  4 -5  0  1 -2  0 -3 -2  1 -1  2 -1  0  0 -2 -7 -4\n",
        "F -3 -4 -6 -5  9 -5 -2  1 -5  2  0 -3 -5 -5 -4 -3 -3 -1  0  7\n",
        "G  1 -3  1  0 -5  5 -2 -3 -2 -4 -3  0  0 -1 -3  1  0 -1 -7 -5\n",
        "H -1 -3  1  1 -2 -2  6 -2  0 -2 -2  2  0  3  2 -1 -1 -2 -3  0\n",
        "I -1 -2 -2 -2  1 -3 -2  5 -2  2  2 -2 -2 -2 -2 -1  0  4 -5 -1\n",
        "K -1 -5  0  0 -5 -2  0 -2  5 -3  0  1 -1  1  3  0  0 -2 -3 -4\n",
        "L -2 -6 -4 -3  2 -4 -2  2 -3  6  4 -3 -3 -2 -3 -3 -2  2 -2 -1\n",
        "M -1 -5 -3 -2  0 -3 -2  2  0  4  6 -2 -2 -1  0 -2 -1  2 -4 -2\n",
        "N  0 -4  2  1 -3  0  2 -2  1 -3 -2  2  0  1  0  1  0 -2 -4 -2\n",
        "P  1 -3 -1 -1 -5  0  0 -2 -1 -3 -2  0  6  0  0  1  0 -1 -6 -5\n",
        "Q  0 -5  2  2 -5 -1  3 -2  1 -2 -1  1  0  4  1 -1 -1 -2 -5 -4\n",
        "R -2 -4 -1 -1 -4 -3  2 -2  3 -3  0  0  0  1  6  0 -1 -2  2 -4\n",
        "S  1  0  0  0 -3  1 -1 -1  0 -3 -2  1  1 -1  0  2  1 -1 -2 -3\n",
        "T  1 -2  0  0 -3  0 -1  0  0 -2 -1  0  0 -1 -1  1  3  0 -5 -3\n",
        "V  0 -2 -2 -2 -1 -1 -2  4 -2  2  2 -2 -1 -2 -2 -1  0  4 -6 -2\n",
        "W -6 -8 -7 -7  0 -7 -3 -5 -3 -2 -4 -4 -6 -5  2 -2 -5 -6 17  0\n",
        "Y -3  0 -4 -4  7 -5  0 -1 -4 -1 -2 -2 -5 -4 -4 -3 -3 -2  0 10'''    "
      ]
    },
    {
      "cell_type": "code",
      "execution_count": null,
      "metadata": {
        "colab": {
          "base_uri": "https://localhost:8080/"
        },
        "id": "9_ubzdAA6jNg",
        "outputId": "92372adf-cea9-43c5-d045-abb872ae868c"
      },
      "outputs": [
        {
          "output_type": "stream",
          "name": "stdout",
          "text": [
            "{'A': 1, 'C': 2, 'D': 3, 'E': 4, 'F': 5, 'G': 6, 'H': 7, 'I': 8, 'K': 9, 'L': 10, 'M': 11, 'N': 12, 'P': 13, 'Q': 14, 'R': 15, 'S': 16, 'T': 17, 'V': 18, 'W': 19, 'Y': 20}\n"
          ]
        }
      ],
      "source": [
        "# amino position in score_peptide_matrix\n",
        "score = convert_to_matrix(score_p)\n",
        "pos = {}\n",
        "for i in range(1,len(score[0])):\n",
        "  pos[score[0][i]] = i\n",
        "print(pos)  "
      ]
    },
    {
      "cell_type": "markdown",
      "source": [
        "After computing all values of s_{i,j}s \n",
        "i,j\n",
        "​\n",
        "  , the local alignment ends at node (i,j) where s_{i,j}s \n",
        "i,j\n",
        "​\n",
        "  is maximal. From this end node, we backtrack through the predecessor having the maximum s_{i,j}s \n",
        "i,j\n",
        "​\n",
        "  score. When we reach a node node(i,j) where its all 3 predecessors have a score of 0. that is where our taxi stops indicating that node(i,j) is our start node in the local alignment"
      ],
      "metadata": {
        "id": "1xWLgm_kw6Kf"
      }
    },
    {
      "cell_type": "code",
      "execution_count": null,
      "metadata": {
        "colab": {
          "base_uri": "https://localhost:8080/"
        },
        "id": "nXao2sFDqJ4A",
        "outputId": "9740dbb2-6dd6-46fe-c116-5b1107c3dd03"
      },
      "outputs": [
        {
          "output_type": "execute_result",
          "data": {
            "text/plain": [
              "[[0, 0, 0, 0, 0, 0, 0, 0],\n",
              " [0, 0, 0, 0, 0, 'end', 0, 0],\n",
              " [0, 0, 0, 0, 0, 0, '↘', 0],\n",
              " [0, 0, 0, '↘', 0, 0, 0, 0],\n",
              " [0, 0, 0, 0, '↘', 0, 0, 0],\n",
              " [0, 0, 0, 0, 0, '↘', '→', 0],\n",
              " [0, 0, 0, 0, 0, 0, 0, '↘']]"
            ]
          },
          "metadata": {},
          "execution_count": 12
        }
      ],
      "source": [
        "import numpy as np\n",
        "def local_matrix(s1,s2,score,pos):\n",
        "  matrix = np.zeros((len(s1)+1,len(s2)+1),dtype='object').tolist()\n",
        "  backtrack = np.zeros((len(s1)+1,len(s2)+1),dtype='object').tolist()\n",
        "  for i in range(1,len(s1)+1): # create matrix\n",
        "    for j in range(1,len(s2)+1):\n",
        "      score_pep = int(score[pos[s1[i-1]]][pos[s2[j-1]]])\n",
        "      matrix[i][j] = max(0,matrix[i-1][j]-5,matrix[i][j-1]-5,matrix[i-1][j-1]+score_pep)\n",
        "  start_node = max(max(matrix[r])for r in range(1,len(matrix)))\n",
        "  for r in range(1,len(matrix)):  \n",
        "    for j in range(1,len(matrix[0])):\n",
        "      if matrix[len(matrix)-r][len(matrix[0])-j] == start_node:\n",
        "        if matrix[len(matrix)-r-1][len(matrix[0])-j-1] != 0:  \n",
        "          backtrack[len(matrix)-r][len(matrix[0])-j] = '↘'\n",
        "          start_node = matrix[len(matrix)-r-1][len(matrix[0])-j-1]\n",
        "          break\n",
        "        elif matrix[len(matrix)-r-1][len(matrix[0])-j-1] == 0 and matrix[len(matrix)-r-1][len(matrix[0])-j] > matrix[len(matrix)-r][len(matrix[0])-j-1]: \n",
        "          backtrack[len(matrix)-r][len(matrix[0])-j] = '↓' \n",
        "          start_node = matrix[len(matrix)-r-1][len(matrix[0])-j]\n",
        "          break\n",
        "        elif matrix[len(matrix)-r-1][len(matrix[0])-j-1] == 0 and matrix[len(matrix)-r-1][len(matrix[0])-j] < matrix[len(matrix)-r][len(matrix[0])-j-1]: \n",
        "          backtrack[len(matrix)-r][len(matrix[0])-j] = '→'\n",
        "          start_node = matrix[len(matrix)-r][len(matrix[0])-j-1] \n",
        "        elif matrix[len(matrix)-r-1][len(matrix[0])-j-1] == 0 and matrix[len(matrix)-r-1][len(matrix[0])-j] == 0 and matrix[len(matrix)-r][len(matrix[0])-j-1] == 0:\n",
        "          backtrack[len(matrix)-r][len(matrix[0])-j] = 'end'\n",
        "  return backtrack  \n",
        "\n",
        "s1 = 'MEANLY'\n",
        "s2 = 'PENALTY'\n",
        "score = convert_to_matrix(score_p)\n",
        "matrix = local_matrix(s1,s2,score,pos)\n",
        "matrix"
      ]
    },
    {
      "cell_type": "code",
      "source": [
        "def outputLCS_local(backtrack,s1,s2,align1,align2,i,j):\n",
        "  if i==0 and j==0: return align1,align2\n",
        "  if backtrack[i][j] == '↓': #del\n",
        "    align1 = s1[i-1] + align1\n",
        "    align2 = '-' + align2\n",
        "    return outputLCS_local(backtrack,s1,s2,align1,align2,i-1,j)\n",
        "  elif backtrack[i][j] == '→': #insert\n",
        "    align1 = '-' + align1\n",
        "    align2 = s2[j-1] + align2\n",
        "    return outputLCS_local(backtrack,s1,s2,align1,align2,i,j-1)\n",
        "  else:\n",
        "    align1 = s1[i-1] + align1\n",
        "    align2 = s2[j-1] + align2\n",
        "    return outputLCS_local(backtrack,s1,s2,align1,align2,i-1,j-1)  "
      ],
      "metadata": {
        "id": "VN-vf2hvZOXV"
      },
      "execution_count": null,
      "outputs": []
    },
    {
      "cell_type": "code",
      "source": [
        "s1 = 'MEANLY'\n",
        "s2 = 'PENALTY'\n",
        "align1 = ''\n",
        "align2 = ''\n",
        "score = convert_to_matrix(score_p)\n",
        "backtrack = local_matrix(s1,s2,score,pos)\n",
        "outputLCS_local(backtrack,s1,s2,align1,align2,len(s1),len(s2))\n",
        "#backtrack"
      ],
      "metadata": {
        "colab": {
          "base_uri": "https://localhost:8080/"
        },
        "id": "EOIeojSVZgId",
        "outputId": "58ca6d54-0790-4771-face-468a6a7528d3"
      },
      "execution_count": null,
      "outputs": [
        {
          "output_type": "execute_result",
          "data": {
            "text/plain": [
              "('MEANL-Y', 'PENALTY')"
            ]
          },
          "metadata": {},
          "execution_count": 14
        }
      ]
    },
    {
      "cell_type": "code",
      "source": [
        "s2 = 'DISCREPANTLY'\n",
        "s1 = 'PATENT'\n",
        "align1 = ''\n",
        "align2 = ''\n",
        "score = convert_to_matrix(score_p)\n",
        "backtrack = local_matrix(s1,s2,score,pos)\n",
        "#outputLCS_local(backtrack,s1,s2,align1,align2,len(s1),len(s2))\n",
        "backtrack"
      ],
      "metadata": {
        "colab": {
          "base_uri": "https://localhost:8080/"
        },
        "id": "ZguqlabWjhQS",
        "outputId": "9246ebfd-77bb-4e51-aaf5-3299f475e04b"
      },
      "execution_count": null,
      "outputs": [
        {
          "output_type": "execute_result",
          "data": {
            "text/plain": [
              "[[0, 0, 0, 0, 0, 0, 0, 0, 0, 0, 0, 0, 0],\n",
              " [0, 0, 0, 0, 0, 0, 0, 'end', 0, 0, 0, 0, 0],\n",
              " [0, 0, 0, 0, 0, 0, 0, 0, '↘', 0, 0, 0, 0],\n",
              " [0, 0, 0, 0, 0, 0, 0, 0, 0, '↘', 0, 0, 0],\n",
              " [0, 0, 0, 0, 0, 0, 0, 0, 0, 0, '↘', 0, 0],\n",
              " [0, 0, 0, 0, 0, 0, 0, 0, 0, 0, 0, 0, 0],\n",
              " [0, 0, 0, 0, 0, 0, 0, 0, 0, 0, 0, 0, 0]]"
            ]
          },
          "metadata": {},
          "execution_count": 16
        }
      ]
    },
    {
      "cell_type": "code",
      "execution_count": null,
      "metadata": {
        "id": "_aOLzY9029wT"
      },
      "outputs": [],
      "source": [
        "s1 = 'ENLSEIKFDDVLDEWENSWDYCCIMADMFVKVGSMCLCLQDFVIHPQHIEDRNSGHMKAPTQNVHPNNMLMCRYIVWRMAWNMMAAAPFCPFLKVVRYDMRPFRASIRELMFWCHGKHENGQTNYYMAVYEWISWCFPVDRDTVQWFAHLSEYSCGNTQSCNLHGCVGRVDYTFRLLVIFCTYRALQKAISQDPKVMKLCQRWLAYALIHWVNGLKRTLWLGPNNNRCHMQPMFSKIQWANLPKLNVLTGGLSKEWMSEVVVYRHWPHFPITMIMDIKTILHWISDRQIGYQGMMNDFCGLWQNVTYTCNKTHIQKVTLWMGKWCRAAARPPYENHISEMLIIQIGSDLFLDCIVQMHPSDGEKMMGERNWPVIYSCTSTMDYHRWPPAMWHKHYFSIMTRLVDNKCHANVTKSWYIALSKYVYMKCTFLMGPPAPGNTPRYNGALYQLLFVLCTKEKSDIFISYYCCRHWTGERTGETESIQPPPYIWIWATMLYHIVKNDLACGRWEQLNAEYPCRLPNTYWVFMWQNRIEQAATKECECWIPMWQGTIMGFTLGRGMQSWMKRKKHINAESGATMGKNYDMSDYWLMQFMDFYGCTTEGWTIIGQNVRWRMSFPDDTGYRIFTQYRRGTEQTSFIACKTSFRSLRSWRSRSLQLPMWALPAFTAYLIAFAAHTCNITHYACHLLTNTVCPHCMTPNEYWNGHSVRKYKWGLSEVHVLSDPRIYRCVHIPQIVQWIFLCVQNPKNFYRENEWCQFDIVYQRGGFCIVGSIVNTQAEMSNSWNFAIKAGRLSQYNLQTPLCCYNPYFIYRGKPLPLVHINEPCKHVRIWKEWPVGTKGEAMGLQQGIVDAMMNMEKFCDPEWSLECYEVVAWALKYDKTDNPRVVVTEKCGYMSFRHIF'\n",
        "s2 = 'MKFWCIVHTPQWHNITTYAYTKSKVEKCPAEHYYFWLEYNSFMKFGHWPVINATVAWCHCKFRFAQRCHPDCSVDHYFSQWEFHNHFDLPELKTCYSVTDHFFCFRNLMDRMALSLRHCSQKFMLGWTCRCSQNIETGKKFLQPFQGYDGSESHNANRYEKELRVIQDIIPEAEGRPMKSWLTDGVAAYFTTCASFGCYLMMNHVHCLFLQCGISKAYERLGTPPKVIAPHEFWREDWRPFDCCDLYDFYTWYWSFKSWRRWSSCFSKIQWANLNVLTGGLSKEWMCEVVVYRHWPHFPITMYMQWCKSMDIKTILHWNYWRPMFSKRQLGFESVCNHSDQGMMVTYTCNKTHIQKVIWYHVMPTLWMPKWCRAAAKPPYESHISEMTLDWIIQIGSDLNLDCIVQMHPSDGEQMMGERNWPVIYSCTSTMDYHRWPPAMFSIMTRTKSWYIALSKYVYMKCTFLWDRLANGPAATGNTSFQWFMKQMERFPVLGTVLCTKEKSDILNKRVSTQISYYCCRHWTGERTGETESLQPPPYIWIGVFQARRQTMLYHAVKYTCMMSDLACGRYCNIEQLNANYPFMWQNRIEEDTYSIAAATKECKKMDNPCDISCCLDVVMWQGTLMGFWLGAGMQSWMQRKKEINAESGFPMGKNYDVWNIPVTWEPYNPEVSQYSNNQSSGICETLTTVIAIMSPAQQTPKKMNLHIDTGENDIHEFEAAHGMLYTPILWHSKEDQSYGRHRYDHLRQALIVWMPCPKRAIEMTLCGWTHSYSWIYDNGWNTWIFALREQDCSHFNQYASCNLSMEWQGLVNYCPWAGELHDTYIMIHIGGRHDAVSTFCPVWAFRPANACKEQDVKIHLKWVLMHDTKTNDSWNNKFECVKACACKDRKRQVQYSDNIVYFSSMTGKASDMCGIREETAEHWRQTHFSKHCFIRERPRRKYAAAWERILSRPYGQE'\n",
        "align1 = ''\n",
        "align2 = ''\n",
        "score = convert_to_matrix(score_p)\n",
        "backtrack = local_backtrack(s1,s2,score,pos)\n",
        "outputLCS_local(backtrack,s1,s2,align1,align2,len(s1),len(s2))"
      ]
    },
    {
      "cell_type": "code",
      "execution_count": null,
      "metadata": {
        "id": "byabuHGTh0JR"
      },
      "outputs": [],
      "source": [
        "sys.setrecursionlimit(2500)"
      ]
    },
    {
      "cell_type": "markdown",
      "source": [
        "##### Task 3\n",
        "For edit distance the mismatch and indel penalty is -1 (as we can see the image below which x!=y and other edist except (x,y) match is plus 1) <br>\n",
        "=> In order to calculate edit distance: use global alignment with score (0,1,1) for match, mismatch, indel respectively  "
      ],
      "metadata": {
        "id": "J2FjMJRQqbE4"
      }
    },
    {
      "cell_type": "markdown",
      "source": [
        "![image.png](data:image/png;base64,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)"
      ],
      "metadata": {
        "id": "d0_B18BsMHtd"
      }
    },
    {
      "cell_type": "code",
      "source": [
        "import numpy as np\n",
        "def global_backtrack(s1,s2,score):\n",
        "  matrix = np.zeros((len(s1)+1,len(s2)+1)).tolist()\n",
        "  score_matrix = list(map(int,score.split(' ')))\n",
        "  backtrack = np.zeros((len(s1)+1,len(s2)+1),dtype='object').tolist()\n",
        "  for i in range(1,len(s1)+1):  matrix[i][0] = matrix[i-1][0]-5 \n",
        "  for j in range(1,len(s2)+1):  matrix[0][j] = matrix[0][j-1]-5  \n",
        "  for i in range(1,len(s1)+1):\n",
        "    for j in range(1,len(s2)+1):\n",
        "      match= 0,0   \n",
        "      if s1[i-1] == s2[j-1]:\n",
        "        match =score_matrix[0] \n",
        "      elif s1[i-1] != s2[j-1]:  match = -score_matrix[1] \n",
        "      matrix[i][j] = max(matrix[i-1][j]-score_matrix[2],matrix[i][j-1]-score_matrix[2],matrix[i-1][j-1]+match)\n",
        "      if matrix[i][j] == matrix[i-1][j-1]+match and s1[i-1] == s2[j-1]:  backtrack[i][j] = '↘r'\n",
        "      elif matrix[i][j] == matrix[i-1][j-1]+match and s1[i-1] != s2[j-1]:  backtrack[i][j] = '↘p' \n",
        "      elif matrix[i][j] == matrix[i-1][j]-score_matrix[2]:  backtrack[i][j] = '↓'\n",
        "      elif matrix[i][j] == matrix[i][j-1]-score_matrix[2]:  backtrack[i][j] = '→'\n",
        "  print('score of edit distance:',-matrix[i][j]) \n",
        "  return backtrack      \n",
        "\n",
        "s1 = 'TGCATACT'\n",
        "s2 = 'ATCCGAT'\n",
        "score = '0 1 1'\n",
        "global_backtrack(s1,s2,score)"
      ],
      "metadata": {
        "colab": {
          "base_uri": "https://localhost:8080/"
        },
        "id": "fhsT5432QM0y",
        "outputId": "aaa1cabe-bd29-4bfb-e805-253b42169ddb"
      },
      "execution_count": null,
      "outputs": [
        {
          "output_type": "stream",
          "name": "stdout",
          "text": [
            "score of edit distance: 5.0\n"
          ]
        },
        {
          "output_type": "execute_result",
          "data": {
            "text/plain": [
              "[[0, 0, 0, 0, 0, 0, 0, 0],\n",
              " [0, '↘p', '→', '→', '→', '→', '→', '→'],\n",
              " [0, '↓', '↘p', '↘p', '↘p', '↘r', '→', '→'],\n",
              " [0, '↓', '↘p', '↘r', '↘r', '→', '↘p', '↘p'],\n",
              " [0, '↓', '↘p', '↓', '↘p', '↘p', '↘r', '→'],\n",
              " [0, '↓', '↘r', '↓', '↘p', '↘p', '↘p', '↘r'],\n",
              " [0, '↓', '↓', '↘p', '↘p', '↘p', '↘r', '↓'],\n",
              " [0, '↓', '↓', '↘r', '↘r', '↘p', '↓', '↘p'],\n",
              " [0, '↓', '↘r', '↓', '↘p', '↘p', '↓', '↘r']]"
            ]
          },
          "metadata": {},
          "execution_count": 47
        }
      ]
    },
    {
      "cell_type": "code",
      "source": [
        "s1 = 'GGACATATACTGACTTGCCTCGCAGTTAGTCATCGTTACCGTTCAGGGTAGCCAACGACCTTAGCACCCGAGGTGCCACACTGGGACGGACCCATTCTGACTATAAAATAGCCTCCGCTAGCGAACAGATAGCTTCAGACAAGATATAGGGCAAACTTTACACAGCCTTAAGCGTCCAGTAGAGGCGGGTACGGGAACCTTGGGAGCTTAGGGCCAACACCACCATCTTGCCTATAGTATGTCACGTAAGCTGTCGAAGGTGGAAAGTCCAGGGCACCGTCCATAAACCAAAACCCCGTTCCTCCATAAGACCAGCCCTATCGAGCTCCACCGCATGAAGATATCTGGTACGGAACGCGGAAAGTCTCCCAGGAACCAGATCAGAGAACCAGACAAAAGCGCGCTAGGTCTTCAGCGCGAGTGATTCTTTGGAACGCAGCATCTTGACGTCGCACCGACCATTAGAAACGTTCAGTATCGTTATGCCTTCCGGTTCATGATAACCTAGCACCCTAGAGGTACGTTTGCTTATATCACGGCGTAACCAGTGTATGGACTTTGAAGCTGCACCTCGGGCACTTGGTATGACCCCCCGCAGTGACGTAGCAATCTTTATGCCACCCCTGATGCCGATCAGTTATGATGAGCGTGATCCAGGAACAGGGGAGAGCTGCGTATCAACATTGAGTTGTCCACGGCCTCCAGAATTTCTCTATCTGTTCTATTGAAATTAGATAGCCCTGAAGCCCGGTCCTTAGAAAAGACCTACCAAGATCCATTGGAGGTAAGGACACTAACCTCCGGGTATGATCTTTGCTCGATATTACAGCGAGCGAGAGACCTATTGTTGCAGTTATATGGACAGGAGGTCACCAGTGATCAGAATAACTTCAAAGCGCG'\n",
        "s2 = 'GGACTTATACTGACTTGCCTCGATCGTTGCCGTGACGTATATCGCTAACGACCTTAGTTACACGCAGGTGCCACGGCTTGCCCCATGCTCCACCCTGAGGTATAGCCTCCGCTAGCGATGCGAATCAGACAAGATTATATAGGGCAAACTTTACACAGCCTTACGCGTATCGGGAGTCGGGACTTGGTTAGGGACCTTATCTTTCCTATAGAGTGTCACGTAAGCAGACGATCCTGCGGGGCACCGATAAACCAAAACCCCGTTCCTCTAAGACCAGACCTAACGACCGAGTGTCGTCCGTATCTGGAGATGGGGCTTACCAACGCTTCCGTACGGATGGAAACCACAGGAACCAGATTTCCAGACCAGCGCTTAAAGCGCGCTAGCATCAGCGCGAGTGATTGCAGCGTCAGGGACAGCATCGACCATTAGCGTCGAGCATTCCGGTTCATGAACGGGGAACCACACTGAAGTCTAGAGGTCGGCGTAACCACGAACGAGTGTATAGCTGATAACGACCTTGCCACTTGTGACCCGCCGCAGTAAGGTAGCTGTATGTCTGCACCCCTGATGCCGAGCGGTCATGCTTGATCCATTAACTGGGGAGCGCTGCGTATCAACATTGATGTCCACGGCTTCCAGAGTTTCTCTTAGCTGTTCTATTCAGAAATTAGATAGCCCTGACCCGGTCGTTGAAAAACCAACAGAAGATCCATTGGAGAGATAAACTCTCTCGATCTGACAGTTCCCAAGCGAGACAAGACCTATTGGTTCAGAGCGATATGGACAGGAGGGACAATGAACATTTGATCAGAATAACATCAAAGCGCG'\n",
        "score = '0 1 1'\n",
        "global_backtrack(s1,s2,score)\n"
      ],
      "metadata": {
        "id": "cnu9s_lkq7tT",
        "colab": {
          "base_uri": "https://localhost:8080/"
        },
        "outputId": "78147cc0-20c8-4540-eb12-e64423c45afc"
      },
      "execution_count": null,
      "outputs": [
        {
          "output_type": "execute_result",
          "data": {
            "text/plain": [
              "('score of edit distance:', 291.0)"
            ]
          },
          "metadata": {},
          "execution_count": 7
        }
      ]
    },
    {
      "cell_type": "code",
      "source": [
        "s1 = 'CGTAGGCTTAAGGTTA'\n",
        "s2 = 'ATAGATA'\n",
        "align1 = ''\n",
        "aling2 = ''\n",
        "score = '0 1 1'\n",
        "backtrack = global_backtrack(s1,s2,score)\n",
        "backtrack\n",
        "outputLCS_global(backtrack,s1,s2,align1,align2,len(s1),len(s2))"
      ],
      "metadata": {
        "colab": {
          "base_uri": "https://localhost:8080/"
        },
        "id": "uylWghiMc9q4",
        "outputId": "7c080d68-e3ce-4caf-a010-82c26aa06ab2"
      },
      "execution_count": null,
      "outputs": [
        {
          "output_type": "stream",
          "name": "stdout",
          "text": [
            "score of edit distance: 10.0\n"
          ]
        },
        {
          "output_type": "execute_result",
          "data": {
            "text/plain": [
              "('CGTAGGCTTAAGGTTA', 'A-TA-G----A---TA')"
            ]
          },
          "metadata": {},
          "execution_count": 53
        }
      ]
    },
    {
      "cell_type": "markdown",
      "source": [
        "##### Task 4"
      ],
      "metadata": {
        "id": "rVnj8kUQSt2L"
      }
    },
    {
      "cell_type": "code",
      "source": [
        "score_pep =   '''0  A  C  D  E  F  G  H  I  K  L  M  N  P  Q  R  S  T  V  W  Y\n",
        "A  4  0 -2 -1 -2  0 -2 -1 -1 -1 -1 -2 -1 -1 -1  1  0  0 -3 -2\n",
        "C  0  9 -3 -4 -2 -3 -3 -1 -3 -1 -1 -3 -3 -3 -3 -1 -1 -1 -2 -2\n",
        "D -2 -3  6  2 -3 -1 -1 -3 -1 -4 -3  1 -1  0 -2  0 -1 -3 -4 -3\n",
        "E -1 -4  2  5 -3 -2  0 -3  1 -3 -2  0 -1  2  0  0 -1 -2 -3 -2\n",
        "F -2 -2 -3 -3  6 -3 -1  0 -3  0  0 -3 -4 -3 -3 -2 -2 -1  1  3\n",
        "G  0 -3 -1 -2 -3  6 -2 -4 -2 -4 -3  0 -2 -2 -2  0 -2 -3 -2 -3\n",
        "H -2 -3 -1  0 -1 -2  8 -3 -1 -3 -2  1 -2  0  0 -1 -2 -3 -2  2\n",
        "I -1 -1 -3 -3  0 -4 -3  4 -3  2  1 -3 -3 -3 -3 -2 -1  3 -3 -1\n",
        "K -1 -3 -1  1 -3 -2 -1 -3  5 -2 -1  0 -1  1  2  0 -1 -2 -3 -2\n",
        "L -1 -1 -4 -3  0 -4 -3  2 -2  4  2 -3 -3 -2 -2 -2 -1  1 -2 -1\n",
        "M -1 -1 -3 -2  0 -3 -2  1 -1  2  5 -2 -2  0 -1 -1 -1  1 -1 -1\n",
        "N -2 -3  1  0 -3  0  1 -3  0 -3 -2  6 -2  0  0  1  0 -3 -4 -2\n",
        "P -1 -3 -1 -1 -4 -2 -2 -3 -1 -3 -2 -2  7 -1 -2 -1 -1 -2 -4 -3\n",
        "Q -1 -3  0  2 -3 -2  0 -3  1 -2  0  0 -1  5  1  0 -1 -2 -2 -1\n",
        "R -1 -3 -2  0 -3 -2  0 -3  2 -2 -1  0 -2  1  5 -1 -1 -3 -3 -2\n",
        "S  1 -1  0  0 -2  0 -1 -2  0 -2 -1  1 -1  0 -1  4  1 -2 -3 -2\n",
        "T  0 -1 -1 -1 -2 -2 -2 -1 -1 -1 -1  0 -1 -1 -1  1  5  0 -2 -2\n",
        "V  0 -1 -3 -2 -1 -3 -3  3 -2  1  1 -3 -2 -2 -3 -2  0  4 -3 -1\n",
        "W -3 -2 -4 -3  1 -2 -2 -3 -3 -2 -1 -4 -4 -2 -3 -3 -2 -3 11  2\n",
        "Y -2 -2 -3 -2  3 -3  2 -1 -2 -1 -1 -2 -3 -1 -2 -2 -2 -1  2  7'''"
      ],
      "metadata": {
        "id": "09kp9gN5TMMh"
      },
      "execution_count": null,
      "outputs": []
    },
    {
      "cell_type": "code",
      "source": [
        "# amino position in score_peptide_matrix\n",
        "score = convert_to_matrix(score_pep)\n",
        "pos_pep = {}\n",
        "for i in range(1,len(score[0])):\n",
        "  pos_pep[score[0][i]] = i\n",
        "print(pos_pep)  "
      ],
      "metadata": {
        "colab": {
          "base_uri": "https://localhost:8080/"
        },
        "id": "Jdxm76HeTTau",
        "outputId": "056bc1c2-de65-4bfe-abdf-007b1c8a0d04"
      },
      "execution_count": null,
      "outputs": [
        {
          "output_type": "stream",
          "name": "stdout",
          "text": [
            "{'A': 1, 'C': 2, 'D': 3, 'E': 4, 'F': 5, 'G': 6, 'H': 7, 'I': 8, 'K': 9, 'L': 10, 'M': 11, 'N': 12, 'P': 13, 'Q': 14, 'R': 15, 'S': 16, 'T': 17, 'V': 18, 'W': 19, 'Y': 20}\n"
          ]
        }
      ]
    },
    {
      "cell_type": "code",
      "execution_count": null,
      "metadata": {
        "colab": {
          "base_uri": "https://localhost:8080/"
        },
        "id": "0SjKnDdIz_ZX",
        "outputId": "d4958067-e3f3-49d7-ac89-2d6feb9a7db4"
      },
      "outputs": [
        {
          "output_type": "stream",
          "name": "stdout",
          "text": [
            "score: 1\n"
          ]
        },
        {
          "output_type": "execute_result",
          "data": {
            "text/plain": [
              "[[0, 0, 0, 0, 0, 0, 0],\n",
              " [0, 0, 0, 0, 0, 0, 0],\n",
              " [0, 0, 0, 0, 0, 0, 0],\n",
              " [0, 0, '↘p', '↘p', '↘p', '↘p', '↘p'],\n",
              " [0, 0, '↘p', '↘p', 0, 0, '↘p'],\n",
              " [0, 0, 0, 0, '↘p', '↘p', 0],\n",
              " [0, 0, 0, 0, '↘r', '↘p', 0],\n",
              " [0, 0, 0, 0, '↓', '↘p', 0],\n",
              " [0, 0, '↘r', '↘p', 0, 0, '↘p'],\n",
              " [0, 0, 0, '↘p', '↘p', '↘r', '→'],\n",
              " [0, 0, '↘p', '↘r', '↘p', '↓', '↘r'],\n",
              " [0, 0, 0, '↓', '↘p', '↘p', '↓'],\n",
              " [0, 0, 0, 0, 0, '↘p', '↓']]"
            ]
          },
          "metadata": {},
          "execution_count": 28
        }
      ],
      "source": [
        "align1 = ''\n",
        "align2 = ''\n",
        "s1 = 'DISCREPANTLY'\n",
        "s2 = 'PATENT'\n",
        "#score = convert_to_matrix(score_pep)\n",
        "backtrack = local_backtrack(s1,s2,score,pos_pep)\n",
        "backtrack\n",
        "#outputLCS_global(backtrack,s1,s2,align1,align2,len(s1),len(s2))"
      ]
    },
    {
      "cell_type": "markdown",
      "source": [
        "#### Tasks\n",
        "1. Affine gap penalty\n",
        "2. Solve the Middle Edge in Linear Space Problem"
      ],
      "metadata": {
        "id": "ch_gqOCaI6xg"
      }
    },
    {
      "cell_type": "markdown",
      "source": [
        "##### Task 1"
      ],
      "metadata": {
        "id": "93goEjB0DljZ"
      }
    },
    {
      "cell_type": "code",
      "source": [
        "def match(s1,s2,i,j,score): #i:pos of s1; j: pos of s2\n",
        "  s = list(map(int,score.split(' ')))\n",
        "  if s1[i-1] == s2[j-1]:  \n",
        "    return s[0]\n",
        "  else:\n",
        "    return -s[1]"
      ],
      "metadata": {
        "id": "5hq7AqU5O16C"
      },
      "execution_count": null,
      "outputs": []
    },
    {
      "cell_type": "code",
      "source": [
        "import numpy as np\n",
        "def dis_matrix(score, s1, s2): \n",
        "  s = list(map(int,score.split(' ')))\n",
        "  lower, upper, mid = np.zeros((len(s1)+1,len(s2)+1)).tolist(), np.zeros((len(s1)+1,len(s2)+1)).tolist(), np.zeros((len(s1)+1,len(s2)+1)).tolist()\n",
        "  for i in range(1,len(s1)+1):\n",
        "    for j in range(1,len(s2)+1):\n",
        "      # create lower: extend the gap: del\n",
        "      lower[i][j] = max((lower[i-1][j]-s[3]),(mid[i-1][j]-s[2]-s[3]),(upper[i-1][j]-s[2]-s[3]))\n",
        "      # create upper: extend the gap: ins\n",
        "      upper[i][j] = max((upper[i][j-1]-s[3]),(mid[i][j-1]-s[2]-s[3]),(lower[i][j-1]-s[2]-s[3]))\n",
        "      # create middle: initial the gap  \n",
        "      mid[i][j] = max(lower[i][j],upper[i][j],mid[i-1][j-1]+match(s1,s2,i,j,score)) \n",
        "  return lower,upper,mid     \n",
        "score = '1 3 2 1' # match, mis, gap open, gap extension\n",
        "s1 = 'GA'  \n",
        "s2 = 'GTTA'\n",
        "dis_matrix(score,s1,s2)"
      ],
      "metadata": {
        "id": "Nao1U7nJSiMW",
        "colab": {
          "base_uri": "https://localhost:8080/"
        },
        "outputId": "d6b51d01-e24b-495d-a6c9-ffae358f1dae"
      },
      "execution_count": null,
      "outputs": [
        {
          "output_type": "execute_result",
          "data": {
            "text/plain": [
              "([[0.0, 0.0, 0.0, 0.0, 0.0],\n",
              "  [0.0, -1.0, -1.0, -1.0, -1.0],\n",
              "  [0.0, -2.0, -2.0, -2.0, -2.0]],\n",
              " [[0.0, 0.0, 0.0, 0.0, 0.0],\n",
              "  [0.0, -1.0, -2.0, -3.0, -4.0],\n",
              "  [0.0, -1.0, -2.0, -3.0, -4.0]],\n",
              " [[0.0, 0.0, 0.0, 0.0, 0.0],\n",
              "  [0.0, 1.0, -1.0, -1.0, -1.0],\n",
              "  [0.0, -1.0, -2.0, -2.0, 0.0]])"
            ]
          },
          "metadata": {},
          "execution_count": 2
        }
      ]
    },
    {
      "cell_type": "code",
      "source": [
        "def backtrack(lower,upper,mid,s1,s2,i,j,align1,align2,score,li_score): # require len(s1) < len(s2)\n",
        "  if i == 0 and j == 0: return li_score, align1, align2\n",
        "  if mid[i][j] == mid[i-1][j-1] + match(s1,s2,i,j,score):\n",
        "    align1 = s1[i-1] + align1\n",
        "    align2 = s2[j-1] + align2\n",
        "    li_score += mid[i][j]\n",
        "    return backtrack(lower,upper,mid,s1,s2,i-1,j-1,align1,align2,score,li_score)\n",
        "  elif mid[i][j] == lower[i][j]:\n",
        "    align1 = '-' + align1\n",
        "    align2 = s2[j-1] + align2\n",
        "    li_score += mid[i][j]\n",
        "    return backtrack(lower,upper,mid,s1,s2,i,j-1,align1,align2,score,li_score)\n",
        "  elif mid[i][j] == upper[i][j]:\n",
        "    align1 = s1[i-1] + align1\n",
        "    align2 = '-' + align2\n",
        "    li_score += mid[i][j]\n",
        "    return backtrack(lower,upper,mid,s1,s2,i-1,j,align1,align2,score,li_score)     "
      ],
      "metadata": {
        "id": "_UV2kOxj1aPa"
      },
      "execution_count": null,
      "outputs": []
    },
    {
      "cell_type": "code",
      "source": [
        "score = '1 3 2 1' # match, mis, gap open, gap extension\n",
        "s1 = 'GA'  \n",
        "s2 = 'GTTA'\n",
        "lower, upper, mid = dis_matrix(score,s1,s2)\n",
        "i,j,li_score = len(s1),len(s2),0 \n",
        "align1, align2 = '',''\n",
        "backtrack(lower,upper,mid,s1,s2,i,j,align1,align2,score,li_score)  "
      ],
      "metadata": {
        "id": "AgLRsbPiaLcH"
      },
      "execution_count": null,
      "outputs": []
    },
    {
      "cell_type": "code",
      "source": [
        "score = '1 5 3 1' # match, mis, gap open, gap extension\n",
        "s2 = 'GATCCAG'  \n",
        "s1 = 'GACAG'\n",
        "lower, upper, mid = dis_matrix(score,s1,s2)\n",
        "i,j,li_score = len(s1),len(s2),0 # len(s1) should < len(s2)\n",
        "align1, align2 = '',''\n",
        "backtrack(lower,upper,mid,s1,s2,i,j,align1,align2,score,li_score)  \n",
        "lower, upper, mid"
      ],
      "metadata": {
        "colab": {
          "base_uri": "https://localhost:8080/"
        },
        "id": "HKHiAupCVgDx",
        "outputId": "e3772caa-c4a1-48b0-e2b2-ec5b0efd9f16"
      },
      "execution_count": null,
      "outputs": [
        {
          "output_type": "execute_result",
          "data": {
            "text/plain": [
              "([[0.0, 0.0, 0.0, 0.0, 0.0, 0.0, 0.0, 0.0],\n",
              "  [0.0, -1.0, -1.0, -1.0, -1.0, -1.0, -1.0, -1.0],\n",
              "  [0.0, -2.0, -2.0, -2.0, -2.0, -2.0, -2.0, -2.0],\n",
              "  [0.0, -3.0, -2.0, -3.0, -3.0, -3.0, -3.0, -3.0],\n",
              "  [0.0, -4.0, -3.0, -4.0, -4.0, -4.0, -4.0, -4.0],\n",
              "  [0.0, -5.0, -4.0, -5.0, -5.0, -5.0, -4.0, -5.0]],\n",
              " [[0.0, 0.0, 0.0, 0.0, 0.0, 0.0, 0.0, 0.0],\n",
              "  [0.0, -1.0, -2.0, -3.0, -4.0, -5.0, -5.0, -5.0],\n",
              "  [0.0, -1.0, -2.0, -2.0, -3.0, -4.0, -5.0, -4.0],\n",
              "  [0.0, -1.0, -2.0, -3.0, -4.0, -5.0, -5.0, -6.0],\n",
              "  [0.0, -1.0, -2.0, -3.0, -4.0, -5.0, -6.0, -4.0],\n",
              "  [0.0, -1.0, -2.0, -3.0, -4.0, -5.0, -6.0, -7.0]],\n",
              " [[0.0, 0.0, 0.0, 0.0, 0.0, 0.0, 0.0, 0.0],\n",
              "  [0.0, 1.0, -1.0, -1.0, -1.0, -1.0, -1.0, 1.0],\n",
              "  [0.0, -1.0, 2.0, -2.0, -2.0, -2.0, 0.0, -2.0],\n",
              "  [0.0, -1.0, -2.0, -3.0, -1.0, -1.0, -3.0, -3.0],\n",
              "  [0.0, -1.0, 0.0, -3.0, -4.0, -4.0, 0.0, -4.0],\n",
              "  [0.0, 1.0, -2.0, -3.0, -4.0, -5.0, -4.0, 1.0]])"
            ]
          },
          "metadata": {},
          "execution_count": 109
        }
      ]
    },
    {
      "cell_type": "code",
      "source": [
        "score = '10 5 3 1' # match, mis, gap open, gap extension\n",
        "s1 = 'GGCGCAGAACTGAATCGAGACACAACTATGCGCCTGGCCGGAGGAATCAATCGGTGGCAGTTGACTCCCCAACGTTCTCTGGCACCTTGC'  \n",
        "s2 = 'GGCGCAGAACTGACAGTTATGCGCCTGGCACAGAGGGGGGAATCAGTCCGTCGCAGGTATGGCCTCGTCCCAAAAAGTTTGGGATCTGGCACCTTGC'\n",
        "lower, upper, mid = dis_matrix(score,s1,s2)\n",
        "i,j,li_score = len(s1),len(s2),0 \n",
        "align1, align2 = '',''\n",
        "backtrack(lower,upper,mid,s1,s2,i,j,align1,align2,score,li_score) "
      ],
      "metadata": {
        "id": "5NshVy9pTOXn"
      },
      "execution_count": null,
      "outputs": []
    },
    {
      "cell_type": "code",
      "source": [
        "def backtrack(lower,upper,mid,s1,s2,i,j,align1,align2,score,li_score): # require len(s1) < len(s2)\n",
        "  if i == 0 and j == 0: return li_score, align1, align2\n",
        "  if mid[i][j] == mid[i-1][j-1] + match(s1,s2,i,j,score):\n",
        "    align1 += s1[i-1]\n",
        "    align2 += s2[j-1]\n",
        "    li_score += mid[i][j]\n",
        "    return backtrack(lower,upper,mid,s1,s2,i-1,j-1,align1,align2,score,li_score)\n",
        "  elif mid[i][j] == lower[i][j]:\n",
        "    align1 += s1[i-1]\n",
        "    align2 += '-'\n",
        "    li_score += mid[i][j]\n",
        "    return backtrack(lower,upper,mid,s1,s2,i,j-1,align1,align2,score,li_score)\n",
        "  elif mid[i][j] == upper[i][j]:\n",
        "    align1 += '-'\n",
        "    align2 += s2[j-1]\n",
        "    li_score += mid[i][j]\n",
        "    return backtrack(lower,upper,mid,s1,s2,i-1,j,align1,align2,score,li_score)  "
      ],
      "metadata": {
        "id": "_ig-sgcEgdk8"
      },
      "execution_count": null,
      "outputs": []
    },
    {
      "cell_type": "code",
      "source": [
        "score = '10 2 15 7' # match, mis, gap open, gap extension\n",
        "s1 = 'CAT'  \n",
        "s2 = 'CARTS'\n",
        "lower, upper, mid = dis_matrix(score,s1,s2)\n",
        "i,j,li_score = len(s1),len(s2),0 \n",
        "align1, align2 = '',''\n",
        "backtrack(lower,upper,mid,s1,s2,i,j,align1,align2,score,li_score) "
      ],
      "metadata": {
        "colab": {
          "base_uri": "https://localhost:8080/"
        },
        "id": "hikkb57PZV76",
        "outputId": "02eb441c-035e-478b-8a2f-0ac9908649fe"
      },
      "execution_count": null,
      "outputs": [
        {
          "output_type": "execute_result",
          "data": {
            "text/plain": [
              "(-6.0, '-ACTTT', 'SST---')"
            ]
          },
          "metadata": {},
          "execution_count": 160
        }
      ]
    },
    {
      "cell_type": "code",
      "source": [
        "lower, upper, mid"
      ],
      "metadata": {
        "colab": {
          "base_uri": "https://localhost:8080/"
        },
        "id": "y3GZQTjyfzEA",
        "outputId": "9ac369c5-8cc6-4910-c89c-ebc8cb360d6b"
      },
      "execution_count": null,
      "outputs": [
        {
          "output_type": "execute_result",
          "data": {
            "text/plain": [
              "([[0.0, 0.0, 0.0, 0.0, 0.0, 0.0],\n",
              "  [0.0, -7.0, -7.0, -7.0, -7.0, -7.0],\n",
              "  [0.0, -5.0, -14.0, -14.0, -14.0, -14.0],\n",
              "  [0.0, -12.0, 5.0, -10.0, -17.0, -19.0]],\n",
              " [[0.0, 0.0, 0.0, 0.0, 0.0, 0.0],\n",
              "  [0.0, -7.0, -5.0, -12.0, -17.0, -17.0],\n",
              "  [0.0, -7.0, -14.0, 5.0, -2.0, -9.0],\n",
              "  [0.0, -7.0, -14.0, -10.0, 3.0, 0.0]],\n",
              " [[0.0, 0.0, 0.0, 0.0, 0.0, 0.0],\n",
              "  [0.0, 10.0, -2.0, -2.0, -2.0, -2.0],\n",
              "  [0.0, -2.0, 20.0, 5.0, -2.0, -4.0],\n",
              "  [0.0, -2.0, 5.0, 18.0, 15.0, 0.0]])"
            ]
          },
          "metadata": {},
          "execution_count": 156
        }
      ]
    },
    {
      "cell_type": "markdown",
      "source": [
        "##### Task 2\n",
        "1. Calculate middle node by length of path"
      ],
      "metadata": {
        "id": "TuP3AQicDn9V"
      }
    },
    {
      "cell_type": "code",
      "source": [
        "import numpy as np\n",
        "def left(s1,s2,j,matrix):\n",
        "  if j == int(len(s2)/2)+1: return matrix\n",
        "  for i in range(1,len(s1)+1):\n",
        "    match = 0\n",
        "    if s1[i-1] == s2[j-1]:  match = 1\n",
        "    matrix[i][j] = max((matrix[i-1][j-1] + match),(matrix[i-1][j]),(matrix[i][j-1]))  \n",
        "  return left(s1,s2,j+1,matrix)\n",
        "\n",
        "def right(s1,s2,j,matrix):\n",
        "  if j == int(len(s2)/2): return matrix \n",
        "  for i in range(1,len(s1)+1):\n",
        "    match = 0\n",
        "    if s1[len(s1)-i] == s2[j-1]:  match = 1\n",
        "    matrix[len(s1)-i][j-1] = max((matrix[len(s1)-i+1][j] + match),(matrix[len(s1)-i][j]),(matrix[len(s1)-i+1][j-1]))\n",
        "  return right(s1,s2,j-1,matrix)  "
      ],
      "metadata": {
        "id": "XKIbF5FXVawU"
      },
      "execution_count": null,
      "outputs": []
    },
    {
      "cell_type": "code",
      "source": [
        "s1 = 'ATTCAA'\n",
        "s2 = 'ACGGAA'\n",
        "matrix_right = np.zeros((len(s1)+1,len(s2)+1),dtype = 'object').tolist()\n",
        "matrix_left = np.zeros((len(s1)+1,len(s2)+1),dtype = 'object').tolist()\n",
        "r = right(s1,s2,len(s2),matrix_right)\n",
        "l = left(s1,s2,1,matrix_left)\n",
        "sum = np.array(l) + np.array(r)\n",
        "sum = sum.tolist()\n",
        "sum"
      ],
      "metadata": {
        "colab": {
          "base_uri": "https://localhost:8080/"
        },
        "id": "ogx7XLxR1Ugr",
        "outputId": "8ac653d2-a8ae-44a2-ac9f-f6a1e848c495"
      },
      "execution_count": null,
      "outputs": [
        {
          "output_type": "execute_result",
          "data": {
            "text/plain": [
              "[[0, 0, 0, 2, 2, 1, 0],\n",
              " [0, 1, 1, 3, 2, 1, 0],\n",
              " [0, 1, 1, 3, 2, 1, 0],\n",
              " [0, 1, 1, 3, 2, 1, 0],\n",
              " [0, 1, 2, 4, 2, 1, 0],\n",
              " [0, 1, 2, 3, 1, 1, 0],\n",
              " [0, 1, 2, 2, 0, 0, 0]]"
            ]
          },
          "metadata": {},
          "execution_count": 3
        }
      ]
    },
    {
      "cell_type": "code",
      "source": [
        "def find_node(sum,s1,s2,i,r,c,mid_node):\n",
        "  if i == len(s1)+1:  return r,c\n",
        "  mid = int(len(s2)/2)\n",
        "  if sum[i][mid] > mid_node:\n",
        "    mid_node = sum[i][mid] \n",
        "    r = i\n",
        "    c = mid\n",
        "  return find_node(sum,s1,s2,i+1,r,c,mid_node)  \n",
        "def split_string(s1,s2,r,c):\n",
        "  s1_left, s2_left = s1[:r], s2[:c]\n",
        "  s1_right, s2_right = s1[-(len(s1)-r):], s2[-(len(s2)-c):]\n",
        "  return s1_left, s1_right, s2_left, s2_right  \n",
        "\n",
        "def reverse(string,new,i):\n",
        "  if i == len(string):  return new\n",
        "  new = string[i] + new\n",
        "  return reverse(string,new,i+1)"
      ],
      "metadata": {
        "id": "yXTzRupclP7M"
      },
      "execution_count": null,
      "outputs": []
    },
    {
      "cell_type": "code",
      "source": [
        "r,c = find_node(sum,s1,s2,0,0,0,0)\n",
        "s1_left, s1_right, s2_left, s2_right = split_string(s1,s2,r,c)\n",
        "s1_left, s1_right, s2_left, s2_right"
      ],
      "metadata": {
        "colab": {
          "base_uri": "https://localhost:8080/"
        },
        "id": "WObAQ5wRrolF",
        "outputId": "151c5bdb-20a1-4d79-8951-b05032384fb3"
      },
      "execution_count": null,
      "outputs": [
        {
          "output_type": "execute_result",
          "data": {
            "text/plain": [
              "('ATTC', 'AA', 'ACG', 'GAA')"
            ]
          },
          "metadata": {},
          "execution_count": 20
        }
      ]
    },
    {
      "cell_type": "code",
      "source": [
        "re_s1_r = reverse(s1_right,'',0)\n",
        "re_s2_r = reverse(s2_right,'',0)\n",
        "re_s1_r, re_s2_r"
      ],
      "metadata": {
        "colab": {
          "base_uri": "https://localhost:8080/"
        },
        "id": "TwjmKuaysGBk",
        "outputId": "c706c5f6-8592-489f-df07-e9ba8dae6955"
      },
      "execution_count": null,
      "outputs": [
        {
          "output_type": "execute_result",
          "data": {
            "text/plain": [
              "('AA', 'AAG')"
            ]
          },
          "metadata": {},
          "execution_count": 32
        }
      ]
    },
    {
      "cell_type": "code",
      "source": [
        "def backtrack(s1,s2):\n",
        "  matrix = np.zeros((len(s1)+1,len(s2)+1),dtype='object').tolist()\n",
        "  backtrack = np.zeros((len(s1)+1,len(s2)+1),dtype='object').tolist()\n",
        "  for r in range(1,len(s1)+1):\n",
        "    for c in range(1,len(s2)+1):\n",
        "      match = 0\n",
        "      if s1[r-1] == s2[c-1]:  match = 1\n",
        "      matrix[r][c] = max((matrix[r-1][c-1]+match),(matrix[r-1][c]),(matrix[r][c-1]))\n",
        "      if matrix[r][c] == matrix[r-1][c-1]+match:  backtrack[r][c] = '↘'\n",
        "      elif matrix[r][c] == matrix[r-1][c]:  backtrack[r][c] = '↓'\n",
        "      elif matrix[r][c] == matrix[r][c-1]:  backtrack[r][c] = '→'\n",
        "  return backtrack    \n",
        "\n",
        "def output_LCS_left(backtrack_l,s1,s2,i,j,align1,align2):\n",
        "  if i == 0 and j == 0: \n",
        "    return align1, align2\n",
        "  if backtrack_l[i][j] == '↘':\n",
        "    align1 = s1[i-1] + align1\n",
        "    align2 = s2[j-1] + align2\n",
        "    return output_LCS_left(backtrack_l,s1,s2,i-1,j-1,align1,align2)\n",
        "  elif backtrack_l[i][j] == '→':\n",
        "    align1 = '-' + align1\n",
        "    align2 = s2[j-1] + align2\n",
        "    return output_LCS_left(backtrack_l,s1,s2,i,j-1,align1,align2) \n",
        "  elif backtrack_l[i][j] == '↓':\n",
        "    align1 = s1[i-1] + align1\n",
        "    align2 = '-' + align2\n",
        "    return output_LCS_left(backtrack_l,s1,s2,i-1,j,align1,align2)    \n",
        "\n",
        "def output_LCS_right(backtrack_r,s1,s2,i,j,align1,align2):\n",
        "  if i == 0 and j == 0: \n",
        "    return align1, align2\n",
        "  if backtrack_r[i][j] == '↘':\n",
        "    align1 += s1[i-1]\n",
        "    align2 += s2[j-1]\n",
        "    return output_LCS_right(backtrack_r,s1,s2,i-1,j-1,align1,align2)\n",
        "  elif backtrack_r[i][j] == '→':\n",
        "    align1 += '-' \n",
        "    align2 += s2[j-1]\n",
        "    return output_LCS_right(backtrack_r,s1,s2,i,j-1,align1,align2) \n",
        "  elif backtrack_r[i][j] == '↓':\n",
        "    align1 += s1[i-1]\n",
        "    align2 += '-'\n",
        "    return output_LCS_right(backtrack_r,s1,s2,i-1,j,align1,align2) "
      ],
      "metadata": {
        "id": "MKP564G0Y7ca"
      },
      "execution_count": null,
      "outputs": []
    },
    {
      "cell_type": "code",
      "source": [
        "align1_l, align2_l = '',''\n",
        "backtrack_l = backtrack(s1_left,s2_left)\n",
        "align1_l, align2_l = output_LCS_left(backtrack_l,s1_left,s2_left,len(s1_left),len(s2_left),align1_l,align2_l)\n",
        "align1_l, align2_l"
      ],
      "metadata": {
        "id": "f0vP2i28bzG9",
        "colab": {
          "base_uri": "https://localhost:8080/"
        },
        "outputId": "94ed9227-8702-4f6b-d6c4-835698e234df"
      },
      "execution_count": null,
      "outputs": [
        {
          "output_type": "execute_result",
          "data": {
            "text/plain": [
              "('ATTC-', 'A--CG')"
            ]
          },
          "metadata": {},
          "execution_count": 27
        }
      ]
    },
    {
      "cell_type": "code",
      "source": [
        "align1_r, align2_r = '',''\n",
        "backtrack_r = backtrack(re_s1_r,re_s2_r)\n",
        "align1_r, align2_r = output_LCS_right(backtrack_r,re_s1_r,re_s2_r,len(re_s1_r),len(re_s2_r),align1_r,align2_r)\n",
        "align1_r, align2_r"
      ],
      "metadata": {
        "colab": {
          "base_uri": "https://localhost:8080/"
        },
        "id": "qMMg6tWmhd04",
        "outputId": "7b73c3aa-8f3e-4763-999a-ea59926429c4"
      },
      "execution_count": null,
      "outputs": [
        {
          "output_type": "execute_result",
          "data": {
            "text/plain": [
              "('-AA', 'GAA')"
            ]
          },
          "metadata": {},
          "execution_count": 29
        }
      ]
    },
    {
      "cell_type": "code",
      "source": [
        "all_align1 = align1_l + align1_r\n",
        "all_align2 = align2_l + align2_r\n",
        "all_align1, all_align2"
      ],
      "metadata": {
        "colab": {
          "base_uri": "https://localhost:8080/"
        },
        "id": "3-xctvGhjUcD",
        "outputId": "a8121f60-ce0f-4876-a2b4-25da359bcf9c"
      },
      "execution_count": null,
      "outputs": [
        {
          "output_type": "execute_result",
          "data": {
            "text/plain": [
              "('ATTC--AA', 'A--CGGAA')"
            ]
          },
          "metadata": {},
          "execution_count": 30
        }
      ]
    },
    {
      "cell_type": "code",
      "source": [
        "s1 = 'ACTTAATT'\n",
        "s2 = 'GAGCAATT'\n",
        "matrix_right = np.zeros((len(s1)+1,len(s2)+1),dtype = 'object').tolist()\n",
        "matrix_left = np.zeros((len(s1)+1,len(s2)+1),dtype = 'object').tolist()\n",
        "r = right(s1,s2,len(s2),matrix_right)\n",
        "l = left(s1,s2,1,matrix_left)\n",
        "sum = np.array(l) + np.array(r)\n",
        "sum.tolist()"
      ],
      "metadata": {
        "colab": {
          "base_uri": "https://localhost:8080/"
        },
        "id": "0KyMleu6XBgD",
        "outputId": "a202841d-c6b0-450d-f574-c1d671187dc3"
      },
      "execution_count": null,
      "outputs": [
        {
          "output_type": "execute_result",
          "data": {
            "text/plain": [
              "[[0, 0, 0, 0, 4, 3, 2, 1, 0],\n",
              " [0, 0, 1, 1, 5, 3, 2, 1, 0],\n",
              " [0, 0, 1, 1, 6, 3, 2, 1, 0],\n",
              " [0, 0, 1, 1, 6, 3, 2, 1, 0],\n",
              " [0, 0, 1, 1, 6, 3, 2, 1, 0],\n",
              " [0, 0, 1, 1, 5, 3, 2, 1, 0],\n",
              " [0, 0, 1, 1, 4, 2, 2, 1, 0],\n",
              " [0, 0, 1, 1, 3, 1, 1, 1, 0],\n",
              " [0, 0, 1, 1, 2, 0, 0, 0, 0]]"
            ]
          },
          "metadata": {},
          "execution_count": 46
        }
      ]
    },
    {
      "cell_type": "markdown",
      "source": [
        "##### Task 3: multiple alignments"
      ],
      "metadata": {
        "id": "3ZidI1n9W4bL"
      }
    },
    {
      "cell_type": "code",
      "source": [
        "import numpy as np\n",
        "def mul_align(s1,s2,s3):\n",
        "  matrix, backtrack = np.zeros((len(s1)+1,len(s2)+1,len(s3)+1),dtype='object').tolist(), np.zeros((len(s1)+1,len(s2)+1,len(s3)+1),dtype='object').tolist()\n",
        "  for i in range(1,len(s1)+1):\n",
        "    for j in range(1,len(s2)+1):\n",
        "      for o in range(1,len(s3)+1):\n",
        "        match = 0\n",
        "        if s1[i-1] == s2[j-1] == s3[o-1]: match = 1\n",
        "        matrix[i][j][o] = max((matrix[i-1][j-1][o-1]+match),(matrix[i-1][j][o]),(matrix[i][j-1][o]),(matrix[i][j][o-1]),(matrix[i-1][j-1][o]),(matrix[i-1][j][o-1]),(matrix[i][j-1][o-1]))\n",
        "        if matrix[i][j][o] == matrix[i-1][j-1][o-1]+match:  backtrack[i][j][o] = '↘'\n",
        "        elif matrix[i][j][o] == matrix[i-1][j][o]:  backtrack[i][j][o] = '↓1'\n",
        "        elif matrix[i][j][o] == matrix[i][j-1][o]:  backtrack[i][j][o] = '↓2'\n",
        "        elif matrix[i][j][o] == matrix[i][j][o-1]:  backtrack[i][j][o] = '↓3'\n",
        "        elif matrix[i][j][o] == matrix[i-1][j-1][o]:  backtrack[i][j][o] = '↓1,2'\n",
        "        elif matrix[i][j][o] == matrix[i-1][j][o-1]:  backtrack[i][j][o] = '↓1,3'\n",
        "        elif matrix[i][j][o] == matrix[i][j-1][o-1]:  backtrack[i][j][o] = '↓2,3'\n",
        "  return matrix[i][j][o],backtrack        "
      ],
      "metadata": {
        "id": "bKyhOuAtY9Zw"
      },
      "execution_count": null,
      "outputs": []
    },
    {
      "cell_type": "code",
      "source": [
        "s1 = 'ATATCCG'\n",
        "s2 = 'TCCGA'\n",
        "s3 = 'ATGTACTG'\n",
        "mul_align(s1,s2,s3)\n"
      ],
      "metadata": {
        "colab": {
          "base_uri": "https://localhost:8080/"
        },
        "id": "RNkAbf-hYI9b",
        "outputId": "bf7f37f6-44e3-4769-8eda-e239d795a0a0"
      },
      "execution_count": null,
      "outputs": [
        {
          "output_type": "execute_result",
          "data": {
            "text/plain": [
              "(3,\n",
              " [[[0, 0, 0, 0, 0, 0, 0, 0, 0],\n",
              "   [0, 0, 0, 0, 0, 0, 0, 0, 0],\n",
              "   [0, 0, 0, 0, 0, 0, 0, 0, 0],\n",
              "   [0, 0, 0, 0, 0, 0, 0, 0, 0],\n",
              "   [0, 0, 0, 0, 0, 0, 0, 0, 0],\n",
              "   [0, 0, 0, 0, 0, 0, 0, 0, 0]],\n",
              "  [[0, 0, 0, 0, 0, 0, 0, 0, 0],\n",
              "   [0, '↘', '↘', '↘', '↘', '↘', '↘', '↘', '↘'],\n",
              "   [0, '↘', '↘', '↘', '↘', '↘', '↘', '↘', '↘'],\n",
              "   [0, '↘', '↘', '↘', '↘', '↘', '↘', '↘', '↘'],\n",
              "   [0, '↘', '↘', '↘', '↘', '↘', '↘', '↘', '↘'],\n",
              "   [0, '↘', '↓3', '↓3', '↓3', '↘', '↓3', '↓3', '↓3']],\n",
              "  [[0, 0, 0, 0, 0, 0, 0, 0, 0],\n",
              "   [0, '↘', '↘', '↓3', '↘', '↓3', '↓3', '↘', '↓3'],\n",
              "   [0, '↘', '↓2', '↓2', '↓2', '↓2', '↓2', '↓2', '↓2'],\n",
              "   [0, '↘', '↓2', '↓2', '↓2', '↓2', '↓2', '↓2', '↓2'],\n",
              "   [0, '↘', '↓2', '↓2', '↓2', '↓2', '↓2', '↓2', '↓2'],\n",
              "   [0, '↓1', '↓1', '↓1', '↓1', '↓1', '↓1', '↓1', '↓1']],\n",
              "  [[0, 0, 0, 0, 0, 0, 0, 0, 0],\n",
              "   [0, '↘', '↓1', '↓1', '↓1', '↓1', '↓1', '↓1', '↓1'],\n",
              "   [0, '↘', '↓1', '↘', '↘', '↘', '↘', '↘', '↘'],\n",
              "   [0, '↘', '↓1', '↘', '↘', '↘', '↘', '↘', '↘'],\n",
              "   [0, '↘', '↓1', '↘', '↘', '↘', '↘', '↘', '↘'],\n",
              "   [0, '↘', '↓1', '↘', '↘', '↘', '↓3', '↓3', '↓3']],\n",
              "  [[0, 0, 0, 0, 0, 0, 0, 0, 0],\n",
              "   [0, '↘', '↘', '↓1', '↘', '↓1', '↓1', '↘', '↓1'],\n",
              "   [0, '↘', '↓1', '↘', '↘', '↘', '↘', '↘', '↘'],\n",
              "   [0, '↘', '↓1', '↘', '↘', '↘', '↘', '↘', '↘'],\n",
              "   [0, '↘', '↓1', '↘', '↘', '↘', '↘', '↘', '↘'],\n",
              "   [0, '↓1', '↓1', '↘', '↘', '↓1', '↓1', '↓1', '↓1']],\n",
              "  [[0, 0, 0, 0, 0, 0, 0, 0, 0],\n",
              "   [0, '↘', '↓1', '↓1', '↓1', '↓1', '↓1', '↓1', '↓1'],\n",
              "   [0, '↘', '↓1', '↘', '↘', '↘', '↘', '↓3', '↓3'],\n",
              "   [0, '↘', '↓1', '↘', '↘', '↘', '↘', '↓2', '↓2'],\n",
              "   [0, '↘', '↓1', '↘', '↘', '↘', '↓2', '↓2', '↓2'],\n",
              "   [0, '↓1', '↓1', '↘', '↘', '↓1', '↓1', '↓1', '↓1']],\n",
              "  [[0, 0, 0, 0, 0, 0, 0, 0, 0],\n",
              "   [0, '↘', '↓1', '↓1', '↓1', '↓1', '↓1', '↓1', '↓1'],\n",
              "   [0, '↘', '↓1', '↘', '↘', '↘', '↘', '↓1', '↓1'],\n",
              "   [0, '↘', '↓1', '↘', '↘', '↘', '↘', '↘', '↘'],\n",
              "   [0, '↘', '↓1', '↘', '↘', '↘', '↓1', '↘', '↘'],\n",
              "   [0, '↓1', '↓1', '↘', '↘', '↓1', '↓1', '↘', '↘']],\n",
              "  [[0, 0, 0, 0, 0, 0, 0, 0, 0],\n",
              "   [0, '↘', '↓1', '↓1', '↓1', '↓1', '↓1', '↓1', '↓1'],\n",
              "   [0, '↘', '↓1', '↘', '↘', '↘', '↓1', '↓1', '↓1'],\n",
              "   [0, '↘', '↓1', '↘', '↘', '↘', '↓1', '↘', '↘'],\n",
              "   [0, '↘', '↓1', '↘', '↓3', '↓3', '↓1', '↘', '↘'],\n",
              "   [0, '↓1', '↓1', '↓2', '↓2', '↓1', '↓1', '↘', '↓2']]])"
            ]
          },
          "metadata": {},
          "execution_count": 67
        }
      ]
    },
    {
      "cell_type": "code",
      "source": [
        "def outputLCS_global_mul(backtrack,s1,s2,s3,align1,align2,align3,i,j,o):\n",
        "  if backtrack[i][j][o] == 0: return align1,align2,align3\n",
        "  if backtrack[i][j][o] == '↘':\n",
        "    align1 = s1[i-1] + align1\n",
        "    align2 = s2[j-1] + align2\n",
        "    align3 = s3[o-1] + align3\n",
        "    return outputLCS_global_mul(backtrack,s1,s2,s3,align1,align2,align3,i-1,j-1,o-1)\n",
        "  elif backtrack[i][j][o] == '↓1': \n",
        "    align1 = s1[i-1] + align1\n",
        "    align2 = '-' + align2\n",
        "    align3 = '-' + align3\n",
        "    return outputLCS_global_mul(backtrack,s1,s2,s3,align1,align2,align3,i-1,j,o)\n",
        "  elif backtrack[i][j][o] == '↓2': \n",
        "    align1 = '-' + align1\n",
        "    align2 = s2[j-1] + align2\n",
        "    align3 = '-' + align3\n",
        "    return outputLCS_global_mul(backtrack,s1,s2,s3,align1,align2,align3,i,j-1,o)\n",
        "  elif backtrack[i][j][o] == '↓3': \n",
        "    align1 = '-' + align1\n",
        "    align2 = '-' + align2\n",
        "    align3 = s3[o-1] + align3\n",
        "    return outputLCS_global_mul(backtrack,s1,s2,s3,align1,align2,align3,i,j,o-1)    \n",
        "  elif backtrack[i][j][o] == '↓1,2': \n",
        "    align1 = s1[i-1] + align1\n",
        "    align2 = s2[j-1] + align2\n",
        "    align3 = '-' + align3\n",
        "    return outputLCS_global_mul(backtrack,s1,s2,s3,align1,align2,align3,i-1,j-1,o)\n",
        "  elif backtrack[i][j][o] == '↓1,3': \n",
        "    align1 = s1[i-1] + align1\n",
        "    align2 = '-' + align2\n",
        "    align3 = s3[o-1] + align3\n",
        "    return outputLCS_global_mul(backtrack,s1,s2,s3,align1,align2,align3,i-1,j,o-1)\n",
        "  elif backtrack[i][j][o] == '↓2,3': \n",
        "    align1 = '-' + align1\n",
        "    align2 = s2[j-1] + align2\n",
        "    align3 = s3[o-1] + align3\n",
        "    return outputLCS_global_mul(backtrack,s1,s2,s3,align1,align2,align3,i,j-1,o-1)    "
      ],
      "metadata": {
        "id": "goqsxlhMdNTe"
      },
      "execution_count": null,
      "outputs": []
    },
    {
      "cell_type": "code",
      "source": [
        "s1 = 'ATATCCG'\n",
        "s2 = 'TCCGA'\n",
        "s3 = 'ATGTACTG'\n",
        "align1, align2, align3 = '','',''\n",
        "matrix, backtrack = mul_align(s1,s2,s3)\n",
        "outputLCS_global_mul(backtrack,s1,s2,s3,align1,align2,align3,len(s1),len(s2),len(s3))"
      ],
      "metadata": {
        "colab": {
          "base_uri": "https://localhost:8080/"
        },
        "id": "kjYo6eW1PJEw",
        "outputId": "2b313eb5-6b18-4c4c-90fc-88c0990e46c4"
      },
      "execution_count": null,
      "outputs": [
        {
          "output_type": "execute_result",
          "data": {
            "text/plain": [
              "('T-ATCCG-', 'T---CCGA', 'TA--CTG-')"
            ]
          },
          "metadata": {},
          "execution_count": 69
        }
      ]
    },
    {
      "cell_type": "markdown",
      "source": [
        "#### Tasks\n",
        "1. Greedy sorting for reversal correction\n",
        "2. Count number of breakpoints"
      ],
      "metadata": {
        "id": "9KHoFo2qLKst"
      }
    },
    {
      "cell_type": "code",
      "source": [
        "def greedy_sort(blocks):\n",
        "  a = blocks.split(' ')\n",
        "  start = 1\n",
        "  while start <= len(a):\n",
        "    b = []\n",
        "    for i in range(start-1,len(a)):\n",
        "      if str(start) in list(a[i]):\n",
        "        for j in range(1,i+2-start+1):\n",
        "          b.append(a[start-1:i+1][-j])\n",
        "    for z,o in zip(range(start-1,start-1+len(b)),range(0,len(b))):\n",
        "      if list(b[o])[0] == '+':  pre = '-'\n",
        "      elif list(b[o])[0] == '-':  pre = '+'\n",
        "      a[z] = pre + list(b[o])[1] \n",
        "    print(a)    \n",
        "    if list(a[start-1])[0] == '-':  \n",
        "      a[start-1] = '+' + list(a[start-1])[1]     \n",
        "    start +=1 \n",
        "\n",
        "blocks = '-3 +4 +1 +5 -2'\n",
        "greedy_sort(blocks)"
      ],
      "metadata": {
        "colab": {
          "base_uri": "https://localhost:8080/"
        },
        "id": "y2Hi1jf5YFa1",
        "outputId": "861516ad-122a-4d03-8917-619fa285129d"
      },
      "execution_count": null,
      "outputs": [
        {
          "output_type": "stream",
          "name": "stdout",
          "text": [
            "['-1', '-4', '+3', '+5', '-2']\n",
            "['+1', '+2', '-5', '-3', '+4']\n",
            "['+1', '+2', '+3', '+5', '+4']\n",
            "['+1', '+2', '+3', '-4', '-5']\n",
            "['+1', '+2', '+3', '+4', '+5']\n"
          ]
        }
      ]
    },
    {
      "cell_type": "code",
      "source": [
        "blocks = '+5 +91 +39 -17 +105 -67 +120 -54 +11 +98 +74 +114 -37 +29 +57 +32 -89 +64 +128 +124 -111 -19 -104 -106 -80 +9 -83 -123 -140 +135 -34 +35 +2 -117 +69 -21 +25 +22 +75 -13 +15 +30 -113 +146 -127 +139 -93 -102 +101 +95 -142 +147 +43 -87 -48 -20 -55 +44 +119 +81 -18 -107 -68 +122 +134 -3 -63 +70 +121 +79 +50 +129 +1 +23 +86 +8 -72 -144 -7 -60 +148 -76 -51 -28 -49 +77 +6 +85 -16 +145 -24 -56 -53 +143 -40 -31 -71 -73 -110 -84 +99 -112 -66 +88 -100 -137 +136 -65 +38 +41 -78 -108 +4 -45 -58 -133 -90 -96 +118 +62 +141 +126 -36 +149 +132 +42 +33 -138 -130 +47 -14 +26 +92 -59 -27 +10 +61 +82 -125 +103 -109 +46 +97 -131 +115 +116 +52 -94 +12'\n",
        "greedy_sort(blocks)"
      ],
      "metadata": {
        "id": "qmPVc3U3dSIB"
      },
      "execution_count": null,
      "outputs": []
    },
    {
      "cell_type": "code",
      "source": [
        "-1 -4 +3 +5 -2\n",
        "+1 -4 +3 +5 -2\n",
        "+1 +2 -5 -3 +4\n",
        "+1 +2 +3 +5 +4\n",
        "+1 +2 +3 -4 -5\n",
        "+1 +2 +3 +4 -5\n",
        "+1 +2 +3 +4 +5"
      ],
      "metadata": {
        "id": "xH9d2qUZsvSK"
      },
      "execution_count": null,
      "outputs": []
    },
    {
      "cell_type": "code",
      "source": [
        "def num_breakpoint(string):\n",
        "  blocks = [0] + list(map(int,string.split(' '))) + [len(list(map(int,string.split(' '))))+1]\n",
        "  adj= 0\n",
        "  for i in range(0,len(blocks)-1):\n",
        "    if blocks[i+1] - blocks[i] == 1:\n",
        "      adj +=1\n",
        "  breakpoint = (len(blocks)-1) - adj\n",
        "  return breakpoint    "
      ],
      "metadata": {
        "id": "kQO92IwcNQzu"
      },
      "execution_count": null,
      "outputs": []
    },
    {
      "cell_type": "code",
      "source": [
        "string = '+3 +4 +5 -12 -8 -7 -6 +1 +2 +10 +9 -11 +13 +14'\n",
        "num_breakpoint(string)"
      ],
      "metadata": {
        "colab": {
          "base_uri": "https://localhost:8080/"
        },
        "id": "gZf6XUbhNgpB",
        "outputId": "6824bfd7-7b82-4860-ee7d-b9f8c491a8fb"
      },
      "execution_count": null,
      "outputs": [
        {
          "output_type": "execute_result",
          "data": {
            "text/plain": [
              "8"
            ]
          },
          "metadata": {},
          "execution_count": 3
        }
      ]
    },
    {
      "cell_type": "code",
      "source": [
        "file = \"/content/dataset_287_6.txt\"\n",
        "with open(file) as f:\n",
        "  text = f.read() \n",
        "num_breakpoint(text)  "
      ],
      "metadata": {
        "colab": {
          "base_uri": "https://localhost:8080/"
        },
        "id": "_m860PkyOEbr",
        "outputId": "4f5f1810-375d-4406-9797-97ff5c42c684"
      },
      "execution_count": null,
      "outputs": [
        {
          "output_type": "execute_result",
          "data": {
            "text/plain": [
              "171"
            ]
          },
          "metadata": {},
          "execution_count": 6
        }
      ]
    },
    {
      "cell_type": "markdown",
      "source": [
        "#### Tasks:\n",
        "1. 2-break distance problem\n",
        "2. Genome to breakpoint graph\n",
        "3. Sorting 2-break graph"
      ],
      "metadata": {
        "id": "M1VpKiVNl_g9"
      }
    },
    {
      "cell_type": "code",
      "source": [
        "def mulchrom_to_single(chroms):\n",
        "  c = []\n",
        "  for i in chroms.split('('):\n",
        "    if i!= '':\n",
        "      for j in i.split(')'):\n",
        "        if j != '':\n",
        "          c.append(j)\n",
        "  c1 = []        \n",
        "  for o in c:\n",
        "    for i in o.split(' '):\n",
        "      c1.append(i)\n",
        "  return c, c1            "
      ],
      "metadata": {
        "id": "FXZFuLbbpCan"
      },
      "execution_count": null,
      "outputs": []
    },
    {
      "cell_type": "code",
      "source": [
        "def chrom_to_cycle(chrom):\n",
        "  linear = list(map(int,chrom))\n",
        "  cycle = []\n",
        "  for i in range(0,len(linear)):\n",
        "    cycle.append(int(''.join(list(chrom[i])[1:]))*2-1)\n",
        "    cycle.append(int(''.join(list(chrom[i])[1:]))*2)\n",
        "  new_cycle = [None] * len(cycle)  \n",
        "  for i in range(0,len(linear)):\n",
        "    if linear[i] > 0:\n",
        "      new_cycle[i*2] = cycle[i*2]\n",
        "      new_cycle[i*2+1] = cycle[i*2+1]\n",
        "    elif linear[i] < 0:\n",
        "      new_cycle[i*2] = cycle[i*2+1]\n",
        "      new_cycle[i*2+1] = cycle[i*2]    \n",
        "  return ' '.join(list(map(str,new_cycle)))  "
      ],
      "metadata": {
        "id": "7zlDLdfqPxwu"
      },
      "execution_count": null,
      "outputs": []
    },
    {
      "cell_type": "code",
      "source": [
        "chroms = '(+1 -2 -3 +4)'\n",
        "mul_chrom, one_chrom = mulchrom_to_single(chroms)\n",
        "chrom_to_cycle(one_chrom) #output: (1 2 4 3 6 5 7 8)"
      ],
      "metadata": {
        "colab": {
          "base_uri": "https://localhost:8080/",
          "height": 35
        },
        "id": "JUSlNO9T0qso",
        "outputId": "a2dac741-b0f8-451d-852f-2dbc50aece22"
      },
      "execution_count": null,
      "outputs": [
        {
          "output_type": "execute_result",
          "data": {
            "text/plain": [
              "'1 2 4 3 6 5 7 8'"
            ],
            "application/vnd.google.colaboratory.intrinsic+json": {
              "type": "string"
            }
          },
          "metadata": {},
          "execution_count": 99
        }
      ]
    },
    {
      "cell_type": "code",
      "source": [
        "chroms = '(-1 -2 -3 +4 +5 +6 -7 +8 -9 +10 -11 +12 +13 -14 +15 +16 -17 +18 +19 -20 +21 +22 +23 -24 +25 -26 +27 +28 +29 +30 -31 -32 -33 -34 -35 -36 -37 -38 -39 +40 +41 -42 +43 -44 -45 +46 +47 -48 -49 +50 -51 -52 +53 -54 -55 +56 -57 -58 +59 +60 +61 -62 -63 +64 -65 -66 +67)'\n",
        "chrom = mulchrom_to_single(chroms)\n",
        "chrom_to_cycle(chrom)"
      ],
      "metadata": {
        "colab": {
          "base_uri": "https://localhost:8080/",
          "height": 70
        },
        "id": "iw3rT4_20tZe",
        "outputId": "83a71b16-eaf0-4a32-ce72-e02327783f4b"
      },
      "execution_count": null,
      "outputs": [
        {
          "output_type": "execute_result",
          "data": {
            "text/plain": [
              "'2 1 4 3 6 5 7 8 9 10 11 12 14 13 15 16 18 17 19 20 22 21 23 24 25 26 28 27 29 30 31 32 34 33 35 36 37 38 40 39 41 42 43 44 45 46 48 47 49 50 52 51 53 54 55 56 57 58 59 60 62 61 64 63 66 65 68 67 70 69 72 71 74 73 76 75 78 77 79 80 81 82 84 83 85 86 88 87 90 89 91 92 93 94 96 95 98 97 99 100 102 101 104 103 105 106 108 107 110 109 111 112 114 113 116 115 117 118 119 120 121 122 124 123 126 125 127 128 130 129 132 131 133 134'"
            ],
            "application/vnd.google.colaboratory.intrinsic+json": {
              "type": "string"
            }
          },
          "metadata": {},
          "execution_count": 78
        }
      ]
    },
    {
      "cell_type": "code",
      "source": [
        "def cycle_to_chrom(cycle):\n",
        "  cycle = list(map(int,cycle))\n",
        "  chrom = []\n",
        "  for i in range(round(min(cycle)/2 + 0.1),round(max(cycle)/2)+1):\n",
        "    chrom.append(i)\n",
        "  new_chrom = [None] * len(chrom)\n",
        "  for i in range(0,len(new_chrom)):\n",
        "    if cycle[i*2] < cycle[i*2+1]:\n",
        "      new_chrom[i] = '+' + str(chrom[i])\n",
        "    elif cycle[i*2] > cycle[i*2+1]:\n",
        "      new_chrom[i] = '-' + str(chrom[i])\n",
        "  return ' '.join(new_chrom)       "
      ],
      "metadata": {
        "id": "jTv6-1EE29N2"
      },
      "execution_count": null,
      "outputs": []
    },
    {
      "cell_type": "code",
      "source": [
        "cycle = '(1 2 4 3 6 5 7 8)'\n",
        "mul_chrom, cycle = mulchrom_to_single(cycle)\n",
        "cycle_to_chrom(cycle)"
      ],
      "metadata": {
        "colab": {
          "base_uri": "https://localhost:8080/",
          "height": 35
        },
        "id": "N34QPIKu3L4a",
        "outputId": "96f0f926-2050-4ace-a1a0-242ea9ac9964"
      },
      "execution_count": null,
      "outputs": [
        {
          "output_type": "execute_result",
          "data": {
            "text/plain": [
              "'+1 -2 -3 +4'"
            ],
            "application/vnd.google.colaboratory.intrinsic+json": {
              "type": "string"
            }
          },
          "metadata": {},
          "execution_count": 31
        }
      ]
    },
    {
      "cell_type": "code",
      "source": [
        "cycle = '(1 2 3 4 5 6 7 8 10 9 11 12 14 13 16 15 17 18 20 19 21 22 23 24 26 25 27 28 30 29 31 32 34 33 35 36 37 38 39 40 42 41 43 44 45 46 48 47 50 49 51 52 54 53 55 56 57 58 60 59 61 62 64 63 65 66 67 68 70 69 71 72 74 73 75 76 78 77 80 79 82 81 83 84 86 85 87 88 89 90 91 92 93 94 96 95 97 98 100 99 102 101 104 103 106 105 107 108 109 110 112 111 113 114 115 116 117 118 120 119 121 122 123 124 125 126 127 128 130 129 132 131 134 133 135 136 137 138)'\n",
        "cycle = mulchrom_to_single(cycle)\n",
        "cycle \n",
        "cycle_to_chrom(cycle)"
      ],
      "metadata": {
        "colab": {
          "base_uri": "https://localhost:8080/",
          "height": 53
        },
        "id": "niLywUrj3UAU",
        "outputId": "a15f5cf2-e9f9-4a35-b5b2-3d04225a62f1"
      },
      "execution_count": null,
      "outputs": [
        {
          "output_type": "execute_result",
          "data": {
            "text/plain": [
              "'+1 +2 +3 +4 -5 +6 -7 -8 +9 -10 +11 +12 -13 +14 -15 +16 -17 +18 +19 +20 -21 +22 +23 -24 -25 +26 -27 +28 +29 -30 +31 -32 +33 +34 -35 +36 -37 +38 -39 -40 -41 +42 -43 +44 +45 +46 +47 -48 +49 -50 -51 -52 -53 +54 +55 -56 +57 +58 +59 -60 +61 +62 +63 +64 -65 -66 -67 +68 +69'"
            ],
            "application/vnd.google.colaboratory.intrinsic+json": {
              "type": "string"
            }
          },
          "metadata": {},
          "execution_count": 89
        }
      ]
    },
    {
      "cell_type": "code",
      "source": [
        "def split_chroms(mul_chroms):\n",
        "  start = []\n",
        "  end = []\n",
        "  e = 0\n",
        "  for i in range(0,len(mul_chroms)):\n",
        "    start.append(i + e)\n",
        "    end.append((i+e+len(mul_chroms[i].split(' '))*2))\n",
        "    e = len(mul_chroms[i].split(' '))*2-1\n",
        "  return start, end"
      ],
      "metadata": {
        "id": "WmoflG2Qq0do"
      },
      "execution_count": null,
      "outputs": []
    },
    {
      "cell_type": "code",
      "source": [
        "def colored_edges(start,end,cycles):\n",
        "  result = []\n",
        "  j = 0\n",
        "  while j != len(start):\n",
        "    edges = []\n",
        "    cycle = ' '.join(cycles.split(' ')[start[j]:end[j]])\n",
        "    color_cycle = cycle.split(' ') + cycle.split(' ')[0:2]\n",
        "    for i in range(1,int((len(color_cycle)-2)/2)+1):\n",
        "      edges.append((int(color_cycle[i*2-1]),int(color_cycle[i*2])))\n",
        "    result += edges   \n",
        "    j +=1\n",
        "    result = list(map(str,result))\n",
        "  return ', '.join(result) "
      ],
      "metadata": {
        "id": "qiHBlNtiu4le"
      },
      "execution_count": null,
      "outputs": []
    },
    {
      "cell_type": "code",
      "source": [
        "def graph_to_genome(graph):\n",
        "  string = []\n",
        "  cycles = []\n",
        "  start = [1]\n",
        "  end = []\n",
        "  chroms = []\n",
        "  j = 0\n",
        "  for i in graph:\n",
        "    string.append(i[0])\n",
        "    string.append(i[1])\n",
        "  string = [0] + string + [len(string)+1]\n",
        "  for i in range(1,len(string)-1):\n",
        "    if string[i-1]>string[i]<string[i+1] and string[i-1]-string[i] !=1 and string[i+1]-string[i]!=1:\n",
        "      end.append(i)\n",
        "      if i+1!= len(string)-1:\n",
        "        start.append(i+1)   \n",
        "  while j!=len(start):\n",
        "    cycle = list(map(str,[string[start[j]:end[j]+1][-1]] + string[start[j]:end[j]]))\n",
        "    cycles.append(cycle_to_chrom(cycle))\n",
        "    j +=1   \n",
        "  return '('+')('.join(cycles)+')'"
      ],
      "metadata": {
        "id": "75qRADXSaIxK"
      },
      "execution_count": null,
      "outputs": []
    },
    {
      "cell_type": "code",
      "source": [
        "graph = [(2, 3), (4, 6), (5, 7), (8, 10), (9, 11), (12, 14), (13, 15), (16, 17), (18, 20), (19, 21), (22, 24), (23, 26), (25, 28), (27, 29), (30, 31), (32, 34), (33, 35), (36, 37), (38, 39), (40, 42), (41, 44), (43, 45), (46, 47), (48, 50), (49, 51), (52, 53), (54, 55), (56, 58), (57, 1), (59, 61), (62, 64), (63, 66), (65, 68), (67, 69), (70, 71), (72, 73), (74, 75), (76, 78), (77, 79), (80, 82), (81, 84), (83, 85), (86, 88), (87, 90), (89, 91), (92, 93), (94, 95), (96, 97), (98, 100), (99, 102), (101, 103), (104, 106), (105, 108), (107, 109), (110, 111), (112, 60), (114, 115), (116, 117), (118, 120), (119, 121), (122, 124), (123, 126), (125, 128), (127, 129), (130, 132), (131, 134), (133, 136), (135, 138), (137, 139), (140, 141), (142, 143), (144, 145), (146, 148), (147, 150), (149, 152), (151, 153), (154, 155), (156, 157), (158, 160), (159, 162), (161, 163), (164, 165), (166, 168), (167, 169), (170, 113), (171, 173), (174, 175), (176, 177), (178, 180), (179, 181), (182, 184), (183, 185), (186, 188), (187, 189), (190, 191), (192, 194), (193, 195), (196, 197), (198, 200), (199, 202), (201, 204), (203, 205), (206, 207), (208, 209), (210, 211), (212, 214), (213, 216), (215, 217), (218, 219), (220, 221), (222, 224), (223, 172), (225, 227), (228, 229), (230, 231), (232, 234), (233, 236), (235, 237), (238, 239), (240, 242), (241, 244), (243, 245), (246, 247), (248, 249), (250, 251), (252, 254), (253, 255), (256, 258), (257, 260), (259, 261), (262, 264), (263, 265), (266, 267), (268, 269), (270, 271), (272, 273), (274, 276), (275, 277), (278, 226), (280, 281), (282, 284), (283, 285), (286, 287), (288, 289), (290, 291), (292, 293), (294, 296), (295, 297), (298, 300), (299, 302), (301, 303), (304, 305), (306, 308), (307, 309), (310, 311), (312, 314), (313, 316), (315, 317), (318, 319), (320, 321), (322, 324), (323, 326), (325, 328), (327, 330), (329, 331), (332, 334), (333, 335), (336, 279), (338, 339), (340, 342), (341, 344), (343, 345), (346, 348), (347, 349), (350, 352), (351, 354), (353, 356), (355, 358), (357, 360), (359, 361), (362, 363), (364, 366), (365, 368), (367, 370), (369, 372), (371, 373), (374, 375), (376, 378), (377, 380), (379, 382), (381, 383), (384, 386), (385, 337), (387, 389), (390, 392), (391, 394), (393, 395), (396, 397), (398, 400), (399, 402), (401, 404), (403, 405), (406, 408), (407, 410), (409, 411), (412, 413), (414, 415), (416, 418), (417, 420), (419, 422), (421, 423), (424, 426), (425, 428), (427, 429), (430, 431), (432, 433), (434, 435), (436, 437), (438, 388), (439, 441), (442, 444), (443, 445), (446, 447), (448, 450), (449, 451), (452, 453), (454, 456), (455, 457), (458, 459), (460, 462), (461, 463), (464, 466), (465, 467), (468, 470), (469, 471), (472, 474), (473, 476), (475, 477), (478, 480), (479, 440)]\n",
        "graph_to_genome(graph) "
      ],
      "metadata": {
        "colab": {
          "base_uri": "https://localhost:8080/",
          "height": 105
        },
        "id": "agQ8mzYIv_13",
        "outputId": "8c4f6f94-c5b2-45d2-9d17-15abf5f46f07"
      },
      "execution_count": null,
      "outputs": [
        {
          "output_type": "execute_result",
          "data": {
            "text/plain": [
              "'(+1 +2 -3 +4 -5 +6 -7 +8 +9 -10 +11 -12 -13 -14 +15 +16 -17 +18 +19 +20 -21 -22 +23 +24 -25 +26 +27 +28 -29)(-30 +31 -32 -33 -34 +35 +36 +37 +38 -39 +40 -41 -42 +43 -44 -45 +46 +47 +48 +49 -50 -51 +52 -53 -54 +55 +56)(+57 +58 +59 -60 +61 -62 -63 -64 +65 -66 -67 -68 -69 +70 +71 +72 +73 -74 -75 -76 +77 +78 +79 -80 -81 +82 +83 -84 +85)(-86 +87 +88 +89 -90 +91 -92 +93 -94 +95 +96 -97 +98 +99 -100 -101 -102 +103 +104 +105 +106 -107 -108 +109 +110 +111 -112)(-113 +114 +115 +116 -117 -118 +119 +120 -121 -122 +123 +124 +125 +126 -127 +128 -129 -130 +131 -132 +133 +134 +135 +136 +137 -138 +139)(+140 +141 -142 +143 +144 +145 +146 +147 -148 +149 -150 -151 +152 +153 -154 +155 +156 -157 -158 +159 +160 +161 -162 -163 -164 -165 +166 -167 +168)(+169 +170 -171 -172 +173 -174 +175 -176 -177 -178 -179 -180 +181 +182 -183 -184 -185 -186 +187 +188 -189 -190 -191 +192 -193)(-194 +195 -196 -197 +198 +199 -200 -201 -202 +203 -204 -205 +206 +207 +208 -209 -210 -211 +212 -213 -214 +215 +216 +217 +218 +219)(-220 +221 -222 +223 +224 -225 +226 +227 -228 +229 +230 -231 +232 -233 +234 -235 +236 -237 -238 +239 -240)'"
            ],
            "application/vnd.google.colaboratory.intrinsic+json": {
              "type": "string"
            }
          },
          "metadata": {},
          "execution_count": 62
        }
      ]
    },
    {
      "cell_type": "code",
      "source": [
        "graph = [(2, 4), (3, 6), (5, 1), (7, 9), (10, 12), (11, 8)]\n",
        "graph_to_genome(graph) #output: (+1 -2 -3)(-4 +5 -6)"
      ],
      "metadata": {
        "colab": {
          "base_uri": "https://localhost:8080/",
          "height": 35
        },
        "id": "DcrlMR7msslY",
        "outputId": "579ed5f1-6111-4f07-a976-f6530632c600"
      },
      "execution_count": null,
      "outputs": [
        {
          "output_type": "execute_result",
          "data": {
            "text/plain": [
              "'(+1 -2 -3)(-4 +5 -6)'"
            ],
            "application/vnd.google.colaboratory.intrinsic+json": {
              "type": "string"
            }
          },
          "metadata": {},
          "execution_count": 60
        }
      ]
    },
    {
      "cell_type": "code",
      "source": [
        "# use for multichromosomes \n",
        "chroms = '(+1 -2 -3)(+4 +5 -6)'\n",
        "mul_chroms, one_chrom = mulchrom_to_single(chroms)\n",
        "start, end = split_chroms(mul_chroms)\n",
        "cycles = chrom_to_cycle(one_chrom)\n",
        "colored_edges(start,end,cycles)"
      ],
      "metadata": {
        "id": "7KIajN4zQJdM",
        "colab": {
          "base_uri": "https://localhost:8080/",
          "height": 35
        },
        "outputId": "ef226140-b083-470f-eeb9-4d7778feb655"
      },
      "execution_count": null,
      "outputs": [
        {
          "output_type": "execute_result",
          "data": {
            "text/plain": [
              "'(2, 4) ,(3, 6) ,(5, 1) ,(8, 9) ,(10, 12) ,(11, 7)'"
            ],
            "application/vnd.google.colaboratory.intrinsic+json": {
              "type": "string"
            }
          },
          "metadata": {},
          "execution_count": 86
        }
      ]
    },
    {
      "cell_type": "code",
      "source": [
        "chroms = '(-1 -2 -3 -4 +5 -6 -7 +8 -9 +10 +11 -12 +13 -14 +15 +16 -17 -18 -19 -20 -21 +22 -23 -24 -25 +26)(+27 -28 -29 -30 +31 +32 -33 -34 -35 -36 +37 +38 -39 -40 +41 -42 -43 -44 -45 +46 +47 -48 +49)(-50 -51 +52 -53 -54 +55 -56 -57 +58 +59 +60 -61 +62 +63 -64 +65 +66 +67 -68 -69 +70 -71 -72 -73 -74 +75 +76 -77)(+78 +79 -80 -81 +82 +83 +84 -85 -86 -87 +88 -89 +90 +91 -92 +93 -94 +95 -96 -97 +98 +99 -100 -101 -102)(-103 +104 +105 -106 -107 -108 -109 -110 +111 -112 +113 +114 -115 +116 -117 -118 -119 +120 +121 +122 +123 +124 +125 +126 +127 +128)(+129 -130 +131 -132 +133 +134 -135 +136 -137 -138 -139 -140 -141 +142 -143 -144 +145 +146 +147 +148 -149 -150 +151 +152 +153 -154 +155 +156 +157 +158 +159)(-160 +161 +162 -163 -164 +165 +166 +167 -168 -169 +170 -171 +172 +173 -174 +175 +176 -177 -178 +179 +180 -181 -182)(-183 +184 +185 +186 -187 -188 +189 +190 +191 +192 +193 -194 +195 +196 -197 +198 +199 +200 +201 +202 -203 -204 -205 -206 +207 +208 -209 -210 -211 -212 -213)(+214 +215 +216 -217 +218 +219 +220 -221 -222 -223 +224 +225 -226 -227 -228 +229 -230 -231 +232 -233 -234)'\n",
        "mul_chroms, one_chrom = mulchrom_to_single(chroms)\n",
        "start, end = split_chroms(mul_chroms)\n",
        "cycles = chrom_to_cycle(one_chrom)\n",
        "colored_edges(start,end,cycles)"
      ],
      "metadata": {
        "id": "5h0FkLBZ9g3v",
        "colab": {
          "base_uri": "https://localhost:8080/",
          "height": 105
        },
        "outputId": "72e1d41d-8fc8-4e23-c653-fc98dd8d0081"
      },
      "execution_count": null,
      "outputs": [
        {
          "output_type": "execute_result",
          "data": {
            "text/plain": [
              "'(1, 4), (3, 6), (5, 8), (7, 9), (10, 12), (11, 14), (13, 15), (16, 18), (17, 19), (20, 21), (22, 24), (23, 25), (26, 28), (27, 29), (30, 31), (32, 34), (33, 36), (35, 38), (37, 40), (39, 42), (41, 43), (44, 46), (45, 48), (47, 50), (49, 51), (52, 2), (54, 56), (55, 58), (57, 60), (59, 61), (62, 63), (64, 66), (65, 68), (67, 70), (69, 72), (71, 73), (74, 75), (76, 78), (77, 80), (79, 81), (82, 84), (83, 86), (85, 88), (87, 90), (89, 91), (92, 93), (94, 96), (95, 97), (98, 53), (50, 49), (51, 52), (53, 54), (56, 55), (58, 57), (60, 59), (61, 62), (63, 64), (66, 65), (68, 67), (70, 69), (72, 71), (73, 74), (75, 76), (78, 77), (80, 79), (81, 82), (84, 83), (86, 85), (88, 87), (90, 89), (91, 92), (93, 94), (96, 95), (97, 98), (100, 99), (102, 101), (103, 47), (59, 61), (62, 63), (64, 66), (65, 68), (67, 70), (69, 72), (71, 73), (74, 75), (76, 78), (77, 80), (79, 81), (82, 84), (83, 86), (85, 88), (87, 90), (89, 91), (92, 93), (94, 96), (95, 97), (98, 100), (99, 102), (101, 103), (104, 106), (105, 108), (107, 60), (56, 55), (58, 57), (60, 59), (61, 62), (63, 64), (66, 65), (68, 67), (70, 69), (72, 71), (73, 74), (75, 76), (78, 77), (80, 79), (81, 82), (84, 83), (86, 85), (88, 87), (90, 89), (91, 92), (93, 94), (96, 95), (97, 98), (100, 99), (102, 101), (103, 104), (106, 54), (57, 60), (59, 61), (62, 63), (64, 66), (65, 68), (67, 70), (69, 72), (71, 73), (74, 75), (76, 78), (77, 80), (79, 81), (82, 84), (83, 86), (85, 88), (87, 90), (89, 91), (92, 93), (94, 96), (95, 97), (98, 100), (99, 102), (101, 103), (104, 106), (105, 108), (107, 109), (110, 112), (111, 114), (113, 115), (116, 117), (118, 58), (70, 69), (72, 71), (73, 74), (75, 76), (78, 77), (80, 79), (81, 82), (84, 83), (86, 85), (88, 87), (90, 89), (91, 92), (93, 94), (96, 95), (97, 98), (100, 99), (102, 101), (103, 104), (106, 105), (108, 107), (109, 110), (112, 111), (114, 67), (54, 56), (55, 58), (57, 60), (59, 61), (62, 63), (64, 66), (65, 68), (67, 70), (69, 72), (71, 73), (74, 75), (76, 78), (77, 80), (79, 81), (82, 84), (83, 86), (85, 88), (87, 90), (89, 91), (92, 93), (94, 96), (95, 97), (98, 100), (99, 102), (101, 103), (104, 106), (105, 108), (107, 109), (110, 112), (111, 114), (113, 53), (72, 71), (73, 74), (75, 76), (78, 77), (80, 79), (81, 82), (84, 83), (86, 85), (88, 87), (90, 89), (91, 92), (93, 94), (96, 95), (97, 98), (100, 99), (102, 101), (103, 104), (106, 105), (108, 107), (109, 110), (112, 69)'"
            ],
            "application/vnd.google.colaboratory.intrinsic+json": {
              "type": "string"
            }
          },
          "metadata": {},
          "execution_count": 89
        }
      ]
    },
    {
      "cell_type": "code",
      "source": [
        "import numpy as np\n",
        "def colored_edges_cycle(blue,red):\n",
        "  matrix = np.zeros((len(blue)+len(red)+1,2),dtype='object')\n",
        "  cycles = []\n",
        "  for i in blue:\n",
        "    matrix[i[0],0] = i[1]\n",
        "    matrix[i[1],0] = i[0]\n",
        "  for i in red:\n",
        "    matrix[i[0],1] = i[1]\n",
        "    matrix[i[1],1] = i[0]   \n",
        "  visited_node = [0]\n",
        "  for i in range(1,len(matrix)):\n",
        "    color = 0\n",
        "    if i not in visited_node:\n",
        "      cycle = [i]\n",
        "      node = matrix[i,color]\n",
        "      while node != i:\n",
        "        visited_node.append(node)\n",
        "        cycle.append(node)\n",
        "        color = (color+1)%2\n",
        "        node = matrix[node,color]\n",
        "      cycles.append(cycle)  \n",
        "  return cycles   "
      ],
      "metadata": {
        "id": "IczYL-c4Rmcc"
      },
      "execution_count": null,
      "outputs": []
    },
    {
      "cell_type": "code",
      "source": [
        "file = \"/content/2-break-dis.txt\"\n",
        "with open(file) as f:\n",
        "  text = f.read() \n",
        "red = text.split('\\n')[0]\n",
        "blue = text.split('\\n')[1]\n",
        "red,blue  "
      ],
      "metadata": {
        "colab": {
          "base_uri": "https://localhost:8080/"
        },
        "id": "ksmLhccFVw3q",
        "outputId": "4aa34181-484b-49d4-d484-5b7e72590785"
      },
      "execution_count": null,
      "outputs": [
        {
          "output_type": "execute_result",
          "data": {
            "text/plain": [
              "('(+5420 +5261 +204 -3683 +3614 +4089 -2136 -4307 +360 +3157 -6341 +5779 +5648 +5391 -431 +6270 +5042 +4100 +5254 -3681 +6383 +2219 +7077 -7664 +3710 +107 -1138 -8318 +517 -11 -6955 -736 -1046 -6581 +4345 +2473 -5442 +825 +8591 +7910 -4762 +2697 +4725 -6093 +8929 -1744 -8354 +4528 +591 +7088 +1193 +5050 -5562 +6081 +6651 +6440 -7803 -7666 +6891 -1519 -3551 -7175 +3177 -1402 +539 -6244 +3801 +2006 -8679 -8412 +6960 -1141 -2997 -1108 -4076 +8912 +4895 -2081 +3024 -6115 +7976 +7000 +4293 -1981 +3049 -7744 -8875 +6347 +1975 +1353 +7634 -525 +6769 +741 -675 -3632 -6998 +3703 -1292 -7022 -5755 +543 -4404 -732 -12 -7499 -8298 -7720 -8328 +8241 +5924 -7865 -7419 -5969 -2652 -7633 +7493 +4117 -5017 +5909 -1480 +7737 -7480 +290 -6776 +2724 -4915 -1591 +6991 +3140 +8443 -5303 +4855 +3948 -5363 -8130 +8173 +8317 +175 +6562 +1643 -7748 -4760 +4934 -4305 -1153 -801 +8331 -3593 +8320 -6564 -4028 +5715 -2558 +8414 +1679 -2670 -942 -990 -5957 -4858 +8375 -8624 +108 -1736 +480 -8164 +7610 -3097 +4794 +1097 -7827 +4061 +3220 +570 +8810 +5759 -4488 +4342 +5033 +3286 +1508 +1029 +8357 +3147 +2463 -4939 -6871 +2135 +1388 +3901 -8248 +1543 -4044 +1206 +674 -2851 +1362 +4201 +8490 +4207 +3845 +643 -626 +4096 +53 -760 -5342 -6239 +4405 +8651 +5507 -8466 +2642 -8955 +5882 -599 -2138 -2017 +2990 -1000 -2760 +495 -3541 +4563 +6505 -6511 +6777 +3318 -1284 -5049 -1312 +2993 -2876 +8304 -8397 -7114 +4885 -5905 -1393 +8163 +2356 +8871 +5070 +2281 +5449 +8510 +7501 -8545 -8219 -3713 -2357 -663 +178 -1007 -185 -2828 -2200 +6509 +244 +1227 -803 +5323 -4951 -230 -8321 -1658 +4250 +6408 -7922 -5314 -7505 +4983 +4169 -6500 -2547 +7220 +6518 -2844 +8888 -4625 +2966 -8492 +8377 -3976 +5227 -5063 -2236 -2201 -5426 +3412 +46 +969 -2158 +14 +2645 -1973 -5073 +4529 +3136 +5349 -4514 -8727 +8001 +7120 -1561 +1237 +4074 +8663 -8720 +1364 -8152 +2705 +8747 +7136 +6101 -6476 +1928 -1373 -1277 -8959 +8534 +1787 +7998 -6787 -4732 -8045 -7229 +1113 +3842 +8273 -252 -1463 -521 -5932 +2342 -4598 +4874 -6815 -7069 +4310 +4324 +3413 +5040 -5431 +2758 +8043 -4303 +5731 +3663 +5913 +3432 -6585 -7981 +1712 -5143 -8554 +2146 +8254 +4503 -8644 +5773 -306 -3102 -4155 +3668 -5656 +6143 -2013 -8105 -823 +8498 -8253 -5937 +304 -5644 +5914 +4604 -8469 +4892 -3155 +3759 -2104 +7485 -2883 +8 +8058 +731 -7754 +6956 -3229 -7228 -180 -921 -2791 +1501 -2676 +772 -972 +2405 +8103 -1785 -4710 -7470 -887 -5351 +4014 +5269 +6246 -6240 -476 +1179 +4787 -6472 -7759 -2530 +6650 +1106 -1472 +3654 -6148 +4152 -2014 -2172 +2878 +273 +7255 +5080 -5942 +2923 +1038 -2504 -5870 +8761 -2391 -305 -4940 +4538 +345 +1084 +4372 -6384 -5197 -1126 -4744 +6395 -711 +5524 +1464 -6996 +4673 +6524 -3877 -2683 -2051 +3922 +7322 -2526 +1924 +1045 -2685 +7548 +7386 +3752 -7146 -6620 +7010 -17 +5162 +4035 +3821 -3536 +1967 -8703 -6791 -6558 -3826 +4838 +2338 -5867 -4220 -4299 -2693 -3904 -3406 +7414 +4301 -4133 +1944 +4504 -2984 +4615 -4857 -3109 -6123 +8035 -1653 -7193 -1927 -3721 -33 +2579 -6657 +1800 -7300 -1375 -8209 +7707 -7883 -8689 -1479 +1994 -1593 +4791 -356 +3705 +6799 +3438 -2204 -7064 -5481 +6226 +6582 +1329 +6388 -4866 -5563 -8773 -8893 +1737 -835 -967 -992 +6637 -6903 -3947 -4412 -5076 +7767 +5498 -637 +6450 +7769 +4555 +4746 +2907 -374 +3535 +5128 +7718 +7391 +897 -7477 +566 -1232 -2814 +5842 -5601 +4968 +4183 -3006 +8367 +1455 -2629 +3250 -2754 -351 +7333 +6436 +8280 +7876 -4950 +8324 -4766 -657 -8232 +6428 -4635 -7374 -4191 +2074 +1041 +4917 +8467 -8459 -8851 +5532 -981 -3658 -2678 -2103 +1189 +2809 -822 -8723 +5195 -976 -3692 -3054 -163 +5160 -4491 -7838 +8336 -6010 +5981 -2029 -205 +2655 +4457 +6900 +6503 -5216 +5350 -4038 -5502 +3513 -2980 -5432 -7479 +4905 -7385 +3487 +5082 +2110 -1898 +2667 -7907 +2611 -4923 -6094 -8040 +7559 +2378 +5483 -3217 -1772 -6890 -8593 +2794 -4632 -3179 -2626 +4707 -1827 +8948 -7868 -6774 -399 +7036 +1258 +5513 +496 -5427 +4823 +3903 +8060 +5798 -7473 -5617 -8607 -3649 -4151 -8464 -3027 -7375 -5439 -5217 +2194 -6979 -620 +2807 -7620 +4543 -2087 -7422 -938 +702 +8203 -4019 -5334 -2114 +3149 +5819 -3301 -6053 -660 +1877 -5632 +1630 +6691 -6044 -1441 -4672 +2739 +129 +8428 +5474 -1595 +196 -1814 -1134 -6241 -4913 -7687 +5771 -7862 -6641 -5719 +6952 -3921 +2696 -3418 +4875 +7134 -3104 +3324 +3812 +7231 -3869 +4569 +4948 -5456 +7196 -98 +4047 -3757 -319 +7257 +1406 -5219 -3825 -5698 +7831 -3679 +7032 -2295 -1438 -6339 +4871 +8080 +2947 +7019 -4807 +1775 -4736 -4227 +5116 -4472 -727 +3674 -4969 -4316 +4189 +2810 +8631 +7248 +8842 -4842 -7826 -8185 -8407 -2261 +3819 -3134 -2916 -5240 -5677 +6188 -7435 +1612 -1996 -7746 +773 -4099 -7250 -3078 +622 +2225 +5555 +6895 -8244 -5869 +1684 -7560 -2750 -5902 +1253 +8536 -4264 +7497 +1773 -2632 +2659 -1509 -2321 -1267 +6695 -8926 +3353 +6862 +7184 +7518 -2973 +4432 +1594 -6186 +255 +3868 +2989 -6597 +7927 +8165 -5230 -845 +3883 +3225 -421 +3395 -3218 +2180 -2267 +2718 +6877 -3200 +6521 +171 +6913 +1098 -7624 -2339 +1616 -681 +2461 -5626 +898 +4257 -5038 -103 -5120 +1650 -5205 -2485 -8757 +7249 +4492 -1436 +5464 +8286 -7579 +909 +1879 -5586 -951 -4104 -8821 +1218 +7079 -804 +8752 +4255 +4204 -2047 -8958 -6713 +3426 -1188 -8360 -4620 -5918 +4143 -766 +6110 +6859 +7896 -1139 -3457 +3586 +6352 -1274 +343 +8032 -8700 -1191 -6646 -940 +8633 +953 -7166 -8826 +8844 +5064 +888 -3485 +1257 +8432 +2618 +4329 -3143 -1008 -6881 +7726 -8451 +2521 +8064 -6850 -4699 +1900 -5385 -126 +3066 +7177 -1185 -7534 +7894 +1974 -4573 -2041 -1462 +6274 -5517 +3720 -8762 +4388 -6103 +1099 -7674 -4428 +7323 -7816 +5476 -5589 +7163 +1717 +2241 +7749 +4848 +980 +5707 -3267 -3368 -3310 +149 -3139 +2836 +1410 +6731 -859 +1628 -2178 +4701 +5094 +2736 -1128 +4252 -2123 +4049 +1642 +3509 -4854 +7219 +8170 +505 +6750 -8882 -1172 -5545 -882 +6919 -7951 -8718 +7745 +6725 -2623 -488 -4847 +5470 +8587 -7350 -1488 -6146 +592 -8530 +1119 +8715 -6591 +5968 +5630 -2446 +5357 +7756 +842 -443 +5805 -3575 +4796 +2695 +5352 +641 +3150 -8549 +974 -5608 +5884 -380 +3640 +6370 +6261 +7329 -1935 -1889 -3622 -790 +4889 +8580 +3519 -4730 +7110 -75 -5744 -7070 -2057 -469 +1199 -6630 -597 -4525 -3094 +3064 -6584 -6507 +6043 +1194 -6221 -2974 -7886 +856 -1372 +2612 +2157 -8618 -3844 -4899 -7957 -6012 +2560 -2465 -5743 +2386 +8741 -1776 -7397 -644 +2881 -2377 +259 -2616 -2879 -902 -1958 -1963 -6085 -5486 -3729 +7581 -1945 +7285 -8508 -8125 -4960 +3631 -5556 +8326 -4455 +4500 +1585 -1505 -7148 +4205 -7446 -8187 +7495 +3594 -4946 +2036 -2580 -1794 +5612 +5788 -8922 -4407 -3019 -7740 +6466 -4886 -7087 +6362 -8570 -3635 -3001 -4578 -2825 +4083 -5577 +1560 +797 -7106 +3718 +2994 -6414 -7648 +7598 -363 +5077 +7618 -5939 -1390 +3930 +4272 -3824 +6936 -7715 -8597 +2522 +5944 -789 -4186 -1592 -8787 -3576 +4376 -6002 -4612 -1919 -3935 +1884 -5107 -6793 -4370 -3215 +5671 +3156 -7792 -2239 -4150 +4933 +884 -347 -5880 +7442 -1634 +4149 +1052 +6191 +6072 +5514 -8876 -4560 +4253 -575 +770 +1422 +323 -636 +5472 +4535 +3311 +7338 +3444 +1323 -6312 -4383 +1719 +4804 +1259 -6616 +4036 -6407 -6013 +7108 +6404 +813 -4763 -3309 +4268 -2865 +4806 +914 +4450 -4483 -7283 +1386 -462 +3777 -1589 -3963 -1452 +6640 -2343 -4136 +7931 -1013 +554 +3108 -3985 +6802 -8940 +2593 +4882 +6285 +8704 -4302 -3562 +3174 +8928 -7528 +7941 -4394 -6753 +2426 +4820 +2254 -2400 -6302 -8471 -7188 +7980 +8245 -1100 -8302 +8480 -8283 -7452 -5921 -153 +5526 -4429 +2755 +115 +2567 +8322 +2436 +2873 -7905 -7645 -3534 +2269 +8309 -1727 -7885 +7662 -2183 -1676 +2154 +3326 +8791 -6517 +194 -5388 -238 +2207 +1742 -2582 +1114 +1602 +5930 -8950 +7464 -2209 -4714 +3849 +4233 +4958 +2077 -6141 -4231 +5769 +8933 +8636 -3889 +267 -1200 -6457 -1403 -8687 +8085 +2694 +1061 -5781 -6807 -3672 -4657 +1169 -5330 +1617 -8310 -1431 -5614 +6790 +5317 -1423 +7112 +5856 +5487 -8135 +272 -5801 -1621 -5316 +1322 -1740 -8489 +1504 -1768 +2571 +209 -2898 +5943 +1816 +529 +4358 +7227 +6005 -2711 -6157 -4185 +530 +2080 -4542 +3996 -8436 -2090 +3931 +4718 +2091 +874 +3299 -8840 -765 -5260 -5289 -7423 -6262 +174 +5222 +987 +1971 -4479 -3480 -3491 -5815 -422 -6498 +6052 -3878 -1417 +3259 -6096 -6278 -7614 +3166 +8295 +8457 +8031 +8724 -5578 +4013 +5997 +6690 +3034 -2407 -596 +625 +1234 +3860 +8520 -2639 +43 +7042 -5678 +6304 +5702 +4667 -3811 +4071 -7991 -5765 -2385 -7680 -5339 -3473 +5362 -5967 +1895 +6619 -5975 +1475 -8647 -4602 +678 -6060 -2730 -2726 -6364 +3911 -3564 +1968 +7777 -8046 -3180 -6494 +2025 +827 -2700 +4735 +156 +6171 +6311 -5729 -2786 +4106 -4700 +6708 -2316 +4113 +1639 -4287 +7383 +7293 +6299 +820 -4600 +4680 -6204 -258 +4638 +4758 -1443 +1979 -1876 +8148 +5596 +2117 +5636 +1739 -3771 +8655 +4518 -524 +2692 +292 +3142 -4460 -7978 +311 +1424 +261 -8895 +7790 -8169 +4008 +627 -451 +7437 +8159 +3794 +5576 +2452 -7092 +8897 +2532 -8193 -7708 +6758 -6934 +1018 -1802 +8908 -5499 +449 -6169 +708 -6847 -6109 -2464 +6491 -3081 +7956 -3079 +1512 +1148 -2048 -2551 -3707 -1421 -5043 -3010 -7916 -6914 -463 -3322 +1124 -2727 -728 +8943 -5970 +5099 +2906 +4206 -8107 -2543 -5051 +1182 +4851 -3802 -7663 +7835 +7828 +4782 +5640 +5020 -1574 +1492 +6271 +2548 -1093 +8285 +8099 +2142 -4712 -1583 -1319 +2410 -228 +4010 +4558 -7959 -8128 +5218 -5881 +1731 +1418 +299 +2189 -3459 -6077 -7276 +778 -3567 +1328 +6192 +6291 +8343 +4393 -3030 +403 +1335 +6982 +6178 +1069 -6594 -1858 +6089 +1222 +2304 +5204 -428 -7724 -6454 +2897 -3158 -2658 -6252 +8594 -6711 -2175 -8662 +2964 -1921 +2505 +1171 +3132 +6654 +4629 -2866 -1205 +2895 +5982 -8034 +4400 -1947 -2660 +4068 -135 -2769 -5130 -6135 +1458 +7516 -6660 +2221 +2785 -4992 +4717 +5460 +234 -5123 -4750 -7858 +4246 -2324 +5767 -1724 -4597 +8693 -2115 -8772 -2615 -2049 +7105 -3456 +4423 -4187 -2323 +2033 -5300 -5202 -4728 +3566 -2594 +8222 +5170 -164 -3276 +2 +699 +5795 -858 +3171 -8956 +857 -2292 -1005 +2328 -2190 +2534 -3241 -5894 -4853 +2216 +1819 -7946 -2132 +3550 +8626 -6592 -6216 +1252 +1449 +6415 -1878 -3193 +4478 +1524 +6911 -3790 -3831 +1212 -2960 +6389 -6179 +5190 -146 +3532 -6154 -5174 -1840 -1532 -1756 -1936 -7475 -4894 +3748 +624 -2712 +8817 -8828 -426 +2798 -3256 -4751 -696 -4011 +4844 +5243 +6485 -7081 +3117 +6734 +4336 -6406 -389 -2302 -2222 -7360 +470 +7846 -3650 -1611 -6269 +1219 +2826 -7652 -5450 +7711 -3523 -3239 -7972 +1896 -4277 -1236 +6671 -350 +342 -8543 -673 -3435 +2039 -6589 +1824 -7324 +6698 -2633 +6927 +5865 +4613 -4285 -2438 -4165 -2412 -3385 +3467 +8393 +6242 -1946 +4953 +3601 -5438 +3800 -6237 -1282 +8544 +1970 -8271 -2144 +4586 -5321 -2478 +4012 +4411 +3750 -5405 -4380 -4972 -5000 +4792 -8728 -6755 -4773 -1151 -8255 +2384 +6159 +3114 -735 +5102 -7060 +384 -1640 +8356 +7943 -2918 +5482 -4698 -5674 +6392 +2374 -1471 +2913 +561 -4752 +4609 -4593 +6473 -4959 -6205 +5284 -7050 -5564 +5249 +8186 -7093 +1461 -8525 -1254 +8563 -5019 +3319 +6784 -8431 -4284 -6593 +4821 +4262 +8379 -7867 +1781 +779 -3476 +2588 +5241 -5277 -879 -4689 +3468 +424 +706 -2173 -5462 +3890 -7415 +4016 -2886 -3431 -6348 +6442 -3688 -8572 +5203 +3283 +8247 -3376 +353 +957 -1807 -1934 -6870 -6492 +2831 -1334 +7434 -6316 -8123 -2779 -485 -5760 -834 -245 -7812 -3170 -8857 -21 -1911 -8726 -5095 -7469 -2861 -3655 -7448 +2880 -3411 -7988 -750 -3987 +6888 -6202 -5980 -7591 -3751 -6886 +8133 +1311 +8437 -1670 -5445 +7987 +762 +8149 -4132 -8682 +7200 -5293 +5270 -6602 +1914 -254 -8953 -8116 -1777 -5928 -4215 -3577 -8220 +6421 +6332 +2443 +7394 +7027 +6692 -7003 -4175 +4308 +8389 -5793 -8100 -7190 +4957 +1070 -2765 +7061 +2061 -302 -8136 -958 -4160 -2346 +2270 -5830 -349 +509 +2524 -134 -7609 +8400 -5150 +5618 +7552 -8868 -6949 +2285 -6029 -4888 +8261 -4840 +8841 +2662 -3512 +8188 +7393 +7186 +8053 -5749 -739 -5533 +742 -3584 -3206 +1789 -1459 +263 +3732 -1176 -6479 -6551 +1094 -892 -7346 +5629 +2983 -6033 -7392 +2100 -4903 +8866 +1303 +203 -2599 +7341 -2168 -4355 -7774 -6618 +1680 +1915 -4507 -7691 -1385 -2581 +7020 +1264 -6300 +998 +7370 -916 -655 +5796 +7985 +2247 -2370 +7318 -4705 +4251 -1688 +4783 -4826 -3615 -6075 -5011 -952 -455 -8861 -694 +1136 -6663 -523 -1536 +122 +4832 +6747 -2847 -2566 +4438 +8434 -5566 +3630 -6296 -2869 -91 +3397 -4309 +7822 +7147 -4682 +4929 +1213 +2032 -6290 +7713 +7575 +5637 -3915 +6930 +6320 -2293 -4649 -2458 +4378 -4772 +4571 +354 +5747 +2977 +6988 -6794 +5408 +6193 +7523 -8558 +973 -4908 -4069 +7949 +2954 -1285 +8420 -7809 +4443 -6820 +4534 -5706 -3626 -2728 -2842 +5468 +8845 -2796 -222 -6677 -4964 +5510 +4607 +4595 +1308 -4694 +461 +7912 +3022 +8478 -4624 -3330 -7373 -8629 -7199 -6399 -2240 +3298 -8517 -3768 +5623 +672 +872 +8505 +8117 +359 -4981 +7891 +2643 -8015 -1465 -7877 +5448 +6702 -3887 +8954 +2238 +6458 -8608 +5290 +6255 -6549 +401 +890 +7814 -3315 -640 +1009 +2366 +519 +5281 +3169 -6556 +2586 +878 +8595 -6514 -3393 -5167 -6084 +2932 -1618 +3419 -6723 -8098 -4327 +5633 -5471 +5210 +7967 +5480 +161 +8914 -2808 -3098 -4120 -3973 +1316 -8730 -6236 -2476 +5597 -2541 +3848 +8516 +6867 +682 -6474 +527 +1352 -3185 +6730 +3152 +6354 +3314 -3537 +2774 +4103 -481 -1184 +8803 -4881 +4561 +658 +3335 +8235 -7656 -15 -152 -3041 -2093 +5436 +1401 -763 -6986 +3762 -1120 +6598 +632 +507 -5901 +128 -3470 +6535 +3026 +4505 -7813 -2344 -7274 +3258 +2527 +3234 +6225 -4216 +8833 +8260 -197 +291 -411 +1909 +8822 -5250 +7700 +6572 -4033 -3980 +5236 -2899 +748 -3595 -8671 +1256 +5995 +650 -2161 +6106 +6203 +536 -4709 -4417 +1428 +4706 +7730 +3544 -3956 +1016 +8468 +2628 +8774 -1507 -4785 -2748 -2822 +4437 -1245 +5984 +4219 +3424 +8698 +7872 -3307 +4843 +8084 +6306 -2472 +8931 +2191 -1279 +2772 +7850 +7205 -8742 +472 +8205 +8093 -4401 +8033 -3600 -8780 -4381 -1142 -4275 -6929 +5379 -4418 +5794 -7230 +5275 +2875 -8195 +8453 +2782 -4509 -4722 +4878 -3539 -1137 +6008 +450 -4003 +8769 +2420 -7444 +6868 -7878 +6923 +603 -715 +800 -925 -4767 -776 +7327 -4286 +6231 +92 -1167 -7015 -3479 -4493 -1710 -3377 +6579 +5829 -5390 -4943 -2131 -3561 +1306 -8529 -6600 +5091 -8221 -7511 +1990 +2506 +8423 -7779 -3909 -199 +3137 +1040 +1976 +8197 +4645 -3671 +687 -6495 +5027 -7340 -3288 -7567 +7149 -5492 -8447 -4581 +6907 +2625 +4254 -7925 -4331 +6381 +2656 +2396 +3928 -8110 -5327 +5155 -6780 +6482 +334 +4283 -3090 -7009 -5684 +4199 +5067 -7030 -8630 +8052 -6040 -6256 +4879 -7599 +3520 +1078 +8619 +5072 -7625 +8571 -5061 -3012 -2690 +8481 +5582 -2382 +6068 -6788 -3360 -2649 +2958 -5912 +176 +225 +4626 -3805 +5165 +8070 -5234 +2015 +520 -5986 +1235 -6740 -6534 -5092 -1848 +7189 -2600 +8836 +7155 +2028 +2416 -8903 +3478 +6615 -1091 +4368 -8251 +3616 +5501 -6263 -3661 -1467 -5403 +896 -8401 -5557 +3434 -8335 +1845 -1869 -109 -4665 +2119 +3743 -7537 +8021 +1324 +3285 -8758 -7402 +1350 -4977 +5620 +647 +984 +6133 +3529 +1870 -2540 -1624 +4243 +8231 +8559 +8077 -4171 -2850 -3783 -6795 -6088 +8383 +6032 -7795 -2838 -6984 -7637 -4439 +1028 +937 +1297 +2441 -1482 +5659 -3902 +501 -3274 -1456 -2607 +7359 -6667 -5006 -3867 +5646 +1493 +606 +6284 -5074 +2230 +208 +6766 -6962 +7381 -8372 +2060 +1286 -2198 +415 +1201 -7661 +5002 -4656 +6629 -4788 -8832 +8667 -8426 +7071 -6082 -1838 -6748 +5009 +7378 +2919 +6625 -2805 +5903 -7331 -3300 -7719 -4072 -2139 -5394 -1637 +1115 +805 -8057 +1699 -671 -6137 -367 -2266 +7546 -6813 -3782 -6749 +2045 +4818 +1036 -5979 +4387 +2802 -8424 -3857 -2764 +143 -6200 -4827 +3164 +7994 -8118 -6648 -2368 +5893 -3560 -2213 +3850 +865 -6838 +7024 -3709 -7834 -5837 +8448 +6460 +6810 -1665 +6678 +1015 -7364 +8019 -5034 -5594 -5935 -8425 -5402 -2926 +1416 +7181 +4715 -5115 +6964 +2268 +8392 -6611 +4108 +5927 +4590 +4849 +7425 +8176 +466 +2965 -5847 -8503 -613 -1749 -3722 +5529 -5599 +6176 -3371 -8162 -4281 -1912 +1202 +6059 +69 -2163 +6604 -5974 +2501 +3698 +8056 -6117 +1310 +4322 +816 +5345 +579 -1049 +2380 -3403 -4452 -6201 -6266 -6607 -8589 +5127 -8781 +6772 -5922 -1066 -8502 +4870 -7040 -3634 +7612 +6596 -7246 -7376 -7119 +1656 +8477 -8805 +1517 -5891 -843 +7683 -3133 -1233 +5272 -6627 -5978 +5025 +6355 +7428 +8493 -4397 +5307 -5172 +7855 +4077 +1892 -7156 +1394 -2921 +2951 +4942 -611 -1180 +3898 -1332 -2767 +487 -7864 +3252 +5785 -6920 -2817 -377 +5948 -1572 +1022 +5725 +6431 +1716 +131 +5717 +6195 +441 +206 +7702 -7129 +5423 +5151 +1965 +2753 -654 -619 +5609 -1012 -8345 -2234 -6107 -5104 -4157 -4159 +4916 +7930 -4018 +6208 -7917 +5606 -1420 +4224 +8519 +8327 -8650 -3020 -4591 +5366 +590 -1713 -7295 +895 +2260 -2596 -6020 +2770 +8898 +2432 -5506 +4989 +7254 +6861 +774 -3555 -6987 -2122 +5231 +5639 -4200 -6434 -4241 -2715 -8079 -5428 -7968 -2920 -2788 -283 -7271 -6717 -5746 -2731 -7313 +5527 +3005 -7852 +7953 +7597 +538 -147 +5917 -6035 -6437 +3731 -8196 -6397 -5840 +3032 +2333 +8000 -7339 -7938 -5475 +1496 -4256 +5071 -8649 +6542 -764 +6038 +8606 +7844 -2634 +971 +2120 +6550 -5171 -2821 -2857 +1298 +26 +5523 +8329 -4116 +6136 -1868 +4228 +4664 -8089 -74 +3900 +8097 +8042 -264 +6484 +2456 -6915 -8746 -8339 +8153 -1096 -7316 -2975 -8574 -6433 -2262 +7732 -445 -7395 -2430 +4575 +5255 -77 +2460 +2870 +719 -7695 -988 -3477 +3407 -120 -3906 +2317 +2630 +5872 +2776 +1808 +2042 +2477 +7564 +3995 +3565 -4945 -3545 -116 -712 -3408 -4471 -4025 +1790 +3749 +7140 -5354 +8488 +8288 +7975 -8909 -8759 +8915 +6163 -6662 -1486 +8172 -799 -54 +2226 -817 +3726 +3568 +3359 -5312 +5058 -3305 -6098 -7738 -5397 +8141 +1002 -2647 -5610 +494 -5380 +4902 +1050 -1004 -489 -2762 +5273 +1646 -4808 +7962 -5088 +2010 +6729 +4093 -8171 +8313 +3719 -2490 -7379 +6603 -612 -5226 +6680 -6742 -8013 -4668 -4539 +2890 -3474 +4109 -1149 -2665 +2202 +3765 -8415 +2289 +7659 +7902 +2763 +4173 +2237 -2590 +4978 -5228 +502 -3587 -3303 -1278 +7433 -2745 +6765 +8744 -7770 -738 +6661 -2263 +4340 +3863 -4920 -8463 -1569 -2406 +4484 -8157 +7657 +5989 +5326 +1027 -941 -36 +6836 +412 -1930 +2620 -7585 -3852 +4444 -4962 -8190 +1225 +3099 +6292 -847 +5820 +2570 +7898 +8711 -5627 +5101 +2969 -1706 -6293 +8334 -2740 +3366 -3691 -5085 +4990 +7860 +2402 +5722 +1972 +3838 +346 +5750 -2845 +1503 +7151 -1270 +7278 -2992 +8692 -8421 +5777 +6720 -5808 +2494 -4274 -5110 +3687 -2666 -5622 +8038 -6714 -8719 +680 -615 -2052 -3834 -6722 -7180 -8409 -5386 -6938 +425 -7445 +3451 +8891 -2082 -5849 -7132 +93 -1383 +4419 +4982 -8454 +8156 +6145 +5252 -8946 -3984 -5081 +4126 -5799 -2427 +653 +1349 -5086 -853 +8225 -1051 -3251 -2972 +4974 +3629 +4332 +6259 +7299 +2417 +506 -8884 +7330 +7676 -260 -8087 -6863 -3960 +8029 -7670 -2829 -2143 -2978 +418 -947 +7684 -227 -4616 -8291 +6197 -1752 +3547 +7197 +6287 -8213 +4413 -4949 -137 +7503 +6710 +2283 -5536 -4498 +5931 +8800 -2288 -6064 -8515 -6410 -8565 +1085 -4641 -5534 -479 -3907 -3175 -588 +5209 +651 -4589 -968 -6721 -7818 -4222 +8418 +6243 -745 -4134 +3101 +6883 +1186 -8518 -6097 +4883 -119 -7426 +5062 -886 +2112 +2291 +8721 -7361 -2575 +7133 +3238 +7232 +3497 +6864 +324 +6357 +824 -1885 -8263 -4280 +726 +1359 +8814 +6022 -7043 +4809 -5962 -300 +8416 +6160 +3379 -8681 +1358 -1745 +3355 -1156 +7487 +337 -5364 +8599 +679 -2335 -6638 -8106 -3278 -4490 -7639 -3958 -2605 +5361 -3028 +6377 +6342 +546 -2150 +3913 -7440 -8705 +4022 +8635 +2325 +4382 -1580 +4628 -5933 +3416 +5757 +6739 -1516 -1855 +6504 +168 -652 -7973 +7541 +6775 +7565 +8381 -3232 +1632 -2018 -2688 -2529 +8823 +6418 +2863 +4670 +3172 -2545 +8371 +2442 +4379 +7909 +6555 -4659 -6906 +6078 +7569 +5976 -6365 +7438 +249 +8892 +3746 -4349 -6471 +8062 +2963 -6423 -7085 +7758 +2995 -1652 +2040 +3647 -1854 -4566 +5654 +1460 +8600 +7474 +4212 -3293 -7710 +1468 -908 -5839 -2160 +8112 -1265 -2735 -2868 -4856 -262 -6268 +8555 -1598 +5458 -3402 +646 -6295 +2271 +318 -4579 +5118 -8333 -2928 -1020 +125 -7589 +5807 +2539 +3971 -630 +5681 +7458 +2999 -5100 -6718 +5489 +6324 -2299 +5580 +8308 -6624 +8612 +2751 +434 -3781 +7901 +729 -698 -7218 -6031 +6811 -6411 +8921 -8854 -3312 -491 -7460 +7001 +5419 -1983 +2595 +5539 +3053 -7463 -3653 +659 +1821 -8952 +512 -5048 -8281 -4315 -5322 +1667 -4048 +5983 -2714 -6655 -7259 +7455 +7747 -522 +6561 +8142 +6933 +3145 -2332 -2056 -118 -7890 -8566 +5919 -1989 -6462 -807 +8590 -5430 +5347 -4062 +6 -1326 -1314 +6557 +6092 -2162 -2518 -1733 +5311 -5139 +649 +8734 -8044 -1165 -4564 +3766 -7049 +6814 +2816 +3979 -3086 +7800 -753 +4594 -2938 -1290 -4221 +400 -5068 +4073 -7304 +23 -8240 -2893 +3894 +5649 +3711 +7406 -8476 -3254 -5494 +4676 +1527 +287 -86 +5814 -6694 -7587 -6405 +5122 +8776 +2434 +920 +2352 +724 +335 -6380 -3163 +231 -3167 +6924 +5688 +991 +4391 +7807 -6699 -2795 -1663 +7013 -4771 -8812 -8901 +8890 -6940 +8942 +482 -4650 -664 +8094 +3656 -2242 -5570 +4729 +72 +3745 -1173 +2435 -3706 -7441 +8872 -4697 +8511 +1006 +3843 +2409 +6461 -4392 -127 +5237 -6885 +8514 +8119 -5923 -1181 +994 -2155 +7353 +5657 +5178 +6430 +6090 -2315 -7321 +5417 +7582 +1413 -2354 -2689 -7211 +8923 -7830 +8835 -8712 -6307 +1037 -5504 -7102 +6639 +8168 -721 +8004 +4406 +3129 -1942 -8223 -7776 +6343 -1851 -7343 +8658 +3023 -2071 -20 +3972 +2327 -4679 +7484 -2496 +3498 +6792 -1122 -7554 +2176 +6860 +631 +2849 -4911 -8036 -4515 +7131 +6338 -4669 -1723 -8641 +3135 -8874 +4389 -4065 +4588 -5873 +5235 +7449 +5907 -7260 +7508 +563 -2537 -7727 -1571 -7182 +6344 -1086 -3645 +6026 -5016 +7924 +3610 -1010 -8825 +6452 +8124 -8896 +4265 -2820 -668 +5444 +7055 -6683 +3120 -2885 -7622 -6905 -2858 -8706 +8009 -1853 -1092 +1260 -1269 +4431 -1 -8827 +8096 +1368 +6322 -667 +3499 -5817 -8344 +6111 +2022 -2996 +2602 -4774 -1437 -3876 +405 +907 +1805 +2096 +8229 -7412 -7157 +944 -2277 -8284 +2231 +6308 -162 +717 +3734 -4462 -7562 -4811 +6878 +8794 +6279 +1056 +8677 -7963 -5987 +5141 -5653 -2943 +8947 +4944 -5887 -4454 +2272 +4695 -6294 -757 +4097 +6499 -8041 +8802 -7303 -8348 -6172 +7760 -3992 -4814 -1987 -8365 +2519 -2915 +452 +4637 -1806 -4058 +2387 +6961 +5189 +4877 -4622 +5018 +6904 -2450 -2318 -2284 +3965 -5358 -5057 -5135 +7960 -2950 +2287 +4084 +6229 +1703 -2824 +7447 +8296 -6361 +4965 +5098 -4127 -871 -4177 -3009 -3644 -7974 -3608 +5467 +7253 +2101 +7309 +2942 +5443 -2941 -583 -7627 -3460 -3046 -8246 +3126 -8562 +2068 -6746 +2089 +722 -6586 -5026 +2631 +269 -4583 -7472 +8642 -4801 +7619 +906 -1674 -7066 -6496 -3204 -2218 +4297 +7399 -4831 +1121 +8150 +4176 -8818 +5864 -8406 -5530 +1439 +7045 +705 +8507 -3808 +6567 +7207 +3089 +7918 +617 +7489 +8859 -5319 +4988 -8226 +4027 +3002 +1835 -1863 +7363 +2889 -4822 +7782 -3085 +7655 +150 +8155 -903 +4123 -5828 +6487 +5929 +7933 -3348 -6841 +383 -3025 -7857 +7615 -3190 -4997 -8161 -5852 +6445 -6824 -7923 -6510 +58 -184 +8722 +1058 -5421 -2606 +7892 +6366 -4296 -6623 +211 -6021 -7635 +8731 -387 -2498 +5720 +6455 -5876 +4337 +2229 +4137 +4278 +8113 -1309 +5149 -5021 -439 +8018 -4333 -1198 +3464 -6199 -3531 +1767 +518 -4596 +852 +8066 +2479 -1954 +2054 +4338 +385 -7527 -40 -5994 -7997 +5341 +317 -5973 -4630 +2536 -6468 +6079 +2832 +5258 +329 +2062 -4999 +6249 -645 -5251 -1910 -1984 +3043 +6513 +6580 -113 +7798 +7099 -8243 -3986 +924 +5643 -2704 -6738 -8349 +3515 -4524 +7686 -962 +6857 -4551 -3604 -1905 -7498 -1599 -983 -840 -4007 +1263 +8905 -4081 +5437 -1299 +4075 -2702 +7882 +1836 +7311 -3057 -3289 -6612 -2197 +4063 +5992 -4023 +2140 -6508 +2701 +51 -5488 +65 -7357 +8146 +4459 -5701 +6247 +528 -330 -3841 +7143 +1366 -1320 -8330 -7041 -5355 -7903 -5491 -3284 +7765 -3673 -7799 +4784 -4724 +6337 +2749 +6167 -6969 -3121 +6180 +7658 +7491 -5892 -3400 +419 +7204 -3343 -6286 +2719 -6973 +5714 -7002 -7504 -2336 +1208 -8820 -7091 -1678 -8092 +6463 +8167 +900 -4815 -2482 +1793 -4653 -3787 +2882 +982 -4110 +5977 -8088 -4764 -2948 -181 +6069 -8433 +6272 -6181 -6759 -6066 +3897 +1473 +7202 +2020 +6977 -6879 -5726 +5424 -2608 -1626 +5993 +7531 +3573 +1859 -7366 -2000 +4901 -4031 +6443 +6211 +1483 +1566 +2355 -1082 +8461 -8879 -3955 -4351 -1886 +5276 +3873 +7159 +8540 -6700 +8526 -4145 -8342 +6140 -2419 -4919 -8126 -6531 +7344 -3557 -2716 -8458 -6866 +2946 +5287 -3245 +3818 +3581 +8881 -2095 -1755 -885 -819 -3753 -6825 -8668 -2495 +5660 +6422 +8531 -124 -4517 -7825 -6548 +3799 -8690 +7780 -1476 -8738 -5129 -7029 -8697 -6118 +8850 -3981 -6151 +8672 +4223 -5965 -3141 -572 +3511 -5395 -4816 +5145 +6563 +6706 +3836 -3837 -4142 -8063 -8020 +7173 +4749 +1039 +2166 +604 -1988 +6149 +3988 -3483 +5023 -5955 -2503 -1849 +6673 -8233 +4000 -3294 +2661 -7492 +6189 +3553 +8301 +8643 -4835 -1031 +221 +2250 -1175 -3949 -4510 +7301 +432 +5675 -6488 +2908 -1513 -6947 +4834 +3014 -7914 -993 -6785 +4938 -5874 +7214 -1389 -6715 +5496 +7859 -2654 +5146 -6254 -60 +2249 -7685 +5271 -8347 -6465 -6034 -6689 +5809 +4636 +5690 +7261 +7766 -1708 +4317 +2565 -8072 +8429 +3484 -893 -7130 -312 +716 -8049 +2756 +7170 -6855 -8537 -371 +1901 -1677 -3196 +1636 +4468 -6835 +1726 +4131 +4795 -3161 +8355 +4522 +707 -5662 +6670 -1891 -6323 +4144 -6789 -2686 -5525 -4015 -1023 -8521 +5014 -3967 +8939 -3414 +7866 +5647 +6024 +880 +4470 -532 -7750 -3659 -8076 +6441 +440 -3386 +8831 -3574 +6150 +1003 +4242 -7521 +5459 +1734 +2001 -7632 +693 -5860 -5811 -4040 +3436 +5602 -5247 -2360 +3785 +6057 -2454 -7280 -1584 -5232 -8735 -417 +8795 +5598 -5176 -4435 +3524 -2453 +159 +7380 -5652 -3482 -4799 +5286 -7237 +3000 -4292 +7539 +6647 -2199 -6935 -2228 +6447 +2909 +3682 +4377 -7735 +5239 -4385 +1568 -3198 +3469 -5200 +3055 +8007 -2246 +3061 +8215 +6752 -1732 +2841 -4001 +5790 -3083 +5511 -6486 -683 -1054 -73 -1111 +913 -5848 -1763 +3339 -102 +6481 +7984 +8282 +5265 -6974 -6880 -4631 +1548 -6134 -5758 -3059 +1828 +4961 +1345 +1249 +490 -8073 -2130 -1866 +7126 +2910 -4993 +4526 -689 -7067 -1899 -3730 +1159 -8775 +3249 +8303 +6502 -6076 -7736 -8473 +3361 +7004 -2669 +4088 -4276 -1433 +6963 -4646 +4531 +5413 +7881 -408 +3255 +2619 -4884 -7762 +4520 +5621 -6139 -6983 -5843 +7165 +8751 +2330 +3080 +2927 +4178 +1832 -3669 +303 +210 +7457 +2307 +2491 -3320 +2349 -5835 +1315 +4118 +4562 +8777 -7568 +504 +5299 -3084 +6894 -2538 -1014 -6656 +6783 -251 -1408 +8363 -8199 +327 +3569 -2468 -7839 -4937 -3727 -1261 -8764 +3325 +3127 +3774 +1369 +499 -5297 +5382 +6801 +5727 +6732 +3919 +5457 +2481 -3796 -8557 -5775 -8768 -4458 +7841 -7273 -8709 +1614 -1966 -1255 +1995 -4304 +224 -3004 -5812 -5519 +6170 -364 -7016 +1769 +393 -1791 +2811 +3063 +6803 +5590 +8634 -6957 +111 +6626 -594 -2258 -2818 -4367 +6937 +5374 +8500 -7356 -4519 +3959 +929 +236 -904 -2601 -4708 -3446 +1380 -3502 +3273 +6941 +910 +5803 -2280 -5804 -3044 +8661 +2243 +6030 +3492 +2003 +3779 -8189 +6901 +1841 +8782 +397 -8646 +1629 +1057 -3920 +3374 +2546 +3415 +4055 +4605 +6394 -4203 +6480 +433 +7403 +2640 +6469 -4955 -1798 +1072 +8016 +8617 -8532 +1313 -2759 +4425 -3651 -725 +8384 -8267 +3813 -3684 -5433 +6325 +3858 -1625 +1307 -5844 -8411 +8582 +1469 +7703 +3792 -1426 +5304 -7334 +7142 -8707 +7342 -8917 +88 -3471 +1195 -6393 +7006 -2790 -1129 -8799 -5520 +3700 -6142 +6087 -2578 -2038 +3747 -3665 -2531 +5740 +2904 -4516 -8645 +5279 -6413 +1521 -5899 -2513 -6578 +688 +3500 -6112 -3791 +4852 +6477 -2812 +2804 -7137 +6635 -6224 -5825 -4711 +7900 +7014 -4556 -4172 +5022 +6733 +3281 +7145 -849 -2365 +6727 +7705 -5406 +8104 +7424 +6164 -8674 -4869 +4111 -8743 +5595 -6946 +2097 +2741 -7681 -8906 -4070 +4867 +4608 -4553 +2037 +3069 -1088 -6368 +2092 +8684 -3346 +7611 +5111 -7185 -6289 -7989 -2752 +6281 +6258 -4677 -4298 -8550 +8637 +1529 -8918 +358 +6587 +642 +3421 -1522 -3657 +2362 -8358 -8145 +3927 -2956 -8151 -2128 +7913 -6781 +6501 -8547 -5039 -7704 +5672 -7490 -8249 +5262 +4119 -8114 -4350 +1631 -899 -4325 -5003 -7256 -7053 -8081 -5378 -6070 -8877 -1474 -1738 +5699 +4824 -1903 +6832 +3011 +1019 +5083 -5177 -3789 +6543 +5013 +5547 -6701 +2331 +558 -8527 +8584 -5938 -6726 +3173 +2979 -2833 +4291 -4825 -6908 -7538 -6276 -8206 -395 -8075 +7939 +5500 -6470 -7308 +3875 -3351 -5340 +7641 -5245 -2502 +787 -7509 +2663 -1395 -1847 +2657 -6230 -117 +7836 +3916 +8419 -6576 +4365 -8907 -2743 +5192 +158 -2747 +6253 +8109 -2982 -7926 -5371 -6672 -4245 +3092 +2359 -2428 -6310 -4192 -5571 +453 +2196 +2108 -3961 -1669 -3112 +50 -4789 +8266 +446 +1962 -7262 +8573 -458 -733 -8567 -3770 -7785 -1280 -710 -8252 -1105 +1696 -5689 -293 -6705 +2031 -339 -4125 +1937 -3501 -6688 -1425 +6305 -4685 -5147 +5296 -3308 -1865 +41 +3440 -3437 -2312 -759 +448 +7223 +5784 -85 +7117 +919 -5137 +376 +3454 +2078 +7210 +5373 +2313 -5543 +8904 +2072 -7483 -5708 +8017 -6741 -4321 +4271 -7743 +7174 +2737 -4532 -6453 -4753 +1376 +3978 +5960 -328 +3678 -5693 -274 -8386 -2451 -219 -7035 -3507 +8378 +6015 -7742 +5024 +7667 +6545 -1661 +3107 +1405 +1525 -514 -540 -7573 +1271 -2930 -1770 -576 +2348 +6523 +4005 -7320 -5415 +7729 -2235 +8736 -7793 +5603 +6869 +3741 +1381 +4918 +1888 +5256 -881 +3806 -2311 +703 +4836 -1494 +3336 -4547 +1908 -6716 +4480 -4861 +266 -430 +5008 -1675 -537 +3295 +7911 -1295 +8925 +4739 +4533 -5215 +5264 +1862 -7062 -5666 -6975 -2862 -3186 -8198 -3272 -1183 +5041 -6346 -2383 +7506 -391 +7706 -4037 +6166 +4046 +7588 -6177 +7626 +4289 +4860 -3381 +498 -6333 +6234 -4584 -6994 -2864 -4963 -2297 -3340 +2835 +3929 -3639 +5392 +7590 +7481 -782 -465 -1533 -2070 +8539 -6917 +7874 -8440 -2021 -6175 -511 -1627 -4339 -6025 +7451 +2487 +3538 -1478 -7122 -172 +1893 -1660 +7675 -3228 +1801 -3031 +8269 -5561 +1095 +8258 +4557 -8701 -1842 -4975 +7090 -795 +4812 -1771 +1145 -4122 -4433 -3051 -436 -1203 -7118 +3399 +3820 -2459 +2998 -3332 -1582 +2550 -2903 +8065 -57 -427 -3494 +1860 -7601 +5936 +1158 -5650 +1562 +1991 -4904 -549 -5187 -3699 -3677 +1735 -8610 -1578 +5783 +5144 -7072 -999 +2314 +7768 -6778 +8182 +3210 +6056 +5161 -8352 +3694 -7502 +4237 -6073 +1620 +3737 +3495 +301 +5309 +5940 -2303 -2067 -2846 +8368 -2780 -3543 +826 +832 -3828 -4375 -8495 -5528 -386 +2939 -3073 -1969 -5600 -851 -4779 -5035 +7856 -217 +3212 +7919 +4759 -8388 -6155 +8380 +3926 -8181 -2107 +8236 +281 +3846 +8217 +4776 +5463 +5845 +5730 +4346 +582 +5718 +6359 +188 -1563 -1567 -6644 -8332 -5188 +2227 +2251 -4907 +4756 -2929 +1920 +8090 +8913 +7315 -3072 -3642 +2403 +3918 +1747 +5295 +1048 +5490 -331 +861 +8237 -6331 +5723 +5306 +7961 -2059 +3675 -5710 +7679 +8024 +4862 +3253 -8010 -3693 -7942 +6522 +3572 +4403 +8627 +2188 +6119 +4313 -4828 +5181 +8797 +3244 -2528 -767 +6065 +100 -1682 +8785 +4361 +6892 -183 -7307 +4162 -4671 -16 +3369 +6215 +5263 +3680 -1673 +2389 +4236 +7465 +5900 -3452 +3954 +5320 -5541 -4976 +8924 +1150 -7407 +6219 +3886 -1778 -3410 +587 -132 -7201 -7849 +2510 -7095 +7603 -8483 +1581 -6875 +1604 -4260 +7052 +2680 -1977 +7752 +1011 +4577 -1576 -3074 +2721 +6645 -2981 +1275 -5925 +7519 +6161 -5704 +2891 -2098 -7944 -4164 -6761 +2542 -5096 -1344 +6763 +1080 -1951 +4743 +2256 +6544 -2462 +4 -4180 -2668 +3666 +6515 +2699 +1829 +4660 +4900 +7410 +5896 +4803 +7970 +5544 +7160 +6617 -6400 -8364 -2577 -8837 +7578 +3021 -6248 -1125 -4548 +148 +1457 +1721 -8201 +7289 -4282 +3855 +4415 -8479 -1414 -6489 -1079 -3968 -2937 +4168 -4085 +8809 +8455 +2940 -6027 -691 -5953 +3282 -4416 +8664 +5093 +5132 +2848 +7775 +6844 -3362 +6968 -4156 +7109 +3442 +692 -2475 +3313 +8708 -670 +3715 +7203 +7761 -1240 +368 +3514 +8865 +4647 +4153 +3453 -2555 +5505 +1546 +8305 -3607 -6071 -912 -29 -8585 -2019 -8564 -4489 +5047 -288 -7682 -3396 +99 +935 -2445 -2900 -3942 +3317 +8819 -56 +5182 -1880 -8911 -8452 +271 +6599 -1470 -6245 -3269 -5119 -3076 +379 -2896 +8673 -5291 +3364 +8325 +7871 -889 +1174 -7336 -4970 +3119 -961 +5667 -6345 -6666 +3162 +1220 -4737 -3940 -3946 +7348 -4051 -6856 -1609 +8702 -1391 -4447 +5800 +5441 +6948 -6950 -6922 -5292 +3708 +3829 -855 +4312 +7950 +4927 +6566 +7940 -6887 +5108 +838 +8074 -3991 -2784 +1133 -8228 +8270 +6372 -6131 -2373 -1123 -700 -4328 +8039 +2064 +3224 -275 -5435 +4184 -3724 +1894 +2884 -6553 -7058 +812 +4107 +447 +6187 -6438 -2431 -6736 +2425 -3263 +7853 -6570 -7384 -1556 -169 -3606 -1356 +5308 -7028 -7183 -332 +1053 +3265 -7636 -5764 -8506 +4045 -2184 -2646 +2398 +1250 +63 +4863 -7653 +3182 +4138 -6817 -22 +8439 -6444 -2102 -6865 -4633 +771 +3341 -4910 +3717 -7247 -1089 +4314 +1872 -5225 -4326 +3556 +372 -1338 -3296 -4499 -1435 -3939 -5037 -1109 +2044 -5669 +213 +5196 -4410 +4603 +5253 +2674 +7124 -6659 -4606 -8403 -1917 +6478 -248 -6314 +4947 +1780 -1112 +3439 +321 +2613 +598 -7673 -7586 +484 -848 -2007 +1998 -5422 +6526 +3891 +2859 -3103 -4004 +398 -2124 +833 +5742 +1760 -2177 +5333 -4087 -1811 -4353 +3039 +8733 -186 -5148 -5493 -2424 -3641 +8749 +8863 -6872 +7678 +3881 +2193 +6396 +8180 +138 +2129 +1986 -4486 +959 +4768 +3563 -4426 +285 +5259 +1596 +5565 +2603 +7563 +1448 -6565 +6001 -4266 -7805 -3742 +7837 +7995 -6999 -7096 -7187 +5947 +2514 +2421 -2444 +4601 +8717 +8306 +375 +3643 +3380 +4696 +6283 -5537 +8760 -7284 +4666 -3268 -7646 -1757 -1404 +6831 +2957 -5593 +6649 -3417 +3342 +3213 -548 +5257 +4202 -5789 -3291 +4211 -831 +6019 +70 -7288 +7773 +2035 -6614 +1586 +7755 +8028 -4273 +3033 +7054 +6390 +7778 +6771 +5883 +7544 +4261 +7082 +6340 +1371 -1964 +4354 -3546 -3908 +7234 +2483 -829 -686 -79 -1032 +7335 -6376 -3088 -8528 -553 -3192 -279 -3966 -8575 -84 -6321 -7225 +1481 +8121 +1943 -493 -8586 +3780 -195 -2085 +714 -1687 -7349 +4966 +3347 +8623 -4475 -1588 -5053 +1317 +2723 +6425 -4396 -2584 +7688 -4914 +5998 +7371 +1822 +1067 -4445 -621 -5030 +5455 +1857 +5560 +8675 +2871 +3350 -6409 -5090 -5816 +3373 +1168 -5229 +3944 +905 -2296 +3050 -4813 +6782 -8632 -1815 +4810 -253 +1244 +8535 -6288 +1077 +3040 +4971 +4105 -5853 -4805 -6697 +7144 +3271 +752 -5401 +5325 -5134 -7786 +3810 +6277 -7815 -8696 -2429 +2217 +6121 +4770 +589 -7176 -5832 -3756 -240 -5834 +6429 -8293 -5573 +4259 -6634 +8710 -6681 -6854 +6233 +5372 +3925 -1266 -8143 -4294 -4320 +7574 -7644 +1797 +2894 -8177 +7478 +2298 -7535 +5752 +6965 -7921 -4115 -6116 +5761 +1992 +8560 -2034 -1021 -5950 +8659 -1419 -1268 -5223 -7297 -7241 +2340 +2819 +2489 -3804 +883 -4716 +112 +3445 +1907 -1913 -3219 -933 +7287 +5850 -5836 -5713 +923 +2301 +2165 -8292 +1809 -1544 +3533 -4661 -6633 -2552 +5158 -1432 +4502 -5212 -4330 -8008 -154 -5356 -5056 +1370 -7222 +2252 -8265 -3489 +1291 -1668 +8319 -6251 -8725 -6519 +7561 +7167 +3590 +4449 +4652 -1343 -7547 +6419 -4121 +3124 -2691 +2159 +5988 +783 +5066 -5283 +6367 +8614 +7065 -3670 +6674 -7557 -1718 -7116 +5949 +7075 -5854 -1033 -3596 +3508 +2681 -5324 +1154 -6902 +2024 -580 -1102 +6552 -5353 +4229 +960 +7945 -8068 +8620 +5890 +928 -1081 -3521 +1874 -212 +5344 -4651 -2484 -1272 +684 -3194 -7712 -4154 +2309 +7317 +3279 -6045 -5572 +8653 -8853 -690 +3667 -4348 -7672 -4932 -2084 -8422 +2707 -1300 -5753 -8276 +6786 -297 +7401 -8816 +1116 -7669 -8290 -6212 -656 -35 +8885 -1377 +989 +3617 -3571 +1803 +2970 -7033 +2839 +6770 +531 +1940 -8628 +8494 +414 -5418 +3685 -3405 -8405 -6335 -4079 +5288 +4819 +3231 -7811 -1622 -1068 -2725 +2480 +1764 +454 +5164 +4922 +1761 +1514 +7964 +7753 -6728 -7208 +3702 +1163 +7282 +1689 -6220 -5861 -535 +2079 +5682 +4232 -2935 +2232 -2265 +294 -101 +8737 -71 +4386 +6349 +1485 +6386 +1950 +7388 +8553 -2525 -8804 -8387 -761 -8838 +5294 -4335 +6363 +754 +2797 +1751 +1447 -7018 +6537 +8178 -8238 -3528 -2094 -7801 +7233 -1520 +2223 -3934 -791 +3248 -282 -1075 +1570 +6054 +7540 -7355 +5661 -5136 -8353 +7520 +4723 +6527 -8338 +6009 -6541 +8930 +5889 -556 +775 +243 +5183 -5106 -6158 +8598 +444 -7461 +4094 +6016 -3758 +1415 -876 +6848 -19 -1960 -8806 -3832 +3552 +3970 -6990 +6893 +241 -4868 -8852 +2276 -3398 +1547 -8385 -954 +1026 +4374 -4032 +460 -5535 -1904 -8680 +1374 -2687 -2887 +8438 +6427 +7382 -3676 -7722 -3277 -4024 -8910 -8561 -7593 -1450 -6391 +4876 +7990 +6114 -7191 +2169 -8427 +8154 -8395 +6675 -4747 -5668 +1557 -7275 +2703 -6822 +4521 +5822 +3621 +1337 +37 +730 -1834 +3420 -8192 +4098 +846 -2771 -8311 -1296 -1342 +1758 +4420 +7398 +5791 -2635 +574 -4249 +2351 -544 +6303 -34 +5991 +7842 -5676 -2544 +6213 -5131 -1230 +7328 -7642 -5945 -2394 -5184 +8858 +2137 +3864 -3235 +5313 +8788 +3662 -390 +8037 -2401 +4741 +8601 +2408 +2149 -3334 +7305 -7198 -2648 +1820 -6497 +8014 +8676 +3686 -7654 -5466 +2414 -6493 -2925 -8256 -1466 -4691 -4909 -142 +5911 +6004 +4663 +3689 -192 +8366 -796 +5485 -7056 +8413 -3100 +6805 +4495 +894 -1178 +1788 -510 -8264 +2423 +5268 -5574 -7242 -4985 -7059 -666 +6401 +5877 +8137 -4399 +5721 -5140 -930 -1146 -2106 +3409 +4623 -3338 +4067 +5897 -1873 -4041 +7771 -7073 -3795 +3728 +6309 +629 -3223 -2192 -8061 -1197 -1948 -4906 +6385 -7717 -3997 +6804 -5109 +4523 -802 +6214 -8191 -866 +2361 -1831 -8408 +3527 +5242 +1729 +1957 +7604 -47 +2856 +1498 -2206 -6978 +2088 +3475 -6972 -1837 -8394 -1526 +5615 +4230 -6884 +3378 -3331 +2099 -2520 -6724 -2308 +8472 +8134 -1786 -7486 +340 +7224 +6080 -3306 +7671 -8848 +7906 +628 -1226 +2141 +7543 +5343 -8470 +6420 -5774 -2855 +7268 +136 +7 -6682 -8202 -250 +7555 +1305 -5124 -4742 +8729 -2179 -7932 +6036 -2063 -934 -7937 +5592 +6981 -338 -8843 -8012 -7083 +614 +1818 +8616 -978 -110 +2953 -2500 +5737 +1155 -3188 -8402 -5651 -1063 +3646 -3427 -6547 -1251 -3505 +2186 +4295 -7017 -3275 -7530 +202 +1348 +5958 -6876 +5745 +8579 -1701 +477 +3387 +3982 +7558 +7086 +8277 -7524 +7245 +8900 +3937 +8278 -5631 -7781 -6369 -6546 +2008 -1215 +1551 -5298 +2872 +7418 +1131 -4481 -3462 +1638 +5846 -7954 -369 +2353 +6932 -7571 +2457 -5133 -4802 +7332 -1644 +3628 +1715 +7302 +1531 +2574 +2761 -4979 -105 +3065 +215 -1502 +8274 +945 +3738 -4845 -2347 +1796 +1384 +2568 +5029 -97 -8611 -8122 +1211 -8542 -2121 +3247 +1289 -3633 -2556 +7212 +6767 +3599 -3401 +247 -6583 -4984 -8538 -6568 -1554 +3113 -3588 +3118 +7854 +1623 +4384 +8484 -4323 +8299 +1446 +5054 +7409 -3197 +5818 -5163 +7570 -1753 +6326 -5004 +478 +8577 -4800 +4210 -5375 -6017 -3082 +5484 +6218 +1510 +768 -3372 -8002 +6754 +7851 -7345 -6636 -8847 -5138 -1722 -5233 +2073 -8602 -6206 -7908 +3611 -4987 +4675 -6223 -1597 -7263 -6490 +4446 +3496 +1135 -3603 +4830 -5516 +1774 +246 +4690 -5683 -3165 +8578 +8750 +6571 -3823 -370 +7734 -6120 -3390 -2734 +744 -7216 -8003 +289 +5121 +5060 -1062 +4980 -5407 -3784 -13 -1666 +1779 -7899 +8513 +5823 -4702 +2781 +3660 +2917 +6190 +6113 +8683 -8740 +8095 -6023 -618 -2535 -3384 +4306 +798 +3035 -5440 +1613 -3612 -966 +1707 -8934 +1357 +7965 +357 +5605 +8592 -559 -7979 -1890 +5766 +6826 -7751 +1555 -4209 -533 +474 +7063 +7863 +1035 +8272 +4043 +3951 +7889 +5370 -5971 +4721 +4148 +2592 +5469 +3578 -6676 -4356 -4009 -555 -2493 +4017 +3807 -7821 +7640 -8504 +7787 -4658 +4128 -2055 +5266 +5409 +3302 +2945 -5198 +1073 -7347 +5383 +3209 -7221 +402 -4247 +5885 +5638 +314 +4720 +2233 -5898 -997 -3370 -3047 +1550 +8108 -2813 +5954 +2559 +3945 +5879 -1932 +4214 -2830 -2499 +5112 +7969 +5806 -6403 +1210 +4864 +6837 -3153 +7915 +6704 +3237 -2684 +3428 -7690 -6845 -5756 -3201 +1575 +2572 +1949 +1700 -2208 -4873 +1997 +193 +4166 -1347 -737 +3216 -7804 -177 -1361 -7011 +4545 -3096 -5157 -7621 +5332 +4681 -1833 +1704 +5738 -1484 -2562 +3957 -4402 -4546 -3329 -5244 -8691 +6560 +6416 -7971 +7368 +2563 +3847 +475 +333 +5015 +8312 -1565 -1601 -8944 -4640 +413 +7576 -6942 +242 +3184 -2675 -1247 +8218 -633 +7084 -4748 +5787 -3490 -6379 -8864 -2793 +4030 -7797 +7292 -3938 +4029 -394 +1025 +1542 +8886 +5665 -5866 +1826 -7934 -2598 +5329 +4678 +7012 +5553 -1953 -7139 +7365 +2971 -2553 +6827 +4639 +313 +4727 +6402 +7668 -8287 -4618 -4644 +927 -6156 +5478 -187 +7699 +5331 +3323 -1782 -1325 +6129 -3429 -1339 -7354 +396 +4239 -4754 -1545 -515 +310 -1867 +6055 +2086 +3327 +8699 -7161 +5741 +2768 -5575 +4893 -409 +7650 +45 +2512 +7352 -6228 +295 -407 -7983 -5628 -442 +818 -5697 +6812 +67 -8862 -5087 +6334 +2320 -8101 -8581 -6058 -3735 -747 -8883 -3522 -8569 +3772 +2337 -5712 -4798 +6921 +6971 -931 +3964 -5584 -6174 +459 +2455 +4761 +1558 +2369 -2576 -3382 +5878 +348 -8227 -586 -1034 +1882 -8139 +743 +7810 -3123 -1690 -788 -8960 +6852 -3447 -4078 +5857 -3518 +7251 -6417 +2573 +5278 -922 -5267 +1549 +2372 +464 +2698 +5751 +2002 +4998 +4833 -6569 +5782 +3159 -6099 +201 +1702 +2329 -6351 +4734 +1641 -3619 +1333 -2449 +1657 +5635 +985 -4887 -5512 +5906 -8669 +4693 -2111 +7192 -2834 +4592 -5739 +6382 -995 +6153 +1140 +8937 +226 +7789 -5503 -3861 -2853 +7623 +3280 -3392 -8449 +6707 -3203 -7169 +1697 +4146 +8446 +8829 -6995 -4872 +4738 -1147 +7107 -5005 +6124 -2185 -1239 -7677 +5959 +157 -7887 +39 -7607 +5941 -4198 +1304 -8652 -4487 +8665 +6018 +854 +7847 +6147 +6128 +1287 -7269 -4466 -1875 +1922 +3690 -4642 +1055 -2924 -1157 +2892 +1030 +7089 -4366 +5224 -3261 -8533 -3045 -1856 +1321 -5851 +344 -94 +2583 -5841 -3620 +4643 -3542 +5191 -6327 +1076 +5369 -8766 -2987 -49 +4587 -6048 -1817 +5410 -59 +3383 +7238 -2145 +1331 +516 -4436 -975 +4941 -560 +139 -3989 -6235 +8474 +7721 -4091 -2075 -1746 +144 -1160 +4195 -7074 -4541 -8275 +755 -5515 +2746 +4300 -5089 -2823 +3530 +8486 +2282 +471 -1044 -2220 -3233 -5337 +2554 -781 +7893 +3058 +3222 +5186 -5579 -7500 -3912 +2174 -3422 +7701 +2210 -7763 +6601 -3994 +1534 +2388 -1725 +3168 +2264 -1152 +864 +3423 +7514 -7266 +926 +3917 -6846 +1792 -6610 -3344 +2413 -5663 +8753 -1511 -1541 +2341 -7310 +8660 +7172 +5117 +1881 +8132 -198 +2914 +4395 -8200 -1396 +78 -3998 +8138 +7076 -8686 -4797 +669 +5664 +794 +1440 +4572 +1246 +2587 -1709 +3740 +6970 -1887 -3068 -784 -1861 -2153 -2363 +7421 -4897 -365 +6575 -7948 -28 -2043 -4817 -7023 +4270 +2717 +3493 -697 -5538 +6387 +6196 -1982 -6768 +6559 -6108 -8410 -6897 +7694 -1956 -873 +1515 -3924 +6168 +4102 -4057 +467 -6997 -6703 +8456 +6184 +5461 -2181 -5065 -3764 -8050 -3189 -7651 +6773 +2636 -4422 -4599 -4053 -638 -3208 +2775 -76 +8069 +3618 -7982 -4467 +6328 +1743 +5452 -6980 +3990 -2109 -869 +4482 +5473 +4456 +8160 +3582 -8204 -1288 -6446 +5956 -61 +6652 -7467 +2345 -207 -4039 -6943 -8214 +1042 +6873 +6829 -8391 +8174 -565 -4002 -8938 +8166 +296 +8873 +868 +2065 -6042 -5558 +6426 -5734 -2777 -8656 -1489 +1217 +5868 -3345 -4095 -2515 -8770 -8779 +5858 +7206 -3404 +3015 -4248 +8824 -4060 +2561 -1961 +6217 +6297 +5568 +7094 -8207 -7369 +5280 +7240 -2212 -8739 -9 -1985 -6198 -4269 +2050 +5733 -5607 -5705 +977 +167 +232 -6744 -7168 -6798 -8783 -5142 +8894 -3974 +1540 +3486 -3637 +2164 -7935 -8497 +1243 -6843 +438 -508 +1087 -4790 +811 -3394 +2591 +7217 +8849 -87 -6840 -7021 -3144 +577 +4141 +5859 -996 +4238 +3125 -1843 -3896 -5185 -578 +3733 -4550 +1608 -4713 -8259 -943 +5673 -2433 +5446 +6459 -7689 +1302 +6007 +5549 +1318 +4167 -1662 -5552 +1654 -4654 +7125 +4267 -6250 -4006 -6992 -7515 +235 +4196 -6669 +4465 -5010 +284 -5551 +5454 +7806 -1355 +5696 -1209 -286 -1283 +3775 -1301 +5194 +3809 -2259 +5904 -1795 +3230 +5728 +6329 +2170 +4674 -8361 -473 +3071 +6679 -814 -6102 +6839 +5384 -320 +792 +8485 +104 -3455 -8604 +8941 +280 -7468 -1074 -3583 +3899 -8082 +3202 +1216 -5097 +3776 +4890 -6506 +2709 +6764 -704 +2358 -5368 +1559 +1587 +4511 +7647 +6185 -6642 +1748 -7252 +96 +326 +2523 -5465 +8887 -8603 -7525 -5193 +5827 +918 +7031 +7952 -5716 -4537 -2148 -3884 -5679 -7594 +7788 -7164 -950 -7044 -4318 -4341 -2944 +2706 +5336 -5404 +541 -6909 -8211 +5125 -4967 -8793 -2113 +7629 +6467 +237 -6951 -5700 -6529 -8268 -1784 +1144 -5826 -1412 -2508 +1336 +2397 +6439 -1553 -3504 +3008 -5282 -3425 +3554 -4026 +6047 +7362 +2516 +55 +8919 -6976 +223 -5934 +1980 -979 -2617 -2326 -3871 +6967 +3481 -1766 +6954 +955 -7162 -1047 -1427 +503 -7739 +4020 -552 +2843 +4476 -1633 -6298 -4865 +325 +4448 -3605 -2720 -964 +4135 +3205 +1750 +836 -6014 -746 +8376 -1382 +4627 +2027 -3503 -2012 +6858 +1839 +1691 -5031 -5531 -270 -3754 +3211 +3936 +6538 -5686 -7431 +8341 -483 +7100 +4179 +1705 +2205 -8323 -4850 +3862 +3443 +5985 -6378 -8694 -8855 +6350 -5079 +7584 +6899 +4424 -7542 -1238 +7258 -1242 -821 -4359 -6874 -4174 +8622 +2778 +5126 -2147 +200 -6207 -1378 +7820 +8949 +4552 +6665 +2195 +2569 -8935 +7966 +6238 -7999 +7351 +8373 +1477 -378 +3450 -5792 +1487 -3767 -2564 +5810 -3830 +3592 -5434 +7154 +1241 +6989 +2492 +1221 +7152 -7764 +4194 +170 -749 -5078 -8230 +3652 +3895 -1993 +862 -3558 +7453 +265 -3696 +6313 +3788 -7643 +4357 +2026 +3815 -3187 +6664 +8846 -3 -6105 -1164 +3793 +8396 -121 -2418 -6449 -4258 -8654 +8834 -8856 -68 +4704 -4080 +4056 -7121 +6475 -1363 -8786 -2319 -2167 -6317 +5103 -7592 +3472 +2815 +7884 +336 +8621 -3613 -4611 +7068 -4576 +1430 +3932 +3160 +7404 -7097 +6275 -7553 +8499 -3885 +6532 -8023 -5479 -3292 -3923 -5416 -5180 -191 +685 +4930 +5179 +7450 +5214 +8441 +758 +5400 -4921 -1117 +8932 -571 -3290 -4936 -2783 +5411 +7127 +2682 -2800 +4549 +10 +4409 -6898 -166 -6632 +2792 -863 +8370 +917 +4217 -2152 -4451 +7138 -106 -6816 -6819 -7454 -4193 +7298 -2961 +1161 +6796 -1645 -5838 -5920 -4408 -4619 -2744 +3461 +6360 +5173 -5711 +3236 -256 +5211 -2557 -5786 +4461 +7929 +4453 +4347 -1938 -486 +6833 +8808 +4614 -7986 -2867 +6464 +8509 +6609 +7080 -6959 +6918 -1600 -3840 -4474 +1090 +8869 -1902 +2016 -7716 +1490 +7532 +1327 -229 -8120 -5952 +1923 -550 -6125 +155 -7279 -1573 +3763 +4536 -7843 -160 -8815 +2650 +7649 -5429 -3888 +709 -5540 +600 -3879 -2497 -751 +946 +2622 -6003 +4740 -2244 +5972 +4692 +2488 -6621 +7731 +3048 +713 -4414 +4703 +3178 +3110 -6910 -4421 +4114 +2126 -7008 +276 -7600 +7290 +6301 +8111 -4344 +3029 -7078 +3106 +635 -140 +4042 +8771 -4891 +4898 -2671 -6516 -8936 +6896 +1409 -4574 +8765 -8315 +7430 +3778 +8210 +5588 +341 +8475 -3191 -6162 -4991 -83 +5963 -6039 +551 +4319 -6779 +27 -6144 +1720 -4343 +6539 +4082 +7897 +3870 -607 +5105 -7039 +2877 -8183 +5964 +6371 -3549 -3893 -5581 +8262 +3242 -4263 -1397 +2827 +38 +7213 +7046 -5199 +2248 +3803 +7034 +8880 -1453 +7616 -2664 +1693 -7417 -2902 +4775 -2624 -6709 +2105 +5389 +3856 +4430 -4568 -3760 +5045 +492 +8115 -547 +3226 +4181 -6209 -8541 +648 +5658 +8224 +2722 -2860 +6985 +1664 -8289 +6590 +6260 -2255 -8399 -7141 +145 -6095 +6851 -7416 +7265 -4506 +8051 -4513 -6006 +7728 -130 +5156 -3199 +3854 -6257 -7522 +8522 -6757 +3697 +6762 +7714 -2182 -4733 -3816 +1224 -8404 +6222 +90 +5007 -8239 +141 +3007 +2922 -173 +6067 +1451 -3880 -830 +3797 +676 +1759 +7281 +5425 -948 +7741 -1083 +1166 +1830 +7817 -793 +8666 +5762 +8140 -8763 +5559 -3352 -7733 -5703 +4755 +4360 +1692 +8127 -5 -867 -534 -7529 -3892 -7103 -2215 +4580 -404 +1444 +5028 +3333 +7992 -7606 -4434 -392 -8445 -5153 +2773 -6063 -3786 -8005 -7270 -2151 +6939 -4139 -1059 +5687 +5772 +4101 +1162 -4719 -4726 +8927 +8086 -8755 -1606 +3953 -81 +7128 +1262 -3260 +7389 +1906 +3337 -1407 +4066 -5604 -5113 -5360 -3983 +8350 -3297 +1694 +2949 +2486 -5625 +2901 +1871 +6104 +3755 -2005 +602 -8011 -3357 -1528 -89 -7873 -1823 +3128 +569 +2621 +3579 +1500 -1765 +756 -8307 -4935 -8789 +3227 +4497 +4235 +3243 +3597 -7367 +3122 +2641 +5495 +7462 -5001 -2294 -4745 -6265 +2392 +2991 -2187 +1281 +7545 +6046 +3638 -18 -2422 +1103 -5732 +7572 -2447 -4655 +6267 -8462 -8745 -8867 -8609 +315 +6882 +2203 +5548 +2710 -2125 +8732 +4769 -7880 -3627 -6100 +970 -3969 +239 +1926 +8878 -720 +5522 +1603 -6577 -5824 -7791 +8615 +5414 -8583 +8798 -7443 -5797 +1999 -322 +6451 +5585 +2367 -3257 -6536 +6653 -2118 +4924 -2934 +7630 +6821 +2614 -3525 +8026 -7796 -3060 +4161 -6737 -2334 -8640 +4634 -2004 -701 -1539 +6356 -8588 +1107 -5398 -2787 -4130 +2395 +6605 +6282 -5780 +7150 +932 -3905 +1229 -7408 -5377 -3910 -8556 +6613 +963 -1537 +6319 -382 -1196 -1672 -4765 +5521 +4463 +6483 -6756 +3851 +1330 +6336 +1143 -8688 +1552 -1978 -8083 +3430 -7471 +870 -7709 -1844 +5569 -1293 -6412 +573 +2030 -8048 +7660 +2679 +1071 +1177 +8625 -1783 -5748 -5996 +5616 -4244 -1491 -5168 -2278 -3598 +456 -5477 -8613 -6050 +2854 -1931 -5175 +1523 -189 +5754 -841 +2083 -24 +828 -373 -4837 -6127 -3695 +4182 +6823 +2305 -891 -6182 -7358 -7808 -6122 +8208 +1130 +3017 +468 -3859 +7286 +2245 -6061 +6448 +8754 +8860 +7823 -7158 -8078 -7631 -268 +8678 +6849 +3195 +7783 +1939 -7178 +2023 -3115 +6375 -3148 +6051 -1411 -5220 -4188 -7390 +6743 +1686 -6424 -8951 -3933 +2009 +3328 +3240 +416 -7577 +8417 -2322 +5346 +4973 +179 +8748 +32 +1649 +7580 -62 -1248 +5613 +8945 +2799 +3761 +6525 +605 +429 -8059 -8131 +7048 -7432 +2803 -5863 -8670 -2448 +1392 +3725 -2589 -1897 -3463 +4829 +1635 +1535 +25 +3835 +1341 -4427 +1933 -8006 -7875 +457 +8216 -2437 -5046 -8369 -2852 +5695 -1530 -2766 +7377 +5645 -381 +1170 -3526 -3716 -2732 +5206 +718 -8055 +7005 +3950 -4334 -3817 +3769 -4469 +3833 +1605 -1065 +6928 +2470 +3540 -8790 +2610 -3441 -7420 +4926 +7829 -2888 -562 +7026 +1276 -5833 +5508 -7784 +8465 +581 -3270 +7123 -1741 +1398 +1442 +1365 -8482 +806 +7870 +4086 +8022 +7113 -4311 -585 +8359 +6631 -7104 +4540 +7312 +1192 +1445 +352 +6760 +1659 -8460 -6945 -5069 -5381 +2290 -3570 +48 -1294 +526 +4996 +1681 -965 -5591 +1190 +8316 -3246 -5624 +8552 -8067 +5611 -677 -5802 +1698 -8435 +7482 -7239 +5724 +5328 -5546 -3176 +7396 -6958 +2127 -6456 +1518 -8340 -3952 -839 +6588 -8899 +4582 +6595 -3827 +5831 -6668 +4880 -2379 +3977 +6808 +80 +5821 -4464 +2936 +810 +8523 +3095 +4288 +7628 -4956 +5634 +4352 +3091 +8551 -8920 -7194 -6830 +3853 -4197 +6183 +564 -5032 -1812 -665 +8047 +4544 +388 +8811 -2371 -7665 +5059 -1379 +7115 -7326 -740 +3077 -2257 +355 +1730 -7135 +5694 +5916 -3999 -3316 +5518 -1619 +6318 +8129 +1959 -3701 -6232 +2912 +7861 -8184 -2300 +8102 +4494 +7583 -8091 +3704 +6273 -4757 -5895 +1207 -7802 -6194 -2708 +6315 -190 -3448 -8957 +5567 -3773 -277 -6126 -4995 -5159 -5587 -8362 -5399 +2066 +1695 -8257 +2466 -7101 -1941 -7550 +4362 +7488 -1810 -4398 +3664 -7832 -2279 -5642 -5670 +3287 +8294 +4648 -1506 +2393 +915 +808 +8902 -3465 -8713 -437 -8889 -8657 -3839 -3358 -216 -5238 -7833 -3510 +3262 +6330 -3375 +64 +5875 +2874 +3391 +6966 +3585 +4554 -2757 -4170 +8450 +6916 -4781 -5114 -7595 +1804 +5152 +7038 -568 -7372 -3736 +8830 +6993 +6622 -3636 -639 -6086 -4052 -8716 +4208 +6574 +2350 +2911 +7476 -123 -1340 +3609 +3517 +5999 +2053 -2469 +2399 -7025 +3183 +6011 -6130 +8054 -7566 -2837 +1647 -5359 -2253 -6152 -1104 -233 +1110 -1728 +4778 +601 +2933 -875 -8491 +939 +1671 -7291 +2609 -6809 +5655 +5990 -2467 -4225 +5763 +410 -4441 +8596 -6000 -5709 +7928 +2988 +1952 +5447 -4218 -362 +1955 -8648 +2967 +6953 -5367 +5768 -7047 -7171 -6751 +7153 -7337 -2224 +6062 +406 -6540 +2677 +4559 -1685 +5926 +6138 -2011 -8839 -6398 -2673 +7772 -1101 -7456 -7996 +7920 +5509 +4530 +2415 +785 +4952 -5871 -3042 +661 -7244 +8568 +2651 -298 +1883 -8685 -2962 +5044 +4841 +5305 -6608 -4234 -7556 +6606 +1850 -7824 -3321 +7536 +593 -3449 +2840 -7459 -901 -6264 -2411 -3111 +4054 -420 +8639 -3062 -30 +6210 -4240 +6853 +307 -7411 -4390 +3589 +2310 +2637 +3151 +7057 -7226 +114 +1351 -3354 +6643 +8778 -214 +5075 -7272 -5910 +4928 +1538 -1228 -4839 -1813 -6693 -4931 -3648 +2672 -5166 +2507 -850 +777 +1754 +3013 +2713 +3506 +7848 +5813 +2275 -1214 +2952 -2133 +8870 -7596 -3264 +5412 -5052 -4684 +1648 -4508 -5736 +5888 +5387 +6091 -949 -1925 -3798 +4124 +3625 +1454 -5778 -4034 -8801 -7507 +1127 -3389 +5735 +2511 +5012 -4473 +3712 +7007 -4780 +3882 +2376 +7955 +2171 +4373 -2729 +3181 -2742 +8807 +3116 +8767 -734 -7757 +5285 +4496 +8144 -5338 -4994 +8297 +1187 -4793 -4226 +8351 -7895 -4621 +8027 -3365 -2273 +5583 -4687 +2404 +6227 -5770 +8487 -7958 -4213 -3914 -2364 -44 -8442 -82 -2474 +1610 +8916 -7602 -3872 -3154 +6173 -6818 -3356 +6533 -6028 -3037 +584 +608 -2653 -8147 -695 +4688 -95 +5208 +3018 +4158 -877 -5318 -8071 +4129 +4846 -595 +1434 -634 -2986 +8784 -2638 -1579 +4896 -567 +780 -5542 -8179 -309 +8638 +936 +7235 +723 +7794 -4163 +5855 -1499 +5961 +7613 -6049 -6373 +7549 -610 -5691 -7296 -7306 +2274 +4064 -4112 +3433 -1577 -8813 -8158 -361 +5396 -4585 -1132 +769 -5036 -1497 +4662 +8398 +1387 -8496 -8695 +8279 +6828 +986 -2604 +6687 +7697 +4021 +3624 -7993 +7936 +7725 -6512 +6520 -3131 -8194 +5310 +6528 +8430 -6432 +8548 -1846 +6374 +3130 +5641 +8242 -4059 +5680 -7098 -6074 -3623 +6165 -8792 -4501 +7977 -7429 +3087 -2627 +3349 +1043 -7513 +4954 -623 +6834 -3207 +7179 -8605 -5453 -5951 +8314 -1223 -7512 +7888 -3865 +3138 +6944 +7111 +3874 +6628 +8175 +7037 -4617 -220 -2156 -1367 +1360 +1607 -4567 -6280 +1799 +1001 -257 -6735 +4565 -3067 -6925 -4371 +3221 +786 -1399 +6712 -1346 -7236 +5451 +3548 -1651 +6554 +2905 -52 -5084 +5908 -3038 +4364 -1929 +2644 +2931 -5248 +182 +4090 -4731 -5315 -7692 +3105 -3591 +3744 +7314 +3822 +5862 -7400 -6658 +2968 -4925 -1864 +5692 -3458 -557 -5393 -2509 +7608 +6132 -8212 -6083 -2058 -3075 -4477 -2046 +2597 +3602 +5365 -7517 -5221 -5169 -8576 -7325 +3943 +2549 +7439 +6797 +1825 +4092 +4527 -66 -2214 +3941 +1429 -3093 -7405 -3993 +6926 -1231 -7947 +4140 +3070 +815 -3814 +1400 -2440 -2789 -4777 -2116 -609 -7551 +31 -7427 -5274 -4512 -4912 +6912 -423 -2959 +2471 -7698 -3739 +7387 +5946 -3866 +5154 -8524 -8346 +3304 +4050 +2069 +5886 -6686 +6435 +6041 -6530 -316 -7638 -7319 -7696 +3516 -3367 -5776 +3580 +2390 -7617 -7267 +1017 -1711 -5213 +2211 -7533 -7693 +2375 +3266 -1762 -1118 -2533 +2134 +6696 -8374 -8030 -1024 +2306 +4610 -1714 +8756 +1204 -8512 -278 +8390 +7819 +5376 +7840 +6573 +5201 +8546 +1918 -3016 +7879 +7209 +5207 -6842 -3146 -7466 -7723 +844 +2585 -500 +7904 -5055 +1655 +5348 -616 +5246 +3056 -1590 +497 -4686 -1060 -809 +2286 +6745 +860 +4190 -542 -5335 -8025 -8796 -6358 +1354 -5915 -7243 -3975 +7051 -513 +2985 -3363 -2517 -8250 +5685 -4786 -5554 -1273 -2733 +6037 +5619 -7413 -4147 -5497 +4570 -1064 +4369 +956 +5966 +7294 -165 -218 -2801 +7845 -7195 +4363 -837 +5302 +6806 +435 +6685 +8382 -7215 -2439 +911 -3962 -4279 -7869 +42 -1615 -6353 -4986 -308 -4440 -7496 -1495 -8714 +4485 +7277 +366 -3723 -8501 -3488 -5301 -1852 +3466 -151 -2976 +662 +4683 -2738 +3388 -5550 -3559 +4290 -3052 -3214 +133 +3036 +7436 +8234 -7264 -2806 -6889 +1564 -7526 +4859 +6931 +2955 -6719 +3714 +6684 -7494 +2381 -2076 +1916 -8300 -4442 +1683 +8444 -6800 -3003 -545 +7510 -8337 -7605)',\n",
              " '(+6819 -2263 -1527 +1836 -3755 -6666 -4536 -44 +3362 -6804 -8680 -8208 +1727 -5027 -8945 -7288 -3294 +4281 -7067 -4478 -325 +4389 +2505 +4034 +8892 -7159 +6473 +787 -834 +751 -5292 +6328 -4881 +2597 -378 +3571 -870 +7696 -4385 -6662 -6587 -4739 +269 +6841 +8172 -6286 -2430 +8115 -6787 +5472 -7146 +8294 -4609 +2792 -2453 -7242 +7806 +4962 +5517 +5948 -3082 +2891 +8631 +8376 +5979 -6213 -948 -3029 +4846 -6331 +4902 -1298 -5423 -4819 -3103 +4023 -3810 -311 -1991 +837 +722 +6815 +8275 -3598 +3193 -2019 -6218 +3283 +6782 -7961 +7381 +7300 +4627 -8541 -8037 +7537 -3709 +4813 -1873 +5117 -6622 +8137 +2134 +5055 -7771 +2799 -1302 +6542 -3192 +368 +7926 -8383 -2920 -4694 +1481 -3977 +7110 +6269 +2623 -610 +5376 +3805 +4395 +2679 +4526 +6350 +7414 +1295 +5023 -1445 -8614 +8451 +6415 +4056 +6159 +2458 +7107 -7223 -6864 -4968 -2241 +5955 -2374 -2554 -4817 -3754 +5414 +6958 +7575 +8789 -8140 +8683 +5058 -850 +2695 +8558 +8484 +1104 +6303 -8174 +6255 +2077 -3109 +95 +1640 -3784 -5995 +1792 -4 -4720 +4506 +8054 -5114 +1000 +4522 -8382 +8875 +245 -1776 +5913 -3035 -3762 +238 -2972 +7904 -2339 +2885 +2243 +1523 +2614 +3681 -8468 -4141 -8273 -4016 -7205 +667 +2095 +7282 -5426 -429 +8720 -1622 -5321 -712 +1933 -5132 +1913 +2772 +5890 +5706 -1590 -3547 +425 -8733 -1666 +3513 +7916 +3297 -3986 -4174 -1921 +8450 -8552 -3918 +6022 +6272 +2102 +6333 -5440 -884 +3990 +6003 -4360 +7764 -7100 +6312 +3642 -343 +3875 +5305 +7951 +6114 +4137 -4185 -4931 -5947 -6468 +4421 -4494 -4162 +4571 +1281 -1886 +4746 +1655 +8959 -2883 -5777 +3710 +5671 +4528 -6910 -5081)(+4377 -7472 -4050 -1471 -3890 +4306 +6725 -8214 -4756 -5157 -719 -435 -3698 +1027 +546 -2423 -7228 +5708 +6436 +5518 -6833 +6674 +4621 -6706 -3768 -463 +1083 -7254 +1844 -8922 +8270 +5071 -6511 +138 -3636 -2607 +5383 -748 -3569 +3827 -5160 +4341 -8213 +4851 +8127 +6564 -6081 -4989 -4750 +862 +6744 +4466 +6791 -8332 +6526 -440 +3430 -2111 +6082 -4320 -5367 -4880 -6723 -4272 +1892 +1815 +4722 +90 -3334 +5303 -5668 +7119 -1400 -6665 +1245 +2089 +6996 +1076 +4313 -5393 -6291 -732 -8492 -7356 -4326 +3721 +2535 +6156 -2602 -7239 -8607 +632 +574 -2586 +3763 +2160 +400 +8315 +172 +4597 +217 +4588 +717 -5464 -1521 -1818 -8667 +6335 +6593 -507 -4232 -5880 -4516 +5460 +3658 +5425 -3629 -2062 -7797 +1993 -1331 -42 +6363 -5215 +7632 +8767 +6573 -1476 -2401 +6479 +6025 +6067 +2655 -3824 -4116 +6865 +1097 -76 -1601 +7688 -7576 +6661 -5430 -6598 -5487 +1419 -8454 +3674 +221 +7161 +4794 +6379 +1461 +1685 +6554 +2163 +1348 +6154 -1231 -2868 -1007 -7158 -7183 +1868 -691 +5382 +2517 +8302 +5609 -4941 +6496 -3107 +5810 +4674 +7700 +2498 -1817 -5817 +4844 -2984 +491 -1728 +568 -4140 +6773 -4172 -8923 -1778 -3292 +824 +5864 +7479 -1560 +2068 -3372 +6104 -5863 -7523 -5255 -7697 -7206 +1429 -5730 +904 +8190 -7201 -7775 -7737 +1932 +3816 -7712 -4616 -6438 -4220 -5066 -6683 -6201 +2170 -3831 -2537 -3227 +7660 +5891 -5138 -2187 +2320 -551 -1034 -6033 +8211 -2951 -7497 +6383 -8622 -8312 +4667 +5190 -731 +1715 +2618 -2957 -2688 +7453 +4291 +369 -7436 +5109 +6185 +48 +7455 -5111 -2760 -3573 +8597 -32 +6214 +3277 +166 -4736 -1652 -4584 +6220 -6136 -4458 +2470 -7950 -4703 -965 -4128 +1494 -1618 -5266 -3631 +143 +8373 -1927 +4000 -5978 -7747 +5656 -5007 +6329 -2888 +7605 -1963 -6670 +7273 +7187 +704 -7457 -3139 +7966 +2544 -3088 +1845 +1941 -5189 +6932 -2331 -3581 -7367 +4153 -6416 -1389 +1526 +1026 +8146 -6784 -4924 +8666 -3767 -2786 +3049 +7257 +4200 -1148 +315 +4791 +3983 -6469 -2580 +2389 -1995 +6437 +1766 +3707 +6285 +1861 +6813 +179 -7748 +8638 +3178 -4548 -3909 -1603 +8815 +5704 -3717 -5688 +5286 -8620 -2403 +7641 -2985 +4614 -926 -4533 +8409 +611 -5851 -5660 +8653 -1966 +6332 +3302 -7387 +1061 -1820 -8363 +8169 +519 -4504 -4229 -3344 +8084 -2576 +8467 +754 -6867 +8556 +2693 +3782 -1937 -4541 -1268 -6336 -5016 +8386 -6521 -790 +3420 -8292 -1318 -7849 -1478 +7944 -7195 -2918 -4404 +4387 +5180 +1936 -3179 +543 -181 +7851 -5595 -4073 -1853 -1373 +4767 +7090 +2682 +3807 +5243 -8400 +4217 -2336 -2574 -5924 -5402 +6863 -140 -8754 +4678 +3787 -2009 -3928 +8469 -8106 -5298 +5259 -2853 -6251 +6063 -7681 +2154 -6002 -900 +7872 +4596 -4843 +7790 -1380 +1020 +584 -7307 -801 -6654 +7698 -5608 +4410 -6313 +5253 -5338 -4033 +1920 -339 -3584 +5337 +5167 +4727 +8908 +4601 -8878 +8639 -6065 -2238 -4503 +3885 -4086 +1547 -2093 +3585 +3851 +4338 +4999 -545 -6453 +7218 -2345 +3952 -6487 +7063 +4659 -3129 -1531 +4315 -3978 +230 +2414 -5119 +4729 -1430 +6369 +3033 +5981 -2188 +8426 -5401 -6914 -7566 -4913 +6580 -3194 +5005 -1102 -7657 -6443 -375 +7129 -5725 -8077 -4122 -1038 +4301 +1846 +7391 +283 +8314 -6477 -3140 -4433 +8348 +971 +8203 +6174 -320 +1643 +4502 -591 +2877 -1572 +4944 -3578 -3575 -2642 -5240 +6011 -28 -1447 -7602 +4593 +7374 -4690 -4067 +5960 -6514 +8882 -4165 +6371 -8170 -5421 -4447 -8859 -5868 -8931 +5006 +7244 +5539 -417 -2041 +3212 -1239 -5312 -1224 -1644 -102 -2971 +5824 -7442 -8758 +4888 -495 -5410 -5886 -2703 -3262 +3076 +7435 -3574 -5729 -604 +7285 -4182 -1082 -6264 +2714 -7708 +5771 -3384 -8602 -4563 +3849 +8457 -1192 -4135 +4581 +6495 -2404 -1291 +8897 -5917 +7234 +547 +1804 +3999 +2350 -5986 -2088 -8887 +6500 +5793 -2234 -2266 +2051 -7081 +6968 +5435 -3603 -998 +6586 +1150 +1324 +3431 -5835 +8145 -5019 +1340 -2851 +3445 +5293 -7528 -5534 -984 -7702 -2049 -8838 +6423 -6592 +389 -6040 +2491 -2325 +7405 +5379 +1931 -3913 +6699 -6421 +3680 +5041 +4883 -641 -4547 +7703 +5914 -8711 -5122 +3480 -8045 +6694 -7915 +3910 -3117 -7587 -4278 -7000 -8490 -7682 -5307 +7078 -7973 +7874 -2039 +8031 +7333 +3923 +4424 -2097 +1204 -775 +3219 -5799 +7728 +5752 -4343 -6966 -6403 +7487 +3047 +938 -6207 -8271 -1371 +8495 +6647 -1095 +4815 -6021 -6909 +428 -5245 -6663 -5968 -2948 +3506 +8735 +8641 +2353 -3032 +4372 -7742 -7278 +5709 -2033 -4549 +8576 -2513 +2467 -2206 -8197 -4259 -7876 +3232 +728 +3005 -7458 -1431 -3496 +8194 -5353 -8837 +3500 +3425 +5846 +8873 +4457 +115 -785 +3460 +2225 -2277 +3562 -985 -4244 +4334 -6945 -3144 -2635 +686 -3646 +6153 +1594 -4117 +7758 -3653 -8452 -3676 +2910 +5171 -8124 +1513 -3172 +8362 -4312 +8521 -8771 -4957 +8346 -6134 -8958 -3349 -5412 -1556 -4707 +5087 +8430 +1361 -3525 +3253 +8522 +6211 -4956 -58 -3263 -6105 -4373 +5746 +959 -8734 +4824 -2101 +2085 +7726 +956 +5558)(+4355 -2120 +5400 +3694 -5601 +1208 -3010 +5866 +1722 +4452 -7124 +3070 -3478 +2912 +544 -1420 -7108 +2424 +5819 +3206 +1125 +2735 -6326 +4903 +2671 -5739 +5500 +8307 -1499 -1222 -1216 +2384 +5973 -1516 -2519 -6234 +8473 +2392 +2841 -5116 +2309 -1748 +7953 +7416 +5130 -54 -6641 -1443 -2186 +3402 -5137 -1957 +4283 -7461 -484 -2126 +3393 -1069 -3060 +2927 +5598)(-3780 -2814 -5024 +8953 +4613 -2734 +5762 +7753 -635 +6391 -5270 +4673 -1393 +8893 +7830 +92 -8092 +8577 +1308 +2615 +4307 +3091 -8403 +3858 +100 -5233 -8924 +8242 +3242 -5676 -8919 +4292 +2584 -8956 +4754 +6170 -5624 +2697 -7735 +6656 -5164 -2390 +3065 -3348 -5003 -7217 -4415 +7531 -2726 +4747 -3660 -3701 -8747 +8687 -5699 -278 -6161 -7847 -5562 -8554 +2821 +5897 +8058 -5953 -86 -1339 -4691 -2432 +2973 -7141 +5244 +2605 -3494 -7355 +3727 -1942 +5340 -1372 -7240 -6018 -1939 +4325 +812 +643 +2913 +6627 -2417 -2421 -7828 +8319 +8265 -442 -5020 +5237 +599 +7822 +1849 -7784 +671 -4362 -1479 -1220 +5029 -29 -1699 +6681 +8485 -1847 -1537 -5086 +4840 +313 -3829 +7683 +3613 -7884 -6142 -5012 +917 -4210 -648 -1624 +8592 -3054 -8370 -7655 +4188 +6884 -7613 -16 -6571 -3014 +3982 -6680 -6908 -6307 -5869 -8566 -3899 -1349 -231 -3199 -1223 +3325 -1668 +1162 -1925 +5804 -963 -4543 -6962 +5956 +1205 +3947 +8132 -289 +5324 -5828 +2949 -457 +877 -5389 -5951 -8240 -1595 +2943 +8673 +1509 +7559 -4003 -1544 -5809 +3312 +5202 +6349 -3446 -2639 +7710 -240 -2902 -6274 -924 +2076 -1402 +4757 -2818 +114 +7044 +6432 +7662 -2310 +4088 -6880 -8944 -4872 +3749 +2378 +6844 +101 +7706 +2143 +1515 +8019 -8504 -4821 -2502 +5734 -7974 +1381 -6653 +25 -7293 +4235 -6355 +669 -991 -4600 +1541 +1809 +4954 -1484 +12 -3459 +6422 +5599 -1729 +698 +1682 +3520 -8052 +5580 +3157 +1898 +5296 -8884 +4679 -1342 +63 +969 -6143 +5718 +2578 -5579 -7238 -7796 -7175 +8397 +6249 -707 +6319 +3634 -525 -3822 -1678 -1057 +1440 +5989 -723 +1182 -2508 +2926 -3351 +3640 -8868 -6157 -7299 -8721 +6461 -4491 +8035 +3050 +8684 -8544 -224 -5585 -4485 -4969 +847 +6949 +5860 +4082 +5808 -2000 -7018 -8862 -8699 -2022 -8152 -5617 -1762 +83 +3505 +291 -6435 +2047 -3160 +1058 +6714 -6642 +1435 -2919 +7701 -7998 -3614 -6237 +3897 -4353 +7286 -4403 -7665 -184 -5694 -7155 +7354 +3594 +1111 +5852 -2251 -6293 +922 +1056 +7207 +7421 +1310 +4197 +3369 +4936 -567 +6236 -6677 +4900 +3793 +3056 +6182 -7878 +6024 +8438 +8571 +1859 -6639 +5797 -4006 -1794 +3052 -3137 -6280 -51 +8261 -4832 -1263 -4741 +4374 -3409 -6983 -1843 -3692 -7154 -1176 +7732 +1745 -8418 -7610 +5767 -5390 +1229 +839 +4807 -2194 +5192 +6338 +2739 +552 +6107 +6831 +7734 +104 -85 -336 +5126 -1951 +4045 +7291 +8932 +4265 +5044 +662 +7302 -6059 -6106 +6168 -6094 -8193 +5247 +4386 +2652 -3118 -5085 -5885 -4932 -7964 -5232 -7530 +4206 -4945 +7940 +174 -3652 -7447 +5214 -4275 -2931 +4473 +2200 -8692 +1719 +1989 -730 +6440 +2340 -3546 +8773 -8578 -8899 -5369 -2934 +2274 +1171 +8357 +7859 +5026 -8745 -2968 -7473 -1970 +7315 -4540 -8498 +920 +5359 -8947 +2493 -7606 +3757 +5615 +2237 -3428 -5419 +7545 +5277 -3490 +7011 +5722 +5686 -401 -4193 +8459 +8814 +2515 -1017 +6458 +7571 +5903 +2870 -2908 +2358 +213 -5937 +7816 -8291 +1900 +7483 -8743 +891 -1267 +5352 -8525 +5921 -8449 +3019 +3347 -241 +1683 +3305 +8561 -6240 -364 +3249 -154 -7738 +4113 +7673 +8387 -4713 -8445 -893 -2541 -1306 +889 -3454 +6164 -5377 +1409 +1401 +5894 +3924 +7544 +2034 -5855 -7475 -6510 -1576 +6965 -8151 +6533 -3969 +8626 -52 +1834 +4825 +7792 -4628 -1651 +6890 -6626 +3317 -4115 +4920 +1421 +5543 -2254 +496 -2446 -6519 +8079 +4517 +5004 +7664 -789 -4788 -7745 +8360 -2473 +2514 -950 -3678 +4538 -6133 -6387 +8651 +4818 +152 -1660 +6111 -7397 -7804 -2847 +1605 -1812 +4149 -5093 +485 -5499 +3708 +4251 +7237 +5847 +5816 +8573 +4368 +7351 -4054 -377 +8131 -6034 +1134 -4125 -1376 +6790 +4578 -5549 -7491 -1686 +8013 -7592 +2660 -4170 -1866 -3453 -2481 +7653 -7028 -2246 +7261 +8686 +448 +6357 +4429 -4221 +974 -5000 +2921 +8352 +5271 +8938 +2549 +7443 -6177 +2220 +1483 +4842 -409 -3407 -5261 -2326 +6682 -7419 -3479 +1929 +8840 +2723 -1326 -3804 -7477 -5163 -1638 +2492 +8663 +1830 +4080 +2894 +1279 +3811 -8222 -8121 +1642 +5508 -5319 +74 -3935 +5513 -1458 +1713 +5538 -8766 +424 -7422 +2443 +7023 +2469 +853 +6897 +5871 +8633 +2925 -1314 -263 +8336 +2795 -5764 +6814 +3551 -7760 -7725 +2603 +7204 +3149 +3300 +8772 -1428 +7262 -4093 +1093 +6982 +7583 -8872 +8703 +7151 +7253 +8569 +6044 +7060 -6419 +5987 -5128 +4163 +7845 +8494 +4451 +3760 -4514 -4026 +7263 -6466 +4268 +1350 +5682 +5125 +4519 -613 +8280 -280 -220 +387 +8241 +6072 -3623 -3271 +7762 -7298 -678 +1498 -6608 +2323 +2830 +752 -4915 +6337 -767 +4892 -8889 -1079 +636 -4358 +2365 +6687 -3556 +1345 -2295 +276 -8493 -6876 +5193 -4231 +6719 +955 -4305 -6522 +3251 +4523 -2872 -3639 -7005 +1336 -7026 -431 -3738 +4107 -8831 -4052 +17 -8109 +8437 +6843 +5783 +8545 +3438 +7160 -5664 +4120 -2018 -6858 -5814 +4269 -2372 +3366 +7049 -8590 -1016 +6941 -1774 +5409 -814 +2796 +7824 -7319 -7335 -5806 -6685 +2321 +5561 +6459 -2616 -3902 +3444 -8689 +3429 -2191 -1878 -4152 +6518 -5644 -8555 +6090 -7855 +5357 +8941 -7888 +1606 +7058 -1355 +6426 -2663 -5605 -2935 -7359 -4530 -2216 -2523 +3946 -1465 -8910 +5268 +1175 -5648 -3949 +3336 +6823 -3669 -3004 -1025 +3359 -2411 +6320 +1570 +8066 -7480 +183 -1084 -4369 +930 -2864 +3839 -4327 -8047 -783 -6439 +7635 +2410 -8187 +8619 -6842 -4184 -7029 -2270 +4336 -145 -1407 +4007 +3141 +6615 -5181 -6778 +8021 -1986 +3352 -4873 -3404 -1265 -1090 +6762 +8943 +4698 +3550 +2857 +8645 -5249 -3766 +1905 +69 -8848 -8616 -817 -3365 -7917 +2850 -328 +2482 -1983 -8658 -3037 -6848 -7008 +7720 -743 -8930 -5107 +35 +6343 -8308 -4357 +932 +6561 -7517 -6037 -4489 +73 +5754 +851 -106 +3878 +5879 +410 -8798 -5920 -1126 -49 +7932 +4092 -1802 +7989 +6905 +250 -6165 -340 +8111 +1884 -1180 +595 +5933 +8372 -6101 +1212 +7661 +6395 -7404 +1647 -3278 +3691 +2149 -1375 +6660 +3000 +681 +7499 +4967 -3648 -4296 +1190 -1359 +8343 +4980 +7628 -7625 +2974 -6166 +5853 -330 -6480 -1697 -1924 +4196 +6648 -4448 -699 -50 -8129 +3907 -209 +4899 -6377 -5208 -443 -6130 -7739 -6565 +638 -8043 -1313 +3182 +4308 +792 +5178 +7413 +5798 -3632 +1639 +915 -1573 -393 -6631 -2026 +1656 -1593 +8914 +1803 -7993 -8761 -8068 +3896 -7200 -7870 +7556 +780 -6896 +5935 -7722 -2256 -5732 -264 +1383 -4632 -3048 -7840 +4462 +8650 +582 +2106 +5753 -7241 -2709 +7042 +3796 +6046 +6192 +1566 -3596 -6378 -6601 +2981 +8175 -6812 -7072 +4495 +6951 +1264 -6515 -8481 +2406 -310 +3501 -6952 -3169 +1433 +15 +1819 -8443 -5049 +7150 -2702 -7065 +3090 -7304 -7550 +6118 +5623 -4062 -2811 -4039 -1147 +3872 -8081 +3563 -427 +2183 -1798 -4897 +4792 +6742 -1131 -8339 -8022 -725 -6126 -3672 +2099 +2456 +3239 -2929 -1673 +438 +5988 +5 -6199 -121 +800 -3814 +6486 -3392 -5596 -8613 +8345 -1041 +1199 -909 -1341 -3023 +7609 -113 -1795 -2506 +6119 +5021 -4253 +6624 -4797 +992 -5473 -7832 -242 -8870 -5061 +7363 -7389 -3468 -1353 +483 +4779 -7967 -4474 -4804 -8833 +7383 -2193 -861 +5162 +4354 +3882 -2542 -1757 +2024 -5045 +8321 +6295 -4871 +1865 +6070 +5690 -4960 +2313 +913 -872 +3507 -7069 -7542 +4784 -5669 -1358 -1634 -2946 +3779 +7126 +481 -2526 +3973 +2145 -7036 -40 -5438 +4689 -5570 +795 +6828 +7494 -6746 +2005 +7857 +7313 -8157 +3522 -3823 +3835 +782 -4290 -3385 +7761 -7465 -7627 -2532 -7015 -1210 +569 +2014 +4916 +7034 -4544 -4319 -2547 -535 +3442 +6132 +1188 +5647 +7153 +8117 +6252 +2950 -3269 +3281 -2658 -6460 +2202 -7055 -3461 -7600 +4647 +6315 +3474 -2233 -8551 +7854 -842 -6344 -4814 +5287 -1569 -3615 +3307 -8453 -6263 +5844 -1706 +1444 -6209 -8732 +5994 -1472 +6270 +10 +580 -2846 -7353 -5673 +7759 -928 +987 -5388 -1709 -272 -5110 +750 -4416 +6323 +4939 +5322 -5169 -110 +1185 +8542 -2917 +5701 -7275 +314 +7306 -2107 -4280 +7166 -8738 -1896 -214 -5635 +2546 +8810 -6938 +2388 +1786 +7125 +3357 -6499 +3115 +8538 -5571 +7770 +8283 +8394 -3191 -8702 -2165 -6062 -846 -770 -5738 +8032 +3854 +758 +8564 +3228 -680 +6637 +8276 +6758 -3531 -2123 +7024 +2250 +5776 -759 -6873 -7182 +1271 +2282 +6308 -8201 -910 -2211 -1010 -799 -7373 -1536 -6684 +6305 +155 +1736 -791 -6482 -2172 +2501 -4752 +3968 -708 +2415 +123 -7808 -5221 +5065 -2012 +7773 -6555 -6129 -3776 +2559 -885 +5408 +522 -2510 +3285 -6915 +7621 -6584 -577 -5826 +841 -5200 -886 +6100 -8709 +2991 -6614 -4164 -7452 -4392 -2933 -3168 -4731 -5396 -1607 -4781 -3620 -5347 -3167 -6926 +408 +7292 +6188 -1266 +3377 -444 -7769 -4388 -8818 -8008 +8679 +3339 -7686 +8842 -8531 -6612 +3484 -7912 +5763 +4662 -4443 -8769 -8513 +863 +6749 -1115 -418 +1763 +4802 +5456 +8806 -859 -3718 +8001 -2067 +3840 -61 +7468 +7539 +5475 +5403 +3673 -3706 +3288 +737 -1165 -735 -6931 +3589 -6411 +4222 -196 +5486 -173 +8371 -471 +5431 -1889 -2802 -2268 +4081 +7326 +6530 +5760 +176 -3789 +696 -8025 -6175 -997 +4531 +8305 +1564 +5702 +1880 +8912 +6502 +6643 +1808 -6567 +8232 +4922 +2666 -4568 +1675 +8843 +8661 -2059 +2566 +675 +3903 -1529 +6596 +1360 +4599 -3003 +1240 -5666 -8427 -6998 +3100 -7939 +5588 +6797 -2287 +2725 -2407 +2887 -1277 -5765 -6318 +441 +8946 +4439 +1480 +2363 -8464 +1702 +462 +6005 -7401 +3988 +6194 +8737 -6367 +7938 +4068 +5504 -5942 +8095 +6769 -3183 -7485 +2348 +4139 +4644 +7579 +7444 -7138 +1914 +8890 +6203 +1797 +2208 -8329 -7127 -784 -6058 -1406 -5934 -3950 -6115 -8088 +1450 +2133 +6748 +8101 -2203 -8730 +7601 -6045 +6933 -5350 -2346 +6077 -7438 -3187 -4317 +649 +2214 -293 +6258 -6394 -7795 +4066 -4562 -1952 +2280 -1852 +4246 -6064 -258 +5145 -764 -1391 +6135 -682 -1974 +4078 -548 -2483 +6688 +7654 -6806 +3730 -7573 -45 +1703 +4151 -5398 +8388 -1139 -7369 +8652 +4776 +3216 +4297 -4285 -2349 -4661 -7833 -3795 +2366 +7336 +555 +7441 -1050 -3699 -2448 +1600 -7344 -1759 +1434 +8446 +3720 +8503 -8070 +2472 +1059 +7811 +3245 +8072 +7991 -3984 -1813 +373 -742 +5025 +2599 -1151 -1984 +8250 +6855 -4483 -7464 -1854 -8431 +6289 +3304 -7598 +5496 +6850 +5236 +1043 +6246 -6574 -8562 -5211 +8739 +162 +4793 +8413 -422 -6245 -6517 +2037 -6970 +3096 +2701 +2903 -3845 -2201 +5874 +8331 -1695 +8091 -6974 +2373 +1704 +7177 +6888 -7415 +1230 -765 +6760 -6281 -1893 -8665 -3873 +3957 +1738 +1810 +5999 +7365 +7948 +5151 +7209 +1848 -7617 -693 +7520 -493 +7469 -6228 -7626 -5159 -7996 +5436 -4751 -6223 +3058 +6229 +6872 -4850 +3068 -8012 +7524 -7791 -2747 +5297 +3944 -5563 -3841 -3447 +7522 -2335 +2146 +8405 +5170 +5441 -180 -3234 -7208 -8662 -4176 -165 +8421 +3025 -6096 +1145 +2140 +2368 +8143 +7106 -8934 -2988 -7850 -2436 +2941 +7687 +7861 +1750 -5141 +7873 -5133 -3933 +3628 +2740 -6569 +1144 -8697 +1520 +6121 -1546 -2996 +119 +7800 +738 -1874 +6623 +5494 +6464 +3916 +2620 -1904 +8080 +2025 -2878 -7695 -6558 -8439 -8263 +4890 +7492 +4475 +570 -1439 +158 +2967 +3261 +1741 -936 +1257 +8529 +6835 -876 -8900 -8417 -2479 -194 +8474 +487 +1773 +2419 -2253 +1635 -499 -4961 -7277 -6783 +205 +3633 +947 -6589 +1437 +4111 -690 -236 +7080 +2959 -5672 +7321 -5079 +8888 +3171 -5279 -1899 +6507 -8611 -828 -1213 +8419 +3491 -4228 -6489 +7533 +6737 +2798 +2560 -6764 +470 +2583 +449 +7561 -2249 -3671 -7815 -5127 +4186 -2819 +8618 -2119 -2316 -2110 +7041 +7276 -1796 +1973 -2507 -6275 +2272 -295 +2563 -1030 +1510 -1023 +8482 +1926 -7651 +6807 +6651 +215 -2229 -363 -7611 -2092 +4243 -4114 -3883 -705 +6834 +7375 -3499 -2231 -2447 +7535 -3534 +1922 -8428 -8668 +4138 -6611 -234 +753 +8853 -3752 -4610 -2020 +2629 -8886 +5113 +8489 -6085 +2375 +7330 +6239 +3488 +4150 +3915 -4157 -4233 -3670 -5330 -3572 +8470 +581)(+1156 -1765 -1019 -4490 -7047 -8225 +2874 -6541 +1288 -5060 -5600 +3696 -7258 +248 +6124 +6572 -4238 -1525 +2484 +6728 +6191 -2698 +2096 -5778 +337 +4733 -191 -2130 +6179 -3920 +3959 +8603 -2649 -601 -5078 +3011 +4356 +5883 +6446 -5097 -740 -6994 -8675 +8783 -8852 +4994 -1707 -5325 -62 +1015 -1107 +3310 +1332 -4567 +4060 -4808 -8366 +5715 +3250 -2385 +5916 +5761 +6169 -3221 +4024 +4413 +3424 -1384 -5165 -5241 -6809 -5100 +3419 +3394 -4109 +5731 -5040 -4796 +3675 -5685 +8116 +6447 -2692 -7378 -41 -2731 -1285 -6457 -8342 -1657 +6700 +2117 -6450 +4480 +2084 -2330 -2752 -5634 -8584 -2684 +2317 -6097 +3521 -6000 +4744 -5366 -5803 -7322 -5627 -6050 +2659 +8698 -4723 +2565 -7279 -6226 -1392 +7167 +3434 -6820 +8224 +4930 -4708 +3455 -7358 +8199 +6721 +3316 +4208 +2797 -5807 -4716 -6402 +1978 -6093 -2322 +4500 +7820 -8337 +1783 +2354 +7248 -4314 +5698 +7311 +6837 +1416 -7139 +2838 +7077 -7267 +1821 +2409 +1117 +5592 -3231 -2721 +6978 +322 -1977 +260 +5697 +1956 -8691 -8785 -7685 +5461 -6990 -989 -5344 -6881 -2665 -7214 +7268 +2105 -8749 +3975 +1369 -5153 -6442 -2573 -5115 -5258 -5507 -5589 -7707 -8816 -6763 +7500 -7863 +5371 +5445 -7889 +1650 -3577 -4532 -3536 +103 -8297 -229 -3736 -8063 +6476 -504 +683 -1055 -2299 +6796 -4136 +1734 -1120 -990 +3608 -7040 -5417 +1238 -6741 -5735 -1161 +4059 +3750 -6740 -374 +8904 -7280 -3857 +7235 -8580 +7733 -6284 -8563 -4675 -357 +3255 +1602 -5351 +5607 +7147 -3229 -5476 +4908 +7906 -4370 +7496 -2906 -5320 +5222 -8952 +7730 +6140 +1492 -5311 +2677 +4333 -4507 -4010 +2785 +6794 +8135 +4124 -1770 -5603 -3361 -127 -3181 +1122 -5284 -6722 -3133 -3535 +627 -4710 +6590 -8245 -4340 -8819 -3021 +4987 -820 +1971 -4309 -8537 +2657 +5862 -7342 -4800 -4952 +7045 +4598 +4617 +4907 -7392 +6535 +8472 +4071 +4339 -6404 +6585 -6372 -4236 -5466 +1455 +4894 -4103 +603 +5604 -685 +4227 +2395 +7768 -1211 -4432 +6539 +5262 +4178 +1690 +2334 -1300 +5104 -6707 -7133 -5940 +8588 +3184 +7986 +3792 +3582 +7672 -1539 -3059 +2678 -7425 -8609 -1907 +2689 +6536 -5567 -8231 -619 -420 -7289 -2184 -4258 -5782 +8399 -5037 +3197 -6122 +541 +2843 -6420 -6417 +1386 -7004 -1255 +5205 +7652 +7577 +8053 +6212 +8880 +7488 +3121 -5716 +265 +2043 -7807 -8715 +6679 +7563 -5639 +8781 -6196 +2844 +1609 +7907 -6127 +3609 -2976 -583 -7184 +3773 +8722 -1701 +5911 +7140 +4576 -4940 +8547 -1286 +2831 -8018 -689 +1246 +6509 -1800 -7788 -296 -4090 +262 -4856 -8811 +5186 -4833 -4629 +5095 +5273 +4656 -8009 +4287 +4304 -4865 -4104 +4764 +4346 -5719 +5070 +8726 -8627 -2719 +1114 +7314 +7985 +3683 -1098 -6727 +7066 +8333 +2922 +6993 +5516 -5068 +937 +3337 +6709 -5088 -5850 +8455 +3089 +3210 +2486 -6549 -6128 -1586 -818 +672 -3645 -4379 -4743 +6366 +3291 +6753 -4809 -5038 +729 -2749 -7481 -4911 -4626 +8935 -4682 -367 +6386 -3146 -7663 +3554 -6151 -2694 +1080 -3619 +4884 -2509 -2032 +8323 -4925 -4684 +4496 -3764 -2654 -5399 +5569 +6955 +1334 -2006 -3406 +7607 +2394 -4569 +3237 +916 +7249 +8846 +3041 +6053 +1482 +5662 +4943 +2324 +3405 +2879 +7002 +3693 +4020 +6456 +6973 -8289 -3241 -7498 -954 -5154 +5574 +6924 -7328 -4938 -5514 -7749 +1047 +2773 +1988 -5257 -8176 +6306 -3515 +4398 +5356 +3209 -7911 +2836 +4127 +8006 -3661 -2855 -6901 -6189 +350 +7959 -2592 +5515 +8177 +6073 -5781 -2499 -4445 +3688 +8153 -996 +7718 +2100 -588 +2500 -5626 +6650 +5455 -7990 +7489 -7616 +3473 -8844 -5712 -4553 +592 -8706 -4430 +6099 -7965 +7783 -8825 -5318 -3412 -216 -6716 +4893 +845 +5090 +6703 -5072 +3235 +1003 -8929 -8234 -2748 -2312 +1414 -22 +1629 -2686 -4351 +4852 +637 +3338 +1074 +5998 +4910 -2804 -202 -4207 +768 -2905 +1241 -7101 +2718 -2127 +8864 -383 +6513 +6364 +3346 +3627 +2035 +773 -6817 +5904 +1330 +670 +2873 +981 -6689 -7144 -3274 +5480 -2377 -5363 -8044 -1967 -1751 -1871 +2450 -6878 -805 -7848 +5544 +927 +4634 +7020 -6013 -4130 -8671 -4724 -7092 +1746 +4261 -2278 +8434 -2121 +7741 -1903 -164 +4075 +2681 +135 +3270 -4978 +5300 +7838 -8570 -5896 +6451 +3475 +7196 -7975 -2001 -5306 +8110 +8759 -1011 -1948 +8114 +2568 +7256 +8625 -6922 -5187 -6125 -1561 +4180 -7039 +8510 -1575 +6777 +941 -3078 -2318 +7647 +7620 -726 -6171 -5043 -2942 +6071 -8267 +1328 +5248 -6556 -7120 +5194 +8594 -7426 -2800 +7765 +2963 +4028 +6087 +6197 -4995 -2359 +5661 +5943 +2118 -4311 +7934 -2475 +2198 -2294 +8568 +1850 +5313 -8646 -5124 +2960 -7482 +697 -7056 -1550 -5789 +8220 -6621 -3555 +8572 +8024 +7317 +5944 -6508 -7490 +5101 -625 +5902 -3350 -6428 +2311 -2896 +3166 -1136 +3069 +3158 -4749 -2369 -6826 +5074 +4948 -7149 -6311 +467 -7880 -5224 +6222 -8350 +1658 +8416 +4273 +1189 +7213 +7456 -1214 +5089 -2082 +4702 -1228 +2590 +7462 +7997 -391 -8120 -4665 +7981 +2545 +3462 +2999 +1049 -3012 -5269 +8802 +3415 -6839 -4829 +1166 +8764 +3439 -2257 -1591 +518 -144 -4501 +7630 +8557 +2647 +8359 +3116 +602 -2247 +5727 +2969 +4239 -4298 +1248 -6273 -3987 +1186 +8161 +1928 +5587 -2699 +4906 -8756 +4459 -275 -6162 -4777 -19 -8089 -2428 +6658 +456 -5928 +7841 -3626 +7885 -227 -6859 +2463 -6768 -3583 +4683 +3458 -6861 -4225 -5653 -6448 +4350 -5821 +945 -2744 +8575 +3087 +7891 +8279 -5391 +5022 +2402 -5976 +2645 -609 -7170 -3104 +3207 -4038 -7327 +7202 -8016 -6503 +239 -8854 +7417 -4959 +4858 -8681 +4264 -3254 +157 -1916 +5348 -5467 -6997 +2352 -1072 +2474 +3367 +523 -798 -3204 -3119 -170 +5528 +4766 -1415 -4901 -4587 +1305 +464 -688 -8390 -4637 -1997 -2589 +1335 +2895 +3422 +3159 +8236 +5884 +4928 -7459 -7642 +4912 -5695 -7030 -1109 -1354 -1183 -5523 +7933 +3527 -4841 +7599 +5602 -2732 +1875 -3955 +3557 +2098 -4187 -2736 +5302 -24 -8879 +684 +3155 -6322 +5531 -8801 -2759 -6061 -160 +3008 -7892 +1290 -7134 +7269 -1135 -1280 -6690 +6069 -187 +5501 -8098 +1316 +6550 -4131 +2980 +5299 -1206 -4014 +2357 +60 -8866 +1533 +2784 -344 -5030 +2269 +8324 -589 +7952 -2539 +8585 -7711 -6906 +1149 -1022 +1998 +1511 +8907 -8209 +2207 +871 -5651 +1200 +8669 +769 +1620 +5742 +1890 +7445 -198 +1244 -5643 -1292 -1086 +4021 +8285 +2405 +1014 +55 -6733 -359 -3528 +2057 +8023 -2774 -1343 +3164 -329 +7752 -7372 +3561 -2355 +6010 -3435 +6816 -1784 +1532 -7983 +2753 -411 -7836 -966 -4607 -1543 +4271 +1422 +5918 -7608 +3094 +7137 +1534 -8215 -2809 +1123 -6454 -4668 -1902 -1403 +6869 -5332 +5965 -4279 -8835 -2880 +4748 -3230 -1365 -3998 +3682 +7709 +6198 +4102 -1441 -8480 -701 -8955 +6368 -8148 -4950 -3622 +5573 +7350 -372 -8020 -286 +2555 -594 -7637 +490 -8937 -2002 +623 +4316 -5260 +4828 -2793 +2717 -6776 +3408 -3818 +4612 +651 -7588 -3791 -3976 -2835 +480 +4869 +6068 +8643 +674 +7877 -3328 -1158 +1141 -6475 +3476 -1981 +593 -7624 +8300 +4194 -4237 -763 -7565 +3481 +5622 -8757 -4169 +8574 +1851 -618 +8425 -3259 -5984 -7622 +7555 -305 -1670 +1066 +2722 -6921 +1382 -8228 -4827 +8903 -7390 -6745 +8027 +5156 +4686 -5304 +7224 -5407 -3864 -968 -4719 -2416 -2245 -415 +5489 +720 -1579 +8258 +486 +7813 +4084 +8136 +6785 -6825 -4595 +2630 -5859 -5497 +2007 -1911 -3637 -7403 +2754 +4083 -5820 +3945 +8000 +8361 +26 +2619 +1518 -2755 -2304 +6917 -5168 +1068 -5529 +760 -2892 +4005 +7031 +7586 -2048 +5813 +4425 +8056 +6732 +1487 +7536 +2478 -2465 +918 -7920 -6250 -7264 -4009 -2643 -7908 +1193 +6618 +6406 +3530 +1661 -2412 +1463 -6145 +2569 -6657 +261 -226 -4230 -6771 -7987 -1196 -3964 -6497 +1466 +8083 +7649 -5446 +4063 +3962 -736 +2333 +4973 -5792 +2284 -1994 +4810 +3148 +3925 +2343 +8365 +5841 -8244 -2087 -3801 -7569 -575 -3870 +2552 -7212 +4144 -476 -7037 +7669 -4364 +3704 +1698 +5198 +6810 -3 +7817 -169 -2380 -7942 -4688 -6398 -7629 -4591 -1362 +6265 +6676 +7411 -1867 -902 -7731 +4031 +2676 +5394 -5364 +5448 -646 +5018 -5830 +5035 +8778 +943 +1557 +7399 +663 +2852 +6292 -8505 +3007 -7636 -1737 -4758 -7871 -7324 -1990 -3590 -1897 +3733 +7970 -5420 -8883 -3624 +5349 -312 -7162 -14 +5975 -2328 +7427 -6120 +71 +5559 +2468 -528 +3205 -4509 -3127 -8463 +3145 +4996 +4011 +6427 -5982 -3657 +7431 -2932 -7821 -7580 +316 +4381 -1321 -1067 -6765 +6923 -652 +2273 -2387 +7868 -6431 +5177 -3601 -3832 +6971 +6184 +7930 -6287 -5229 -3771 +1146 +4077 -7014 +1489 +7226 -1545 +2914 +5925 +4310 +3753 -4594 +1835 -4460 +7093 -1236 +7168 -7283 +8718 +333 -1580 -6704 -2813 +6891 -1005 -1857 -8049 +5905 +3860 -8149 -8284 -1552 +4190 -3084 -6430 +6304 +4262 +279 +353 -3774 -7866 -4036 +8682 -4550 -6845 +7984 +2131 -5582 -6538 -1721 +301 -794 +2327 +1664 -3309 -5280 +8600 +2548 +2464 -3940 -5974 +549 +1194 +6887 +6257 -4248 +108 -2289 -8310 -7366 +8288 -8165 +3616 -3911 +2471 -5482 +5583 +4409 -2260 +1132 +5136 -1768 +5980 +832 +2848 +5756 -2595 +3537 +77 +2228 -5365 +4450 +2882 +8325 -6262 -4101 +489 -6268 -5175 +7898 -8917 -8229 +8877 -34 -4831 +1062 -4630 -4331 -8071 +1801 -3843 +8791 -4929 -7842 -8112 -447 -1987 -1448 +4546 +2054 -3093 +4349 -2017 +2314 -3433 -6838 +6972 +1259 -1540 -1777 +1319 +5053 +8090 +5969 -271 -756 -23 -7347 -2862 +4477 +7085 -94 -7051 +1218 +3264 -4487 +8830 -91 -7255 -3147 +3450 +151 -6579 +7109 +2854 -84 +7785 +640 -1826 -2707 -6708 +4611 +6382 -4091 -6893 +7839 -273 -1209 +4037 +3697 +1457 -3904 -8048 +4008 +2174 +6913 +2728 +6494 -5926 -4964 +4695 -716 -2329 -8750 +2975 -3236 +403 -5546 +8154 +8061 +7976 -3745 -1070 +2029 -5360 +7819 +1726 -6256 +5564 -1110 +177 +1078 -2386 +7362 +3042 -6109 +2947 +1269 -4302 +7612 +911 -5336 -3464 -6409 +6131 -7371 +5428 +6155 -4919 -4898 +2667 +5334 -212 +3739 -803 +3215 -8217 +5594 +3532 -8688 -4129 +8139 +8507 +4775 +8885 +4769 +6603 +2577 -7980 +6750 -3403 -6824 -7623 -3714 +3937 -1969 -5378 +4935 -75 -4181 -6224 +6734 +4676 -7075 +7220 -7897 +4456 +7957 -8539 -6969 -8605 -4396 +8356 -7992 -1947 +3378 -7143 -105 -3540 +3861 +7412 +4145 -694 +8033 +2080 +1063 -6802 -6754 +8441 -4173 -257 -4583 -352 -4455 -7590 -3457 +423 -835 -6047 -3135 -5526 -6889 +57 +2521 -2911 +5147 -8896 +7474 +5054 -4992 +5493 -2070 +8160 +2641 +4585 +3326 +521 +5276 -7121 +1684 -7338 -3418 +2213 -8786 +2125 +5737 +5142 -7704 -2966 -5576 -2226 +4055 +2008 -7825 -802 -2438 +5833 -6277 -1168 +5848 -6160 +8608 +2153 +4657 +1915 -6628 +8712 -6360 +3381 +2004 -5800 +744 +1992 -6481 -3504 +3448 -473 -5640 +5462 -819 +2265 -5301 -1636 -8719 +4972 -2063 -1791 -5678 +6724 -2936 -5822 -1021 +7163 +5458 +2884 +2044 -199 -1882 -3610 +4464 +5963 -7470 -7191 +8248 -7446 -386 -7111 +514 -4580 -7379 +7801 +2593 -4482 -5985 -5679 +1157 +331 +3112 -7428 +1858 +8260 -2738 -8119 +1632 -1232 -6504 +1274 -5463 -5073 +208 -658 +8523 +3002 -4147 -6376 -7084 +1505 -2622 +6655 -5522 -8318 +912 +727 -6413 +5108 +8243 -8414 +2627 -7823 -5096 +253 +8905 +4348 -7295 +1153 -8378 +1641 -8909 +7290 +5094 -7180 +6055 -4947 +4525 -6944 +3055 +4712 +93 -1377 +8377 -4407 -8657 +8780 +2930 +6375 +3687 +5368 +8141 +3869 +1045 +2716 -4419 +8055 -8516 +1891 +7364 +4976 +2561 +3198 +2040 -4974 +1872 -7767 -500 +8256 -446 -2426 +2480 +2776 -3991 -4826 -2138 +287 +7199 +5834 +5046 +2083 +5485 -7423 +7526 +4282 -1103 +4437 +2360 +7189 -7960 +1118 +4783 +6080 +6412 -5537 +6348 +1613 +2053 -2298 -1828 -3226 +1423 +4218 -8849 +4986 -5146 +513 +6743 -8940 +8736 -2594 -2074 -3331 +6483 -6434 +6780 +8762 +2741 +1822 -1001 -5370 +4434 -3548 -3514 -3666 -2965 -6216 -1456 +4375 -526 +5050 -8440 +2824 -8881 -8442 +7746 -8347 -4001 -4823 +2777 +579 -6995 +5552 -1282 -6899 -419 +8725 -6290 +4636 +6774 -4515 -4579 -7668 +7308 +1385 -6686 +3220 +3746 -8086 -8902 +4423 +3526 -6613 -7692 +5166 +2477 -3196 -186 +7680 +5993 +5581 -7923 -2158 +2425 -474 -4417 -6014 +7145 +7978 -8354 +4018 -2670 -6178 +8251 +4438 -7809 +277 -7504 -3819 -2281 -7903 +3756 +2259 -6895 -5310 +5633 +8075 +749 -3905 +4991 +8060 +8855 +3143 -7596 +8674 -4096 -1760 +3114 -38 +7814 -3715 -5794 -1530 +8483 +384 +1596 +6963 +5577 -8774 -6919 +5938 +2745 -5726 -3124 +3472 -5381 -673 +4658 +8637 +2393 +1584 -406 +3154 +1054 +6008 +8380 +4435 -3203 -831 +7164 +1452 +4286 +2762 +8634 -4513 +5361 -8184 +8126 +3606 +3440 +2715 -2961 +556 -3900 +7057 +430 -6205 -5469 -5033 +4730 +5439 -2210 +5213 -3110 -6381 -881 +8105 -3886 +2182 -7729 +3371 +6552 -2737 -2551 -1 +8196 -2364 +7778 +3315 -8210 +4763 +4467 +7633 -8327 +7543 +4631 -7578 +1475 +7777 -4300 +2970 +825 -4013 -7343 +5201 -292 -6079 +4882 +4780 +3486 +7305 -5092 -5098 +3427 -3790 -7547 -8784 -4709 -3105 -2075 +5483 +5285 +2588 +2916 +4418 +5289 +1378 +1379 -3364 -1954 -4951 +4126 -502 +219 -5630 +2859 -3941 -3465 +5278 -2420 -1681 -7829 +7921 -2114 -2079 +8693 -5736 +6108 -3677 +2209 +3725 +7247 +8655 -3057 +5491 +714 -2038 -855 -7076 -5326 -6361 +933 -7360 -3511 -7046 -8381 -4762 -6516 -1012 -6557 +6020 +3599 +3092 -3981 +8939 -5256 -1105 -8549 -1495 -1100 -1825 +8895 -2691 +2794 +5915 +8604 +2826 +2078 -5057 -5036 +5787 -4048 -5832 -5755 -8583 +8509 -1807 +4681 -7677 +5823 -4554 -6001 -6929 +6027 +3217 +3018 -1662 +497 -6356 -4666 +3142 -811 +3926 -6759 -4816 -5724 +5149 +33 +4470 -5545 +1252 +642 +1002 -5052 -952 -8696 +4985 +5477 +2901 -8591 -8926 +8867 -7272 -6512 +5010 +6640 +3066 +7582 +4191 -4891 +8444 -6015 +4834 +7782 -8497 +3102 +4257 -1426 -8565 +7684 -7518 -79 -7862 -8064 +3449 -6632 -4672 -7679 +1187 +6566 -285 -8429 -3452 -2439 -7931 +1717 +8701 +4201 -761 +1181 -6232 -3668 -7136 -2290 +3436 -5565 -7 +3529 +3643 -4565 +5554 -5235 +6144 +2775 +1587 +1432 -2712 -5031 +252 -5291 +7038 -7332 +8406 +7181 +4958 -323 -87 +4219 +3930 -358 -7644 +7946 -4465 +3062 -5687 +18 +979 -6747 +5805 +2427 +1116 +4988 -5519 +7493 +5158 -7864 +5795 +2849 +2562 -564 +5454 +4642 -5465 -6788 -5923 +4830 -538 -2113 -5961 -149 +6123 +3748 +2579 -866 +3825 -4864 -8748 +3778 +6634 +8841 -1514 -6266 -7007 +7553 +4143 -334 +4074 +7525 +653 +6208 -5652 +4737 +4022 +2591 +466 -4838 -8282 +1048 -1294 +65 -1044 +4250 -6463 -3085 +505 -7835 +4735 -2081 -7757 +1832 -1582 +7763 +5484 +3387 +3063 -2162 -6467 +7714 -5442 +6026 +7736 +4492 +2137 -923 +3744 -1018 -134 +2144 +7667 +6227 +5474 -4990 -8832 +6341 +1408 -6772 +1370 -4606 -4692 -3233 +7574 -6075 -2571 -3821 -8402 +6210 -5556 +6187 -8850 +267 +6957 -2516 -6999 -2185 -5172 -970 -1164 -460 -2147 +5210 +6959 -8069 +5946 +3150 -8320 -4772 +7408 -5459 -6912 +7053 -3001 -1008 -6669 +1197 +2898 -4095 +8589 +5590 +3965 -6297 +266 -3512 +5290 -5228 -5422 +2556 +3469 -4768 -2581 +7943 -1242 -399 -854 +1031 -6112 -2724 -6051 +4875 -4245 +4089 -8180 -6294 +7691 -3649 +3267 -8500 -1769 +6271 -6501 +5910 +1720 -5906 -6691 -8582 +8059 +3812 -1438 +1119 +5323 -1427 -4118 -2485 -7977 -1879 -6934 -6851 -5838 -2027 -953 -4469 -6086 +1327 +8519 -2706 +8960 -6347 +2301 +4047 +2518 -8729 -633 -6321 -2116 +1740 +4380 +7309 +6975 -3995 +7437 -2900 +3071 -5075 -98 -3482 +5272 -6751 -2276 -6981 +8407 +2633 -6396 +3411 -8858 +8237 +1855 +6278 -2132 -6947 +5759 -7062 -7883 +4564 -3335 -3180 +6405 -600 -1198 -8014 -2452 -540 -4885 -355 -8690 +8082 -4670 -3080 -4376 +7082 +1202 +6546 -6091 -3248 -4512 +3074 -7394 -1860 +4195 +4755 -2733 +2789 +7104 -89 -8716 +7532 -3399 -2217 +5002 +6551 -1304 -3153 -1363 +2557 +7890 -3612 -2683 -1106 +2668 +218 +4224 -1779 +7852 -3173 +1073 +3106 +3319 -8486 +4589 +4693 -8760 -7581 -573 +2445 +6324 +3567 -2205 +2028 -1191 +6414 -3731 +2644 +1357 +2768 -7448 -7229 -1338 +3799 +8640 +1133 -8254 -2011 +3838 +1333 -3817 +2073 +5966 -4461 +3974 +156 +3654 -6410 +8432 +2861 +1036 +5717 +6036 +1449 +2021 +6243 -472 +6138 +6692 -3202 -2881 +7179 -3961 +1474 -7924 -8954 -5642 +1528 -7900 -7634 -8171 -3994 -4260 -413 +8672 -7754 -6562 +5223 -890 -7572 +8713 -3175 -6389 -3360 -3650 -8195 +4582 -2708 -3809 -3095 -3268 +3830 +2673 +4602 -6616 -1201 -5275 +882 -1227 -5895 -2524 -6581 -5059 -1085 +4645 +2338 +4408 +5593 +324 -3502 -6260 +7152 -533 +4704 +8708 +3579 -6672 +341 -7937 -5876 -6576 +5335 -7789 -8456 -1949 +1659 +6805 -5996 -4653 -2431 -7097 -8491 -565 -7527 -1173 +5957 -7886 +2497 -2382 +8134 +7658 +6712 +852 -5836 -8103 -4677 +7650 -8612 -2730 -6176 -8559 +2495 -4175 +3286 -7509 +5525 -8287 -5849 +5346 +6043 +8911 -3993 +8755 -4214 -8898 +596 -319 -8389 -7604 +5775 -1671 -536 +8499 -7640 -370 -3798 -1254 +2871 -2572 -6089 -7486 -5645 +2455 +6713 +8235 -7215 -6800 +6808 +7540 +3844 +2367 -8660 +897 +7719 +6568 +6853 +6200 -607 +2013 +404 -3509 -4471 +30 +5143 +1692 -3161 +6241 +4263 -6638 -139 +5812 -6374 +4497 -2305 -5191 +3635 +5362 -1806 -8921 +3363 -4146 -3083 +8916 +994 +6652 -5784 +6173 -3815 -7318 -5750 -8824 +8753 +3101 -37 -4555 +7552 -4605 -4142 -2292 -5931 -3948 +4030 -8164 +7312 -2756 -5612 +2807 -1714 +3327 -2939 +1608 -3238 +1417 +2072 +13 +4853 -2177 -1488 +3373 +1674 -3295 -5857 +3908 +68 +4133 -8856 -5667 +4123 -412 +4436 -7418 +1035 -5758 +666 -3398 +1679 +1585 +1460 +1756 +4414 -585 +5796 -3368 -4337 -1053 -6575 -2179 +6718 -8303 -634 -2261 +8765 -5120 +8628 +8676 -7918 +7776 -3690 +2262 -5503 +3729 +4542 +4019 +6217 +7086 -3686 +4811 +8028 -246 -1077 -4592 +5342 +6490 -150 +700 +2993 +1124 +298 -1876 -806 -8601 -2606 +128 +8216 +3380 -620 -4155 +664 +8100 -6365 +1405 +4323 +1581 +2766 +1464 +7259 -1918 +1024 +3711 +4983 -826 +3552 -4254 +2783 -6770 -4061 +5919 -6577 +8906 +8874 -6472 +962 -3604 -7786 +4726 +3958 -7071 -6898 -1976 +2422 -8252 +2376 +4870 -195 +6449 +2995 +7639 +7968 -2031 -7022 -746 +2778 -8384 +2156 -7893 -1538 -5316 -4984 +1968 -4618 -8586 +3284 +175 -7507 +3542 +1247 -4687 -3917 -434 +6667 -8304 -7982 +1742 +1154 +2690 +644 +8253 -8108 +130 +3781 +4798 -2315 -2135 -7740 +8296 -5121 -3322 +6491 +4203 +1203 +6811 -2094 -361 +4625 +5386 +6007 +2308 +4734 -8636 -3806 +8694 -5450 +6346 +5677 -6822 -4046 -1388 -8704 +5106 +27 -1964 -6633 -498 -354 -1099 -6980 +8659 -5893 +1823 +3705 +5780 +942 -3045 +7169 -2520 -7557 +1215 +1680 -516 -5204 +233 +142 -7361 +2408 -3735 +6316 +1101 -6474 -4878 +7614 +5047 -3641 +6883 +7320 -7296 -2675 +7721 -2 +2122 -6588 -5684 +2904 -6875 +4361 -1623 +6559 -5506 +3223 -3075 -1735 +3306 +7219 +8617 +3289 -6767 +2356 -5714 +8226 +3740 -2476 -7232 -3030 -8447 -3856 +7396 -1694 -5827 +3382 +2696 -2893 -6484 +7570 -6 -4849 +1805 +2150 -1789 +8670 +4064 -2164 +7914 -5183 +2876 -4655 -8401 -7945 +1563 -3802 -5788 -8460 +1996 +6158 +5091 -2222 -8598 +808 -4696 -3026 -4866 +453 +2056 -7274 -5772 -4204 +1261 +4267 +2264 +1637 +1611 +2487 +7341 +1631 -1649 +1732 -6756 -8632 -721 +695 +2189 +6956 +2466 +1985 -7064 -8138 +4874 +1962 +7963 -1577 +3934 +1284 -5155 +1712 -7954 +3132 -1454 -6629 +6215 -3495 -3222 +6452 -5637 -1696 -4057 -8812 +3017 +4121 +7901 +7157 +1648 +8821 +6705 +5176 +7844 +5184 +235 -3618 -3451 +207 +8290 -2219 +7548 -7969 -3770 +4382 +2582 +3808 +3342 +2286 +4753 -4179 -2651 +2396 -4785 +1567 -7994 -5751 +396 -1689 -4072 +2637 +4216 +5560 -2527 +6078 -4633 -3758 -1256 +4604 -5032 +4895 +4505 -3189 +4790 +7439 -5520 -3813 -4664 -8776 -2252 +2640 +3901 -3785 -2608 -2090 +4965 -4574 +1221 -8029 -1167 +656 -7512 +1917 +3939 -4725 -2288 -2889 +1617 +925 +3256 -1094 -4927 +713 -2168 -4428 +1039 +6358 +64 -5801 -3282 -8422 +1856 -6407 +8535 -43 -8518 +8299 -5082 -7450 +5123 +6300 -2227 -5511 -868 +1672 +8913 +8404 -5997 +6113 -3689 -8656 -2239 +6609 -1934 -3724 -4498 -1225 -5875 -21 -3868 -5230 -1491 -8581 -631 +5329 +983 -6193 -3929 +6146 -1627 -4486 -465 +2525 +6288 -2441 +4508 -5658 +8770 +2442 +8247 -3703 +4654 -6019 +560 -4917 +6646 -1397 -6380 +4213 -6860 -8506 +5083 -6570 +3898 -6862 +3120 -4177 -256 +1542 +2956 +8629 +5927 +3971 -3970 +8205 -167 -8517 -8744 -136 +772 -3702 -2071 -8677 +1442 +8392 +3600 +4970 -8218 -4904 -6786 -3834 -8010 +8623 +1837 +4537 +7869 -8685 +572 +5294 +5779 +8189 +563 -2771 +6017 +1368 -7843 +1960 -4820 +3938 -8851 +6352 -6986 +3492 +6560 +6039 -2863 +975 +6309 -5959 -5028 -2817 -2923 +6882 -8599 +4620 +786 +1906 -124 +1955 -5768 +1979 +2664 -1799 +6961 +8606 +7460 +2042 -5457 -306 +2128 +4192 -5962 -995 +2129 -1325 +6345 +1710 -1551 +3602 -8471 -1723 +2307 -1091 +4558 +7087 +5533 -7799 -2399 +8188 -1877 -7094 +2248 +4566 -5723 -4545 -1598 +4963 -1862 -8330 +7231 -702 -6180 -1693 +7751 -2136 +3788 -141 +6987 +99 +7922 +6385 -559 -5749 +3329 -8546 -562 -7346 -615 -7676 -8845 -6231 -8826 -3942 -5034 +8230 +1999 +809 -6801 -537 +5541 +8817 -39 -4189 +5395 +7118 +72 +6110 -7568 -6599 -1972 -935 -416 -8334 +3318 +7376 +3716 -4648 +7882 +7927 -7156 +3345 -1775 +7972 -4761 -3176 -8257 +4649 +3630 -4615 -2764 -2242 +2770 +4042 -815 -5418 +5710 +7068 +7410 -7794 -8731 +4669 -1619 -5861 -5447 +7656 -7484 -7902 +875 +1497 +3020 -2710 +8461 -7398 -7595 -7678 -4426 -3794 -8803 +4759 +4399 +7750 +7091 -8836 +8097 +511 +2196 +6935 -1705 -4706 +7098 +3324 +840 +5586 +2534 +4887 -8752 -3662 +1522 +2631 -2553 +4812 +7803 +1337 -2302 +3355 -4183 +5611 +3061 +479 +8813 -7949 +5550 -6235 +6726 +4534 +8615 +5227 -3036 -2757 -7316 -3797 +4857 -7135 -7349 -3734 -475 +8476 -2240 +4476 +4966 -8144 -8805 -3391 +2180 -8219 +6877 +6870 -7879 +2271 -8239 -6911 -4623 +6238 -6710 -2166 -5703 +7128 -1177 +501 -1312 -4926 +59 -3123 +125 -4699 -512 -348 -6296 +3079 +6048 +5691 +8367 +3330 +8391 +1733 +4511 +7310 +1838 +5315 -82 -2938 +8368 -426 -614 -8420 -7009 +3595 +2297 -5733 -8920 +5140 +3685 +8183 +8839 -2383 -6829 +6711 -6698 -8933 +7955 -8524 +7252 +2490 +6462 +4835 +247 +1959 +1612 +6139 +3877 +7693 +4760 -5845 +6989 +1677 +5649 -5246 +8166 -3605 -6302 +3914 -4933 +6012 -7099 +4848 +1374 +3332 +5429 +7860 +6488 +849 -6032 -8796 +8553 +734 -5655 -6818 +8178 +3566 +4770 +2983 +2503 +3783 -5384 +6610 +7172 +4923 -3162 -1725 +8807 -6433 -4603 +8435 +4276 +7079 -7331 -5972 +1129 +1965 +661 -3972 -5341 -338 +5242 -3224 +7478 +534 -873 +1583 +3894 +1396 +4714 +5416 +67 +6946 +1272 -1711 +3963 -437 +5131 +5197 +2575 -919 -8788 +2945 -7798 -4921 -200 -3466 -2570 +1283 -379 +3985 -2704 -5505 +5818 +5618 +5267 +5468 +189 -6988 -1888 +3906 +1614 -8156 +1395 +4270 +3966 +5887 -3803 +5051 -2636 -6116 +8746 +1950 -7846 +284 +4493 -8433 +2192 +6392 -1688 -6401 -7165 -1604 -5225 +2833 -8800 -7715 -5161 -4561 +3293 -3887 +488 +8046 +628 -6529 +982 +1839 +6789 +6920 -6715 -1344 +6779 +1761 +2157 +2634 -1739 +8915 -5182 +5568 -4934 -2729 +3044 -3314 +5084 -5745 +3213 -3980 +5713 -539 -3386 -7756 +4223 -455 +5542 -6717 +193 -365 -398 +7510 -509 +4557 +1633 +2461 -6591 +2197 -7337 -2650 -1096 +7956 +973 +778 -6230 +3340 +530 +3130 -4806 -8479 +4449 +6856 -4400 +5689 -5077 -3244 +5842 +1237 +5432 -6418 +2990 +5251 -878 -3833 -2528 +3769 +804 +5039 +4879 +3038 +6854 +6049 -7117 -6600 +2994 -7995 +4294 +8167 -7699 -8286 -3432 +2155 +1127 +1253 +4215 +6310 -8928 +2255 -3064 +7913 -7325 -3195 +3518 +2362 -4859 -3276 +6803 +2173 +5786 +3456 -8246 -1829 +1032 -1486 -3737 +5638 +5922 +4446 -5872 +3125 -2440 -7393 +2653 -7194 -4619 +4622 -5216 -4575 -6029 -1827 +2779 +2103 +8268 +4705 -8424 -2952 -3855 -566 -237 +2828 +1329 -7142 -7988 -5977 -2065 +7430 +4029 +8534 +351 -5572 -2761 +6373 +4905 -2713 +515 -345 +4721 -2148 -2052 -8017 -964 +7048 -1013 -4293 -6498 -5811 +5453 +7083 -6793 -3565 -2531 -3028 -5199 +7856 -7434 +2820 -2840 +5282 +7999 -7357 -405 -7534 -1195 -5478 -1366 +531 -4119 -1785 -5355 +3034 -5720 +2989 +1303 +78 -4442 -1040 -3487 -3879 +7935 +5099 +347 -639 +171 +7211 +4256 +4742 +6830 -5015 -2866 +3053 +6954 -8351 -8051 +4839 -4427 +46 -309 -3651 +8536 -5062 +8085 -7178 -3876 -2003 +1299 +3421 -2610 +2628 -1278 +7429 +6902 -1752 +687 -4539 -2437 -8316 +1953 +4391 +2413 +133 -7188 +503 -8458 +4025 -3375 +7905 +6992 +2600 -8281 +3200 +360 +5492 +869 -6604 -3370 +3077 +7519 +6095 +1500 -1451 -576 +132 +5042 +6298 -3397 -4156 +4295 +3847 +6943 -3517 -8038 +1507 +2609 +3850 +8496 +482 +6936 +7054 -1477 -380 +733 +7424 -8487 +5288 +1143 -8861 -7826 -3247 +6927 -2142 -6478 -2899 -2791 -510 +7013 +3997 -4801 +4098 -2978 +8724 -7810 +8050 -6866 +6152 +4639 +6925 -4680 -1754 +2662 +8036 +3072 +5728 -6148 +7222 +8003 -6244 -7867 -7589 +3108 -999 +7560 +7853 +4774 +7962 -327 -5433 +8340 +2954 -148 -7744 +5174 -7382 -8820 -6673 -2564 -3097 +3863 -2181 +6299 +1029 -2538 +2171 +1501 +8782 -3625 -1753 +2064 -3379 -967 -2370 +1413 +5009 -1490 -6979 +4094 -5990 -288 -1691 -8274 +8511 -5283 -6397 -3922 +1411 +5584 +6739 -244 +1982 -6150 -8797 -4711 -4108 +7713 +3390 -5427 -7881 -2746 +7812 +5238 -8723 -6903 -6233 -8355 +4862 +8039 -2435 +2767 +281 -6766 +6056 -1718 -2867 -7073 -1568 +5102 -8185 +1425 +8207 +5843 +1901 +7334 -1121 -5011 -6953 -7585 +3508 +5203 +7558 -1315 +822 -1398 +5854 -3559 +8828 -3190 +4322 +2604 +7323 +421 +5675 -3919 -3024 -1273 -2530 +903 +4993 +20 +4332 +7266 +2886 -1172 -3423 -3383 -4284 -5774 -711 +302 -2275 +888 +47 +3533 -8621 +8593 +7171 +2109 -1630 -5424 -2091 -4837 +960 +6985 -1130 -2567 +2058 -5327 -7716 -5621 +6370 -5470 +5748 -6847 +6544 -4035 -8526 +3073 -4861 -8173 -192 -4577 -7402 +8823 -7646 +4805 -1140 +1217 +1863 +8349 +111 -6259 -5705 +8630 -1930 -4651 -3992 +6852 +3485 -5674 +1894 -1724 +1943 +1599 +4521 +6879 +2815 -1262 -5619 -8654 -8501 -3441 -977 -8293 -7303 -1946 +7122 +5954 -7894 +6795 +458 +6874 -3067 +4646 +153 +8338 -4877 -3086 +718 +3470 +6916 -1033 +1574 -2489 -3013 -3260 +243 -3553 +2161 +3638 -2742 -4479 -3413 -210 +1940 -2788 -7297 -6886 -6894 -303 +6088 -8107 -3022 -929 +5900 -2953 +3723 -4660 -4524 -432 +1887 -8567 +7052 -7513 -2512 +8398 -2982 +2711 +2613 -3943 +887 +11 +5970 +1250 +6525 +5152 +1549 +6506 +4328 +3510 -4641 +8847 -980 +1764 -3837 -6976 +2139 -6528 +5314 -2381 -5785 -5134 +2494 +2998 -6023 -931 -8596 +3218 +1485 +2496 +1301 +5509 -1945 +7454 +2061 -6190 -1296 +5591 +6904 -2751 -7865 -5118 -3098 -2924 +3592 +961 +7619 +3865 +5017 -131 +657 -1468 +2460 +4867 -2769 +6221 -3558 -6092 +532 -4247 -7831 +7638 -5692 +8610 -6074 -1243 +3611 -4329 +7089 -7088 +4352 -1535 -1841 +4345 -4765 +3358 +5631 +7095 +7551 +2986 -1558 +452 -5540 -4717 +3043 -1700 +1287 -1958 +3416 -8026 -8540 -56 +571 +6006 +1910 +3761 +8353 -4171 +898 -3568 -3240 -939 +4159 +6054 +838 +2459 +7112 -335 -8695 +6424 +8393 -5839 +5858 +3772 -7388 -7511 -7463 +7265 +7420 +5939 -1235 -7705 +6871 +7012 +6675 -7103 +779 -7251 +5374 -659 +8130 +3290 +6635 -7243 +1771 +7114 -7260 -2303 -5949 -6354 -3989 +3266 -4778 -3931 +5991 +201 -433 -4012 -3576 +561 -6545 +2958 +6649 +4202 -1767 -2347 -6325 -6664 -3009 +4845 +2816 -1758 -2341 +4365 +6327 +8799 -6527 +146 +4560 -6076 +7216 -860 -1504 +8163 -5532 +5064 -7284 -8436 +7301 +745 -376 +8096 -112 +1548 -2457 -439 +1824 +6102 +5747 +2822 -5693 -3497 -8790 +5218 -2611 +2351 +5889 +7618 +7925 -813 -4069 -1676 +8860 +6606 -1654 -4211 -2743 +8543 +3298 +2705 +7186 -5063 -8560 -4937 +2987 +3539 +5907 -2391 -5392 -676 +4586 -4378 -2955 -4914 +3483 -7345 -2218 +6471 -6425 +5930 +4738 -5234 -8942 +7190 -3895 +8948 +4488 +5372 +6537 +3341 +7340 -1870 +2806 -8212 -1297 -856 +4803 -451 -3177 -7197 -5502 +7193 +8034 +2199 +6832 +7529 +4847 +8128 +7919 -8238 -2224 -2141 -8827 -5512 -5616 -6353 -7176 +7050 -2361 +880 -5882 +3208 +5837 +8179 -4728 -7670 -4685 +7221 +3308 -4981 +3951 +8949 -8113 +3541 +2687 +4718 -8957 -4390 -3664 -5333 -7643 +190 +7043 -7567 +797 +2672 +1424 -874 +7780 -4242 +1051 -3437 -3743 +3597 -4166 -1160 +5766 +2720 -2992 -3586 +542 +8 +2151 -4472 -3892 -2601 +617 -4004 +7675 -2398 -829 +3800 +7033 -6578 +3343 -3388 -3471 -7615 -8198 +4997 +5443 +2812 +6738 +5265 -5345 +8223 -7476 +274 +8067 +7406 -6038 -3156 -7910 +6531 -2646 -1071 -8863 +3549 +5912 +2782 -650 -7516 +2944 -1772 +1065 +4099 +3866 +3126 -3257 -8423 -8133 +771 +7059 +6849 +2940 +5148 +5932 +901 -5909 -4420 +4002 -1517 +318 +883 +3786 +5741 +8635 -5548 +5680 +7123 +5536 -2612 +6984 +297 -4161 +8648 -2829 +899 -558 +5226 -3225 +1615 +2115 -5252 -1919 -2342 -2780 -5551 -4484 -8642 +6330 +8415 +7019 -3389 -6892 -1075 -1404 +6137 -1163 -4318 +3303 -3545 -1831 -7294 +6619 +8301 +7521 +3252 -949 -6885 -5898 -864 -3333 -6900 +3712 +5309 +2827 -597 -8375 +4918 -5150 -8777 -2669 +478 -1108 -6408 +8936 -4955 +1493 -7936 -96 -188 -1113 -5413 -249 -8530 +126 +5681 +2511 -8206 -117 -3587 -4715 -6167 -3081 -8925 -7774 +2977 -6967 -6644 +1081 +660 -5317 +3498 +4032 +7503 +8076 -3489 -371 +7203 -5207 +4982 -3852 -6617 +896 +7887 -2661 -1347 +2727 -5406 +3400 -554 -4105 +3275 -1781 -147 +972 +5625 -8062 +9 -741 +7174 -3354 -5373 +4212 +1496 +7032 -3751 +2758 -957 -6755 +7225 -3493 +946 +332 +3842 +1665 +3280 +381 -6583 +1174 -907 -710 +5521 -1908 +8804 -1512 -7875 +6301 +1276 -3871 -8264 -2175 -7061 +7723 +7451 -8550 -5628 +8358 +203 +8951 +892 -4394 -4573 +5387 +1625 +2046 +755 +4787 -2997 -8259 -4198 +605 +906 +6317 +715 +5231 -1814 -4240 -8508 +5632 -4977 -4697 +6671 +1519 -1352 -4051 +6846 -2875 +4640 +2860 -6520 +5048 -3401 -6141 +5524 +450 +8074 -2856 -6696 +4441 -1653 -4799 +5056 -8927 -7271 +6928 +6204 -5575 +3426 +4468 -4570 -6977 -5179 -1626 -5144 +4299 -4732 -5080 -606 +6183 -3893 +1787 -7671 +5535 +8309 -4652 -8191 -6149 -1610 +1667 +1387 +590 -7385 +259 +1346 +2232 -5479 -7245 +629 +349 +2533 -4572 -7173 -7666 +7115 -3188 +7508 +1412 +3936 +163 +388 -2801 +3719 +6950 +6798 +6602 -4552 -7895 +137 +844 +2685 +4335 +1042 +1356 -4359 +586 -1170 +6400 +6940 -1152 -8787 +2400 +6659 +6827 +5665 -7210 +7395 -1731 +2230 -5555 +3417 +4106 -3867 +4773 -4795 +8664 +796 -5547 -5112 -6761 +4946 +7514 +3353 -2529 +3374 -161 -7541 -4266 +2897 -2397 -7928 -5135 -2979 -5971 -8475 +6206 +8795 +8410 -1524 +228 -8159 -3113 -4608 -2069 +7132 +120 -3954 -6918 -8514 -3889 -1470 +1508 -527 -6253 -3580 +3443 -1137 -6098 -4100 +6840 -5490 -2169 -3467 +7501 +2928 -3722 +3170 -5510 -2332 +621 -2236 -178 +5892 +7148 +3765 -53 -5067 -5188 -665 +5404 -1399 -944 +2434 +7554 -8624 +3151 -6342 -8710 +7648 +781 +6523 +5878 -8328 -7896 +2045 -3891 -7400 -7979 -3524 -630 +4868 +7645 -8876 -5471 -1390 +5870 -4863 +6429 -3953 -8142 +8030 -4876 -8087 -843 -1028 -3136 -1453 -1881 -7001 +8094 -6775 -654 +232 +3027 -1980 +3665 -3376 +8150 +2066 -2176 +1112 -8221 +6736 -986 -5610 -4199 -8408 -622 +6035 +7793 +6693 -2596 -1780 -8326 -385 +8004 +8808 +8278 +2585 -8763 +8298 -1089 -8528 -2839 +8891 +3775 -4347 +7377 -185 -7467 -894 +5663 -5444 -382 -5641 -300 -1159 +8740 +4363 -3356 -8502 -550 -8374 -3396 -3543 -598 -1790 +6594 +5437 -3593 +268 +4518 -223 +1562 +7192 +2285 -8678 +4836 -2648 +4405 +394 +6384 -6393 +392 +3667 +3099 -8587 -8548 -5105 +5206 +645 -6455 -2700 +116 +2842 +5239 -8728 -7250 +7674 -6645 +8182 +7837 +8466 -7096 +8793 -3932 +4643 +4979 -1554 +1909 -6066 -8306 +6695 -2418 -2626 -2750 +848 +1555 +6735 +7339 -5791 -3862 +282 -7246 -8871 -1923 +1410 -4527 +7506 +8317 +4249 +6532 -8595 +304 +1502 -6340 -6730 -3301 +1351 -2215 +6267 +7074 -5614 +2167 -6388 -3846 -867 +836 -3313 -8829 +4854 +1462 +3006 -6524 -5530 +8313 -1708 +8950 -3884 +757 -4411 -1842 -5888 +624 -6283 +492 +1142 +5557 -3967 -6548 -3272 +2834 -80 -2462 +8262 -692 +5385 -4367 -6445 +1749 -6181 -7781 -8311 -4953 -7694 -2221 +8040 -2781 -204 +5452 -2319 +459 -109 -2964 +1309 -4422 -1088 +833 -4886 -8379 +122 -5553 +8714 -5865 +1811 -5173 -3713 -7348 +7105 +3131 -8579 +346 -879 +1289 +7549 -4782 +6282 +7727 -6534 -2536 +8477 +254 +2337 -8295 +7766 -3732 -2810 +2869 -1592 +4481 +129 +6254 +5936 -307 -8396 -4998 +4397 +4860 +5375 -7631 +2962 +4401 +1367 -3279 -2550 +7407 -5451 -2159 +1645 +8277 +6465 +206 -8742 +7502 -4463 +3728 -608 -951 +3311 +677 -5013 +4559 -6009 +8488 +7805 -1864 -4303 +6781 -4053 -2279 +788 -6031 +7818 -3826 +4440 +4070 -4076 -6147 +3880 +1816 -8269 -2617 -3503 +8822 -1258 -5983 +6052 +5103 +8227 +2178 -8364 -2104 -5185 -3243 +508 -668 +2890 +8462 +3321 -8412 -2638 -7858 -2212 +3647 -8322 -5620 +2190 +3287 +461 +647 +2030 -5250 -8002 +5659 -8344 +1616 +553 -4027 +2674 -6261 +8775 -655 -5209 -830 +2371 +356 -3726 +2621 +816 +976 -679 +7659 -88 -7070 +3560 +3165 +7724 -1506 +3039 -958 -1744 +2624 -823 +7471 +4324 -5358 -97 -5700 -3742 -3747 +5696 +895 -2293 +454 +5952 +4822 -6582 -8233 +8478 -5967 -6163 +6607 +6083 +7802 -7236 -7370 -8011 +8894 -5606 -5254 +2296 +6276 -6702 -2060 +1128 -1565 +1716 -1912 +1961 +390 +2808 +7834 +7899 +5566 +3463 -5945 -5498 -774 -8202 -3741 +8200 -587 -8515 +4740 -197 +1743 -858 +7929 +993 +5339 +2124 -6042 -5495 +3544 +4158 -1885 -1869 +1473 +6678 +5769 +2016 +5867 -81 -5488 -7433 +1064 +299 -8057 -626 -2108 -529 +8705 +4383 +1260 -4635 -4855 -8041 -31 +2023 -8707 +118 -7131 +6553 +8901 -2015 +1436 +2504 +8249 +5212 -4168 -934 -6720 +4624 +2558 -5856 +7562 -6948 -5014 -709 +8015 +2306 -6359 +6362 +436 -5217 +2598 -4330 +4209 +4252 +8123 -8834 +3299 +4049 +5069 +4786 -5683 -3621 -6625 -6630 -7432 +3570 -6339 +8065 +762 +7947 +2907 -6930 -4889 -3564 +317 -4700 -6964 +6505 -8099 +2803 -7025 -6492 -6595 -7113 +908 -5195 -7006 +3538 -5881 -1883 -2379 +3956 -1052 -4342 +3853 +5219 -1046 +3214 -3656 -7772 -6186 -414 -8192 +1179 -4288 +6084 -2488 -1184 -1782 +1323 -2086 -1938 +7003 +7564 -7386 -5139 -7594 +1935 -739 +6030 -251 -4745 -7449 -4402 +6821 +2865 -6103 +4041 +7198 -407 +1446 -6279 -5328 +7270 -616 +724 +4453 -8649 +2444 +5743 +3051 +4017 -3201 +807 -4289 -1578 +3927 +8857 -397 -3128 -168 -7827 -4205 +5829 +7538 -7035 +7603 +7941 +7584 +2909 +1320 -8532 -7755 -3138 +8181 +5657 -8255 -222 +321 +6028 -3617 -3960 -2112 -6485 -7495 -2451 +4344 -1275 +5220 -5343 -8204 -5899 -7909 +4771 -1589 +1669 +821 +3015 +3273 -7021 +6242 -4079 +4132 +7230 -1944 -4160 +4148 -3679 -4043 +5397 -914 +6697 +6543 +5613 +5958 -1747 -2825 +5008 -270 -1169 -8007 +2283 +5815 +5650 +3410 +5578 +6004 -1663 -8078 -7591 -1646 +1755 +1178 +7593 -7281 -8155 +3414 +5274 +6939 -1207 -3588 +6857 -766 -7329 -5707 +4112 -1459 +7409 -1394 +1628 -3607 +1840 +4371 -4154 -5711 -6757 -8465 -4277 +7016 -6636 +7130 +3174 +4789 -4274 -747 +4529 -6493 -5901 +6620 -5757 +1364 -2300 -6016 -5629 -366 -2152 +8779 -8102 +3186 -921 +5877 -4971 +8751 +5415 -6225 +7185 -3246 -5873 -7368 +6991 +1087 -6731 +4975 +3134 -3031 -5654 -4321 -5770 +402 +4226 -4110 +7440 +5597 -6668 -4044 +4499 +3859 +5434 -8533 -4167 -1307 +1233 -8125 +4241 -5790 -6547 -3874 -4087 -2244 +6314 +3912 +1270 -2790 +865 -5840 +2454 -6729 -3265 -777 +7743 +2587 -494 -2543 +2429 +8341 +6041 +6597 -1793 +4058 -468 +2845 -4065 +159 +5264 +3395 -3185 +6752 +7116 +8385 -1092 +8005 +8727 -5802 -1322 -6202 -308 +4444 +1730 +8512 +6799 -5196 +703 -5354 +3700 +6540 +8865 +1004 -6937 +8792 -3122 +4015 -1687 +4255 -2204 +4551 +6247 -988 -1311 +6836 -3111 -6060 +1588 -7384 +7779 -2050 +5646 +2787 -3921 -4085 +4535 +8369 -2010 -1597 -776 -6470 +2823 +8448 -3296 +8741 +211 -7787 -5380 -6334 +2680 +2656 +8717 +978 +8266 +8168 +7466 +3040 -3695 +4556 -4454 -4638 +7717 -1138 -6792 +7380 -6701 -2915 -1037 +7233 +4949 -2195 +469 +7505 -520 +6117 -8527 -3759 -6907 -2937 -7971 +1317 +5670 -5831 +3848 -3836 +182 -3684 +3323 +578 +7690 -2449 -3659 +6390 +4393 -2858 +557 -6195 -36 +2837 -362 +1503 -4366 -4663 -4384 -1833 -4234 -7958 -5481 -2625 +8395 +5281 -5636 -4097 +827 +7546 -3320 -5129 +3523 -8186 -6057 +294 +3016 -2235 +1975 +8644 +793 +5263 -342 -8147 +5825 +7515 +3655 +7017 -3663 -5411 -506 -4896 +7027 -1469 -4942 -8104 +8768 -4406 +5076 -3163 -5950 +8272 +3519 -3046 -5964 +1467 -107 +3211 +3996 +2055 -1571 -6868 +6942 +8158 -4431 +8918 -2805 -7010 +1226 +5308 +5908 +905 -1249 -810 -7352 +6219 -1060 +1418 +5527 +2267 -6441 -8335 -1788 +70 +6605 -1006 -1009 -8869 -6444 +3644 -1559 +5740 -5941 +2765 -3152 +1219 -5405 +3258 -517 -4650 -2036 -66 -3979 +8118 -8809 -4671 +477 +225 -5929 +3820 -8647 +4134 -706 -4701 -2522 +5001 -7689 +8162 -1895 +2291 +8073 +395 +1293 +4510 -6399 +1155 -1234 -2258 -2344 -326 -524 -8520 -3888 +4412 -8700 -8411 -8794 +612 +5331 +290 +5744 +2763 +7287 +3777 -3591 +1251 +1621 +8122 -6172 +857 -6248 -8042 +5773 +7102 -1553 -2433 -5295 -6351 -2540 +445 -3477 +8093 +5992 +940 -4909 +255 -2832 +5449 +3828 -3881 +7597 -6563 +2223 +3516 +4590 -5721 -2632 -4520 +6960 -4040 +7227)')"
            ]
          },
          "metadata": {},
          "execution_count": 1
        }
      ]
    },
    {
      "cell_type": "code",
      "source": [
        "#c = '(+1 -3 -6 -5)(+2 -4)'\n",
        "mul_chrom, one_chrom = mulchrom_to_single(blue)\n",
        "cycles = chrom_to_cycle(one_chrom)\n",
        "start,end = split_chroms(mul_chrom)\n",
        "blue = colored_edges(start,end,cycles)\n",
        "blue"
      ],
      "metadata": {
        "id": "YDhZGyCTorqL"
      },
      "execution_count": null,
      "outputs": []
    },
    {
      "cell_type": "code",
      "source": [
        "#chroms = '(+1 +2 +3 +4 +5 +6)'\n",
        "mul_chroms, one_chrom = mulchrom_to_single(red)\n",
        "start, end = split_chroms(mul_chroms)\n",
        "cycles = chrom_to_cycle(one_chrom)\n",
        "red = colored_edges(start,end,cycles)\n",
        "#red"
      ],
      "metadata": {
        "id": "eagU5WFidI8A"
      },
      "execution_count": null,
      "outputs": []
    },
    {
      "cell_type": "code",
      "source": [
        "cycles = colored_edges_cycle(blue,red)\n",
        "#cycles"
      ],
      "metadata": {
        "id": "o8rMIlKfFOA6"
      },
      "execution_count": null,
      "outputs": []
    },
    {
      "cell_type": "code",
      "source": [
        "def dis_2break(cycles,blocks):\n",
        "  break_dis = len(blocks) - len(cycles)\n",
        "  return break_dis"
      ],
      "metadata": {
        "id": "HyCXmWNGUGks"
      },
      "execution_count": null,
      "outputs": []
    },
    {
      "cell_type": "code",
      "source": [
        "dis_2break(cycles,red)"
      ],
      "metadata": {
        "colab": {
          "base_uri": "https://localhost:8080/"
        },
        "id": "1KTpMQOHUj3x",
        "outputId": "66eb6b93-731c-4dfc-c462-b0bfe86fe6f2"
      },
      "execution_count": null,
      "outputs": [
        {
          "output_type": "execute_result",
          "data": {
            "text/plain": [
              "3"
            ]
          },
          "metadata": {},
          "execution_count": 71
        }
      ]
    },
    {
      "cell_type": "markdown",
      "source": [
        "##### Task 3"
      ],
      "metadata": {
        "id": "mvKQHuSCRkd3"
      }
    },
    {
      "cell_type": "code",
      "source": [
        "import numpy as np\n",
        "def graph_to_genome(graph):\n",
        "  matrix = np.zeros((len(graph)*2+1,1),dtype='object')\n",
        "  start_edge = []\n",
        "  chroms = []\n",
        "  gene = ''\n",
        "  for i in graph:\n",
        "    matrix[i[0],0] = i[1]\n",
        "    matrix[i[1],0] = i[0]\n",
        "  for edge in graph:\n",
        "    chrom = []\n",
        "    ori = edge[0]\n",
        "    while ori not in start_edge:\n",
        "      start_edge.append(ori)\n",
        "      if ori%2 == 0:\n",
        "        chrom.append('+'+str(int(ori/2)))\n",
        "      elif ori%2 != 0:\n",
        "        chrom.append('-'+str(int((ori+1)/2)))  \n",
        "      if matrix[ori,0]%2 == 0:\n",
        "        ori = matrix[ori,0] - 1\n",
        "      elif matrix[ori,0]%2 !=0:\n",
        "        ori = matrix[ori,0] +1 \n",
        "    if chrom != []:    \n",
        "      chroms.append(chrom) \n",
        "  for c in chroms: \n",
        "    gene += '(' + ' '.join(list(map(str,c))) + ')'\n",
        "  return gene"
      ],
      "metadata": {
        "id": "xPh09esQKn9E"
      },
      "execution_count": null,
      "outputs": []
    },
    {
      "cell_type": "code",
      "source": [
        "graph = [(2, 4), (3, 1), (7, 5), (6, 8)]\n",
        "graph_to_genome(graph) "
      ],
      "metadata": {
        "colab": {
          "base_uri": "https://localhost:8080/",
          "height": 35
        },
        "id": "zhDy48WVKpkh",
        "outputId": "08970bf1-fedf-4e69-c867-523861306dbe"
      },
      "execution_count": null,
      "outputs": [
        {
          "output_type": "execute_result",
          "data": {
            "text/plain": [
              "'(+1 -2)(-4 +3)'"
            ],
            "application/vnd.google.colaboratory.intrinsic+json": {
              "type": "string"
            }
          },
          "metadata": {},
          "execution_count": 30
        }
      ]
    },
    {
      "cell_type": "code",
      "source": [
        "def sort_2break(graph,i1,i2,i3,i4):\n",
        "  new_graph = []\n",
        "  for i in graph:\n",
        "    if i not in [(i1,i2),(i2,i1),(i3,i4),(i4,i3)]:\n",
        "      new_graph.append(i)\n",
        "  new_graph.append((i1,i3))\n",
        "  new_graph.append((i2,i4))   \n",
        "  new_graph = list(map(str,new_graph)) \n",
        "  return ', '.join(new_graph)      "
      ],
      "metadata": {
        "id": "HGtKCgDHdRIY"
      },
      "execution_count": null,
      "outputs": []
    },
    {
      "cell_type": "code",
      "source": [
        "graph = [(2, 4), (3, 8), (7, 5), (6, 1)]\n",
        "sort_2break(graph,1,6,3,8) #outout: (2, 4), (3, 1), (7, 5), (6, 8)\n"
      ],
      "metadata": {
        "id": "PI-zCBFTyQwe",
        "colab": {
          "base_uri": "https://localhost:8080/",
          "height": 35
        },
        "outputId": "9e6a683f-9706-4a40-8f0a-4974e703d458"
      },
      "execution_count": null,
      "outputs": [
        {
          "output_type": "execute_result",
          "data": {
            "text/plain": [
              "'(2, 4), (7, 5), (1, 3), (6, 8)'"
            ],
            "application/vnd.google.colaboratory.intrinsic+json": {
              "type": "string"
            }
          },
          "metadata": {},
          "execution_count": 18
        }
      ]
    },
    {
      "cell_type": "code",
      "source": [
        "graph = [(2, 3), (4, 5), (6, 8), (7, 9), (10, 12), (11, 14), (13, 15), (16, 17), (18, 20), (19, 22), (21, 24), (23, 26), (25, 28), (27, 29), (30, 31), (32, 33), (34, 36), (35, 37), (38, 40), (39, 41), (42, 43), (44, 46), (45, 47), (48, 49), (50, 52), (51, 54), (53, 56), (55, 58), (57, 59), (60, 61), (62, 63), (64, 65), (66, 67), (68, 69), (70, 72), (71, 74), (73, 75), (76, 77), (78, 80), (79, 81), (82, 84), (83, 85), (86, 87), (88, 89), (90, 92), (91, 94), (93, 96), (95, 97), (98, 99), (100, 101), (102, 104), (103, 106), (105, 107), (108, 109), (110, 111), (112, 114), (113, 116), (115, 118), (117, 119), (120, 122), (121, 124), (123, 125), (126, 127), (128, 129), (130, 131), (132, 133), (134, 135), (136, 1)]\n",
        "sort_2break(graph,90, 92, 6, 8)"
      ],
      "metadata": {
        "colab": {
          "base_uri": "https://localhost:8080/",
          "height": 87
        },
        "id": "lftAeX1taoPw",
        "outputId": "641a49f7-3f49-4d68-f130-0a0b83e2cb42"
      },
      "execution_count": null,
      "outputs": [
        {
          "output_type": "execute_result",
          "data": {
            "text/plain": [
              "'(2, 3), (4, 5), (7, 9), (10, 12), (11, 14), (13, 15), (16, 17), (18, 20), (19, 22), (21, 24), (23, 26), (25, 28), (27, 29), (30, 31), (32, 33), (34, 36), (35, 37), (38, 40), (39, 41), (42, 43), (44, 46), (45, 47), (48, 49), (50, 52), (51, 54), (53, 56), (55, 58), (57, 59), (60, 61), (62, 63), (64, 65), (66, 67), (68, 69), (70, 72), (71, 74), (73, 75), (76, 77), (78, 80), (79, 81), (82, 84), (83, 85), (86, 87), (88, 89), (91, 94), (93, 96), (95, 97), (98, 99), (100, 101), (102, 104), (103, 106), (105, 107), (108, 109), (110, 111), (112, 114), (113, 116), (115, 118), (117, 119), (120, 122), (121, 124), (123, 125), (126, 127), (128, 129), (130, 131), (132, 133), (134, 135), (136, 1), (90, 6), (92, 8)'"
            ],
            "application/vnd.google.colaboratory.intrinsic+json": {
              "type": "string"
            }
          },
          "metadata": {},
          "execution_count": 19
        }
      ]
    },
    {
      "cell_type": "code",
      "source": [
        "graph = [(2, 3), (4, 5), (6, 8), (7, 9), (10, 12), (11, 14), (13, 15), (16, 17), (18, 20), (19, 22), (21, 24), (23, 26), (25, 28), (27, 29), (30, 31), (32, 33), (34, 36), (35, 37), (38, 40), (39, 41), (42, 43), (44, 46), (45, 47), (48, 49), (50, 52), (51, 54), (53, 56), (55, 58), (57, 59), (60, 61), (62, 63), (64, 65), (66, 67), (68, 69), (70, 72), (71, 74), (73, 75), (76, 77), (78, 80), (79, 81), (82, 84), (83, 85), (86, 87), (88, 89), (90, 92), (91, 94), (93, 96), (95, 97), (98, 99), (100, 101), (102, 104), (103, 106), (105, 107), (108, 109), (110, 111), (112, 114), (113, 116), (115, 118), (117, 119), (120, 122), (121, 124), (123, 125), (126, 127), (128, 129), (130, 131), (132, 133), (134, 135), (136, 1)] \n",
        "graph_to_genome(graph)"
      ],
      "metadata": {
        "colab": {
          "base_uri": "https://localhost:8080/",
          "height": 53
        },
        "id": "Kre0mn1LgTxv",
        "outputId": "24a95b1d-3591-438a-dc8c-e60eafd201a3"
      },
      "execution_count": null,
      "outputs": [
        {
          "output_type": "execute_result",
          "data": {
            "text/plain": [
              "'(+1 +2 +3 -4 +5 -6 -7 +8 +9 -10 -11 -12 -13 -14 +15 +16 +17 -18 +19 -20 +21 +22 -23 +24 +25 -26 -27 -28 -29 +30 +31 +32 +33 +34 +35 -36 -37 +38 +39 -40 +41 -42 +43 +44 +45 -46 -47 -48 +49 +50 +51 -52 -53 +54 +55 +56 -57 -58 -59 +60 -61 -62 +63 +64 +65 +66 +67 +68)'"
            ],
            "application/vnd.google.colaboratory.intrinsic+json": {
              "type": "string"
            }
          },
          "metadata": {},
          "execution_count": 34
        }
      ]
    },
    {
      "cell_type": "code",
      "source": [
        "graph = [(2, 3), (4, 5), (7, 9), (10, 12), (11, 14), (13, 15), (16, 17), (18, 20), (19, 22), (21, 24), (23, 26), (25, 28), (27, 29), (30, 31), (32, 33), (34, 36), (35, 37), (38, 40), (39, 41), (42, 43), (44, 46), (45, 47), (48, 49), (50, 52), (51, 54), (53, 56), (55, 58), (57, 59), (60, 61), (62, 63), (64, 65), (66, 67), (68, 69), (70, 72), (71, 74), (73, 75), (76, 77), (78, 80), (79, 81), (82, 84), (83, 85), (86, 87), (88, 89), (91, 94), (93, 96), (95, 97), (98, 99), (100, 101), (102, 104), (103, 106), (105, 107), (108, 109), (110, 111), (112, 114), (113, 116), (115, 118), (117, 119), (120, 122), (121, 124), (123, 125), (126, 127), (128, 129), (130, 131), (132, 133), (134, 135), (136, 1), (90, 6), (92, 8)]\n",
        "graph_to_genome(graph)"
      ],
      "metadata": {
        "colab": {
          "base_uri": "https://localhost:8080/",
          "height": 70
        },
        "id": "AGf8_bZxgH9g",
        "outputId": "f94615c8-b701-4a47-862c-c5f07a0be1b9"
      },
      "execution_count": null,
      "outputs": [
        {
          "output_type": "execute_result",
          "data": {
            "text/plain": [
              "'(+1 +2 +3 -45 -44 -43 +42 -41 +40 -39 -38 +37 +36 -35 -34 -33 -32 -31 -30 +29 +28 +27 +26 -25 -24 +23 -22 -21 +20 -19 +18 -17 -16 -15 +14 +13 +12 +11 +10 -9 -8 +7 +6 -5 +4 -46 -47 -48 +49 +50 +51 -52 -53 +54 +55 +56 -57 -58 -59 +60 -61 -62 +63 +64 +65 +66 +67 +68)(-4 +5 -6 -7 +8 +9 -10 -11 -12 -13 -14 +15 +16 +17 -18 +19 -20 +21 +22 -23 +24 +25 -26 -27 -28 -29 +30 +31 +32 +33 +34 +35 -36 -37 +38 +39 -40 +41 -42 +43 +44 +45 -3 -2 -1 -68 -67 -66 -65 -64 -63 +62 +61 -60 +59 +58 +57 -56 -55 -54 +53 +52 -51 -50 -49 +48 +47 +46)'"
            ],
            "application/vnd.google.colaboratory.intrinsic+json": {
              "type": "string"
            }
          },
          "metadata": {},
          "execution_count": 33
        }
      ]
    },
    {
      "cell_type": "code",
      "source": [
        "def twobreak_on_genome(chroms,i1,i2,i3,i4):\n",
        "  mul_chrom, one_chrom = mulchrom_to_single(chroms)\n",
        "  cycles = chrom_to_cycle(one_chrom)\n",
        "  start,end = split_chroms(mul_chrom)\n",
        "  graph1 = colored_edges(start,end,cycles)\n",
        "  graph2 = sort_2break(graph1,i1,i2,i3,i4)\n",
        "  graph_to_genome(graph2) "
      ],
      "metadata": {
        "id": "EN5ybeMubALy"
      },
      "execution_count": null,
      "outputs": []
    },
    {
      "cell_type": "code",
      "source": [
        "(+1 -2 -4 +3)\n",
        "1, 6, 3, 8"
      ],
      "metadata": {
        "id": "EeiIPGEwbLkp"
      },
      "execution_count": null,
      "outputs": []
    },
    {
      "cell_type": "code",
      "source": [
        "blue = '(+1 -2 -4 +3)'\n",
        "mul_chrom, one_chrom = mulchrom_to_single(blue)\n",
        "cycles = chrom_to_cycle(one_chrom)\n",
        "start,end = split_chroms(mul_chrom)\n",
        "blue = colored_edges(start,end,cycles)\n",
        "blue"
      ],
      "metadata": {
        "colab": {
          "base_uri": "https://localhost:8080/",
          "height": 35
        },
        "id": "lxA7MU9LNOyA",
        "outputId": "125cf167-7a65-4ec4-e08f-de31a8a64f98"
      },
      "execution_count": null,
      "outputs": [
        {
          "output_type": "execute_result",
          "data": {
            "text/plain": [
              "'(2, 4), (3, 8), (7, 5), (6, 1)'"
            ],
            "application/vnd.google.colaboratory.intrinsic+json": {
              "type": "string"
            }
          },
          "metadata": {},
          "execution_count": 27
        }
      ]
    },
    {
      "cell_type": "code",
      "source": [
        "g = [(2, 4), (3, 8), (7, 5), (6, 1)]\n",
        "sort_2break(g,1,6,3,8)"
      ],
      "metadata": {
        "colab": {
          "base_uri": "https://localhost:8080/",
          "height": 35
        },
        "id": "54MnPL6_YGwG",
        "outputId": "85598b2d-9b16-484b-948f-477476d8a72e"
      },
      "execution_count": null,
      "outputs": [
        {
          "output_type": "execute_result",
          "data": {
            "text/plain": [
              "'(2, 4), (7, 5), (1, 3), (6, 8)'"
            ],
            "application/vnd.google.colaboratory.intrinsic+json": {
              "type": "string"
            }
          },
          "metadata": {},
          "execution_count": 29
        }
      ]
    },
    {
      "cell_type": "code",
      "source": [
        "graph_to_genome([(2, 4), (7, 5), (1, 3), (6, 8)])"
      ],
      "metadata": {
        "colab": {
          "base_uri": "https://localhost:8080/",
          "height": 35
        },
        "id": "zIvdkUlnblep",
        "outputId": "d0f36378-936b-4d84-ab48-d90e502d3266"
      },
      "execution_count": null,
      "outputs": [
        {
          "output_type": "execute_result",
          "data": {
            "text/plain": [
              "'(+1 -2)(-4 +3)(-1 +2)'"
            ],
            "application/vnd.google.colaboratory.intrinsic+json": {
              "type": "string"
            }
          },
          "metadata": {},
          "execution_count": 32
        }
      ]
    },
    {
      "cell_type": "code",
      "source": [
        "def reverse(text):\n",
        "  rev = []\n",
        "  for i in text:\n",
        "    if i == \"A\":\n",
        "      rev.append(\"T\")\n",
        "    elif i == \"T\":\n",
        "      rev.append(\"A\")\n",
        "    elif i == \"C\":\n",
        "      rev.append(\"G\")\n",
        "    elif i == \"G\":\n",
        "      rev.append(\"C\")\n",
        "  r = ''.join(rev)\n",
        "  reverse = []\n",
        "  '''for i in range(0,len(r)):\n",
        "    l = len(r)-i-1\n",
        "    reverse.append(r[len(r)-i-1])'''\n",
        "  return \"\".join(rev)   "
      ],
      "metadata": {
        "id": "i5_QlOKKJW6h"
      },
      "execution_count": null,
      "outputs": []
    },
    {
      "cell_type": "code",
      "source": [
        "reverse('TTTCAAATC')"
      ],
      "metadata": {
        "colab": {
          "base_uri": "https://localhost:8080/",
          "height": 35
        },
        "id": "xpgX9qrMZsLx",
        "outputId": "c710e5e0-c42a-4a71-8641-27f864215e39"
      },
      "execution_count": null,
      "outputs": [
        {
          "output_type": "execute_result",
          "data": {
            "text/plain": [
              "'AAAGTTTAG'"
            ],
            "application/vnd.google.colaboratory.intrinsic+json": {
              "type": "string"
            }
          },
          "metadata": {},
          "execution_count": 2
        }
      ]
    },
    {
      "cell_type": "code",
      "source": [
        "def shared_kmer(s1,s2,k):\n",
        "  kmer_s1 = []\n",
        "  kmer_s2 = []\n",
        "  kmer_rev_s2 = []\n",
        "  pos = []\n",
        "  rev_s2 = reverse(s2)\n",
        "  for i in range(0,len(s1)-k+1):\n",
        "    kmer_s1.append(s1[i:i+k])\n",
        "    kmer_s2.append(s2[i:i+k])\n",
        "    kmer_rev_s2.append(rev_s2[i:i+k]) \n",
        "  for i in range(0,len(kmer_s1)):\n",
        "    for j,r in zip(range(0,len(kmer_s2)),range(0,len(kmer_rev_s2))):\n",
        "      if kmer_s1[i] == kmer_s2[j]:\n",
        "        pos.append((i,j))\n",
        "      elif kmer_s1[i] == kmer_rev_s2[r]:\n",
        "        pos.append((i,r))  \n",
        "  return len(pos)        "
      ],
      "metadata": {
        "id": "ZsC14r9iNWeh"
      },
      "execution_count": null,
      "outputs": []
    },
    {
      "cell_type": "code",
      "source": [
        "s1 = 'AAACTCATC'\n",
        "s2 = 'TTTCAAATC'\n",
        "shared_kmer(s1,s2,3) #output: (0, 4) (0, 0) (4, 2) (6, 6)"
      ],
      "metadata": {
        "colab": {
          "base_uri": "https://localhost:8080/"
        },
        "id": "QotPH1sxNqLL",
        "outputId": "019b1f2b-b3b0-474c-d71d-747575ba5483"
      },
      "execution_count": null,
      "outputs": [
        {
          "output_type": "execute_result",
          "data": {
            "text/plain": [
              "4"
            ]
          },
          "metadata": {},
          "execution_count": 11
        }
      ]
    },
    {
      "cell_type": "code",
      "source": [
        "file = \"/content/E_coli.txt\"\n",
        "with open(file) as f:\n",
        "  s1 = f.read() \n",
        "s1[:10]  "
      ],
      "metadata": {
        "colab": {
          "base_uri": "https://localhost:8080/",
          "height": 35
        },
        "id": "dFhEODtFcYVK",
        "outputId": "09632a2c-4646-4b41-aabd-57cb35501777"
      },
      "execution_count": null,
      "outputs": [
        {
          "output_type": "execute_result",
          "data": {
            "text/plain": [
              "'AGCTTTTCAT'"
            ],
            "application/vnd.google.colaboratory.intrinsic+json": {
              "type": "string"
            }
          },
          "metadata": {},
          "execution_count": 13
        }
      ]
    },
    {
      "cell_type": "code",
      "source": [
        "file = \"/content/Salmonella_enterica.txt\"\n",
        "with open(file) as f:\n",
        "  s2 = f.read()\n",
        "s2[:10]  "
      ],
      "metadata": {
        "colab": {
          "base_uri": "https://localhost:8080/",
          "height": 35
        },
        "id": "FODa7SYAca0b",
        "outputId": "4f1d437c-162d-49f7-9049-fcbf7906b0c1"
      },
      "execution_count": null,
      "outputs": [
        {
          "output_type": "execute_result",
          "data": {
            "text/plain": [
              "'AGAGATTACG'"
            ],
            "application/vnd.google.colaboratory.intrinsic+json": {
              "type": "string"
            }
          },
          "metadata": {},
          "execution_count": 14
        }
      ]
    },
    {
      "cell_type": "code",
      "source": [
        "shared_kmer(s1,s2,30)"
      ],
      "metadata": {
        "id": "vjbF6KbcccPI"
      },
      "execution_count": null,
      "outputs": []
    },
    {
      "cell_type": "markdown",
      "source": [
        "**<h1>Bioinformatics IV: Molecular Evolution  </h1>**"
      ],
      "metadata": {
        "id": "ZtLWm2I4-wsJ"
      }
    },
    {
      "cell_type": "markdown",
      "source": [
        "#### Tasks:\n",
        "1. Distances Between Leaves Problem:\n",
        "\n",
        "*   Floyd-Warshall Algorithm\n",
        "\n",
        "\n",
        "2. Limb length problem\n",
        "3. Additive Phylogeny"
      ],
      "metadata": {
        "id": "IkmFt0ol_IVU"
      }
    },
    {
      "cell_type": "code",
      "source": [
        "import numpy as np"
      ],
      "metadata": {
        "id": "W6_55fnfDcYS"
      },
      "execution_count": 1,
      "outputs": []
    },
    {
      "cell_type": "code",
      "source": [
        "def tree_to_graph(tree):\n",
        "  graph = {}\n",
        "  edges = []\n",
        "  for i in tree.split('\\n'):\n",
        "    graph[str(i.split(':')[0].split('->'))] = int(i.split(':')[1])\n",
        "    edges.append(list(map(int,i.split(':')[0].split('->'))))\n",
        "  return graph, edges"
      ],
      "metadata": {
        "id": "xNwlyK7fD_d_"
      },
      "execution_count": null,
      "outputs": []
    },
    {
      "cell_type": "code",
      "source": [
        "def FWA(n,tree):\n",
        "  graph, edges = tree_to_graph(tree)\n",
        "  dis_matrix = np.zeros((n,n),dtype='object')\n",
        "  score = np.full((max(max(edges))+1,max(max(edges))+1),np.inf,dtype='object')\n",
        "  dis_leaves = []\n",
        "  for e in edges:\n",
        "    score[e[0],e[1]] = graph[str(list(map(str,e)))]\n",
        "  for i,j in zip(range(0,len(score)),range(0,len(score))):\n",
        "    if i == j:  score[i][j] = 0  \n",
        "  for k in range(0,len(score)):\n",
        "    for i in range(0,len(score)):\n",
        "      for j in range(0,len(score)):\n",
        "        if score[i][k] < float('inf') and score[k][j] < float('inf') and score[i][k] + score[k][j] < score[i][j]:\n",
        "          score[i][j] = score[i][k] + score[k][j]\n",
        "          if i < n  and j < n:\n",
        "            dis_matrix[i][j] = score[i][j]\n",
        "  for i in dis_matrix.tolist():\n",
        "    dis_leaves.append('  '.join(list(map(str,i))))\n",
        "  print('\\n'.join(dis_leaves))        "
      ],
      "metadata": {
        "id": "A6ppLC376CrB"
      },
      "execution_count": null,
      "outputs": []
    },
    {
      "cell_type": "code",
      "source": [
        "tree = '''0->4:11\n",
        "1->4:2\n",
        "2->5:6\n",
        "3->5:7\n",
        "4->0:11\n",
        "4->1:2\n",
        "4->5:4\n",
        "5->4:4\n",
        "5->3:7\n",
        "5->2:6'''\n",
        "FWA(4,tree)"
      ],
      "metadata": {
        "colab": {
          "base_uri": "https://localhost:8080/"
        },
        "id": "2_Xe_0v1FbN-",
        "outputId": "3a535997-29ba-4f13-be36-e1473ceecbe6"
      },
      "execution_count": null,
      "outputs": [
        {
          "output_type": "stream",
          "name": "stdout",
          "text": [
            "0  13  21  22\n",
            "13  0  12  13\n",
            "21  12  0  13\n",
            "22  13  13  0\n"
          ]
        }
      ]
    },
    {
      "cell_type": "code",
      "source": [
        "tree = '''60->61:5\n",
        "60->3:15\n",
        "60->10:12\n",
        "61->60:5\n",
        "61->25:14\n",
        "61->59:6\n",
        "25->61:14\n",
        "59->61:6\n",
        "59->19:6\n",
        "59->58:6\n",
        "3->60:15\n",
        "10->60:12\n",
        "19->59:6\n",
        "58->59:6\n",
        "58->16:5\n",
        "58->57:8\n",
        "16->58:5\n",
        "57->58:8\n",
        "57->13:11\n",
        "57->56:15\n",
        "13->57:11\n",
        "56->57:15\n",
        "56->14:13\n",
        "56->55:15\n",
        "14->56:13\n",
        "55->56:15\n",
        "55->6:6\n",
        "55->54:6\n",
        "6->55:6\n",
        "54->55:6\n",
        "54->28:13\n",
        "54->53:6\n",
        "28->54:13\n",
        "53->54:6\n",
        "53->26:7\n",
        "53->52:8\n",
        "26->53:7\n",
        "52->53:8\n",
        "52->11:15\n",
        "52->51:5\n",
        "11->52:15\n",
        "51->52:5\n",
        "51->7:12\n",
        "51->50:13\n",
        "7->51:12\n",
        "50->51:13\n",
        "50->27:15\n",
        "50->49:9\n",
        "27->50:15\n",
        "49->50:9\n",
        "49->12:15\n",
        "49->48:14\n",
        "12->49:15\n",
        "48->49:14\n",
        "48->31:15\n",
        "48->47:8\n",
        "31->48:15\n",
        "47->48:8\n",
        "47->29:14\n",
        "47->46:8\n",
        "29->47:14\n",
        "46->47:8\n",
        "46->18:9\n",
        "46->45:5\n",
        "18->46:9\n",
        "45->46:5\n",
        "45->4:10\n",
        "45->44:15\n",
        "4->45:10\n",
        "44->45:15\n",
        "44->5:14\n",
        "44->43:5\n",
        "5->44:14\n",
        "43->44:5\n",
        "43->23:11\n",
        "43->42:7\n",
        "23->43:11\n",
        "42->43:7\n",
        "42->9:15\n",
        "42->41:10\n",
        "9->42:15\n",
        "41->42:10\n",
        "41->2:6\n",
        "41->40:9\n",
        "2->41:6\n",
        "40->41:9\n",
        "40->22:12\n",
        "40->39:8\n",
        "22->40:12\n",
        "39->40:8\n",
        "39->24:10\n",
        "39->38:10\n",
        "24->39:10\n",
        "38->39:10\n",
        "38->8:14\n",
        "38->37:10\n",
        "8->38:14\n",
        "37->38:10\n",
        "37->15:7\n",
        "37->36:14\n",
        "15->37:7\n",
        "36->37:14\n",
        "36->0:10\n",
        "36->35:10\n",
        "0->36:10\n",
        "35->36:10\n",
        "35->21:11\n",
        "35->34:8\n",
        "21->35:11\n",
        "34->35:8\n",
        "34->17:6\n",
        "34->33:10\n",
        "17->34:6\n",
        "33->34:10\n",
        "33->30:9\n",
        "33->32:11\n",
        "30->33:9\n",
        "32->33:11\n",
        "32->1:14\n",
        "32->20:14\n",
        "1->32:14\n",
        "20->32:14'''\n",
        "FWA(32,tree)"
      ],
      "metadata": {
        "colab": {
          "base_uri": "https://localhost:8080/"
        },
        "id": "tt8PT0mc2Zg6",
        "outputId": "616643ec-bd42-4e6e-e7bb-48d653745a02"
      },
      "execution_count": null,
      "outputs": [
        {
          "output_type": "stream",
          "name": "stdout",
          "text": [
            "0  63  67  250  108  97  186  167  48  86  247  175  148  221  208  31  223  34  112  230  63  31  64  89  54  244  175  157  187  125  47  134\n",
            "63  0  110  293  151  140  229  210  91  129  290  218  191  264  251  74  266  41  155  273  28  54  107  132  97  287  218  200  230  168  34  177\n",
            "67  110  0  195  53  42  131  112  47  31  192  120  93  166  153  50  168  81  57  175  110  78  27  34  33  189  120  102  132  70  94  79\n",
            "250  293  195  0  162  181  76  107  230  194  27  105  132  51  68  233  37  264  156  32  293  261  210  183  216  34  89  123  89  153  277  146\n",
            "108  151  53  162  0  39  98  79  88  52  159  87  60  133  120  91  135  122  24  142  151  119  68  41  74  156  87  69  99  37  135  46\n",
            "97  140  42  181  39  0  117  98  77  41  178  106  79  152  139  80  154  111  43  161  140  108  57  30  63  175  106  88  118  56  124  65\n",
            "186  229  131  76  98  117  0  43  166  130  73  41  68  47  34  169  49  200  92  56  229  197  146  119  152  70  25  59  25  89  213  82\n",
            "167  210  112  107  79  98  43  0  147  111  104  32  49  78  65  150  80  181  73  87  210  178  127  100  133  101  32  40  44  70  194  63\n",
            "48  91  47  230  88  77  166  147  0  66  227  155  128  201  188  31  203  62  92  210  91  59  44  69  34  224  155  137  167  105  75  114\n",
            "86  129  31  194  52  41  130  111  66  0  191  119  92  165  152  69  167  100  56  174  129  97  46  33  52  188  119  101  131  69  113  78\n",
            "247  290  192  27  159  178  73  104  227  191  0  102  129  48  65  230  34  261  153  29  290  258  207  180  213  31  86  120  86  150  274  143\n",
            "175  218  120  105  87  106  41  32  155  119  102  0  57  76  63  158  78  189  81  85  218  186  135  108  141  99  30  48  42  78  202  71\n",
            "148  191  93  132  60  79  68  49  128  92  129  57  0  103  90  131  105  162  54  112  191  159  108  81  114  126  57  39  69  51  175  44\n",
            "221  264  166  51  133  152  47  78  201  165  48  76  103  0  39  204  24  235  127  31  264  232  181  154  187  45  60  94  60  124  248  117\n",
            "208  251  153  68  120  139  34  65  188  152  65  63  90  39  0  191  41  222  114  48  251  219  168  141  174  62  47  81  47  111  235  104\n",
            "31  74  50  233  91  80  169  150  31  69  230  158  131  204  191  0  206  45  95  213  74  42  47  72  37  227  158  140  170  108  58  117\n",
            "223  266  168  37  135  154  49  80  203  167  34  78  105  24  41  206  0  237  129  17  266  234  183  156  189  31  62  96  62  126  250  119\n",
            "34  41  81  264  122  111  200  181  62  100  261  189  162  235  222  45  237  0  126  244  41  25  78  103  68  258  189  171  201  139  25  148\n",
            "112  155  57  156  24  43  92  73  92  56  153  81  54  127  114  95  129  126  0  136  155  123  72  45  78  150  81  63  93  31  139  40\n",
            "230  273  175  32  142  161  56  87  210  174  29  85  112  31  48  213  17  244  136  0  273  241  190  163  196  26  69  103  69  133  257  126\n",
            "63  28  110  293  151  140  229  210  91  129  290  218  191  264  251  74  266  41  155  273  0  54  107  132  97  287  218  200  230  168  34  177\n",
            "31  54  78  261  119  108  197  178  59  97  258  186  159  232  219  42  234  25  123  241  54  0  75  100  65  255  186  168  198  136  38  145\n",
            "64  107  27  210  68  57  146  127  44  46  207  135  108  181  168  47  183  78  72  190  107  75  0  49  30  204  135  117  147  85  91  94\n",
            "89  132  34  183  41  30  119  100  69  33  180  108  81  154  141  72  156  103  45  163  132  100  49  0  55  177  108  90  120  58  116  67\n",
            "54  97  33  216  74  63  152  133  34  52  213  141  114  187  174  37  189  68  78  196  97  65  30  55  0  210  141  123  153  91  81  100\n",
            "244  287  189  34  156  175  70  101  224  188  31  99  126  45  62  227  31  258  150  26  287  255  204  177  210  0  83  117  83  147  271  140\n",
            "175  218  120  89  87  106  25  32  155  119  86  30  57  60  47  158  62  189  81  69  218  186  135  108  141  83  0  48  26  78  202  71\n",
            "157  200  102  123  69  88  59  40  137  101  120  48  39  94  81  140  96  171  63  103  200  168  117  90  123  117  48  0  60  60  184  53\n",
            "187  230  132  89  99  118  25  44  167  131  86  42  69  60  47  170  62  201  93  69  230  198  147  120  153  83  26  60  0  90  214  83\n",
            "125  168  70  153  37  56  89  70  105  69  150  78  51  124  111  108  126  139  31  133  168  136  85  58  91  147  78  60  90  0  152  37\n",
            "47  34  94  277  135  124  213  194  75  113  274  202  175  248  235  58  250  25  139  257  34  38  91  116  81  271  202  184  214  152  0  161\n",
            "134  177  79  146  46  65  82  63  114  78  143  71  44  117  104  117  119  148  40  126  177  145  94  67  100  140  71  53  83  37  161  0\n"
          ]
        }
      ]
    },
    {
      "cell_type": "code",
      "source": [
        "def limb_length(n,leaf,dis_matrix):\n",
        "  dis_leaves = []\n",
        "  result = []\n",
        "  for l in dis_matrix.split('\\n'):\n",
        "    dis_leaves.append(list(map(int,l.split(' '))))\n",
        "  for i in range(0,len(dis_leaves)):\n",
        "    for k in range(0,len(dis_leaves)):\n",
        "      if int((dis_leaves[i][leaf] + dis_leaves[leaf][k] - dis_leaves[i][k])/2) != 0: \n",
        "        result.append(int((dis_leaves[i][leaf] + dis_leaves[leaf][k] - dis_leaves[i][k])/2))\n",
        "  return min(result)  "
      ],
      "metadata": {
        "id": "5CHokO7m7-rY"
      },
      "execution_count": 5,
      "outputs": []
    },
    {
      "cell_type": "code",
      "source": [
        "dis_matrix = '''0\t13\t21\t22\n",
        "13\t0\t12\t13\n",
        "21\t12\t0\t13\n",
        "22\t13\t13\t0'''\n",
        "limb_length(4,1,dis_matrix) #output: 2"
      ],
      "metadata": {
        "colab": {
          "base_uri": "https://localhost:8080/"
        },
        "id": "BtdMLKGi4XoN",
        "outputId": "f3fc7f04-10b4-4ccc-f915-40de1dc7737d"
      },
      "execution_count": null,
      "outputs": [
        {
          "output_type": "execute_result",
          "data": {
            "text/plain": [
              "2"
            ]
          },
          "metadata": {},
          "execution_count": 69
        }
      ]
    },
    {
      "cell_type": "code",
      "source": [
        "file = \"/content/limb.txt\"\n",
        "with open(file) as f:\n",
        "  text = f.read()"
      ],
      "metadata": {
        "id": "82PiXWg2P5eZ"
      },
      "execution_count": null,
      "outputs": []
    },
    {
      "cell_type": "code",
      "source": [
        "limb_length(26,13,text)"
      ],
      "metadata": {
        "colab": {
          "base_uri": "https://localhost:8080/"
        },
        "id": "Pq2VvcmoOi9C",
        "outputId": "f9a0930c-b27d-4e47-9112-d123e5c1e07f"
      },
      "execution_count": null,
      "outputs": [
        {
          "output_type": "execute_result",
          "data": {
            "text/plain": [
              "468"
            ]
          },
          "metadata": {},
          "execution_count": 94
        }
      ]
    },
    {
      "cell_type": "markdown",
      "source": [
        "![image.png](data:image/png;base64,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)"
      ],
      "metadata": {
        "id": "If2t5XhcS20o"
      }
    },
    {
      "cell_type": "code",
      "source": [
        "def text_to_list(dis_matrix):\n",
        "  dis_leaves = []\n",
        "  for l in dis_matrix.split('\\n'):\n",
        "    dis_leaves.append(list(map(int,l.split(' '))))\n",
        "  return dis_leaves  "
      ],
      "metadata": {
        "id": "-Llrm2_JPk9u"
      },
      "execution_count": 2,
      "outputs": []
    },
    {
      "cell_type": "code",
      "source": [
        "def add_phylogeny(n,dis_leaves,x):\n",
        "  result = []\n",
        "  if n == 2:  return dis_leaves, x\n",
        "  limb_len = limb_length(n,n-1,dis_matrix)  \n",
        "  for j in range(0,n-1):\n",
        "    dis_leaves[j][n-1] = dis_leaves[j][n-1] - limb_len\n",
        "    dis_leaves[n-1][j] = dis_leaves[j][n-1]\n",
        "    x[j][n-1] = dis_leaves[j][n-1] - limb_length(n,j,dis_matrix)\n",
        "  dis_leaves.remove(dis_leaves[-1])\n",
        "  dis_leaves = np.array(dis_leaves).T.tolist()  \n",
        "  dis_leaves.remove(dis_leaves[-1])\n",
        "\n",
        "  return add_phylogeny(n-1,dis_leaves,x)"
      ],
      "metadata": {
        "id": "kFzyayA7P-xR"
      },
      "execution_count": 7,
      "outputs": []
    },
    {
      "cell_type": "code",
      "source": [
        "dis_matrix = '''0 13 21 22\n",
        "13 0 12 13\n",
        "21 12 0 13\n",
        "22 13 13 0'''\n",
        "x = np.zeros((4,4),dtype='object')\n",
        "dis_leaves = text_to_list(dis_matrix)\n",
        "add_phylogeny(4,dis_leaves,x)"
      ],
      "metadata": {
        "id": "fdYcCgR3SEzI",
        "colab": {
          "base_uri": "https://localhost:8080/"
        },
        "outputId": "f4c358cb-bd69-43d0-d852-6dfaae60a12a"
      },
      "execution_count": 8,
      "outputs": [
        {
          "output_type": "execute_result",
          "data": {
            "text/plain": [
              "([[0, 13], [13, 0]], array([[0, 0, 4, 4],\n",
              "        [0, 0, 4, 4],\n",
              "        [0, 0, 0, 0],\n",
              "        [0, 0, 0, 0]], dtype=object))"
            ]
          },
          "metadata": {},
          "execution_count": 8
        }
      ]
    }
  ],
  "metadata": {
    "colab": {
      "collapsed_sections": [],
      "name": "Bioinformatics.ipynb",
      "provenance": [],
      "authorship_tag": "ABX9TyOIiaIqDFcl7CMIg+hdUtv6",
      "include_colab_link": true
    },
    "kernelspec": {
      "display_name": "Python 3",
      "name": "python3"
    },
    "language_info": {
      "name": "python"
    }
  },
  "nbformat": 4,
  "nbformat_minor": 0
}